{
 "cells": [
  {
   "cell_type": "code",
   "execution_count": 20,
   "id": "6978fe0e",
   "metadata": {},
   "outputs": [],
   "source": [
    "import os\n",
    "import glob\n",
    "import json\n",
    "import tqdm\n",
    "\n",
    "import numpy as np\n",
    "import pandas as pd\n",
    "import nibabel as nib"
   ]
  },
  {
   "cell_type": "markdown",
   "id": "5944803b0d142041",
   "metadata": {
    "collapsed": false
   },
   "source": [
    "# 01 - General Description and some statistics of the Dataset"
   ]
  },
  {
   "cell_type": "markdown",
   "id": "f67702bb",
   "metadata": {},
   "source": [
    "## 1.0 Generate csv file with basic information per image\n",
    " - voxel size\n",
    " - field of view\n",
    " - volume of aneurysm class"
   ]
  },
  {
   "cell_type": "code",
   "execution_count": 28,
   "id": "882e0f56",
   "metadata": {},
   "outputs": [],
   "source": [
    "data_dir = '../../../../data/raw/USZ/'\n",
    "image_fps = glob.glob(os.path.join(data_dir,'*', '*_seg.nii.gz'))\n",
    "\n",
    "original_ids_to_num_ids = json.load(open('../id_conversion.json', 'r'))\n",
    "num_ids_to_original_ids = {v: k for k, v in original_ids_to_num_ids.items()}"
   ]
  },
  {
   "cell_type": "code",
   "execution_count": 29,
   "id": "c4227070",
   "metadata": {},
   "outputs": [
    {
     "data": {
      "text/plain": [
       "62"
      ]
     },
     "execution_count": 29,
     "metadata": {},
     "output_type": "execute_result"
    }
   ],
   "source": [
    "len(image_fps) "
   ]
  },
  {
   "cell_type": "code",
   "execution_count": 66,
   "id": "c6e503ea",
   "metadata": {},
   "outputs": [],
   "source": [
    "train_idxs = os.listdir('../../../../data/nnUNet_raw/Dataset003_3Classes/labelsTr/')\n",
    "train_idxs = [int(idx.split('.')[0]) for idx in train_idxs]\n",
    "train_idxs\n",
    "\n",
    "train_idxs_original = [num_ids_to_original_ids[idx] for idx in train_idxs]"
   ]
  },
  {
   "cell_type": "code",
   "execution_count": 76,
   "id": "c11bf0c6",
   "metadata": {},
   "outputs": [
    {
     "name": "stderr",
     "output_type": "stream",
     "text": [
      "  0%|          | 0/62 [00:00<?, ?it/s]"
     ]
    },
    {
     "name": "stdout",
     "output_type": "stream",
     "text": [
      "processing image:  10811755_CC_AComm_NEWrs\r"
     ]
    },
    {
     "name": "stderr",
     "output_type": "stream",
     "text": [
      "  3%|▎         | 2/62 [00:00<00:17,  3.41it/s]"
     ]
    },
    {
     "name": "stdout",
     "output_type": "stream",
     "text": [
      "processing image:  60213089-MCA-ICA-NEW\r"
     ]
    },
    {
     "name": "stderr",
     "output_type": "stream",
     "text": [
      "  6%|▋         | 4/62 [00:00<00:13,  4.29it/s]"
     ]
    },
    {
     "name": "stdout",
     "output_type": "stream",
     "text": [
      "processing image:  11096773_IB_PCommDONE\r"
     ]
    },
    {
     "name": "stderr",
     "output_type": "stream",
     "text": [
      " 10%|▉         | 6/62 [00:01<00:10,  5.31it/s]"
     ]
    },
    {
     "name": "stdout",
     "output_type": "stream",
     "text": [
      "processing image:  10731286-ICA-links-NEW\r"
     ]
    },
    {
     "name": "stderr",
     "output_type": "stream",
     "text": [
      " 13%|█▎        | 8/62 [00:01<00:09,  5.58it/s]"
     ]
    },
    {
     "name": "stdout",
     "output_type": "stream",
     "text": [
      "processing image:  10104830_ZG_ComplexICA_Checked\r"
     ]
    },
    {
     "name": "stderr",
     "output_type": "stream",
     "text": [
      " 16%|█▌        | 10/62 [00:01<00:07,  6.82it/s]"
     ]
    },
    {
     "name": "stdout",
     "output_type": "stream",
     "text": [
      "processing image:  10266790_CL_ICA_CheckedChecked\r"
     ]
    },
    {
     "name": "stderr",
     "output_type": "stream",
     "text": [
      " 19%|█▉        | 12/62 [00:02<00:08,  5.87it/s]"
     ]
    },
    {
     "name": "stdout",
     "output_type": "stream",
     "text": [
      "processing image:  10019209_EK_MCA_Checked\r"
     ]
    },
    {
     "name": "stderr",
     "output_type": "stream",
     "text": [
      " 23%|██▎       | 14/62 [00:02<00:08,  5.40it/s]"
     ]
    },
    {
     "name": "stdout",
     "output_type": "stream",
     "text": [
      "processing image:  11092603_GDSCR_MCA\r"
     ]
    },
    {
     "name": "stderr",
     "output_type": "stream",
     "text": [
      " 26%|██▌       | 16/62 [00:02<00:07,  6.20it/s]"
     ]
    },
    {
     "name": "stdout",
     "output_type": "stream",
     "text": [
      "processing image:  10102066_KA_AComm_Checkedcked\r"
     ]
    },
    {
     "name": "stderr",
     "output_type": "stream",
     "text": [
      " 29%|██▉       | 18/62 [00:03<00:07,  5.60it/s]"
     ]
    },
    {
     "name": "stdout",
     "output_type": "stream",
     "text": [
      "processing image:  10795198-BA-NEW_DONEecked\r"
     ]
    },
    {
     "name": "stderr",
     "output_type": "stream",
     "text": [
      " 31%|███       | 19/62 [00:03<00:07,  5.52it/s]"
     ]
    },
    {
     "name": "stdout",
     "output_type": "stream",
     "text": [
      "processing image:  10820130_MB_MirrorMCA\r"
     ]
    },
    {
     "name": "stderr",
     "output_type": "stream",
     "text": [
      " 32%|███▏      | 20/62 [00:03<00:08,  5.24it/s]"
     ]
    },
    {
     "name": "stdout",
     "output_type": "stream",
     "text": [
      "processing image:  11137190_NM_MA_NEW\r"
     ]
    },
    {
     "name": "stderr",
     "output_type": "stream",
     "text": [
      " 35%|███▌      | 22/62 [00:04<00:08,  4.78it/s]"
     ]
    },
    {
     "name": "stdout",
     "output_type": "stream",
     "text": [
      "processing image:  10600633-AComm-new-Colors\r"
     ]
    },
    {
     "name": "stderr",
     "output_type": "stream",
     "text": [
      " 39%|███▊      | 24/62 [00:04<00:05,  6.47it/s]"
     ]
    },
    {
     "name": "stdout",
     "output_type": "stream",
     "text": [
      "processing image:  10739823-PComm-links-NEW\r"
     ]
    },
    {
     "name": "stderr",
     "output_type": "stream",
     "text": [
      " 42%|████▏     | 26/62 [00:04<00:05,  6.57it/s]"
     ]
    },
    {
     "name": "stdout",
     "output_type": "stream",
     "text": [
      "processing image:  10787757-ACA-NEW_DONEecked\r"
     ]
    },
    {
     "name": "stderr",
     "output_type": "stream",
     "text": [
      " 45%|████▌     | 28/62 [00:05<00:05,  6.13it/s]"
     ]
    },
    {
     "name": "stdout",
     "output_type": "stream",
     "text": [
      "processing image:  11140272_DSRMSM_ICA_NEW\r"
     ]
    },
    {
     "name": "stderr",
     "output_type": "stream",
     "text": [
      " 48%|████▊     | 30/62 [00:05<00:05,  5.96it/s]"
     ]
    },
    {
     "name": "stdout",
     "output_type": "stream",
     "text": [
      "processing image:  10919238_GD_MCArorMCA_Checked\r"
     ]
    },
    {
     "name": "stderr",
     "output_type": "stream",
     "text": [
      " 50%|█████     | 31/62 [00:05<00:05,  6.17it/s]"
     ]
    },
    {
     "name": "stdout",
     "output_type": "stream",
     "text": [
      "processing image:  10731124-MCA-rechts-NEW\r"
     ]
    },
    {
     "name": "stderr",
     "output_type": "stream",
     "text": [
      " 53%|█████▎    | 33/62 [00:05<00:05,  5.45it/s]"
     ]
    },
    {
     "name": "stdout",
     "output_type": "stream",
     "text": [
      "processing image:  110676637_BIS_PCommlosa_Checked\r"
     ]
    },
    {
     "name": "stderr",
     "output_type": "stream",
     "text": [
      " 55%|█████▍    | 34/62 [00:06<00:04,  6.31it/s]"
     ]
    },
    {
     "name": "stdout",
     "output_type": "stream",
     "text": [
      "processing image:  10998664_RJR_BAGiant\r"
     ]
    },
    {
     "name": "stderr",
     "output_type": "stream",
     "text": [
      " 58%|█████▊    | 36/62 [00:06<00:05,  4.71it/s]"
     ]
    },
    {
     "name": "stdout",
     "output_type": "stream",
     "text": [
      "processing image:  02453347_PG_Multiple_Checked\r"
     ]
    },
    {
     "name": "stderr",
     "output_type": "stream",
     "text": [
      " 61%|██████▏   | 38/62 [00:06<00:04,  5.11it/s]"
     ]
    },
    {
     "name": "stdout",
     "output_type": "stream",
     "text": [
      "processing image:  08016046-PComm-NEW_DONE\r"
     ]
    },
    {
     "name": "stderr",
     "output_type": "stream",
     "text": [
      " 65%|██████▍   | 40/62 [00:07<00:04,  5.23it/s]"
     ]
    },
    {
     "name": "stdout",
     "output_type": "stream",
     "text": [
      "processing image:  10924527_FJR_ACommhecked\r"
     ]
    },
    {
     "name": "stderr",
     "output_type": "stream",
     "text": [
      " 66%|██████▌   | 41/62 [00:07<00:04,  4.59it/s]"
     ]
    },
    {
     "name": "stdout",
     "output_type": "stream",
     "text": [
      "processing image:  10810765_EA_MCA_Checked\r"
     ]
    },
    {
     "name": "stderr",
     "output_type": "stream",
     "text": [
      " 69%|██████▉   | 43/62 [00:07<00:03,  5.59it/s]"
     ]
    },
    {
     "name": "stdout",
     "output_type": "stream",
     "text": [
      "processing image:  10863077_KA_ICAchts-NEW\r"
     ]
    },
    {
     "name": "stderr",
     "output_type": "stream",
     "text": [
      " 74%|███████▍  | 46/62 [00:08<00:02,  6.22it/s]"
     ]
    },
    {
     "name": "stdout",
     "output_type": "stream",
     "text": [
      "processing image:  10716885-AComm-NEW\r"
     ]
    },
    {
     "name": "stderr",
     "output_type": "stream",
     "text": [
      " 77%|███████▋  | 48/62 [00:08<00:02,  5.97it/s]"
     ]
    },
    {
     "name": "stdout",
     "output_type": "stream",
     "text": [
      "processing image:  10015183-MCA-new\r"
     ]
    },
    {
     "name": "stderr",
     "output_type": "stream",
     "text": [
      " 81%|████████  | 50/62 [00:08<00:01,  6.26it/s]"
     ]
    },
    {
     "name": "stdout",
     "output_type": "stream",
     "text": [
      "processing image:  10235145_SMHH_BA_MCA_Checked\r"
     ]
    },
    {
     "name": "stderr",
     "output_type": "stream",
     "text": [
      " 82%|████████▏ | 51/62 [00:09<00:01,  6.78it/s]"
     ]
    },
    {
     "name": "stdout",
     "output_type": "stream",
     "text": [
      "processing image:  10147148-AComm-NEW\r"
     ]
    },
    {
     "name": "stderr",
     "output_type": "stream",
     "text": [
      " 85%|████████▌ | 53/62 [00:09<00:01,  6.52it/s]"
     ]
    },
    {
     "name": "stdout",
     "output_type": "stream",
     "text": [
      "processing image:  10896074_BRE_AComm_ICANEW\r"
     ]
    },
    {
     "name": "stderr",
     "output_type": "stream",
     "text": [
      " 87%|████████▋ | 54/62 [00:09<00:01,  5.72it/s]"
     ]
    },
    {
     "name": "stdout",
     "output_type": "stream",
     "text": [
      "processing image:  02014629_KO_MCA_Checkeded\r"
     ]
    },
    {
     "name": "stderr",
     "output_type": "stream",
     "text": [
      " 92%|█████████▏| 57/62 [00:10<00:00,  6.46it/s]"
     ]
    },
    {
     "name": "stdout",
     "output_type": "stream",
     "text": [
      "processing image:  10799172_WH_MCA_Checked\r"
     ]
    },
    {
     "name": "stderr",
     "output_type": "stream",
     "text": [
      " 95%|█████████▌| 59/62 [00:10<00:00,  6.56it/s]"
     ]
    },
    {
     "name": "stdout",
     "output_type": "stream",
     "text": [
      "processing image:  06928064_SMK_MCA_Checked\r"
     ]
    },
    {
     "name": "stderr",
     "output_type": "stream",
     "text": [
      " 97%|█████████▋| 60/62 [00:10<00:00,  6.15it/s]"
     ]
    },
    {
     "name": "stdout",
     "output_type": "stream",
     "text": [
      "processing image:  10941965_TSV_MCA_ICA\r"
     ]
    },
    {
     "name": "stderr",
     "output_type": "stream",
     "text": [
      " 98%|█████████▊| 61/62 [00:10<00:00,  5.11it/s]"
     ]
    },
    {
     "name": "stdout",
     "output_type": "stream",
     "text": [
      "processing image:  05481872-AComm-new\r"
     ]
    },
    {
     "name": "stderr",
     "output_type": "stream",
     "text": [
      "100%|██████████| 62/62 [00:11<00:00,  5.60it/s]\n"
     ]
    }
   ],
   "source": [
    "aneurysm_label = 4\n",
    "basic_desc = []\n",
    "for img_fp in tqdm.tqdm(image_fps):\n",
    "    image_name = os.path.basename(os.path.dirname(img_fp))\n",
    "    print('processing image: ', image_name,  end='\\r')\n",
    "    \n",
    "    # load nift image\n",
    "    img = nib.load(img_fp)\n",
    "    \n",
    "    # Get voxel_size_in each dimension\n",
    "    y_size, x_size, z_size = img.header.get_zooms()\n",
    "    \n",
    "    # Get field of view in each dimension\n",
    "    y_fov = y_size * img.shape[0]\n",
    "    x_fov = x_size * img.shape[1]\n",
    "    z_fov = z_size * img.shape[2]\n",
    "    \n",
    "    # Volume of the aneurysm\n",
    "    img_data = img.get_fdata()\n",
    "    aneurysm_volume = np.sum(img_data == aneurysm_label) * y_size * x_size * z_size\n",
    "    \n",
    "    basic_desc.append(\n",
    "        {\n",
    "            'img_name': image_name,\n",
    "            'y_size': y_size,\n",
    "            'x_size': x_size,\n",
    "            'z_size': z_size,\n",
    "            'y_fov': y_fov,\n",
    "            'x_fov': x_fov,\n",
    "            'z_fov': z_fov,\n",
    "            'aneurysm_volume': aneurysm_volume,\n",
    "            'in_train': image_name in train_idxs_original,\n",
    "        }\n",
    "    )"
   ]
  },
  {
   "cell_type": "code",
   "execution_count": 102,
   "id": "4f8e3623",
   "metadata": {},
   "outputs": [],
   "source": [
    "basic_desc_df = pd.DataFrame(basic_desc).set_index('img_name')\n",
    "basic_desc_df['total_fov'] = basic_desc_df[['y_fov', 'x_fov', 'z_fov']].agg(np.multiply.reduce, axis=1)\n",
    "basic_desc_df.to_csv('basic_info_USZ_dataset.csv')"
   ]
  },
  {
   "cell_type": "code",
   "execution_count": 103,
   "id": "be1acac8",
   "metadata": {},
   "outputs": [
    {
     "data": {
      "text/plain": [
       "in_train\n",
       "True     49\n",
       "False    13\n",
       "Name: count, dtype: int64"
      ]
     },
     "execution_count": 103,
     "metadata": {},
     "output_type": "execute_result"
    }
   ],
   "source": [
    "basic_desc_df.in_train.value_counts()"
   ]
  },
  {
   "cell_type": "code",
   "execution_count": 104,
   "id": "2d086187",
   "metadata": {},
   "outputs": [
    {
     "data": {
      "text/plain": [
       "<Axes: >"
      ]
     },
     "execution_count": 104,
     "metadata": {},
     "output_type": "execute_result"
    },
    {
     "data": {
      "image/png": "[encoded data removed]",
      "text/plain": [
       "<Figure size 640x480 with 1 Axes>"
      ]
     },
     "metadata": {},
     "output_type": "display_data"
    }
   ],
   "source": [
    "basic_desc_df[['y_fov', 'x_fov', 'z_fov']].agg(np.multiply.reduce, axis=1).hist(bins=30)"
   ]
  },
  {
   "cell_type": "code",
   "execution_count": 105,
   "id": "8f1879b2",
   "metadata": {},
   "outputs": [
    {
     "data": {
      "text/plain": [
       "img_name\n",
       "10102066_KA_AComm_Checked     4.400000e+06\n",
       "10820130_MB_MirrorMCA         4.400000e+06\n",
       "10019209_EK_MCA_Checked       4.399998e+06\n",
       "10147148-AComm-NEW            4.399996e+06\n",
       "10293987_HMR_AComm_Checked    4.319445e+06\n",
       "10795693_BE_PCA_Checked       4.274688e+06\n",
       "11047954_LM_Pericallosa       4.274688e+06\n",
       "10745241-MCA-new              4.200000e+06\n",
       "05481872-AComm-new            4.070430e+06\n",
       "10600633-AComm-new-Colors     4.032777e+06\n",
       "dtype: float64"
      ]
     },
     "execution_count": 105,
     "metadata": {},
     "output_type": "execute_result"
    }
   ],
   "source": [
    "basic_desc_df.loc[basic_desc_df.in_train][['y_fov', 'x_fov', 'z_fov']].agg(np.multiply.reduce, axis=1).sort_values(ascending=False).head(10)"
   ]
  },
  {
   "cell_type": "code",
   "execution_count": 106,
   "id": "d328b2ac",
   "metadata": {},
   "outputs": [],
   "source": [
    "idx_interest = basic_desc_df.loc[basic_desc_df.in_train][['y_fov', 'x_fov', 'z_fov']].agg(np.multiply.reduce, axis=1).sort_values(ascending=False).head(10).index"
   ]
  },
  {
   "cell_type": "code",
   "execution_count": 115,
   "id": "1bb80724",
   "metadata": {},
   "outputs": [
    {
     "data": {
      "text/html": [
       "<div>\n",
       "<style scoped>\n",
       "    .dataframe tbody tr th:only-of-type {\n",
       "        vertical-align: middle;\n",
       "    }\n",
       "\n",
       "    .dataframe tbody tr th {\n",
       "        vertical-align: top;\n",
       "    }\n",
       "\n",
       "    .dataframe thead th {\n",
       "        text-align: right;\n",
       "    }\n",
       "</style>\n",
       "<table border=\"1\" class=\"dataframe\">\n",
       "  <thead>\n",
       "    <tr style=\"text-align: right;\">\n",
       "      <th></th>\n",
       "      <th>y_size</th>\n",
       "      <th>x_size</th>\n",
       "      <th>z_size</th>\n",
       "      <th>y_fov</th>\n",
       "      <th>x_fov</th>\n",
       "      <th>z_fov</th>\n",
       "      <th>aneurysm_volume</th>\n",
       "      <th>in_train</th>\n",
       "      <th>total_fov</th>\n",
       "    </tr>\n",
       "    <tr>\n",
       "      <th>img_name</th>\n",
       "      <th></th>\n",
       "      <th></th>\n",
       "      <th></th>\n",
       "      <th></th>\n",
       "      <th></th>\n",
       "      <th></th>\n",
       "      <th></th>\n",
       "      <th></th>\n",
       "      <th></th>\n",
       "    </tr>\n",
       "  </thead>\n",
       "  <tbody>\n",
       "    <tr>\n",
       "      <th>10102066_KA_AComm_Checked</th>\n",
       "      <td>0.312500</td>\n",
       "      <td>0.312500</td>\n",
       "      <td>0.550000</td>\n",
       "      <td>200.000000</td>\n",
       "      <td>200.000000</td>\n",
       "      <td>110.000002</td>\n",
       "      <td>331.933601</td>\n",
       "      <td>True</td>\n",
       "      <td>4.400000e+06</td>\n",
       "    </tr>\n",
       "    <tr>\n",
       "      <th>10820130_MB_MirrorMCA</th>\n",
       "      <td>0.312500</td>\n",
       "      <td>0.312500</td>\n",
       "      <td>0.550000</td>\n",
       "      <td>200.000000</td>\n",
       "      <td>200.000000</td>\n",
       "      <td>109.999990</td>\n",
       "      <td>300.082982</td>\n",
       "      <td>True</td>\n",
       "      <td>4.400000e+06</td>\n",
       "    </tr>\n",
       "    <tr>\n",
       "      <th>10019209_EK_MCA_Checked</th>\n",
       "      <td>0.312500</td>\n",
       "      <td>0.312500</td>\n",
       "      <td>0.550000</td>\n",
       "      <td>200.000000</td>\n",
       "      <td>200.000000</td>\n",
       "      <td>109.999955</td>\n",
       "      <td>131.538032</td>\n",
       "      <td>True</td>\n",
       "      <td>4.399998e+06</td>\n",
       "    </tr>\n",
       "    <tr>\n",
       "      <th>10147148-AComm-NEW</th>\n",
       "      <td>0.312500</td>\n",
       "      <td>0.312500</td>\n",
       "      <td>0.550000</td>\n",
       "      <td>200.000000</td>\n",
       "      <td>200.000000</td>\n",
       "      <td>109.999907</td>\n",
       "      <td>238.368939</td>\n",
       "      <td>True</td>\n",
       "      <td>4.399996e+06</td>\n",
       "    </tr>\n",
       "    <tr>\n",
       "      <th>10293987_HMR_AComm_Checked</th>\n",
       "      <td>0.390600</td>\n",
       "      <td>0.390600</td>\n",
       "      <td>0.600000</td>\n",
       "      <td>199.987198</td>\n",
       "      <td>199.987198</td>\n",
       "      <td>107.999961</td>\n",
       "      <td>96.758817</td>\n",
       "      <td>True</td>\n",
       "      <td>4.319445e+06</td>\n",
       "    </tr>\n",
       "    <tr>\n",
       "      <th>10795693_BE_PCA_Checked</th>\n",
       "      <td>0.343750</td>\n",
       "      <td>0.343750</td>\n",
       "      <td>0.600000</td>\n",
       "      <td>176.000000</td>\n",
       "      <td>220.000000</td>\n",
       "      <td>110.399993</td>\n",
       "      <td>89.757417</td>\n",
       "      <td>True</td>\n",
       "      <td>4.274688e+06</td>\n",
       "    </tr>\n",
       "    <tr>\n",
       "      <th>11047954_LM_Pericallosa</th>\n",
       "      <td>0.343750</td>\n",
       "      <td>0.343750</td>\n",
       "      <td>0.600000</td>\n",
       "      <td>176.000000</td>\n",
       "      <td>220.000000</td>\n",
       "      <td>110.399993</td>\n",
       "      <td>105.284173</td>\n",
       "      <td>True</td>\n",
       "      <td>4.274688e+06</td>\n",
       "    </tr>\n",
       "    <tr>\n",
       "      <th>10745241-MCA-new</th>\n",
       "      <td>0.312500</td>\n",
       "      <td>0.312500</td>\n",
       "      <td>0.600000</td>\n",
       "      <td>175.000000</td>\n",
       "      <td>200.000000</td>\n",
       "      <td>120.000005</td>\n",
       "      <td>167.343757</td>\n",
       "      <td>True</td>\n",
       "      <td>4.200000e+06</td>\n",
       "    </tr>\n",
       "    <tr>\n",
       "      <th>05481872-AComm-new</th>\n",
       "      <td>0.328125</td>\n",
       "      <td>0.328125</td>\n",
       "      <td>0.400000</td>\n",
       "      <td>170.625000</td>\n",
       "      <td>210.000000</td>\n",
       "      <td>113.600002</td>\n",
       "      <td>114.642775</td>\n",
       "      <td>True</td>\n",
       "      <td>4.070430e+06</td>\n",
       "    </tr>\n",
       "    <tr>\n",
       "      <th>10600633-AComm-new-Colors</th>\n",
       "      <td>0.390600</td>\n",
       "      <td>0.390600</td>\n",
       "      <td>0.700225</td>\n",
       "      <td>199.987198</td>\n",
       "      <td>199.987198</td>\n",
       "      <td>100.832339</td>\n",
       "      <td>87.709165</td>\n",
       "      <td>True</td>\n",
       "      <td>4.032777e+06</td>\n",
       "    </tr>\n",
       "  </tbody>\n",
       "</table>\n",
       "</div>"
      ],
      "text/plain": [
       "                              y_size    x_size    z_size       y_fov  \\\n",
       "img_name                                                               \n",
       "10102066_KA_AComm_Checked   0.312500  0.312500  0.550000  200.000000   \n",
       "10820130_MB_MirrorMCA       0.312500  0.312500  0.550000  200.000000   \n",
       "10019209_EK_MCA_Checked     0.312500  0.312500  0.550000  200.000000   \n",
       "10147148-AComm-NEW          0.312500  0.312500  0.550000  200.000000   \n",
       "10293987_HMR_AComm_Checked  0.390600  0.390600  0.600000  199.987198   \n",
       "10795693_BE_PCA_Checked     0.343750  0.343750  0.600000  176.000000   \n",
       "11047954_LM_Pericallosa     0.343750  0.343750  0.600000  176.000000   \n",
       "10745241-MCA-new            0.312500  0.312500  0.600000  175.000000   \n",
       "05481872-AComm-new          0.328125  0.328125  0.400000  170.625000   \n",
       "10600633-AComm-new-Colors   0.390600  0.390600  0.700225  199.987198   \n",
       "\n",
       "                                 x_fov       z_fov  aneurysm_volume  in_train  \\\n",
       "img_name                                                                        \n",
       "10102066_KA_AComm_Checked   200.000000  110.000002       331.933601      True   \n",
       "10820130_MB_MirrorMCA       200.000000  109.999990       300.082982      True   \n",
       "10019209_EK_MCA_Checked     200.000000  109.999955       131.538032      True   \n",
       "10147148-AComm-NEW          200.000000  109.999907       238.368939      True   \n",
       "10293987_HMR_AComm_Checked  199.987198  107.999961        96.758817      True   \n",
       "10795693_BE_PCA_Checked     220.000000  110.399993        89.757417      True   \n",
       "11047954_LM_Pericallosa     220.000000  110.399993       105.284173      True   \n",
       "10745241-MCA-new            200.000000  120.000005       167.343757      True   \n",
       "05481872-AComm-new          210.000000  113.600002       114.642775      True   \n",
       "10600633-AComm-new-Colors   199.987198  100.832339        87.709165      True   \n",
       "\n",
       "                               total_fov  \n",
       "img_name                                  \n",
       "10102066_KA_AComm_Checked   4.400000e+06  \n",
       "10820130_MB_MirrorMCA       4.400000e+06  \n",
       "10019209_EK_MCA_Checked     4.399998e+06  \n",
       "10147148-AComm-NEW          4.399996e+06  \n",
       "10293987_HMR_AComm_Checked  4.319445e+06  \n",
       "10795693_BE_PCA_Checked     4.274688e+06  \n",
       "11047954_LM_Pericallosa     4.274688e+06  \n",
       "10745241-MCA-new            4.200000e+06  \n",
       "05481872-AComm-new          4.070430e+06  \n",
       "10600633-AComm-new-Colors   4.032777e+06  "
      ]
     },
     "execution_count": 115,
     "metadata": {},
     "output_type": "execute_result"
    }
   ],
   "source": [
    "larges_fov_df = basic_desc_df.loc[idx_interest].sort_values('total_fov', ascending=False).head(15) \n",
    "larges_fov_df"
   ]
  },
  {
   "cell_type": "code",
   "execution_count": 116,
   "id": "7af88cf4",
   "metadata": {},
   "outputs": [
    {
     "data": {
      "text/html": [
       "<div>\n",
       "<style scoped>\n",
       "    .dataframe tbody tr th:only-of-type {\n",
       "        vertical-align: middle;\n",
       "    }\n",
       "\n",
       "    .dataframe tbody tr th {\n",
       "        vertical-align: top;\n",
       "    }\n",
       "\n",
       "    .dataframe thead th {\n",
       "        text-align: right;\n",
       "    }\n",
       "</style>\n",
       "<table border=\"1\" class=\"dataframe\">\n",
       "  <thead>\n",
       "    <tr style=\"text-align: right;\">\n",
       "      <th></th>\n",
       "      <th>y_size</th>\n",
       "      <th>x_size</th>\n",
       "      <th>z_size</th>\n",
       "      <th>y_fov</th>\n",
       "      <th>x_fov</th>\n",
       "      <th>z_fov</th>\n",
       "      <th>aneurysm_volume</th>\n",
       "      <th>in_train</th>\n",
       "      <th>total_fov</th>\n",
       "    </tr>\n",
       "    <tr>\n",
       "      <th>img_name</th>\n",
       "      <th></th>\n",
       "      <th></th>\n",
       "      <th></th>\n",
       "      <th></th>\n",
       "      <th></th>\n",
       "      <th></th>\n",
       "      <th></th>\n",
       "      <th></th>\n",
       "      <th></th>\n",
       "    </tr>\n",
       "  </thead>\n",
       "  <tbody>\n",
       "    <tr>\n",
       "      <th>04270916_VS_AComm_Checked</th>\n",
       "      <td>0.390625</td>\n",
       "      <td>0.390625</td>\n",
       "      <td>0.600000</td>\n",
       "      <td>200.000000</td>\n",
       "      <td>200.000000</td>\n",
       "      <td>67.200003</td>\n",
       "      <td>0.000000</td>\n",
       "      <td>True</td>\n",
       "      <td>2.688000e+06</td>\n",
       "    </tr>\n",
       "    <tr>\n",
       "      <th>10795198-BA-NEW_DONE</th>\n",
       "      <td>0.296875</td>\n",
       "      <td>0.296875</td>\n",
       "      <td>0.600000</td>\n",
       "      <td>166.250000</td>\n",
       "      <td>190.000000</td>\n",
       "      <td>120.000005</td>\n",
       "      <td>5.499610</td>\n",
       "      <td>True</td>\n",
       "      <td>3.790500e+06</td>\n",
       "    </tr>\n",
       "    <tr>\n",
       "      <th>10704331-AComm-NEW</th>\n",
       "      <td>0.390600</td>\n",
       "      <td>0.390600</td>\n",
       "      <td>0.700000</td>\n",
       "      <td>199.987198</td>\n",
       "      <td>199.987198</td>\n",
       "      <td>100.799998</td>\n",
       "      <td>25.311090</td>\n",
       "      <td>True</td>\n",
       "      <td>4.031484e+06</td>\n",
       "    </tr>\n",
       "    <tr>\n",
       "      <th>10576901_KJ_ICA_Checked</th>\n",
       "      <td>0.332000</td>\n",
       "      <td>0.332000</td>\n",
       "      <td>0.600001</td>\n",
       "      <td>169.983994</td>\n",
       "      <td>169.983994</td>\n",
       "      <td>67.200109</td>\n",
       "      <td>34.654479</td>\n",
       "      <td>True</td>\n",
       "      <td>1.941717e+06</td>\n",
       "    </tr>\n",
       "    <tr>\n",
       "      <th>10739823-PComm-links-NEW</th>\n",
       "      <td>0.296875</td>\n",
       "      <td>0.296875</td>\n",
       "      <td>0.600000</td>\n",
       "      <td>162.687500</td>\n",
       "      <td>190.000000</td>\n",
       "      <td>120.000005</td>\n",
       "      <td>41.828761</td>\n",
       "      <td>True</td>\n",
       "      <td>3.709275e+06</td>\n",
       "    </tr>\n",
       "    <tr>\n",
       "      <th>11089079_KA_MCA</th>\n",
       "      <td>0.286458</td>\n",
       "      <td>0.286458</td>\n",
       "      <td>0.650000</td>\n",
       "      <td>169.583322</td>\n",
       "      <td>219.999985</td>\n",
       "      <td>89.700005</td>\n",
       "      <td>51.897816</td>\n",
       "      <td>True</td>\n",
       "      <td>3.346557e+06</td>\n",
       "    </tr>\n",
       "    <tr>\n",
       "      <th>07767625_LJ_Pericallosa_Checked</th>\n",
       "      <td>0.296875</td>\n",
       "      <td>0.296875</td>\n",
       "      <td>0.600000</td>\n",
       "      <td>166.250000</td>\n",
       "      <td>190.000000</td>\n",
       "      <td>119.999993</td>\n",
       "      <td>60.918746</td>\n",
       "      <td>True</td>\n",
       "      <td>3.790500e+06</td>\n",
       "    </tr>\n",
       "    <tr>\n",
       "      <th>10599468-AComm-new</th>\n",
       "      <td>0.296875</td>\n",
       "      <td>0.296875</td>\n",
       "      <td>0.600000</td>\n",
       "      <td>166.250000</td>\n",
       "      <td>190.000000</td>\n",
       "      <td>120.000005</td>\n",
       "      <td>67.052932</td>\n",
       "      <td>True</td>\n",
       "      <td>3.790500e+06</td>\n",
       "    </tr>\n",
       "    <tr>\n",
       "      <th>10448252_BPE_ICA_Checked</th>\n",
       "      <td>0.296875</td>\n",
       "      <td>0.296875</td>\n",
       "      <td>0.600000</td>\n",
       "      <td>166.250000</td>\n",
       "      <td>190.000000</td>\n",
       "      <td>119.999993</td>\n",
       "      <td>72.869820</td>\n",
       "      <td>True</td>\n",
       "      <td>3.790500e+06</td>\n",
       "    </tr>\n",
       "    <tr>\n",
       "      <th>10764179-MCA-NEW_DONE</th>\n",
       "      <td>0.296875</td>\n",
       "      <td>0.296875</td>\n",
       "      <td>0.600000</td>\n",
       "      <td>166.250000</td>\n",
       "      <td>190.000000</td>\n",
       "      <td>113.999993</td>\n",
       "      <td>73.451509</td>\n",
       "      <td>True</td>\n",
       "      <td>3.600975e+06</td>\n",
       "    </tr>\n",
       "    <tr>\n",
       "      <th>08211078_FS_MCA_NEW</th>\n",
       "      <td>0.296875</td>\n",
       "      <td>0.296875</td>\n",
       "      <td>0.600000</td>\n",
       "      <td>154.375000</td>\n",
       "      <td>190.000000</td>\n",
       "      <td>108.600004</td>\n",
       "      <td>81.225003</td>\n",
       "      <td>True</td>\n",
       "      <td>3.185374e+06</td>\n",
       "    </tr>\n",
       "    <tr>\n",
       "      <th>06928064_SMK_MCA_Checked</th>\n",
       "      <td>0.296875</td>\n",
       "      <td>0.296875</td>\n",
       "      <td>0.600000</td>\n",
       "      <td>166.250000</td>\n",
       "      <td>190.000000</td>\n",
       "      <td>120.000005</td>\n",
       "      <td>81.489408</td>\n",
       "      <td>True</td>\n",
       "      <td>3.790500e+06</td>\n",
       "    </tr>\n",
       "    <tr>\n",
       "      <th>10083905_GLUK_MCA_Checked</th>\n",
       "      <td>0.296875</td>\n",
       "      <td>0.296875</td>\n",
       "      <td>0.600000</td>\n",
       "      <td>166.250000</td>\n",
       "      <td>190.000000</td>\n",
       "      <td>119.999993</td>\n",
       "      <td>86.513081</td>\n",
       "      <td>True</td>\n",
       "      <td>3.790500e+06</td>\n",
       "    </tr>\n",
       "    <tr>\n",
       "      <th>10600633-AComm-new-Colors</th>\n",
       "      <td>0.390600</td>\n",
       "      <td>0.390600</td>\n",
       "      <td>0.700225</td>\n",
       "      <td>199.987198</td>\n",
       "      <td>199.987198</td>\n",
       "      <td>100.832339</td>\n",
       "      <td>87.709165</td>\n",
       "      <td>True</td>\n",
       "      <td>4.032777e+06</td>\n",
       "    </tr>\n",
       "    <tr>\n",
       "      <th>11137190_NM_MA_NEW</th>\n",
       "      <td>0.231481</td>\n",
       "      <td>0.231481</td>\n",
       "      <td>0.500000</td>\n",
       "      <td>199.999997</td>\n",
       "      <td>199.999997</td>\n",
       "      <td>69.999983</td>\n",
       "      <td>87.930789</td>\n",
       "      <td>True</td>\n",
       "      <td>2.799999e+06</td>\n",
       "    </tr>\n",
       "  </tbody>\n",
       "</table>\n",
       "</div>"
      ],
      "text/plain": [
       "                                   y_size    x_size    z_size       y_fov  \\\n",
       "img_name                                                                    \n",
       "04270916_VS_AComm_Checked        0.390625  0.390625  0.600000  200.000000   \n",
       "10795198-BA-NEW_DONE             0.296875  0.296875  0.600000  166.250000   \n",
       "10704331-AComm-NEW               0.390600  0.390600  0.700000  199.987198   \n",
       "10576901_KJ_ICA_Checked          0.332000  0.332000  0.600001  169.983994   \n",
       "10739823-PComm-links-NEW         0.296875  0.296875  0.600000  162.687500   \n",
       "11089079_KA_MCA                  0.286458  0.286458  0.650000  169.583322   \n",
       "07767625_LJ_Pericallosa_Checked  0.296875  0.296875  0.600000  166.250000   \n",
       "10599468-AComm-new               0.296875  0.296875  0.600000  166.250000   \n",
       "10448252_BPE_ICA_Checked         0.296875  0.296875  0.600000  166.250000   \n",
       "10764179-MCA-NEW_DONE            0.296875  0.296875  0.600000  166.250000   \n",
       "08211078_FS_MCA_NEW              0.296875  0.296875  0.600000  154.375000   \n",
       "06928064_SMK_MCA_Checked         0.296875  0.296875  0.600000  166.250000   \n",
       "10083905_GLUK_MCA_Checked        0.296875  0.296875  0.600000  166.250000   \n",
       "10600633-AComm-new-Colors        0.390600  0.390600  0.700225  199.987198   \n",
       "11137190_NM_MA_NEW               0.231481  0.231481  0.500000  199.999997   \n",
       "\n",
       "                                      x_fov       z_fov  aneurysm_volume  \\\n",
       "img_name                                                                   \n",
       "04270916_VS_AComm_Checked        200.000000   67.200003         0.000000   \n",
       "10795198-BA-NEW_DONE             190.000000  120.000005         5.499610   \n",
       "10704331-AComm-NEW               199.987198  100.799998        25.311090   \n",
       "10576901_KJ_ICA_Checked          169.983994   67.200109        34.654479   \n",
       "10739823-PComm-links-NEW         190.000000  120.000005        41.828761   \n",
       "11089079_KA_MCA                  219.999985   89.700005        51.897816   \n",
       "07767625_LJ_Pericallosa_Checked  190.000000  119.999993        60.918746   \n",
       "10599468-AComm-new               190.000000  120.000005        67.052932   \n",
       "10448252_BPE_ICA_Checked         190.000000  119.999993        72.869820   \n",
       "10764179-MCA-NEW_DONE            190.000000  113.999993        73.451509   \n",
       "08211078_FS_MCA_NEW              190.000000  108.600004        81.225003   \n",
       "06928064_SMK_MCA_Checked         190.000000  120.000005        81.489408   \n",
       "10083905_GLUK_MCA_Checked        190.000000  119.999993        86.513081   \n",
       "10600633-AComm-new-Colors        199.987198  100.832339        87.709165   \n",
       "11137190_NM_MA_NEW               199.999997   69.999983        87.930789   \n",
       "\n",
       "                                 in_train     total_fov  \n",
       "img_name                                                 \n",
       "04270916_VS_AComm_Checked            True  2.688000e+06  \n",
       "10795198-BA-NEW_DONE                 True  3.790500e+06  \n",
       "10704331-AComm-NEW                   True  4.031484e+06  \n",
       "10576901_KJ_ICA_Checked              True  1.941717e+06  \n",
       "10739823-PComm-links-NEW             True  3.709275e+06  \n",
       "11089079_KA_MCA                      True  3.346557e+06  \n",
       "07767625_LJ_Pericallosa_Checked      True  3.790500e+06  \n",
       "10599468-AComm-new                   True  3.790500e+06  \n",
       "10448252_BPE_ICA_Checked             True  3.790500e+06  \n",
       "10764179-MCA-NEW_DONE                True  3.600975e+06  \n",
       "08211078_FS_MCA_NEW                  True  3.185374e+06  \n",
       "06928064_SMK_MCA_Checked             True  3.790500e+06  \n",
       "10083905_GLUK_MCA_Checked            True  3.790500e+06  \n",
       "10600633-AComm-new-Colors            True  4.032777e+06  \n",
       "11137190_NM_MA_NEW                   True  2.799999e+06  "
      ]
     },
     "execution_count": 116,
     "metadata": {},
     "output_type": "execute_result"
    }
   ],
   "source": [
    "smallest_aneurysms_df = basic_desc_df[basic_desc_df.in_train].sort_values('aneurysm_volume', ascending=True).head(15)\n",
    "smallest_aneurysms_df"
   ]
  },
  {
   "cell_type": "code",
   "execution_count": 117,
   "id": "02530608",
   "metadata": {},
   "outputs": [],
   "source": [
    "largest_z_fov_df = basic_desc_df[basic_desc_df.in_train].sort_values('z_fov', ascending=False).head(15)"
   ]
  },
  {
   "cell_type": "code",
   "execution_count": 118,
   "id": "ba93f766",
   "metadata": {},
   "outputs": [
    {
     "data": {
      "text/plain": [
       "{'10600633-AComm-new-Colors'}"
      ]
     },
     "execution_count": 118,
     "metadata": {},
     "output_type": "execute_result"
    }
   ],
   "source": [
    "# find overlap\n",
    "set(larges_fov_df.index).intersection(set(smallest_aneurysms_df.index))"
   ]
  },
  {
   "cell_type": "markdown",
   "id": "7af39d23",
   "metadata": {},
   "source": [
    "We can pick either \"10745241-MCA-new\" (decent FoV and very small aneurysm) and \"10600633-AComm-new-Colors\" (overlaps in top 15 largest field of views in total and in the z axis, while being in top 15 smallest aneurysms)"
   ]
  },
  {
   "cell_type": "markdown",
   "id": "52a2046b270c8f6b",
   "metadata": {
    "collapsed": false
   },
   "source": [
    "## 1.1 Distribution of UIAs location (per Vessel Type)"
   ]
  },
  {
   "cell_type": "code",
   "execution_count": null,
   "id": "34ce9ec9",
   "metadata": {},
   "outputs": [],
   "source": []
  },
  {
   "cell_type": "code",
   "execution_count": null,
   "id": "3f3d3e42f44ee55b",
   "metadata": {
    "collapsed": false
   },
   "outputs": [],
   "source": []
  },
  {
   "cell_type": "markdown",
   "id": "df403f57d8a8dc84",
   "metadata": {
    "collapsed": false
   },
   "source": [
    "## 1.2 Distribution of UIAs location (per Vessel Type and territory)"
   ]
  },
  {
   "cell_type": "code",
   "execution_count": null,
   "id": "1270317abbb3ec8e",
   "metadata": {
    "collapsed": false
   },
   "outputs": [],
   "source": []
  },
  {
   "cell_type": "markdown",
   "id": "27e9d279d9de8739",
   "metadata": {
    "collapsed": false
   },
   "source": [
    "## 1.3 Distribution of UIAs per size"
   ]
  },
  {
   "cell_type": "markdown",
   "id": "c223776e85465003",
   "metadata": {
    "collapsed": false
   },
   "source": [
    "### Per maximum diameter \n",
    "\n",
    "For example in ranges [0, 5mm), [5mm, 10mm), [10mm, inf)"
   ]
  },
  {
   "cell_type": "markdown",
   "id": "69085b330e101695",
   "metadata": {
    "collapsed": false
   },
   "source": [
    "### Per volume"
   ]
  },
  {
   "cell_type": "markdown",
   "id": "c5cbd8c43658d781",
   "metadata": {
    "collapsed": false
   },
   "source": [
    "### Per maximum median radius"
   ]
  },
  {
   "cell_type": "markdown",
   "id": "c930558e77dbeb78",
   "metadata": {
    "collapsed": false
   },
   "source": [
    "## 1.4 Distribution of UIAs type (saccular or fusiform)"
   ]
  },
  {
   "cell_type": "code",
   "execution_count": null,
   "id": "initial_id",
   "metadata": {
    "collapsed": true
   },
   "outputs": [],
   "source": []
  }
 ],
 "metadata": {
  "kernelspec": {
   "display_name": "Python 3",
   "language": "python",
   "name": "python3"
  },
  "language_info": {
   "codemirror_mode": {
    "name": "ipython",
    "version": 3
   },
   "file_extension": ".py",
   "mimetype": "text/x-python",
   "name": "python",
   "nbconvert_exporter": "python",
   "pygments_lexer": "ipython3",
   "version": "3.9.18"
  }
 },
 "nbformat": 4,
 "nbformat_minor": 5
}
