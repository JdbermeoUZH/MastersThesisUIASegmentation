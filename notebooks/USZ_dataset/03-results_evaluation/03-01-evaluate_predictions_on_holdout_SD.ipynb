{
 "cells": [
  {
   "cell_type": "code",
   "execution_count": 33,
   "metadata": {
    "ExecuteTime": {
     "end_time": "2023-12-20T18:12:23.888642782Z",
     "start_time": "2023-12-20T18:12:23.838819522Z"
    }
   },
   "outputs": [],
   "source": [
    "import os \n",
    "import glob \n",
    "from tqdm import tqdm\n",
    "\n",
    "import torch\n",
    "import pandas as pd\n",
    "import numpy as np\n",
    "import skimage.metrics \n",
    "from torchmetrics.functional.classification import dice, recall, precision\n",
    "from torchmetrics import Dice, Recall, Precision \n",
    "import nibabel as nib "
   ]
  },
  {
   "cell_type": "code",
   "execution_count": 7,
   "metadata": {
    "ExecuteTime": {
     "end_time": "2023-12-20T17:45:52.183511022Z",
     "start_time": "2023-12-20T17:45:51.999262166Z"
    }
   },
   "outputs": [],
   "source": [
    "def binarize_image(img, threshold = 0.5, one_hot = False):\n",
    "    if img.ndim == 4:\n",
    "       img = img.unsqueeze(0)\n",
    "\n",
    "    elif img.ndim == 3:\n",
    "        img = img[None, None, :, :, :]\n",
    "\n",
    "    assert img.ndim == 5, f'Binarize_image, tensor mismatch {img.shape}'\n",
    "\n",
    "    n_channels = img.shape[1]\n",
    "\n",
    "    # binary problem\n",
    "    if n_channels == 1:\n",
    "        nimg = img > threshold\n",
    "    elif n_channels == 3:\n",
    "        if img.dtype == torch.bool:\n",
    "            nimg = img.float()\n",
    "        else:\n",
    "            nimg           = torch.zeros_like(img)\n",
    "            argmax_indexes = torch.argmax(img, dim = 1)\n",
    "            nimg.scatter_(1, argmax_indexes.unsqueeze(1), 1) \n",
    "    else:\n",
    "        print(f\"In binarize_image, number of channels {n_channels}\")\n",
    "    \n",
    "    if nimg.dtype != torch.float:   nimg = nimg.float()\n",
    "    \n",
    "    return nimg\n",
    "\n",
    "def calculate_overlap_metrics(pred, gt, target_label: int == 1):\n",
    "    aneur_mask      = torch.where(gt == target_label, 1, 0)\n",
    "    pred_image_bin  = binarize_image(pred)\n",
    "    pred_aneur_mask = torch.mul(pred_image_bin, aneur_mask)\n",
    "\n",
    "    # compute dice score recall and precision\n",
    "    tp = torch.sum((pred_aneur_mask == 1) & (aneur_mask == 1))\n",
    "    fp = torch.sum((pred_aneur_mask == 1) & (aneur_mask == 0))\n",
    "    fn = torch.sum((pred_aneur_mask == 0) & (aneur_mask == 1))\n",
    "\n",
    "    if 2*tp + fp + fn == 0: dice_aneur = 1e-12\n",
    "    else: dice_aneur = (2*tp/(2*tp + fp + fn)).item()\n",
    "\n",
    "    if tp + fn == 0: recall_aneur = 1e-12\n",
    "    else: recall_aneur = (tp/(tp+fn)).item()\n",
    "\n",
    "    if fp + tp == 0: precision_aneur = 1e-12\n",
    "    else: precision_aneur = (tp/(tp+fp)).item()\n",
    "    metrics = {'dice_aneur':dice_aneur, \n",
    "               'recall_aneur':recall_aneur, \n",
    "               'precision_aneur':precision_aneur}\n",
    "    \n",
    "    return metrics"
   ]
  },
  {
   "cell_type": "code",
   "execution_count": 8,
   "outputs": [],
   "source": [
    "def measure_other_metrics(\n",
    "        gt_vols_fp: list,\n",
    "        pred_vols_fn: list,\n",
    "        predictions_dir: str,\n",
    "        metrics_tm: dict\n",
    ") -> pd.DataFrame:\n",
    "    results = []\n",
    "    for gt_vol_fp in tqdm(gt_vols_fp):\n",
    "        vol_fn = os.path.basename(gt_vol_fp)\n",
    "    \n",
    "        assert vol_fn in pred_vols_fn, \\\n",
    "            f\"No prediction for vol {vol_fn}\"\n",
    "        \n",
    "        # load vols     \n",
    "        gt = nib.load(gt_vol_fp).get_fdata()\n",
    "        gt = torch.tensor(gt).float()\n",
    "        \n",
    "        pred = nib.load(os.path.join(predictions_dir, vol_fn)).get_fdata()\n",
    "        pred = torch.tensor(pred).float()\n",
    "    \n",
    "        # Calculate metrics\n",
    "        metrics = calculate_overlap_metrics(pred, gt, target_label= 1)\n",
    "        metrics = {f'{k}_kostas':v for k,v in metrics.items()}\n",
    "        \n",
    "        for metric_name, metric_tm in metrics_tm.items():\n",
    "            metrics[f'{metric_name}_tm'] = metric_tm(pred.int(), gt.int()).item()\n",
    "        \n",
    "        metrics['mhd'] = skimage.metrics.hausdorff_distance(gt.cpu().numpy(), pred.cpu().numpy(), method='modified')\n",
    "        \n",
    "        # Add metrics to the results list\n",
    "        results.append({\n",
    "            'vol_name': vol_fn,\n",
    "            **metrics\n",
    "        })\n",
    "    \n",
    "    return pd.DataFrame(results)\n",
    "    "
   ],
   "metadata": {
    "collapsed": false,
    "ExecuteTime": {
     "end_time": "2023-12-20T17:45:52.812674266Z",
     "start_time": "2023-12-20T17:45:52.725448114Z"
    }
   }
  },
  {
   "cell_type": "markdown",
   "metadata": {},
   "source": [
    "# Evaluate trained on source domain and predicting in holdout set of the same domain\n",
    "\n",
    "Keep Dice-Score, Recall, Precision, and modified Hausdorff Distance for each volume and each class\n"
   ]
  },
  {
   "cell_type": "markdown",
   "metadata": {},
   "source": [
    "## UZS\n",
    "\n",
    "### Binary Segmentation All vessels"
   ]
  },
  {
   "cell_type": "code",
   "execution_count": 9,
   "metadata": {
    "ExecuteTime": {
     "end_time": "2023-12-20T17:45:55.339056205Z",
     "start_time": "2023-12-20T17:45:55.208830366Z"
    }
   },
   "outputs": [],
   "source": [
    "data_dir = '../../../../data/'\n",
    "ground_truth_dir = os.path.join(data_dir, 'preprocessed/Mathijs/Dataset001_BinaryAllVessels/labelsTs_binary_all_classes')\n",
    "predictions_dir = os.path.join(data_dir, 'nnUNet_predictions', 'train_on_SD_predict_on_SD', 'Dataset001_BinaryAllVessels', '3d_fullres')"
   ]
  },
  {
   "cell_type": "code",
   "execution_count": 28,
   "metadata": {
    "ExecuteTime": {
     "end_time": "2023-12-19T10:43:24.737176588Z",
     "start_time": "2023-12-19T10:43:24.732379759Z"
    }
   },
   "outputs": [],
   "source": [
    "gt_vols_fp = glob.glob(os.path.join(ground_truth_dir, '*.nii.gz'))\n",
    "pred_vols_fn = os.listdir(predictions_dir)"
   ]
  },
  {
   "cell_type": "code",
   "execution_count": 29,
   "metadata": {
    "ExecuteTime": {
     "end_time": "2023-12-19T10:43:25.273012077Z",
     "start_time": "2023-12-19T10:43:25.228320281Z"
    }
   },
   "outputs": [
    {
     "data": {
      "text/plain": "['18.nii.gz',\n 'predict_from_raw_data_args.json',\n '19.nii.gz',\n '61.nii.gz',\n '49.nii.gz',\n '31.nii.gz',\n '51.nii.gz',\n '48.nii.gz',\n '27.nii.gz',\n 'dataset.json',\n '1.nii.gz',\n '0.nii.gz',\n '3.nii.gz',\n '7.nii.gz',\n 'plans.json',\n '25.nii.gz']"
     },
     "execution_count": 29,
     "metadata": {},
     "output_type": "execute_result"
    }
   ],
   "source": [
    "pred_vols_fn"
   ]
  },
  {
   "cell_type": "code",
   "execution_count": 84,
   "outputs": [],
   "source": [
    "dice = Dice(num_classes=2, ignore_index=0, average='micro')\n",
    "recall = Recall(num_classes=2, ignore_index=0, average='micro', task='binary')\n",
    "precision = Precision(num_classes=2, ignore_index=0, average='micro', task='binary')\n",
    "\n",
    "metrics_tm = {'dice':dice, 'recall':recall, 'precision':precision}"
   ],
   "metadata": {
    "collapsed": false,
    "ExecuteTime": {
     "end_time": "2023-12-19T11:32:17.677837201Z",
     "start_time": "2023-12-19T11:32:17.634760326Z"
    }
   }
  },
  {
   "cell_type": "code",
   "execution_count": 85,
   "metadata": {
    "ExecuteTime": {
     "end_time": "2023-12-19T11:42:58.606126326Z",
     "start_time": "2023-12-19T11:32:18.511935022Z"
    }
   },
   "outputs": [
    {
     "name": "stderr",
     "output_type": "stream",
     "text": [
      "100%|██████████| 13/13 [10:39<00:00, 49.19s/it]\n"
     ]
    }
   ],
   "source": [
    "results = []\n",
    "for gt_vol_fp in tqdm(gt_vols_fp):\n",
    "    vol_fn = os.path.basename(gt_vol_fp)\n",
    "    \n",
    "    assert vol_fn in pred_vols_fn, \\\n",
    "        f\"No prediction for vol {vol_fn}\"\n",
    "    \n",
    "    # load vols     \n",
    "    gt = nib.load(gt_vol_fp).get_fdata()\n",
    "    gt = torch.tensor(gt).float()\n",
    "    \n",
    "    pred = nib.load(os.path.join(predictions_dir, vol_fn)).get_fdata()\n",
    "    pred = torch.tensor(pred).float()\n",
    "\n",
    "    # Calculate metrics\n",
    "    metrics = calculate_overlap_metrics(pred, gt, target_label= 1)\n",
    "    metrics = {f'{k}_kostas':v for k,v in metrics.items()}\n",
    "    \n",
    "    for metric_name, metric_tm in metrics_tm.items():\n",
    "        metrics[f'{metric_name}_tm'] = metric_tm(pred.int(), gt.int()).item()\n",
    "    \n",
    "    metrics['mhd'] = skimage.metrics.hausdorff_distance(gt.cpu().numpy(), pred.cpu().numpy(), method='modified')\n",
    "    \n",
    "    # Add metrics to the results list\n",
    "    results.append({\n",
    "        'vol_name': vol_fn,\n",
    "        **metrics\n",
    "    })"
   ]
  },
  {
   "cell_type": "code",
   "execution_count": 93,
   "outputs": [
    {
     "data": {
      "text/plain": "     vol_name dice_aneur_kostas recall_aneur_kostas precision_aneur_kostas  \\\n0   18.nii.gz    tensor(0.9534)      tensor(0.9110)             tensor(1.)   \n1   19.nii.gz    tensor(0.9368)      tensor(0.8812)             tensor(1.)   \n2   61.nii.gz    tensor(0.9096)      tensor(0.8342)             tensor(1.)   \n3   49.nii.gz    tensor(0.9271)      tensor(0.8641)             tensor(1.)   \n4   31.nii.gz    tensor(0.9391)      tensor(0.8851)             tensor(1.)   \n5   51.nii.gz    tensor(0.9202)      tensor(0.8521)             tensor(1.)   \n6   48.nii.gz    tensor(0.9627)      tensor(0.9281)             tensor(1.)   \n7   27.nii.gz    tensor(0.9067)      tensor(0.8293)             tensor(1.)   \n8    1.nii.gz    tensor(0.8759)      tensor(0.7792)             tensor(1.)   \n9    0.nii.gz    tensor(0.8925)      tensor(0.8058)             tensor(1.)   \n10   3.nii.gz    tensor(0.9496)      tensor(0.9040)             tensor(1.)   \n11   7.nii.gz    tensor(0.9446)      tensor(0.8950)             tensor(1.)   \n12  25.nii.gz    tensor(0.9185)      tensor(0.8492)             tensor(1.)   \n\n     dice_tm  recall_tm  precision_tm        mhd  \n0   0.864702   0.910991           1.0   0.749403  \n1   0.862072   0.881189           1.0   2.720930  \n2   0.862584   0.834175           1.0   2.124458  \n3   0.898427   0.864064           1.0   1.139996  \n4   0.883650   0.885113           1.0   0.832233  \n5   0.889157   0.852123           1.0   0.787224  \n6   0.782365   0.928078           1.0  10.144669  \n7   0.841543   0.829288           1.0   1.210820  \n8   0.850352   0.779167           1.0   1.464861  \n9   0.813883   0.805802           1.0   2.892901  \n10  0.875028   0.904043           1.0   1.196765  \n11  0.856323   0.895004           1.0   0.879678  \n12  0.872425   0.849228           1.0   0.770199  ",
      "text/html": "<div>\n<style scoped>\n    .dataframe tbody tr th:only-of-type {\n        vertical-align: middle;\n    }\n\n    .dataframe tbody tr th {\n        vertical-align: top;\n    }\n\n    .dataframe thead th {\n        text-align: right;\n    }\n</style>\n<table border=\"1\" class=\"dataframe\">\n  <thead>\n    <tr style=\"text-align: right;\">\n      <th></th>\n      <th>vol_name</th>\n      <th>dice_aneur_kostas</th>\n      <th>recall_aneur_kostas</th>\n      <th>precision_aneur_kostas</th>\n      <th>dice_tm</th>\n      <th>recall_tm</th>\n      <th>precision_tm</th>\n      <th>mhd</th>\n    </tr>\n  </thead>\n  <tbody>\n    <tr>\n      <th>0</th>\n      <td>18.nii.gz</td>\n      <td>tensor(0.9534)</td>\n      <td>tensor(0.9110)</td>\n      <td>tensor(1.)</td>\n      <td>0.864702</td>\n      <td>0.910991</td>\n      <td>1.0</td>\n      <td>0.749403</td>\n    </tr>\n    <tr>\n      <th>1</th>\n      <td>19.nii.gz</td>\n      <td>tensor(0.9368)</td>\n      <td>tensor(0.8812)</td>\n      <td>tensor(1.)</td>\n      <td>0.862072</td>\n      <td>0.881189</td>\n      <td>1.0</td>\n      <td>2.720930</td>\n    </tr>\n    <tr>\n      <th>2</th>\n      <td>61.nii.gz</td>\n      <td>tensor(0.9096)</td>\n      <td>tensor(0.8342)</td>\n      <td>tensor(1.)</td>\n      <td>0.862584</td>\n      <td>0.834175</td>\n      <td>1.0</td>\n      <td>2.124458</td>\n    </tr>\n    <tr>\n      <th>3</th>\n      <td>49.nii.gz</td>\n      <td>tensor(0.9271)</td>\n      <td>tensor(0.8641)</td>\n      <td>tensor(1.)</td>\n      <td>0.898427</td>\n      <td>0.864064</td>\n      <td>1.0</td>\n      <td>1.139996</td>\n    </tr>\n    <tr>\n      <th>4</th>\n      <td>31.nii.gz</td>\n      <td>tensor(0.9391)</td>\n      <td>tensor(0.8851)</td>\n      <td>tensor(1.)</td>\n      <td>0.883650</td>\n      <td>0.885113</td>\n      <td>1.0</td>\n      <td>0.832233</td>\n    </tr>\n    <tr>\n      <th>5</th>\n      <td>51.nii.gz</td>\n      <td>tensor(0.9202)</td>\n      <td>tensor(0.8521)</td>\n      <td>tensor(1.)</td>\n      <td>0.889157</td>\n      <td>0.852123</td>\n      <td>1.0</td>\n      <td>0.787224</td>\n    </tr>\n    <tr>\n      <th>6</th>\n      <td>48.nii.gz</td>\n      <td>tensor(0.9627)</td>\n      <td>tensor(0.9281)</td>\n      <td>tensor(1.)</td>\n      <td>0.782365</td>\n      <td>0.928078</td>\n      <td>1.0</td>\n      <td>10.144669</td>\n    </tr>\n    <tr>\n      <th>7</th>\n      <td>27.nii.gz</td>\n      <td>tensor(0.9067)</td>\n      <td>tensor(0.8293)</td>\n      <td>tensor(1.)</td>\n      <td>0.841543</td>\n      <td>0.829288</td>\n      <td>1.0</td>\n      <td>1.210820</td>\n    </tr>\n    <tr>\n      <th>8</th>\n      <td>1.nii.gz</td>\n      <td>tensor(0.8759)</td>\n      <td>tensor(0.7792)</td>\n      <td>tensor(1.)</td>\n      <td>0.850352</td>\n      <td>0.779167</td>\n      <td>1.0</td>\n      <td>1.464861</td>\n    </tr>\n    <tr>\n      <th>9</th>\n      <td>0.nii.gz</td>\n      <td>tensor(0.8925)</td>\n      <td>tensor(0.8058)</td>\n      <td>tensor(1.)</td>\n      <td>0.813883</td>\n      <td>0.805802</td>\n      <td>1.0</td>\n      <td>2.892901</td>\n    </tr>\n    <tr>\n      <th>10</th>\n      <td>3.nii.gz</td>\n      <td>tensor(0.9496)</td>\n      <td>tensor(0.9040)</td>\n      <td>tensor(1.)</td>\n      <td>0.875028</td>\n      <td>0.904043</td>\n      <td>1.0</td>\n      <td>1.196765</td>\n    </tr>\n    <tr>\n      <th>11</th>\n      <td>7.nii.gz</td>\n      <td>tensor(0.9446)</td>\n      <td>tensor(0.8950)</td>\n      <td>tensor(1.)</td>\n      <td>0.856323</td>\n      <td>0.895004</td>\n      <td>1.0</td>\n      <td>0.879678</td>\n    </tr>\n    <tr>\n      <th>12</th>\n      <td>25.nii.gz</td>\n      <td>tensor(0.9185)</td>\n      <td>tensor(0.8492)</td>\n      <td>tensor(1.)</td>\n      <td>0.872425</td>\n      <td>0.849228</td>\n      <td>1.0</td>\n      <td>0.770199</td>\n    </tr>\n  </tbody>\n</table>\n</div>"
     },
     "execution_count": 93,
     "metadata": {},
     "output_type": "execute_result"
    }
   ],
   "source": [
    "results_df = pd.DataFrame(results)\n",
    "results_df"
   ],
   "metadata": {
    "collapsed": false,
    "ExecuteTime": {
     "end_time": "2023-12-19T13:07:35.611020685Z",
     "start_time": "2023-12-19T13:07:35.579235022Z"
    }
   }
  },
  {
   "cell_type": "code",
   "execution_count": 94,
   "outputs": [],
   "source": [
    "os.makedirs(os.path.join(data_dir, 'results'), exist_ok=True)"
   ],
   "metadata": {
    "collapsed": false,
    "ExecuteTime": {
     "end_time": "2023-12-19T13:07:36.444383378Z",
     "start_time": "2023-12-19T13:07:36.417431353Z"
    }
   }
  },
  {
   "cell_type": "code",
   "execution_count": 95,
   "outputs": [],
   "source": [
    "results_df.to_csv(os.path.join(data_dir, 'results', 'sd_usz__td_usz__binary_all_vessels.csv'), index=False)"
   ],
   "metadata": {
    "collapsed": false,
    "ExecuteTime": {
     "end_time": "2023-12-19T13:07:36.982348657Z",
     "start_time": "2023-12-19T13:07:36.962198145Z"
    }
   }
  },
  {
   "cell_type": "code",
   "execution_count": 96,
   "outputs": [
    {
     "data": {
      "text/plain": "0.8578855532866257"
     },
     "execution_count": 96,
     "metadata": {},
     "output_type": "execute_result"
    }
   ],
   "source": [
    "results_df.dice_tm.mean()"
   ],
   "metadata": {
    "collapsed": false,
    "ExecuteTime": {
     "end_time": "2023-12-19T13:07:54.087223747Z",
     "start_time": "2023-12-19T13:07:54.041055916Z"
    }
   }
  },
  {
   "cell_type": "code",
   "execution_count": 97,
   "outputs": [
    {
     "data": {
      "text/plain": "2.07031823880332"
     },
     "execution_count": 97,
     "metadata": {},
     "output_type": "execute_result"
    }
   ],
   "source": [
    "results_df.mhd.mean()\n"
   ],
   "metadata": {
    "collapsed": false,
    "ExecuteTime": {
     "end_time": "2023-12-19T13:09:14.047336245Z",
     "start_time": "2023-12-19T13:09:14.003082608Z"
    }
   }
  },
  {
   "cell_type": "markdown",
   "source": [
    "### Binary Segmentation Aneurysm vs Background"
   ],
   "metadata": {
    "collapsed": false
   }
  },
  {
   "cell_type": "code",
   "execution_count": 105,
   "outputs": [],
   "source": [
    "data_dir = '../../../../data/'\n",
    "ground_truth_dir = os.path.join(data_dir, 'preprocessed/Mathijs/Dataset002_BinaryAneurysmOnly/labelsTs_binary_only_aneurysm')\n",
    "predictions_dir = os.path.join(data_dir, 'nnUNet_predictions', 'train_on_SD_predict_on_SD', 'Dataset002_BinaryAneurysmOnly', '3d_fullres')"
   ],
   "metadata": {
    "collapsed": false,
    "ExecuteTime": {
     "end_time": "2023-12-19T13:15:09.095304004Z",
     "start_time": "2023-12-19T13:15:09.074316235Z"
    }
   }
  },
  {
   "cell_type": "code",
   "execution_count": 106,
   "outputs": [],
   "source": [
    "gt_vols_fp = glob.glob(os.path.join(ground_truth_dir, '*.nii.gz'))\n",
    "pred_vols_fn = os.listdir(predictions_dir)"
   ],
   "metadata": {
    "collapsed": false,
    "ExecuteTime": {
     "end_time": "2023-12-19T13:15:10.328983572Z",
     "start_time": "2023-12-19T13:15:10.324097331Z"
    }
   }
  },
  {
   "cell_type": "code",
   "execution_count": 107,
   "outputs": [],
   "source": [
    "dice = Dice(num_classes=2, ignore_index=0, average='micro')\n",
    "recall = Recall(num_classes=2, ignore_index=0, average='micro', task='binary')\n",
    "precision = Precision(num_classes=2, ignore_index=0, average='micro', task='binary')\n",
    "\n",
    "metrics_tm = {'dice':dice, 'recall':recall, 'precision':precision}"
   ],
   "metadata": {
    "collapsed": false,
    "ExecuteTime": {
     "end_time": "2023-12-19T13:15:10.722787227Z",
     "start_time": "2023-12-19T13:15:10.703053431Z"
    }
   }
  },
  {
   "cell_type": "code",
   "execution_count": 110,
   "outputs": [
    {
     "name": "stderr",
     "output_type": "stream",
     "text": [
      "100%|██████████| 13/13 [08:16<00:00, 38.21s/it]\n"
     ]
    }
   ],
   "source": [
    "results = []\n",
    "for gt_vol_fp in tqdm(gt_vols_fp):\n",
    "    vol_fn = os.path.basename(gt_vol_fp)\n",
    "\n",
    "    assert vol_fn in pred_vols_fn, \\\n",
    "        f\"No prediction for vol {vol_fn}\"\n",
    "    \n",
    "    # load vols     \n",
    "    gt = nib.load(gt_vol_fp).get_fdata()\n",
    "    gt = torch.tensor(gt).float()\n",
    "    \n",
    "    pred = nib.load(os.path.join(predictions_dir, vol_fn)).get_fdata()\n",
    "    pred = torch.tensor(pred).float()\n",
    "\n",
    "    # Calculate metrics\n",
    "    metrics = calculate_overlap_metrics(pred, gt, target_label= 1)\n",
    "    metrics = {f'{k}_kostas':v for k,v in metrics.items()}\n",
    "    \n",
    "    for metric_name, metric_tm in metrics_tm.items():\n",
    "        metrics[f'{metric_name}_tm'] = metric_tm(pred.int(), gt.int()).item()\n",
    "    \n",
    "    metrics['mhd'] = skimage.metrics.hausdorff_distance(gt.cpu().numpy(), pred.cpu().numpy(), method='modified')\n",
    "    \n",
    "    # Add metrics to the results list\n",
    "    results.append({\n",
    "        'vol_name': vol_fn,\n",
    "        **metrics\n",
    "    })"
   ],
   "metadata": {
    "collapsed": false,
    "ExecuteTime": {
     "end_time": "2023-12-19T13:26:38.451523153Z",
     "start_time": "2023-12-19T13:18:21.714205362Z"
    }
   }
  },
  {
   "cell_type": "code",
   "execution_count": 111,
   "outputs": [
    {
     "data": {
      "text/plain": "     vol_name  dice_aneur_kostas  recall_aneur_kostas  precision_aneur_kostas  \\\n0   18.nii.gz           0.942420             0.891109            1.000000e+00   \n1   19.nii.gz           0.797440             0.663118            1.000000e+00   \n2   61.nii.gz           0.000000             0.000000            1.000000e-12   \n3   49.nii.gz           0.844707             0.731162            1.000000e+00   \n4   31.nii.gz           0.910970             0.836496            1.000000e+00   \n5   51.nii.gz           0.672888             0.507032            1.000000e+00   \n6   48.nii.gz           0.992823             0.985749            1.000000e+00   \n7   27.nii.gz           0.870654             0.770936            1.000000e+00   \n8    1.nii.gz           0.000000             0.000000            1.000000e-12   \n9    0.nii.gz           0.870571             0.770807            1.000000e+00   \n10   3.nii.gz           0.766764             0.621749            1.000000e+00   \n11   7.nii.gz           0.890820             0.803134            1.000000e+00   \n12  25.nii.gz           0.885094             0.793872            1.000000e+00   \n\n     dice_tm  recall_tm  precision_tm        mhd  \n0   0.834174   0.891109           1.0  27.644806  \n1   0.781393   0.663118           1.0   1.145862  \n2   0.000000   0.000000           0.0        inf  \n3   0.831515   0.731162           1.0   2.806254  \n4   0.829733   0.836496           1.0   9.663954  \n5   0.496017   0.507032           1.0  15.943432  \n6   0.961910   0.985749           1.0   0.070813  \n7   0.803594   0.770936           1.0   0.742497  \n8   0.000000   0.000000           0.0  68.120221  \n9   0.858196   0.770807           1.0   1.183752  \n10  0.766391   0.621749           1.0   0.550912  \n11  0.870062   0.803134           1.0   0.319231  \n12  0.862621   0.793872           1.0   3.176130  ",
      "text/html": "<div>\n<style scoped>\n    .dataframe tbody tr th:only-of-type {\n        vertical-align: middle;\n    }\n\n    .dataframe tbody tr th {\n        vertical-align: top;\n    }\n\n    .dataframe thead th {\n        text-align: right;\n    }\n</style>\n<table border=\"1\" class=\"dataframe\">\n  <thead>\n    <tr style=\"text-align: right;\">\n      <th></th>\n      <th>vol_name</th>\n      <th>dice_aneur_kostas</th>\n      <th>recall_aneur_kostas</th>\n      <th>precision_aneur_kostas</th>\n      <th>dice_tm</th>\n      <th>recall_tm</th>\n      <th>precision_tm</th>\n      <th>mhd</th>\n    </tr>\n  </thead>\n  <tbody>\n    <tr>\n      <th>0</th>\n      <td>18.nii.gz</td>\n      <td>0.942420</td>\n      <td>0.891109</td>\n      <td>1.000000e+00</td>\n      <td>0.834174</td>\n      <td>0.891109</td>\n      <td>1.0</td>\n      <td>27.644806</td>\n    </tr>\n    <tr>\n      <th>1</th>\n      <td>19.nii.gz</td>\n      <td>0.797440</td>\n      <td>0.663118</td>\n      <td>1.000000e+00</td>\n      <td>0.781393</td>\n      <td>0.663118</td>\n      <td>1.0</td>\n      <td>1.145862</td>\n    </tr>\n    <tr>\n      <th>2</th>\n      <td>61.nii.gz</td>\n      <td>0.000000</td>\n      <td>0.000000</td>\n      <td>1.000000e-12</td>\n      <td>0.000000</td>\n      <td>0.000000</td>\n      <td>0.0</td>\n      <td>inf</td>\n    </tr>\n    <tr>\n      <th>3</th>\n      <td>49.nii.gz</td>\n      <td>0.844707</td>\n      <td>0.731162</td>\n      <td>1.000000e+00</td>\n      <td>0.831515</td>\n      <td>0.731162</td>\n      <td>1.0</td>\n      <td>2.806254</td>\n    </tr>\n    <tr>\n      <th>4</th>\n      <td>31.nii.gz</td>\n      <td>0.910970</td>\n      <td>0.836496</td>\n      <td>1.000000e+00</td>\n      <td>0.829733</td>\n      <td>0.836496</td>\n      <td>1.0</td>\n      <td>9.663954</td>\n    </tr>\n    <tr>\n      <th>5</th>\n      <td>51.nii.gz</td>\n      <td>0.672888</td>\n      <td>0.507032</td>\n      <td>1.000000e+00</td>\n      <td>0.496017</td>\n      <td>0.507032</td>\n      <td>1.0</td>\n      <td>15.943432</td>\n    </tr>\n    <tr>\n      <th>6</th>\n      <td>48.nii.gz</td>\n      <td>0.992823</td>\n      <td>0.985749</td>\n      <td>1.000000e+00</td>\n      <td>0.961910</td>\n      <td>0.985749</td>\n      <td>1.0</td>\n      <td>0.070813</td>\n    </tr>\n    <tr>\n      <th>7</th>\n      <td>27.nii.gz</td>\n      <td>0.870654</td>\n      <td>0.770936</td>\n      <td>1.000000e+00</td>\n      <td>0.803594</td>\n      <td>0.770936</td>\n      <td>1.0</td>\n      <td>0.742497</td>\n    </tr>\n    <tr>\n      <th>8</th>\n      <td>1.nii.gz</td>\n      <td>0.000000</td>\n      <td>0.000000</td>\n      <td>1.000000e-12</td>\n      <td>0.000000</td>\n      <td>0.000000</td>\n      <td>0.0</td>\n      <td>68.120221</td>\n    </tr>\n    <tr>\n      <th>9</th>\n      <td>0.nii.gz</td>\n      <td>0.870571</td>\n      <td>0.770807</td>\n      <td>1.000000e+00</td>\n      <td>0.858196</td>\n      <td>0.770807</td>\n      <td>1.0</td>\n      <td>1.183752</td>\n    </tr>\n    <tr>\n      <th>10</th>\n      <td>3.nii.gz</td>\n      <td>0.766764</td>\n      <td>0.621749</td>\n      <td>1.000000e+00</td>\n      <td>0.766391</td>\n      <td>0.621749</td>\n      <td>1.0</td>\n      <td>0.550912</td>\n    </tr>\n    <tr>\n      <th>11</th>\n      <td>7.nii.gz</td>\n      <td>0.890820</td>\n      <td>0.803134</td>\n      <td>1.000000e+00</td>\n      <td>0.870062</td>\n      <td>0.803134</td>\n      <td>1.0</td>\n      <td>0.319231</td>\n    </tr>\n    <tr>\n      <th>12</th>\n      <td>25.nii.gz</td>\n      <td>0.885094</td>\n      <td>0.793872</td>\n      <td>1.000000e+00</td>\n      <td>0.862621</td>\n      <td>0.793872</td>\n      <td>1.0</td>\n      <td>3.176130</td>\n    </tr>\n  </tbody>\n</table>\n</div>"
     },
     "execution_count": 111,
     "metadata": {},
     "output_type": "execute_result"
    }
   ],
   "source": [
    "results_df = pd.DataFrame(results)\n",
    "results_df"
   ],
   "metadata": {
    "collapsed": false,
    "ExecuteTime": {
     "end_time": "2023-12-19T13:37:17.230260367Z",
     "start_time": "2023-12-19T13:37:17.164517593Z"
    }
   }
  },
  {
   "cell_type": "markdown",
   "source": [
    "Note it could not identify aneurysms at all in 2 cases, scan 61 and scan 1. The rest of them have a very high value except for 51."
   ],
   "metadata": {
    "collapsed": false
   }
  },
  {
   "cell_type": "code",
   "execution_count": 112,
   "outputs": [],
   "source": [
    "os.makedirs(os.path.join(data_dir, 'results'), exist_ok=True)"
   ],
   "metadata": {
    "collapsed": false,
    "ExecuteTime": {
     "end_time": "2023-12-19T13:39:08.421037943Z",
     "start_time": "2023-12-19T13:39:08.375404958Z"
    }
   }
  },
  {
   "cell_type": "code",
   "execution_count": 113,
   "outputs": [],
   "source": [
    "results_df.to_csv(os.path.join(data_dir, 'results', 'sd_usz__td_usz__binary_aneurysm_only.csv'), index=False)"
   ],
   "metadata": {
    "collapsed": false,
    "ExecuteTime": {
     "end_time": "2023-12-19T13:39:08.834129846Z",
     "start_time": "2023-12-19T13:39:08.802400684Z"
    }
   }
  },
  {
   "cell_type": "code",
   "execution_count": 114,
   "outputs": [
    {
     "data": {
      "text/plain": "0.6842775000975683"
     },
     "execution_count": 114,
     "metadata": {},
     "output_type": "execute_result"
    }
   ],
   "source": [
    "results_df.dice_tm.mean()"
   ],
   "metadata": {
    "collapsed": false,
    "ExecuteTime": {
     "end_time": "2023-12-19T13:39:09.865634409Z",
     "start_time": "2023-12-19T13:39:09.770025316Z"
    }
   }
  },
  {
   "cell_type": "code",
   "execution_count": 116,
   "outputs": [
    {
     "data": {
      "text/plain": "15.335989475071896"
     },
     "execution_count": 116,
     "metadata": {},
     "output_type": "execute_result"
    }
   ],
   "source": [
    "import numpy as np\n",
    "results_df.mhd.map(lambda x: x if x != np.inf else 68).mean()\n"
   ],
   "metadata": {
    "collapsed": false,
    "ExecuteTime": {
     "end_time": "2023-12-19T13:41:04.424853976Z",
     "start_time": "2023-12-19T13:41:04.363668435Z"
    }
   }
  },
  {
   "cell_type": "markdown",
   "source": [
    "### 3 classes: Aneurysm, Vessels, Background"
   ],
   "metadata": {
    "collapsed": false
   }
  },
  {
   "cell_type": "code",
   "execution_count": 117,
   "outputs": [],
   "source": [
    "data_dir = '../../../../data/'\n",
    "ground_truth_dir = os.path.join(data_dir, 'preprocessed/Mathijs/Dataset003_3Classes/labelsTs_3_classes')\n",
    "predictions_dir = os.path.join(data_dir, 'nnUNet_predictions', 'train_on_SD_predict_on_SD', 'Dataset003_3Classes', '3d_fullres')"
   ],
   "metadata": {
    "collapsed": false,
    "ExecuteTime": {
     "end_time": "2023-12-19T13:43:34.410892032Z",
     "start_time": "2023-12-19T13:43:34.350599870Z"
    }
   }
  },
  {
   "cell_type": "code",
   "execution_count": 118,
   "outputs": [],
   "source": [
    "gt_vols_fp = glob.glob(os.path.join(ground_truth_dir, '*.nii.gz'))\n",
    "pred_vols_fn = os.listdir(predictions_dir)"
   ],
   "metadata": {
    "collapsed": false,
    "ExecuteTime": {
     "end_time": "2023-12-19T13:43:35.631417239Z",
     "start_time": "2023-12-19T13:43:35.505569450Z"
    }
   }
  },
  {
   "cell_type": "code",
   "execution_count": 133,
   "outputs": [],
   "source": [
    "num_classes = 3\n",
    "dice = Dice(num_classes=num_classes, ignore_index=0, average='micro')\n",
    "recall = Recall(num_classes=num_classes, ignore_index=0, average='micro', task='multiclass')\n",
    "precision = Precision(num_classes=num_classes, ignore_index=0, average='micro', task='multiclass')\n",
    "\n",
    "metrics_tm = {'dice':dice, 'recall':recall, 'precision':precision}"
   ],
   "metadata": {
    "collapsed": false,
    "ExecuteTime": {
     "end_time": "2023-12-19T13:58:25.387053191Z",
     "start_time": "2023-12-19T13:58:25.123694127Z"
    }
   }
  },
  {
   "cell_type": "code",
   "execution_count": 164,
   "outputs": [
    {
     "name": "stderr",
     "output_type": "stream",
     "text": [
      "100%|██████████| 13/13 [04:41<00:00, 21.64s/it]\n"
     ]
    }
   ],
   "source": [
    "results = []\n",
    "for gt_vol_fp in tqdm(gt_vols_fp):\n",
    "    vol_fn = os.path.basename(gt_vol_fp)\n",
    "\n",
    "    assert vol_fn in pred_vols_fn, \\\n",
    "        f\"No prediction for vol {vol_fn}\"\n",
    "    \n",
    "    # load vols     \n",
    "    gt = nib.load(gt_vol_fp).get_fdata()\n",
    "    gt = torch.tensor(gt).float()\n",
    "    \n",
    "    pred = nib.load(os.path.join(predictions_dir, vol_fn)).get_fdata()\n",
    "    pred = torch.tensor(pred).float()\n",
    "\n",
    "    # Calculate metrics\n",
    "    metrics = calculate_overlap_metrics(pred, gt, target_label=2)\n",
    "    metrics = {f'{k}_kostas':v for k,v in metrics.items()}\n",
    "\n",
    "    for metric_name, metric_tm in metrics_tm.items():\n",
    "        metrics[f'{metric_name}_tm'] = metric_tm(pred.int(), gt.int()).item()\n",
    "\n",
    "    metrics['mhd'] = skimage.metrics.hausdorff_distance(gt.cpu().numpy(), pred.cpu().numpy(), method='modified')\n",
    "\n",
    "    # Calculate the aneurysm only metrics\n",
    "    gt = torch.where(gt == 2, 1, 0)\n",
    "    pred = torch.where(pred == 2, 1, 0)\n",
    "    \n",
    "    for metric_name, metric_tm in metrics_tm.items():\n",
    "         metrics[f'{metric_name}_tm_aneurysm_only'] = metric_tm(pred.int(), gt.int()).item()\n",
    "    metrics = dict()\n",
    "    metrics['mhd_aneurysm_only'] = skimage.metrics.hausdorff_distance(gt.cpu().numpy(), pred.cpu().numpy(), method='modified')\n",
    "\n",
    "    # Add metrics to the results list\n",
    "    results.append({\n",
    "        'vol_name': vol_fn,\n",
    "        **metrics\n",
    "    })"
   ],
   "metadata": {
    "collapsed": false,
    "ExecuteTime": {
     "end_time": "2023-12-19T15:34:17.903524364Z",
     "start_time": "2023-12-19T15:29:36.472177680Z"
    }
   }
  },
  {
   "cell_type": "code",
   "execution_count": 154,
   "outputs": [],
   "source": [
    "results_df = pd.DataFrame(results)"
   ],
   "metadata": {
    "collapsed": false,
    "ExecuteTime": {
     "end_time": "2023-12-19T15:14:24.604939917Z",
     "start_time": "2023-12-19T15:14:24.499531567Z"
    }
   }
  },
  {
   "cell_type": "code",
   "execution_count": 155,
   "outputs": [
    {
     "data": {
      "text/plain": "Index(['vol_name', 'dice_aneur_kostas', 'recall_aneur_kostas',\n       'precision_aneur_kostas', 'dice_tm', 'recall_tm', 'precision_tm', 'mhd',\n       'dice_tm_aneurysm_only', 'recall_tm_aneurysm_only',\n       'precision_tm_aneurysm_only'],\n      dtype='object')"
     },
     "execution_count": 155,
     "metadata": {},
     "output_type": "execute_result"
    }
   ],
   "source": [
    "results_df.columns"
   ],
   "metadata": {
    "collapsed": false,
    "ExecuteTime": {
     "end_time": "2023-12-19T15:14:24.705854410Z",
     "start_time": "2023-12-19T15:14:24.499947343Z"
    }
   }
  },
  {
   "cell_type": "code",
   "execution_count": 156,
   "outputs": [
    {
     "data": {
      "text/plain": "     vol_name  dice_aneur_kostas  recall_aneur_kostas  precision_aneur_kostas  \\\n0   18.nii.gz           0.992763             0.985631                     1.0   \n1   19.nii.gz           0.981017             0.962741                     1.0   \n2   61.nii.gz           0.931643             0.872033                     1.0   \n3   49.nii.gz           0.925006             0.860475                     1.0   \n4   31.nii.gz           0.962907             0.928467                     1.0   \n5   51.nii.gz           0.923935             0.858623                     1.0   \n6   48.nii.gz           0.995789             0.991613                     1.0   \n7   27.nii.gz           1.000000             1.000000                     1.0   \n8    1.nii.gz           0.865342             0.762646                     1.0   \n9    0.nii.gz           0.894966             0.809899                     1.0   \n10   3.nii.gz           0.966823             0.935776                     1.0   \n11   7.nii.gz           0.952551             0.909402                     1.0   \n12  25.nii.gz           0.958287             0.919915                     1.0   \n\n     dice_tm  recall_tm  precision_tm        mhd  dice_tm_aneurysm_only  \\\n0   0.843258   0.891947      0.891947   1.082557               0.853339   \n1   0.849466   0.891182      0.891182   2.336168               0.815594   \n2   0.847720   0.857916      0.857916   3.185457               0.388794   \n3   0.869198   0.856359      0.856359   3.399348               0.830266   \n4   0.878906   0.876689      0.876689   0.473720               0.879774   \n5   0.885509   0.900141      0.900141   0.459954               0.615766   \n6   0.742941   0.943133      0.943133  12.052795               0.974191   \n7   0.822212   0.863873      0.863873   2.849913               0.797040   \n8   0.789434   0.679630      0.679630   2.786238               0.200700   \n9   0.794191   0.795226      0.795226   3.435928               0.809009   \n10  0.874399   0.924947      0.924947   0.496000               0.924517   \n11  0.827931   0.901369      0.901369   1.485456               0.885400   \n12  0.856082   0.851137      0.851137   0.827917               0.906029   \n\n    recall_tm_aneurysm_only  precision_tm_aneurysm_only  \n0                  0.899416                    0.899416  \n1                  0.730761                    0.730761  \n2                  0.248418                    0.248418  \n3                  0.750345                    0.750345  \n4                  0.910706                    0.910706  \n5                  0.552184                    0.552184  \n6                  0.991361                    0.991361  \n7                  0.928571                    0.928571  \n8                  0.111543                    0.111543  \n9                  0.707755                    0.707755  \n10                 0.933806                    0.933806  \n11                 0.859544                    0.859544  \n12                 0.871243                    0.871243  ",
      "text/html": "<div>\n<style scoped>\n    .dataframe tbody tr th:only-of-type {\n        vertical-align: middle;\n    }\n\n    .dataframe tbody tr th {\n        vertical-align: top;\n    }\n\n    .dataframe thead th {\n        text-align: right;\n    }\n</style>\n<table border=\"1\" class=\"dataframe\">\n  <thead>\n    <tr style=\"text-align: right;\">\n      <th></th>\n      <th>vol_name</th>\n      <th>dice_aneur_kostas</th>\n      <th>recall_aneur_kostas</th>\n      <th>precision_aneur_kostas</th>\n      <th>dice_tm</th>\n      <th>recall_tm</th>\n      <th>precision_tm</th>\n      <th>mhd</th>\n      <th>dice_tm_aneurysm_only</th>\n      <th>recall_tm_aneurysm_only</th>\n      <th>precision_tm_aneurysm_only</th>\n    </tr>\n  </thead>\n  <tbody>\n    <tr>\n      <th>0</th>\n      <td>18.nii.gz</td>\n      <td>0.992763</td>\n      <td>0.985631</td>\n      <td>1.0</td>\n      <td>0.843258</td>\n      <td>0.891947</td>\n      <td>0.891947</td>\n      <td>1.082557</td>\n      <td>0.853339</td>\n      <td>0.899416</td>\n      <td>0.899416</td>\n    </tr>\n    <tr>\n      <th>1</th>\n      <td>19.nii.gz</td>\n      <td>0.981017</td>\n      <td>0.962741</td>\n      <td>1.0</td>\n      <td>0.849466</td>\n      <td>0.891182</td>\n      <td>0.891182</td>\n      <td>2.336168</td>\n      <td>0.815594</td>\n      <td>0.730761</td>\n      <td>0.730761</td>\n    </tr>\n    <tr>\n      <th>2</th>\n      <td>61.nii.gz</td>\n      <td>0.931643</td>\n      <td>0.872033</td>\n      <td>1.0</td>\n      <td>0.847720</td>\n      <td>0.857916</td>\n      <td>0.857916</td>\n      <td>3.185457</td>\n      <td>0.388794</td>\n      <td>0.248418</td>\n      <td>0.248418</td>\n    </tr>\n    <tr>\n      <th>3</th>\n      <td>49.nii.gz</td>\n      <td>0.925006</td>\n      <td>0.860475</td>\n      <td>1.0</td>\n      <td>0.869198</td>\n      <td>0.856359</td>\n      <td>0.856359</td>\n      <td>3.399348</td>\n      <td>0.830266</td>\n      <td>0.750345</td>\n      <td>0.750345</td>\n    </tr>\n    <tr>\n      <th>4</th>\n      <td>31.nii.gz</td>\n      <td>0.962907</td>\n      <td>0.928467</td>\n      <td>1.0</td>\n      <td>0.878906</td>\n      <td>0.876689</td>\n      <td>0.876689</td>\n      <td>0.473720</td>\n      <td>0.879774</td>\n      <td>0.910706</td>\n      <td>0.910706</td>\n    </tr>\n    <tr>\n      <th>5</th>\n      <td>51.nii.gz</td>\n      <td>0.923935</td>\n      <td>0.858623</td>\n      <td>1.0</td>\n      <td>0.885509</td>\n      <td>0.900141</td>\n      <td>0.900141</td>\n      <td>0.459954</td>\n      <td>0.615766</td>\n      <td>0.552184</td>\n      <td>0.552184</td>\n    </tr>\n    <tr>\n      <th>6</th>\n      <td>48.nii.gz</td>\n      <td>0.995789</td>\n      <td>0.991613</td>\n      <td>1.0</td>\n      <td>0.742941</td>\n      <td>0.943133</td>\n      <td>0.943133</td>\n      <td>12.052795</td>\n      <td>0.974191</td>\n      <td>0.991361</td>\n      <td>0.991361</td>\n    </tr>\n    <tr>\n      <th>7</th>\n      <td>27.nii.gz</td>\n      <td>1.000000</td>\n      <td>1.000000</td>\n      <td>1.0</td>\n      <td>0.822212</td>\n      <td>0.863873</td>\n      <td>0.863873</td>\n      <td>2.849913</td>\n      <td>0.797040</td>\n      <td>0.928571</td>\n      <td>0.928571</td>\n    </tr>\n    <tr>\n      <th>8</th>\n      <td>1.nii.gz</td>\n      <td>0.865342</td>\n      <td>0.762646</td>\n      <td>1.0</td>\n      <td>0.789434</td>\n      <td>0.679630</td>\n      <td>0.679630</td>\n      <td>2.786238</td>\n      <td>0.200700</td>\n      <td>0.111543</td>\n      <td>0.111543</td>\n    </tr>\n    <tr>\n      <th>9</th>\n      <td>0.nii.gz</td>\n      <td>0.894966</td>\n      <td>0.809899</td>\n      <td>1.0</td>\n      <td>0.794191</td>\n      <td>0.795226</td>\n      <td>0.795226</td>\n      <td>3.435928</td>\n      <td>0.809009</td>\n      <td>0.707755</td>\n      <td>0.707755</td>\n    </tr>\n    <tr>\n      <th>10</th>\n      <td>3.nii.gz</td>\n      <td>0.966823</td>\n      <td>0.935776</td>\n      <td>1.0</td>\n      <td>0.874399</td>\n      <td>0.924947</td>\n      <td>0.924947</td>\n      <td>0.496000</td>\n      <td>0.924517</td>\n      <td>0.933806</td>\n      <td>0.933806</td>\n    </tr>\n    <tr>\n      <th>11</th>\n      <td>7.nii.gz</td>\n      <td>0.952551</td>\n      <td>0.909402</td>\n      <td>1.0</td>\n      <td>0.827931</td>\n      <td>0.901369</td>\n      <td>0.901369</td>\n      <td>1.485456</td>\n      <td>0.885400</td>\n      <td>0.859544</td>\n      <td>0.859544</td>\n    </tr>\n    <tr>\n      <th>12</th>\n      <td>25.nii.gz</td>\n      <td>0.958287</td>\n      <td>0.919915</td>\n      <td>1.0</td>\n      <td>0.856082</td>\n      <td>0.851137</td>\n      <td>0.851137</td>\n      <td>0.827917</td>\n      <td>0.906029</td>\n      <td>0.871243</td>\n      <td>0.871243</td>\n    </tr>\n  </tbody>\n</table>\n</div>"
     },
     "execution_count": 156,
     "metadata": {},
     "output_type": "execute_result"
    }
   ],
   "source": [
    "results_df"
   ],
   "metadata": {
    "collapsed": false,
    "ExecuteTime": {
     "end_time": "2023-12-19T15:14:24.819001730Z",
     "start_time": "2023-12-19T15:14:24.522036246Z"
    }
   }
  },
  {
   "cell_type": "code",
   "execution_count": 170,
   "outputs": [],
   "source": [
    "results_df.to_csv(os.path.join(data_dir, 'results', 'sd_usz__td_usz__3classes_UIA_and_vessels.csv'), index=False)"
   ],
   "metadata": {
    "collapsed": false,
    "ExecuteTime": {
     "end_time": "2023-12-19T15:39:54.473143305Z",
     "start_time": "2023-12-19T15:39:54.241987097Z"
    }
   }
  },
  {
   "cell_type": "code",
   "execution_count": 160,
   "outputs": [
    {
     "data": {
      "text/plain": "0.8370189987696134"
     },
     "execution_count": 160,
     "metadata": {},
     "output_type": "execute_result"
    }
   ],
   "source": [
    "results_df.dice_tm.mean()"
   ],
   "metadata": {
    "collapsed": false,
    "ExecuteTime": {
     "end_time": "2023-12-19T15:27:36.021156905Z",
     "start_time": "2023-12-19T15:27:35.846373031Z"
    }
   }
  },
  {
   "cell_type": "code",
   "execution_count": 161,
   "outputs": [
    {
     "data": {
      "text/plain": "0.7600323248368043"
     },
     "execution_count": 161,
     "metadata": {},
     "output_type": "execute_result"
    }
   ],
   "source": [
    "results_df.dice_tm_aneurysm_only.mean()"
   ],
   "metadata": {
    "collapsed": false,
    "ExecuteTime": {
     "end_time": "2023-12-19T15:27:46.919505109Z",
     "start_time": "2023-12-19T15:27:46.727923109Z"
    }
   }
  },
  {
   "cell_type": "code",
   "execution_count": 163,
   "outputs": [
    {
     "data": {
      "text/plain": "2.6824194654548474"
     },
     "execution_count": 163,
     "metadata": {},
     "output_type": "execute_result"
    }
   ],
   "source": [
    "import numpy as np\n",
    "results_df.mhd.mean()#.map(lambda x: x if x != np.inf else 68).mean()"
   ],
   "metadata": {
    "collapsed": false,
    "ExecuteTime": {
     "end_time": "2023-12-19T15:28:02.213407396Z",
     "start_time": "2023-12-19T15:28:01.950478484Z"
    }
   }
  },
  {
   "cell_type": "code",
   "execution_count": 171,
   "outputs": [
    {
     "data": {
      "text/plain": "6.136928550363725"
     },
     "execution_count": 171,
     "metadata": {},
     "output_type": "execute_result"
    }
   ],
   "source": [
    "results_df.mhd_aneurysm_only.mean()"
   ],
   "metadata": {
    "collapsed": false,
    "ExecuteTime": {
     "end_time": "2023-12-19T15:40:09.469105056Z",
     "start_time": "2023-12-19T15:40:09.245708020Z"
    }
   }
  },
  {
   "cell_type": "markdown",
   "source": [
    "### 21 classes"
   ],
   "metadata": {
    "collapsed": false
   }
  },
  {
   "cell_type": "code",
   "execution_count": 105,
   "outputs": [],
   "source": [
    "data_dir = '../../../../data/'\n",
    "ground_truth_dir = os.path.join(data_dir, 'preprocessed/Mathijs/Dataset004_21Classes/labelsTs')\n",
    "predictions_dir = os.path.join(data_dir, 'nnUNet_predictions', 'train_on_SD_predict_on_SD', 'Dataset004_21Classes', '3d_fullres')"
   ],
   "metadata": {
    "collapsed": false
   }
  },
  {
   "cell_type": "code",
   "execution_count": 106,
   "outputs": [],
   "source": [
    "gt_vols_fp = glob.glob(os.path.join(ground_truth_dir, '*.nii.gz'))\n",
    "pred_vols_fn = os.listdir(predictions_dir)"
   ],
   "metadata": {
    "collapsed": false
   }
  },
  {
   "cell_type": "code",
   "execution_count": 107,
   "outputs": [],
   "source": [
    "dice = Dice(num_classes=21, ignore_index=0, average='micro')\n",
    "recall = Recall(num_classes=21, ignore_index=0, average='micro', task='binary')\n",
    "precision = Precision(num_classes=21, ignore_index=0, average='micro', task='binary')\n",
    "\n",
    "metrics_tm = {'dice':dice, 'recall':recall, 'precision':precision}"
   ],
   "metadata": {
    "collapsed": false
   }
  },
  {
   "cell_type": "code",
   "execution_count": 110,
   "outputs": [
    {
     "name": "stderr",
     "output_type": "stream",
     "text": [
      "100%|██████████| 13/13 [08:16<00:00, 38.21s/it]\n"
     ]
    }
   ],
   "source": [
    "results = []\n",
    "for gt_vol_fp in tqdm(gt_vols_fp):\n",
    "    vol_fn = os.path.basename(gt_vol_fp)\n",
    "\n",
    "    assert vol_fn in pred_vols_fn, \\\n",
    "        f\"No prediction for vol {vol_fn}\"\n",
    "    \n",
    "    # load vols     \n",
    "    gt = nib.load(gt_vol_fp).get_fdata()\n",
    "    gt = torch.tensor(gt).float()\n",
    "    \n",
    "    pred = nib.load(os.path.join(predictions_dir, vol_fn)).get_fdata()\n",
    "    pred = torch.tensor(pred).float()\n",
    "\n",
    "    # Calculate metrics\n",
    "    metrics = calculate_overlap_metrics(pred, gt, target_label= 1)\n",
    "    metrics = {f'{k}_kostas':v for k,v in metrics.items()}\n",
    "    \n",
    "    for metric_name, metric_tm in metrics_tm.items():\n",
    "        metrics[f'{metric_name}_tm'] = metric_tm(pred.int(), gt.int()).item()\n",
    "    \n",
    "    metrics['mhd'] = skimage.metrics.hausdorff_distance(gt.cpu().numpy(), pred.cpu().numpy(), method='modified')\n",
    "    \n",
    "    # Add metrics to the results list\n",
    "    results.append({\n",
    "        'vol_name': vol_fn,\n",
    "        **metrics\n",
    "    })"
   ],
   "metadata": {
    "collapsed": false
   }
  },
  {
   "cell_type": "code",
   "execution_count": 111,
   "outputs": [
    {
     "data": {
      "text/plain": "     vol_name  dice_aneur_kostas  recall_aneur_kostas  precision_aneur_kostas  \\\n0   18.nii.gz           0.942420             0.891109            1.000000e+00   \n1   19.nii.gz           0.797440             0.663118            1.000000e+00   \n2   61.nii.gz           0.000000             0.000000            1.000000e-12   \n3   49.nii.gz           0.844707             0.731162            1.000000e+00   \n4   31.nii.gz           0.910970             0.836496            1.000000e+00   \n5   51.nii.gz           0.672888             0.507032            1.000000e+00   \n6   48.nii.gz           0.992823             0.985749            1.000000e+00   \n7   27.nii.gz           0.870654             0.770936            1.000000e+00   \n8    1.nii.gz           0.000000             0.000000            1.000000e-12   \n9    0.nii.gz           0.870571             0.770807            1.000000e+00   \n10   3.nii.gz           0.766764             0.621749            1.000000e+00   \n11   7.nii.gz           0.890820             0.803134            1.000000e+00   \n12  25.nii.gz           0.885094             0.793872            1.000000e+00   \n\n     dice_tm  recall_tm  precision_tm        mhd  \n0   0.834174   0.891109           1.0  27.644806  \n1   0.781393   0.663118           1.0   1.145862  \n2   0.000000   0.000000           0.0        inf  \n3   0.831515   0.731162           1.0   2.806254  \n4   0.829733   0.836496           1.0   9.663954  \n5   0.496017   0.507032           1.0  15.943432  \n6   0.961910   0.985749           1.0   0.070813  \n7   0.803594   0.770936           1.0   0.742497  \n8   0.000000   0.000000           0.0  68.120221  \n9   0.858196   0.770807           1.0   1.183752  \n10  0.766391   0.621749           1.0   0.550912  \n11  0.870062   0.803134           1.0   0.319231  \n12  0.862621   0.793872           1.0   3.176130  ",
      "text/html": "<div>\n<style scoped>\n    .dataframe tbody tr th:only-of-type {\n        vertical-align: middle;\n    }\n\n    .dataframe tbody tr th {\n        vertical-align: top;\n    }\n\n    .dataframe thead th {\n        text-align: right;\n    }\n</style>\n<table border=\"1\" class=\"dataframe\">\n  <thead>\n    <tr style=\"text-align: right;\">\n      <th></th>\n      <th>vol_name</th>\n      <th>dice_aneur_kostas</th>\n      <th>recall_aneur_kostas</th>\n      <th>precision_aneur_kostas</th>\n      <th>dice_tm</th>\n      <th>recall_tm</th>\n      <th>precision_tm</th>\n      <th>mhd</th>\n    </tr>\n  </thead>\n  <tbody>\n    <tr>\n      <th>0</th>\n      <td>18.nii.gz</td>\n      <td>0.942420</td>\n      <td>0.891109</td>\n      <td>1.000000e+00</td>\n      <td>0.834174</td>\n      <td>0.891109</td>\n      <td>1.0</td>\n      <td>27.644806</td>\n    </tr>\n    <tr>\n      <th>1</th>\n      <td>19.nii.gz</td>\n      <td>0.797440</td>\n      <td>0.663118</td>\n      <td>1.000000e+00</td>\n      <td>0.781393</td>\n      <td>0.663118</td>\n      <td>1.0</td>\n      <td>1.145862</td>\n    </tr>\n    <tr>\n      <th>2</th>\n      <td>61.nii.gz</td>\n      <td>0.000000</td>\n      <td>0.000000</td>\n      <td>1.000000e-12</td>\n      <td>0.000000</td>\n      <td>0.000000</td>\n      <td>0.0</td>\n      <td>inf</td>\n    </tr>\n    <tr>\n      <th>3</th>\n      <td>49.nii.gz</td>\n      <td>0.844707</td>\n      <td>0.731162</td>\n      <td>1.000000e+00</td>\n      <td>0.831515</td>\n      <td>0.731162</td>\n      <td>1.0</td>\n      <td>2.806254</td>\n    </tr>\n    <tr>\n      <th>4</th>\n      <td>31.nii.gz</td>\n      <td>0.910970</td>\n      <td>0.836496</td>\n      <td>1.000000e+00</td>\n      <td>0.829733</td>\n      <td>0.836496</td>\n      <td>1.0</td>\n      <td>9.663954</td>\n    </tr>\n    <tr>\n      <th>5</th>\n      <td>51.nii.gz</td>\n      <td>0.672888</td>\n      <td>0.507032</td>\n      <td>1.000000e+00</td>\n      <td>0.496017</td>\n      <td>0.507032</td>\n      <td>1.0</td>\n      <td>15.943432</td>\n    </tr>\n    <tr>\n      <th>6</th>\n      <td>48.nii.gz</td>\n      <td>0.992823</td>\n      <td>0.985749</td>\n      <td>1.000000e+00</td>\n      <td>0.961910</td>\n      <td>0.985749</td>\n      <td>1.0</td>\n      <td>0.070813</td>\n    </tr>\n    <tr>\n      <th>7</th>\n      <td>27.nii.gz</td>\n      <td>0.870654</td>\n      <td>0.770936</td>\n      <td>1.000000e+00</td>\n      <td>0.803594</td>\n      <td>0.770936</td>\n      <td>1.0</td>\n      <td>0.742497</td>\n    </tr>\n    <tr>\n      <th>8</th>\n      <td>1.nii.gz</td>\n      <td>0.000000</td>\n      <td>0.000000</td>\n      <td>1.000000e-12</td>\n      <td>0.000000</td>\n      <td>0.000000</td>\n      <td>0.0</td>\n      <td>68.120221</td>\n    </tr>\n    <tr>\n      <th>9</th>\n      <td>0.nii.gz</td>\n      <td>0.870571</td>\n      <td>0.770807</td>\n      <td>1.000000e+00</td>\n      <td>0.858196</td>\n      <td>0.770807</td>\n      <td>1.0</td>\n      <td>1.183752</td>\n    </tr>\n    <tr>\n      <th>10</th>\n      <td>3.nii.gz</td>\n      <td>0.766764</td>\n      <td>0.621749</td>\n      <td>1.000000e+00</td>\n      <td>0.766391</td>\n      <td>0.621749</td>\n      <td>1.0</td>\n      <td>0.550912</td>\n    </tr>\n    <tr>\n      <th>11</th>\n      <td>7.nii.gz</td>\n      <td>0.890820</td>\n      <td>0.803134</td>\n      <td>1.000000e+00</td>\n      <td>0.870062</td>\n      <td>0.803134</td>\n      <td>1.0</td>\n      <td>0.319231</td>\n    </tr>\n    <tr>\n      <th>12</th>\n      <td>25.nii.gz</td>\n      <td>0.885094</td>\n      <td>0.793872</td>\n      <td>1.000000e+00</td>\n      <td>0.862621</td>\n      <td>0.793872</td>\n      <td>1.0</td>\n      <td>3.176130</td>\n    </tr>\n  </tbody>\n</table>\n</div>"
     },
     "execution_count": 111,
     "metadata": {},
     "output_type": "execute_result"
    }
   ],
   "source": [
    "results_df = pd.DataFrame(results)\n",
    "results_df"
   ],
   "metadata": {
    "collapsed": false
   }
  },
  {
   "cell_type": "markdown",
   "source": [
    "Note it could not identify aneurysms at all in 2 cases, scan 61 and scan 1. The rest of them have a very high value except for 51."
   ],
   "metadata": {
    "collapsed": false
   }
  },
  {
   "cell_type": "code",
   "execution_count": 112,
   "outputs": [],
   "source": [
    "os.makedirs(os.path.join(data_dir, 'results'), exist_ok=True)"
   ],
   "metadata": {
    "collapsed": false
   }
  },
  {
   "cell_type": "code",
   "execution_count": 113,
   "outputs": [],
   "source": [
    "results_df.to_csv(os.path.join(data_dir, 'results', 'sd_usz__td_usz__binary_aneurysm_only.csv'), index=False)"
   ],
   "metadata": {
    "collapsed": false
   }
  },
  {
   "cell_type": "code",
   "execution_count": 114,
   "outputs": [
    {
     "data": {
      "text/plain": "0.6842775000975683"
     },
     "execution_count": 114,
     "metadata": {},
     "output_type": "execute_result"
    }
   ],
   "source": [
    "results_df.dice_tm.mean()"
   ],
   "metadata": {
    "collapsed": false
   }
  }
 ],
 "metadata": {
  "kernelspec": {
   "display_name": "pytcu_21_1__py_3_10",
   "language": "python",
   "name": "python3"
  },
  "language_info": {
   "codemirror_mode": {
    "name": "ipython",
    "version": 3
   },
   "file_extension": ".py",
   "mimetype": "text/x-python",
   "name": "python",
   "nbconvert_exporter": "python",
   "pygments_lexer": "ipython3",
   "version": "3.10.13"
  }
 },
 "nbformat": 4,
 "nbformat_minor": 2
}
