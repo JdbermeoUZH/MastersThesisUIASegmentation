{
 "cells": [
  {
   "cell_type": "code",
   "execution_count": 1,
   "metadata": {
    "ExecuteTime": {
     "end_time": "2023-12-21T06:33:36.292419672Z",
     "start_time": "2023-12-21T06:33:32.439489344Z"
    }
   },
   "outputs": [],
   "source": [
    "import os \n",
    "import glob \n",
    "from tqdm import tqdm\n",
    "\n",
    "import torch\n",
    "import pandas as pd\n",
    "import numpy as np\n",
    "import skimage.metrics \n",
    "from torchmetrics.functional.classification import dice, recall, precision\n",
    "from torchmetrics import Dice, Recall, Precision \n",
    "import nibabel as nib "
   ]
  },
  {
   "cell_type": "code",
   "execution_count": 2,
   "metadata": {
    "ExecuteTime": {
     "end_time": "2023-12-21T06:33:36.312429641Z",
     "start_time": "2023-12-21T06:33:36.297950223Z"
    }
   },
   "outputs": [],
   "source": [
    "def binarize_image(img, threshold = 0.5, one_hot = False):\n",
    "    if img.ndim == 4:\n",
    "       img = img.unsqueeze(0)\n",
    "\n",
    "    elif img.ndim == 3:\n",
    "        img = img[None, None, :, :, :]\n",
    "\n",
    "    assert img.ndim == 5, f'Binarize_image, tensor mismatch {img.shape}'\n",
    "\n",
    "    n_channels = img.shape[1]\n",
    "\n",
    "    # binary problem\n",
    "    if n_channels == 1:\n",
    "        nimg = img > threshold\n",
    "    elif n_channels == 3:\n",
    "        if img.dtype == torch.bool:\n",
    "            nimg = img.float()\n",
    "        else:\n",
    "            nimg           = torch.zeros_like(img)\n",
    "            argmax_indexes = torch.argmax(img, dim = 1)\n",
    "            nimg.scatter_(1, argmax_indexes.unsqueeze(1), 1) \n",
    "    else:\n",
    "        print(f\"In binarize_image, number of channels {n_channels}\")\n",
    "    \n",
    "    if nimg.dtype != torch.float:   nimg = nimg.float()\n",
    "    \n",
    "    return nimg\n",
    "\n",
    "def calculate_overlap_metrics(pred, gt, target_label: int == 1):\n",
    "    aneur_mask      = torch.where(gt == target_label, 1, 0)\n",
    "    pred_image_bin  = binarize_image(pred)\n",
    "    pred_aneur_mask = torch.mul(pred_image_bin, aneur_mask)\n",
    "\n",
    "    # compute dice score recall and precision\n",
    "    tp = torch.sum((pred_aneur_mask == 1) & (aneur_mask == 1))\n",
    "    fp = torch.sum((pred_aneur_mask == 1) & (aneur_mask == 0))\n",
    "    fn = torch.sum((pred_aneur_mask == 0) & (aneur_mask == 1))\n",
    "\n",
    "    if 2*tp + fp + fn == 0: dice_aneur = 1e-12\n",
    "    else: dice_aneur = (2*tp/(2*tp + fp + fn)).item()\n",
    "\n",
    "    if tp + fn == 0: recall_aneur = 1e-12\n",
    "    else: recall_aneur = (tp/(tp+fn)).item()\n",
    "\n",
    "    if fp + tp == 0: precision_aneur = 1e-12\n",
    "    else: precision_aneur = (tp/(tp+fp)).item()\n",
    "    metrics = {'dice_aneur':dice_aneur, \n",
    "               'recall_aneur':recall_aneur, \n",
    "               'precision_aneur':precision_aneur}\n",
    "    \n",
    "    return metrics"
   ]
  },
  {
   "cell_type": "code",
   "execution_count": 4,
   "outputs": [],
   "source": [
    "def calculate_metrics(num_classes, aneurysm_class, gt_vols_fp, pred_vols_fn):\n",
    "    dice = Dice(num_classes=num_classes, ignore_index=0, average='micro')\n",
    "    recall = Recall(num_classes=num_classes, ignore_index=0, average='micro', task='binary')\n",
    "    precision = Precision(num_classes=num_classes, ignore_index=0, average='micro', task='binary')\n",
    "    \n",
    "    metrics_tm = {'dice': dice, 'recall': recall, 'precision': precision}\n",
    "    results = []\n",
    "    for gt_vol_fp in tqdm(gt_vols_fp):\n",
    "        vol_fn = os.path.basename(gt_vol_fp)\n",
    "    \n",
    "        try:\n",
    "            assert vol_fn in pred_vols_fn, \\\n",
    "                f\"No prediction for vol {vol_fn}\"\n",
    "        except AssertionError as e:\n",
    "            print(e)\n",
    "            continue\n",
    "        \n",
    "        # load vols     \n",
    "        gt = nib.load(gt_vol_fp).get_fdata()\n",
    "        gt = torch.tensor(gt).float()\n",
    "        \n",
    "        pred = nib.load(os.path.join(predictions_dir, vol_fn)).get_fdata()\n",
    "        pred = torch.tensor(pred).float()\n",
    "        \n",
    "        # Pick only the aneurysm class\n",
    "        pred = torch.where(pred == anueursym_class, 1, 0)\n",
    "    \n",
    "        # Calculate metrics\n",
    "        metrics = calculate_overlap_metrics(pred, gt, target_label= 1)\n",
    "        metrics = {f'{k}_kostas':v for k,v in metrics.items()}\n",
    "        \n",
    "        for metric_name, metric_tm in metrics_tm.items():\n",
    "            metrics[f'{metric_name}_tm'] = metric_tm(pred.int(), gt.int()).item()\n",
    "        \n",
    "        metrics['mhd'] = skimage.metrics.hausdorff_distance(gt.cpu().numpy(), pred.cpu().numpy(), method='modified')\n",
    "        \n",
    "        # Add metrics to the results list\n",
    "        results.append({\n",
    "            'vol_name': vol_fn,\n",
    "            **metrics\n",
    "        })\n",
    "    \n",
    "    return pd.DataFrame(results)"
   ],
   "metadata": {
    "collapsed": false,
    "ExecuteTime": {
     "end_time": "2023-12-21T06:34:23.887088740Z",
     "start_time": "2023-12-21T06:34:23.837958856Z"
    }
   }
  },
  {
   "cell_type": "markdown",
   "source": [
    "# Evaluate trained on source domain and predicting target domain\n"
   ],
   "metadata": {
    "collapsed": false
   }
  },
  {
   "cell_type": "markdown",
   "source": [
    "## UZS -> ADAM dataset"
   ],
   "metadata": {
    "collapsed": false
   }
  },
  {
   "cell_type": "code",
   "execution_count": 5,
   "outputs": [],
   "source": [
    "data_dir = '../../../../data/'"
   ],
   "metadata": {
    "collapsed": false,
    "ExecuteTime": {
     "end_time": "2023-12-21T06:34:26.174205444Z",
     "start_time": "2023-12-21T06:34:26.150538069Z"
    }
   }
  },
  {
   "cell_type": "markdown",
   "source": [
    "### All types of UIAs: Treated and untreated\n"
   ],
   "metadata": {
    "collapsed": false
   }
  },
  {
   "cell_type": "code",
   "execution_count": 14,
   "outputs": [],
   "source": [
    "ground_truth_dir = os.path.join(data_dir, 'ADAM/Dataset005_ADAMBinaryAneurysmsOnly')"
   ],
   "metadata": {
    "collapsed": false,
    "ExecuteTime": {
     "end_time": "2023-12-20T20:18:29.624330685Z",
     "start_time": "2023-12-20T20:18:29.558304290Z"
    }
   }
  },
  {
   "cell_type": "markdown",
   "source": [
    "#### Test set\n",
    "\n",
    "##### Using the model trained on 3 classes\n"
   ],
   "metadata": {
    "collapsed": false
   }
  },
  {
   "cell_type": "code",
   "execution_count": 15,
   "outputs": [
    {
     "data": {
      "text/plain": "['../../../../data/ADAM/Dataset005_ADAMBinaryAneurysmsOnly/labelsTs/10047B.nii.gz',\n '../../../../data/ADAM/Dataset005_ADAMBinaryAneurysmsOnly/labelsTs/10048B.nii.gz',\n '../../../../data/ADAM/Dataset005_ADAMBinaryAneurysmsOnly/labelsTs/10029.nii.gz',\n '../../../../data/ADAM/Dataset005_ADAMBinaryAneurysmsOnly/labelsTs/10024.nii.gz',\n '../../../../data/ADAM/Dataset005_ADAMBinaryAneurysmsOnly/labelsTs/10068F.nii.gz',\n '../../../../data/ADAM/Dataset005_ADAMBinaryAneurysmsOnly/labelsTs/10072F.nii.gz',\n '../../../../data/ADAM/Dataset005_ADAMBinaryAneurysmsOnly/labelsTs/10037.nii.gz',\n '../../../../data/ADAM/Dataset005_ADAMBinaryAneurysmsOnly/labelsTs/10068B.nii.gz',\n '../../../../data/ADAM/Dataset005_ADAMBinaryAneurysmsOnly/labelsTs/10072B.nii.gz',\n '../../../../data/ADAM/Dataset005_ADAMBinaryAneurysmsOnly/labelsTs/10047F.nii.gz',\n '../../../../data/ADAM/Dataset005_ADAMBinaryAneurysmsOnly/labelsTs/10015.nii.gz',\n '../../../../data/ADAM/Dataset005_ADAMBinaryAneurysmsOnly/labelsTs/10049F.nii.gz',\n '../../../../data/ADAM/Dataset005_ADAMBinaryAneurysmsOnly/labelsTs/10028.nii.gz',\n '../../../../data/ADAM/Dataset005_ADAMBinaryAneurysmsOnly/labelsTs/10039.nii.gz',\n '../../../../data/ADAM/Dataset005_ADAMBinaryAneurysmsOnly/labelsTs/10035.nii.gz',\n '../../../../data/ADAM/Dataset005_ADAMBinaryAneurysmsOnly/labelsTs/10048F.nii.gz',\n '../../../../data/ADAM/Dataset005_ADAMBinaryAneurysmsOnly/labelsTs/10009.nii.gz',\n '../../../../data/ADAM/Dataset005_ADAMBinaryAneurysmsOnly/labelsTs/10077B.nii.gz',\n '../../../../data/ADAM/Dataset005_ADAMBinaryAneurysmsOnly/labelsTs/10060F.nii.gz',\n '../../../../data/ADAM/Dataset005_ADAMBinaryAneurysmsOnly/labelsTs/10077F.nii.gz',\n '../../../../data/ADAM/Dataset005_ADAMBinaryAneurysmsOnly/labelsTs/10010.nii.gz',\n '../../../../data/ADAM/Dataset005_ADAMBinaryAneurysmsOnly/labelsTs/10060B.nii.gz',\n '../../../../data/ADAM/Dataset005_ADAMBinaryAneurysmsOnly/labelsTs/10049B.nii.gz']"
     },
     "execution_count": 15,
     "metadata": {},
     "output_type": "execute_result"
    }
   ],
   "source": [
    "predictions_dir = os.path.join(data_dir, 'nnUNet_predictions', 'train_on_SD_predict_on_TD', 'train_on_Dataset003_3Classes', 'ADAM', 'imagesTs', '3d_fullres')\n",
    "\n",
    "gt_vols_fp = glob.glob(os.path.join(ground_truth_dir, 'labelsTs', '*.nii.gz'))\n",
    "pred_vols_fn = os.listdir(predictions_dir)\n",
    "gt_vols_fp"
   ],
   "metadata": {
    "collapsed": false,
    "ExecuteTime": {
     "end_time": "2023-12-20T20:18:29.664858998Z",
     "start_time": "2023-12-20T20:18:29.567902350Z"
    }
   }
  },
  {
   "cell_type": "code",
   "execution_count": 16,
   "outputs": [
    {
     "name": "stderr",
     "output_type": "stream",
     "text": [
      "100%|██████████| 23/23 [08:55<00:00, 23.26s/it]\n"
     ]
    }
   ],
   "source": [
    "results_df = calculate_metrics(num_classes=2, aneurysm_class=1, gt_vols_fp=gt_vols_fp, pred_vols_fn=pred_vols_fn)"
   ],
   "metadata": {
    "collapsed": false,
    "ExecuteTime": {
     "end_time": "2023-12-20T20:27:24.742686805Z",
     "start_time": "2023-12-20T20:18:29.665143504Z"
    }
   }
  },
  {
   "cell_type": "markdown",
   "source": [
    "Note it could not identify aneurysms at all in 2 cases, scan 61 and scan 1. The rest of them have a very high value except for 51."
   ],
   "metadata": {
    "collapsed": false
   }
  },
  {
   "cell_type": "code",
   "execution_count": 17,
   "outputs": [],
   "source": [
    "os.makedirs(os.path.join(data_dir, 'results'), exist_ok=True)"
   ],
   "metadata": {
    "collapsed": false,
    "ExecuteTime": {
     "end_time": "2023-12-20T20:27:24.743850519Z",
     "start_time": "2023-12-20T20:27:24.742403864Z"
    }
   }
  },
  {
   "cell_type": "code",
   "execution_count": 18,
   "outputs": [],
   "source": [
    "results_df.to_csv(os.path.join(data_dir, 'results', 'sd_usz_3classes__td_adam_treated_and_untreated_uias_testset.csv'), index=False)"
   ],
   "metadata": {
    "collapsed": false,
    "ExecuteTime": {
     "end_time": "2023-12-20T20:27:24.753639766Z",
     "start_time": "2023-12-20T20:27:24.742520949Z"
    }
   }
  },
  {
   "cell_type": "code",
   "execution_count": 19,
   "outputs": [
    {
     "data": {
      "text/plain": "0.0036476077647935395"
     },
     "execution_count": 19,
     "metadata": {},
     "output_type": "execute_result"
    }
   ],
   "source": [
    "results_df.dice_tm.mean()"
   ],
   "metadata": {
    "collapsed": false,
    "ExecuteTime": {
     "end_time": "2023-12-20T20:27:24.773327455Z",
     "start_time": "2023-12-20T20:27:24.755581791Z"
    }
   }
  },
  {
   "cell_type": "code",
   "execution_count": 20,
   "outputs": [
    {
     "data": {
      "text/plain": "0.0036476077647935395"
     },
     "execution_count": 20,
     "metadata": {},
     "output_type": "execute_result"
    }
   ],
   "source": [
    "results_df.dice_tm.mean()"
   ],
   "metadata": {
    "collapsed": false,
    "ExecuteTime": {
     "end_time": "2023-12-20T20:27:24.776782885Z",
     "start_time": "2023-12-20T20:27:24.764054715Z"
    }
   }
  },
  {
   "cell_type": "code",
   "execution_count": 21,
   "outputs": [
    {
     "data": {
      "text/plain": "100.93685102571399"
     },
     "execution_count": 21,
     "metadata": {},
     "output_type": "execute_result"
    }
   ],
   "source": [
    "results_df.mhd.map(lambda x: x if x != np.inf else 68).mean()\n"
   ],
   "metadata": {
    "collapsed": false,
    "ExecuteTime": {
     "end_time": "2023-12-20T20:27:24.783457975Z",
     "start_time": "2023-12-20T20:27:24.777459152Z"
    }
   }
  },
  {
   "cell_type": "code",
   "execution_count": 22,
   "outputs": [
    {
     "data": {
      "text/plain": "100.93685102571399"
     },
     "execution_count": 22,
     "metadata": {},
     "output_type": "execute_result"
    }
   ],
   "source": [
    "results_df.mhd.map(lambda x: x if x != np.inf else 68).mean()\n"
   ],
   "metadata": {
    "collapsed": false,
    "ExecuteTime": {
     "end_time": "2023-12-20T20:27:24.798914068Z",
     "start_time": "2023-12-20T20:27:24.783992607Z"
    }
   }
  },
  {
   "cell_type": "markdown",
   "source": [
    "##### Using the model trained on 21 classes\n"
   ],
   "metadata": {
    "collapsed": false
   }
  },
  {
   "cell_type": "code",
   "execution_count": 23,
   "outputs": [
    {
     "data": {
      "text/plain": "['../../../../data/ADAM/Dataset005_ADAMBinaryAneurysmsOnly/labelsTs/10047B.nii.gz',\n '../../../../data/ADAM/Dataset005_ADAMBinaryAneurysmsOnly/labelsTs/10048B.nii.gz',\n '../../../../data/ADAM/Dataset005_ADAMBinaryAneurysmsOnly/labelsTs/10029.nii.gz',\n '../../../../data/ADAM/Dataset005_ADAMBinaryAneurysmsOnly/labelsTs/10024.nii.gz']"
     },
     "execution_count": 23,
     "metadata": {},
     "output_type": "execute_result"
    }
   ],
   "source": [
    "predictions_dir = os.path.join(data_dir, 'nnUNet_predictions', 'train_on_SD_predict_on_TD', 'train_on_Dataset004_21Classes', 'ADAM', 'imagesTs', '3d_fullres')\n",
    "gt_vols_fp = glob.glob(os.path.join(ground_truth_dir, 'labelsTs', '*.nii.gz'))\n",
    "pred_vols_fn = os.listdir(predictions_dir)\n",
    "gt_vols_fp[0:4]"
   ],
   "metadata": {
    "collapsed": false,
    "ExecuteTime": {
     "end_time": "2023-12-20T20:27:24.838790754Z",
     "start_time": "2023-12-20T20:27:24.790674598Z"
    }
   }
  },
  {
   "cell_type": "code",
   "execution_count": 26,
   "outputs": [
    {
     "name": "stderr",
     "output_type": "stream",
     "text": [
      " 17%|█▋        | 4/23 [01:53<09:39, 30.52s/it]"
     ]
    },
    {
     "name": "stdout",
     "output_type": "stream",
     "text": [
      "No prediction for vol 10068F.nii.gz\n",
      "No prediction for vol 10072F.nii.gz\n"
     ]
    },
    {
     "name": "stderr",
     "output_type": "stream",
     "text": [
      " 35%|███▍      | 8/23 [02:17<03:28, 13.92s/it]"
     ]
    },
    {
     "name": "stdout",
     "output_type": "stream",
     "text": [
      "No prediction for vol 10072B.nii.gz\n"
     ]
    },
    {
     "name": "stderr",
     "output_type": "stream",
     "text": [
      " 74%|███████▍  | 17/23 [06:07<02:50, 28.50s/it]"
     ]
    },
    {
     "name": "stdout",
     "output_type": "stream",
     "text": [
      "No prediction for vol 10077B.nii.gz\n"
     ]
    },
    {
     "name": "stderr",
     "output_type": "stream",
     "text": [
      " 83%|████████▎ | 19/23 [06:34<01:27, 21.77s/it]"
     ]
    },
    {
     "name": "stdout",
     "output_type": "stream",
     "text": [
      "No prediction for vol 10077F.nii.gz\n"
     ]
    },
    {
     "name": "stderr",
     "output_type": "stream",
     "text": [
      " 91%|█████████▏| 21/23 [07:02<00:37, 18.69s/it]"
     ]
    },
    {
     "name": "stdout",
     "output_type": "stream",
     "text": [
      "No prediction for vol 10060B.nii.gz\n"
     ]
    },
    {
     "name": "stderr",
     "output_type": "stream",
     "text": [
      "100%|██████████| 23/23 [07:34<00:00, 19.74s/it]\n"
     ]
    }
   ],
   "source": [
    "results_df = calculate_metrics(num_classes=21, aneurysm_class=4, gt_vols_fp=gt_vols_fp, pred_vols_fn=pred_vols_fn)"
   ],
   "metadata": {
    "collapsed": false,
    "ExecuteTime": {
     "end_time": "2023-12-20T20:37:43.662041376Z",
     "start_time": "2023-12-20T20:30:09.624068974Z"
    }
   }
  },
  {
   "cell_type": "code",
   "execution_count": 27,
   "outputs": [],
   "source": [
    "results_df.to_csv(os.path.join(data_dir, 'results', 'sd_usz_21classes__td_adam_treated_and_untreated_uias_testset.csv'), index=False)"
   ],
   "metadata": {
    "collapsed": false,
    "ExecuteTime": {
     "end_time": "2023-12-20T20:37:43.668288629Z",
     "start_time": "2023-12-20T20:37:43.664529965Z"
    }
   }
  },
  {
   "cell_type": "code",
   "execution_count": 28,
   "outputs": [
    {
     "data": {
      "text/plain": "0.2572091712671168"
     },
     "execution_count": 28,
     "metadata": {},
     "output_type": "execute_result"
    }
   ],
   "source": [
    "results_df.dice_tm.mean()"
   ],
   "metadata": {
    "collapsed": false,
    "ExecuteTime": {
     "end_time": "2023-12-20T20:37:43.674692546Z",
     "start_time": "2023-12-20T20:37:43.670224377Z"
    }
   }
  },
  {
   "cell_type": "code",
   "execution_count": 29,
   "outputs": [
    {
     "data": {
      "text/plain": "29.501166736590047"
     },
     "execution_count": 29,
     "metadata": {},
     "output_type": "execute_result"
    }
   ],
   "source": [
    "results_df.mhd.map(lambda x: x if x != np.inf else 68).mean()\n"
   ],
   "metadata": {
    "collapsed": false,
    "ExecuteTime": {
     "end_time": "2023-12-20T20:37:43.696849612Z",
     "start_time": "2023-12-20T20:37:43.676511797Z"
    }
   }
  },
  {
   "cell_type": "markdown",
   "source": [
    "#### Train set\n",
    "##### Using the model trained on 3 classes"
   ],
   "metadata": {
    "collapsed": false
   }
  },
  {
   "cell_type": "code",
   "execution_count": 30,
   "outputs": [
    {
     "data": {
      "text/plain": "['../../../../data/ADAM/Dataset005_ADAMBinaryAneurysmsOnly/labelsTr/10064F.nii.gz',\n '../../../../data/ADAM/Dataset005_ADAMBinaryAneurysmsOnly/labelsTr/10063B.nii.gz',\n '../../../../data/ADAM/Dataset005_ADAMBinaryAneurysmsOnly/labelsTr/10023.nii.gz',\n '../../../../data/ADAM/Dataset005_ADAMBinaryAneurysmsOnly/labelsTr/10041.nii.gz']"
     },
     "execution_count": 30,
     "metadata": {},
     "output_type": "execute_result"
    }
   ],
   "source": [
    "predictions_dir = os.path.join(data_dir, 'nnUNet_predictions', 'train_on_SD_predict_on_TD', 'train_on_Dataset003_3Classes', 'ADAM', 'imagesTr', '3d_fullres')\n",
    "\n",
    "gt_vols_fp = glob.glob(os.path.join(ground_truth_dir, 'labelsTr', '*.nii.gz'))\n",
    "pred_vols_fn = os.listdir(predictions_dir)\n",
    "gt_vols_fp[0:4]"
   ],
   "metadata": {
    "collapsed": false,
    "ExecuteTime": {
     "end_time": "2023-12-20T20:37:43.701217296Z",
     "start_time": "2023-12-20T20:37:43.684025226Z"
    }
   }
  },
  {
   "cell_type": "code",
   "execution_count": 31,
   "outputs": [
    {
     "name": "stderr",
     "output_type": "stream",
     "text": [
      "100%|██████████| 90/90 [21:24<00:00, 14.27s/it]\n"
     ]
    }
   ],
   "source": [
    "results_df = calculate_metrics(num_classes=2, aneurysm_class=2, gt_vols_fp=gt_vols_fp, pred_vols_fn=pred_vols_fn)\n"
   ],
   "metadata": {
    "collapsed": false,
    "ExecuteTime": {
     "end_time": "2023-12-20T20:59:08.467692193Z",
     "start_time": "2023-12-20T20:37:43.701234378Z"
    }
   }
  },
  {
   "cell_type": "code",
   "execution_count": 32,
   "outputs": [],
   "source": [
    "results_df.to_csv(os.path.join(data_dir, 'results', 'sd_usz_3classes__td_adam_treated_and_untreated_uias_trainset.csv'), index=False)"
   ],
   "metadata": {
    "collapsed": false,
    "ExecuteTime": {
     "end_time": "2023-12-20T20:59:08.475923554Z",
     "start_time": "2023-12-20T20:59:08.469223208Z"
    }
   }
  },
  {
   "cell_type": "code",
   "execution_count": 33,
   "outputs": [
    {
     "data": {
      "text/plain": "0.2701739543382751"
     },
     "execution_count": 33,
     "metadata": {},
     "output_type": "execute_result"
    }
   ],
   "source": [
    "results_df.dice_tm.mean()"
   ],
   "metadata": {
    "collapsed": false,
    "ExecuteTime": {
     "end_time": "2023-12-20T20:59:08.505689061Z",
     "start_time": "2023-12-20T20:59:08.473317430Z"
    }
   }
  },
  {
   "cell_type": "code",
   "execution_count": 34,
   "outputs": [
    {
     "data": {
      "text/plain": "0.09110955893993378"
     },
     "execution_count": 34,
     "metadata": {},
     "output_type": "execute_result"
    }
   ],
   "source": [
    "results_df.dice_tm.median()"
   ],
   "metadata": {
    "collapsed": false,
    "ExecuteTime": {
     "end_time": "2023-12-20T20:59:08.507890446Z",
     "start_time": "2023-12-20T20:59:08.491587701Z"
    }
   }
  },
  {
   "cell_type": "code",
   "execution_count": 35,
   "outputs": [
    {
     "data": {
      "text/plain": "<Axes: ylabel='Frequency'>"
     },
     "execution_count": 35,
     "metadata": {},
     "output_type": "execute_result"
    },
    {
     "data": {
      "text/plain": "<Figure size 640x480 with 1 Axes>",
      "image/png": "[encoded data removed]"
     },
     "metadata": {},
     "output_type": "display_data"
    }
   ],
   "source": [
    "results_df.dice_tm.plot(kind='hist')"
   ],
   "metadata": {
    "collapsed": false,
    "ExecuteTime": {
     "end_time": "2023-12-20T20:59:08.741738388Z",
     "start_time": "2023-12-20T20:59:08.502003957Z"
    }
   }
  },
  {
   "cell_type": "code",
   "execution_count": 36,
   "outputs": [
    {
     "data": {
      "text/plain": "35.6952889022205"
     },
     "execution_count": 36,
     "metadata": {},
     "output_type": "execute_result"
    }
   ],
   "source": [
    "results_df.mhd.map(lambda x: x if x != np.inf else 68).mean()\n"
   ],
   "metadata": {
    "collapsed": false,
    "ExecuteTime": {
     "end_time": "2023-12-20T20:59:08.811388529Z",
     "start_time": "2023-12-20T20:59:08.743493919Z"
    }
   }
  },
  {
   "cell_type": "markdown",
   "source": [
    "##### Using the model trained on 21 classes (not enough predictions)\n"
   ],
   "metadata": {
    "collapsed": false
   }
  },
  {
   "cell_type": "code",
   "execution_count": 37,
   "outputs": [
    {
     "data": {
      "text/plain": "['../../../../data/ADAM/Dataset005_ADAMBinaryAneurysmsOnly/labelsTr/10064F.nii.gz',\n '../../../../data/ADAM/Dataset005_ADAMBinaryAneurysmsOnly/labelsTr/10063B.nii.gz',\n '../../../../data/ADAM/Dataset005_ADAMBinaryAneurysmsOnly/labelsTr/10023.nii.gz',\n '../../../../data/ADAM/Dataset005_ADAMBinaryAneurysmsOnly/labelsTr/10041.nii.gz',\n '../../../../data/ADAM/Dataset005_ADAMBinaryAneurysmsOnly/labelsTr/10075F.nii.gz',\n '../../../../data/ADAM/Dataset005_ADAMBinaryAneurysmsOnly/labelsTr/10053F.nii.gz',\n '../../../../data/ADAM/Dataset005_ADAMBinaryAneurysmsOnly/labelsTr/10067F.nii.gz',\n '../../../../data/ADAM/Dataset005_ADAMBinaryAneurysmsOnly/labelsTr/10071F.nii.gz',\n '../../../../data/ADAM/Dataset005_ADAMBinaryAneurysmsOnly/labelsTr/10078B.nii.gz',\n '../../../../data/ADAM/Dataset005_ADAMBinaryAneurysmsOnly/labelsTr/10069B.nii.gz',\n '../../../../data/ADAM/Dataset005_ADAMBinaryAneurysmsOnly/labelsTr/10063F.nii.gz',\n '../../../../data/ADAM/Dataset005_ADAMBinaryAneurysmsOnly/labelsTr/10022.nii.gz',\n '../../../../data/ADAM/Dataset005_ADAMBinaryAneurysmsOnly/labelsTr/10018.nii.gz',\n '../../../../data/ADAM/Dataset005_ADAMBinaryAneurysmsOnly/labelsTr/10066F.nii.gz',\n '../../../../data/ADAM/Dataset005_ADAMBinaryAneurysmsOnly/labelsTr/10053B.nii.gz',\n '../../../../data/ADAM/Dataset005_ADAMBinaryAneurysmsOnly/labelsTr/10003.nii.gz',\n '../../../../data/ADAM/Dataset005_ADAMBinaryAneurysmsOnly/labelsTr/10056B.nii.gz',\n '../../../../data/ADAM/Dataset005_ADAMBinaryAneurysmsOnly/labelsTr/10046F.nii.gz',\n '../../../../data/ADAM/Dataset005_ADAMBinaryAneurysmsOnly/labelsTr/10025.nii.gz',\n '../../../../data/ADAM/Dataset005_ADAMBinaryAneurysmsOnly/labelsTr/10006.nii.gz',\n '../../../../data/ADAM/Dataset005_ADAMBinaryAneurysmsOnly/labelsTr/10030.nii.gz',\n '../../../../data/ADAM/Dataset005_ADAMBinaryAneurysmsOnly/labelsTr/10002.nii.gz',\n '../../../../data/ADAM/Dataset005_ADAMBinaryAneurysmsOnly/labelsTr/10065F.nii.gz',\n '../../../../data/ADAM/Dataset005_ADAMBinaryAneurysmsOnly/labelsTr/10061F.nii.gz',\n '../../../../data/ADAM/Dataset005_ADAMBinaryAneurysmsOnly/labelsTr/10016.nii.gz',\n '../../../../data/ADAM/Dataset005_ADAMBinaryAneurysmsOnly/labelsTr/10020.nii.gz',\n '../../../../data/ADAM/Dataset005_ADAMBinaryAneurysmsOnly/labelsTr/10078F.nii.gz',\n '../../../../data/ADAM/Dataset005_ADAMBinaryAneurysmsOnly/labelsTr/10064B.nii.gz',\n '../../../../data/ADAM/Dataset005_ADAMBinaryAneurysmsOnly/labelsTr/10052B.nii.gz',\n '../../../../data/ADAM/Dataset005_ADAMBinaryAneurysmsOnly/labelsTr/10073F.nii.gz',\n '../../../../data/ADAM/Dataset005_ADAMBinaryAneurysmsOnly/labelsTr/10004.nii.gz',\n '../../../../data/ADAM/Dataset005_ADAMBinaryAneurysmsOnly/labelsTr/10019.nii.gz',\n '../../../../data/ADAM/Dataset005_ADAMBinaryAneurysmsOnly/labelsTr/10074F.nii.gz',\n '../../../../data/ADAM/Dataset005_ADAMBinaryAneurysmsOnly/labelsTr/10021.nii.gz',\n '../../../../data/ADAM/Dataset005_ADAMBinaryAneurysmsOnly/labelsTr/10034.nii.gz',\n '../../../../data/ADAM/Dataset005_ADAMBinaryAneurysmsOnly/labelsTr/10017.nii.gz',\n '../../../../data/ADAM/Dataset005_ADAMBinaryAneurysmsOnly/labelsTr/10038.nii.gz',\n '../../../../data/ADAM/Dataset005_ADAMBinaryAneurysmsOnly/labelsTr/10027.nii.gz',\n '../../../../data/ADAM/Dataset005_ADAMBinaryAneurysmsOnly/labelsTr/10061B.nii.gz',\n '../../../../data/ADAM/Dataset005_ADAMBinaryAneurysmsOnly/labelsTr/10062F.nii.gz',\n '../../../../data/ADAM/Dataset005_ADAMBinaryAneurysmsOnly/labelsTr/10054F.nii.gz',\n '../../../../data/ADAM/Dataset005_ADAMBinaryAneurysmsOnly/labelsTr/10071B.nii.gz',\n '../../../../data/ADAM/Dataset005_ADAMBinaryAneurysmsOnly/labelsTr/10045B.nii.gz',\n '../../../../data/ADAM/Dataset005_ADAMBinaryAneurysmsOnly/labelsTr/10070B.nii.gz',\n '../../../../data/ADAM/Dataset005_ADAMBinaryAneurysmsOnly/labelsTr/10074B.nii.gz',\n '../../../../data/ADAM/Dataset005_ADAMBinaryAneurysmsOnly/labelsTr/10050F.nii.gz',\n '../../../../data/ADAM/Dataset005_ADAMBinaryAneurysmsOnly/labelsTr/10031.nii.gz',\n '../../../../data/ADAM/Dataset005_ADAMBinaryAneurysmsOnly/labelsTr/10058B.nii.gz',\n '../../../../data/ADAM/Dataset005_ADAMBinaryAneurysmsOnly/labelsTr/10005.nii.gz',\n '../../../../data/ADAM/Dataset005_ADAMBinaryAneurysmsOnly/labelsTr/10036.nii.gz',\n '../../../../data/ADAM/Dataset005_ADAMBinaryAneurysmsOnly/labelsTr/10058F.nii.gz',\n '../../../../data/ADAM/Dataset005_ADAMBinaryAneurysmsOnly/labelsTr/10050B.nii.gz',\n '../../../../data/ADAM/Dataset005_ADAMBinaryAneurysmsOnly/labelsTr/10013.nii.gz',\n '../../../../data/ADAM/Dataset005_ADAMBinaryAneurysmsOnly/labelsTr/10001.nii.gz',\n '../../../../data/ADAM/Dataset005_ADAMBinaryAneurysmsOnly/labelsTr/10073B.nii.gz',\n '../../../../data/ADAM/Dataset005_ADAMBinaryAneurysmsOnly/labelsTr/10065B.nii.gz',\n '../../../../data/ADAM/Dataset005_ADAMBinaryAneurysmsOnly/labelsTr/10043.nii.gz',\n '../../../../data/ADAM/Dataset005_ADAMBinaryAneurysmsOnly/labelsTr/10012.nii.gz',\n '../../../../data/ADAM/Dataset005_ADAMBinaryAneurysmsOnly/labelsTr/10054B.nii.gz',\n '../../../../data/ADAM/Dataset005_ADAMBinaryAneurysmsOnly/labelsTr/10055B.nii.gz',\n '../../../../data/ADAM/Dataset005_ADAMBinaryAneurysmsOnly/labelsTr/10026.nii.gz',\n '../../../../data/ADAM/Dataset005_ADAMBinaryAneurysmsOnly/labelsTr/10044F.nii.gz',\n '../../../../data/ADAM/Dataset005_ADAMBinaryAneurysmsOnly/labelsTr/10055F.nii.gz',\n '../../../../data/ADAM/Dataset005_ADAMBinaryAneurysmsOnly/labelsTr/10076B.nii.gz',\n '../../../../data/ADAM/Dataset005_ADAMBinaryAneurysmsOnly/labelsTr/10057F.nii.gz',\n '../../../../data/ADAM/Dataset005_ADAMBinaryAneurysmsOnly/labelsTr/10076F.nii.gz',\n '../../../../data/ADAM/Dataset005_ADAMBinaryAneurysmsOnly/labelsTr/10070F.nii.gz',\n '../../../../data/ADAM/Dataset005_ADAMBinaryAneurysmsOnly/labelsTr/10008.nii.gz',\n '../../../../data/ADAM/Dataset005_ADAMBinaryAneurysmsOnly/labelsTr/10057B.nii.gz',\n '../../../../data/ADAM/Dataset005_ADAMBinaryAneurysmsOnly/labelsTr/10059B.nii.gz',\n '../../../../data/ADAM/Dataset005_ADAMBinaryAneurysmsOnly/labelsTr/10051F.nii.gz',\n '../../../../data/ADAM/Dataset005_ADAMBinaryAneurysmsOnly/labelsTr/10075B.nii.gz',\n '../../../../data/ADAM/Dataset005_ADAMBinaryAneurysmsOnly/labelsTr/10033.nii.gz',\n '../../../../data/ADAM/Dataset005_ADAMBinaryAneurysmsOnly/labelsTr/10059F.nii.gz',\n '../../../../data/ADAM/Dataset005_ADAMBinaryAneurysmsOnly/labelsTr/10056F.nii.gz',\n '../../../../data/ADAM/Dataset005_ADAMBinaryAneurysmsOnly/labelsTr/10066B.nii.gz',\n '../../../../data/ADAM/Dataset005_ADAMBinaryAneurysmsOnly/labelsTr/10044B.nii.gz',\n '../../../../data/ADAM/Dataset005_ADAMBinaryAneurysmsOnly/labelsTr/10040.nii.gz',\n '../../../../data/ADAM/Dataset005_ADAMBinaryAneurysmsOnly/labelsTr/10042.nii.gz',\n '../../../../data/ADAM/Dataset005_ADAMBinaryAneurysmsOnly/labelsTr/10069F.nii.gz',\n '../../../../data/ADAM/Dataset005_ADAMBinaryAneurysmsOnly/labelsTr/10062B.nii.gz',\n '../../../../data/ADAM/Dataset005_ADAMBinaryAneurysmsOnly/labelsTr/10051B.nii.gz',\n '../../../../data/ADAM/Dataset005_ADAMBinaryAneurysmsOnly/labelsTr/10045F.nii.gz',\n '../../../../data/ADAM/Dataset005_ADAMBinaryAneurysmsOnly/labelsTr/10067B.nii.gz',\n '../../../../data/ADAM/Dataset005_ADAMBinaryAneurysmsOnly/labelsTr/10014.nii.gz',\n '../../../../data/ADAM/Dataset005_ADAMBinaryAneurysmsOnly/labelsTr/10007.nii.gz',\n '../../../../data/ADAM/Dataset005_ADAMBinaryAneurysmsOnly/labelsTr/10011.nii.gz',\n '../../../../data/ADAM/Dataset005_ADAMBinaryAneurysmsOnly/labelsTr/10032.nii.gz',\n '../../../../data/ADAM/Dataset005_ADAMBinaryAneurysmsOnly/labelsTr/10052F.nii.gz',\n '../../../../data/ADAM/Dataset005_ADAMBinaryAneurysmsOnly/labelsTr/10046B.nii.gz']"
     },
     "execution_count": 37,
     "metadata": {},
     "output_type": "execute_result"
    }
   ],
   "source": [
    "predictions_dir = os.path.join(data_dir, 'nnUNet_predictions', 'train_on_SD_predict_on_TD', 'train_on_Dataset004_21Classes', 'ADAM', 'imagesTr', '3d_fullres')\n",
    "gt_vols_fp = glob.glob(os.path.join(ground_truth_dir, 'labelsTr', '*.nii.gz'))\n",
    "pred_vols_fn = os.listdir(predictions_dir)\n",
    "gt_vols_fp"
   ],
   "metadata": {
    "collapsed": false,
    "ExecuteTime": {
     "end_time": "2023-12-20T20:59:08.814558827Z",
     "start_time": "2023-12-20T20:59:08.786497746Z"
    }
   }
  },
  {
   "cell_type": "code",
   "execution_count": 38,
   "outputs": [
    {
     "name": "stderr",
     "output_type": "stream",
     "text": [
      "  0%|          | 0/90 [00:00<?, ?it/s]"
     ]
    },
    {
     "name": "stdout",
     "output_type": "stream",
     "text": [
      "No prediction for vol 10064F.nii.gz\n",
      "No prediction for vol 10063B.nii.gz\n",
      "No prediction for vol 10023.nii.gz\n",
      "No prediction for vol 10041.nii.gz\n",
      "No prediction for vol 10075F.nii.gz\n",
      "No prediction for vol 10053F.nii.gz\n",
      "No prediction for vol 10067F.nii.gz\n",
      "No prediction for vol 10071F.nii.gz\n",
      "No prediction for vol 10078B.nii.gz\n",
      "No prediction for vol 10069B.nii.gz\n",
      "No prediction for vol 10063F.nii.gz\n",
      "No prediction for vol 10022.nii.gz\n"
     ]
    },
    {
     "name": "stderr",
     "output_type": "stream",
     "text": [
      " 13%|█▎        | 12/90 [00:06<00:41,  1.90it/s]\n"
     ]
    },
    {
     "ename": "KeyboardInterrupt",
     "evalue": "",
     "output_type": "error",
     "traceback": [
      "\u001B[0;31m---------------------------------------------------------------------------\u001B[0m",
      "\u001B[0;31mKeyboardInterrupt\u001B[0m                         Traceback (most recent call last)",
      "Cell \u001B[0;32mIn[38], line 1\u001B[0m\n\u001B[0;32m----> 1\u001B[0m results_df \u001B[38;5;241m=\u001B[39m \u001B[43mcalculate_metrics\u001B[49m\u001B[43m(\u001B[49m\u001B[43mnum_classes\u001B[49m\u001B[38;5;241;43m=\u001B[39;49m\u001B[38;5;241;43m21\u001B[39;49m\u001B[43m,\u001B[49m\u001B[43m \u001B[49m\u001B[43maneurysm_class\u001B[49m\u001B[38;5;241;43m=\u001B[39;49m\u001B[38;5;241;43m4\u001B[39;49m\u001B[43m,\u001B[49m\u001B[43m \u001B[49m\u001B[43mgt_vol_fp\u001B[49m\u001B[38;5;241;43m=\u001B[39;49m\u001B[43mgt_vols_fp\u001B[49m\u001B[43m,\u001B[49m\u001B[43m \u001B[49m\u001B[43mpred_vols_fn\u001B[49m\u001B[38;5;241;43m=\u001B[39;49m\u001B[43mpred_vols_fn\u001B[49m\u001B[43m)\u001B[49m\n",
      "Cell \u001B[0;32mIn[25], line 34\u001B[0m, in \u001B[0;36mcalculate_metrics\u001B[0;34m(num_classes, aneurysm_class, gt_vol_fp, pred_vols_fn)\u001B[0m\n\u001B[1;32m     31\u001B[0m metrics \u001B[38;5;241m=\u001B[39m {\u001B[38;5;124mf\u001B[39m\u001B[38;5;124m'\u001B[39m\u001B[38;5;132;01m{\u001B[39;00mk\u001B[38;5;132;01m}\u001B[39;00m\u001B[38;5;124m_kostas\u001B[39m\u001B[38;5;124m'\u001B[39m:v \u001B[38;5;28;01mfor\u001B[39;00m k,v \u001B[38;5;129;01min\u001B[39;00m metrics\u001B[38;5;241m.\u001B[39mitems()}\n\u001B[1;32m     33\u001B[0m \u001B[38;5;28;01mfor\u001B[39;00m metric_name, metric_tm \u001B[38;5;129;01min\u001B[39;00m metrics_tm\u001B[38;5;241m.\u001B[39mitems():\n\u001B[0;32m---> 34\u001B[0m     metrics[\u001B[38;5;124mf\u001B[39m\u001B[38;5;124m'\u001B[39m\u001B[38;5;132;01m{\u001B[39;00mmetric_name\u001B[38;5;132;01m}\u001B[39;00m\u001B[38;5;124m_tm\u001B[39m\u001B[38;5;124m'\u001B[39m] \u001B[38;5;241m=\u001B[39m \u001B[43mmetric_tm\u001B[49m\u001B[43m(\u001B[49m\u001B[43mpred\u001B[49m\u001B[38;5;241;43m.\u001B[39;49m\u001B[43mint\u001B[49m\u001B[43m(\u001B[49m\u001B[43m)\u001B[49m\u001B[43m,\u001B[49m\u001B[43m \u001B[49m\u001B[43mgt\u001B[49m\u001B[38;5;241;43m.\u001B[39;49m\u001B[43mint\u001B[49m\u001B[43m(\u001B[49m\u001B[43m)\u001B[49m\u001B[43m)\u001B[49m\u001B[38;5;241m.\u001B[39mitem()\n\u001B[1;32m     36\u001B[0m metrics[\u001B[38;5;124m'\u001B[39m\u001B[38;5;124mmhd\u001B[39m\u001B[38;5;124m'\u001B[39m] \u001B[38;5;241m=\u001B[39m skimage\u001B[38;5;241m.\u001B[39mmetrics\u001B[38;5;241m.\u001B[39mhausdorff_distance(gt\u001B[38;5;241m.\u001B[39mcpu()\u001B[38;5;241m.\u001B[39mnumpy(), pred\u001B[38;5;241m.\u001B[39mcpu()\u001B[38;5;241m.\u001B[39mnumpy(), method\u001B[38;5;241m=\u001B[39m\u001B[38;5;124m'\u001B[39m\u001B[38;5;124mmodified\u001B[39m\u001B[38;5;124m'\u001B[39m)\n\u001B[1;32m     38\u001B[0m \u001B[38;5;66;03m# Add metrics to the results list\u001B[39;00m\n",
      "File \u001B[0;32m~/anaconda3/envs/UIASegmentation_1/lib/python3.10/site-packages/torch/nn/modules/module.py:1518\u001B[0m, in \u001B[0;36mModule._wrapped_call_impl\u001B[0;34m(self, *args, **kwargs)\u001B[0m\n\u001B[1;32m   1516\u001B[0m     \u001B[38;5;28;01mreturn\u001B[39;00m \u001B[38;5;28mself\u001B[39m\u001B[38;5;241m.\u001B[39m_compiled_call_impl(\u001B[38;5;241m*\u001B[39margs, \u001B[38;5;241m*\u001B[39m\u001B[38;5;241m*\u001B[39mkwargs)  \u001B[38;5;66;03m# type: ignore[misc]\u001B[39;00m\n\u001B[1;32m   1517\u001B[0m \u001B[38;5;28;01melse\u001B[39;00m:\n\u001B[0;32m-> 1518\u001B[0m     \u001B[38;5;28;01mreturn\u001B[39;00m \u001B[38;5;28;43mself\u001B[39;49m\u001B[38;5;241;43m.\u001B[39;49m\u001B[43m_call_impl\u001B[49m\u001B[43m(\u001B[49m\u001B[38;5;241;43m*\u001B[39;49m\u001B[43margs\u001B[49m\u001B[43m,\u001B[49m\u001B[43m \u001B[49m\u001B[38;5;241;43m*\u001B[39;49m\u001B[38;5;241;43m*\u001B[39;49m\u001B[43mkwargs\u001B[49m\u001B[43m)\u001B[49m\n",
      "File \u001B[0;32m~/anaconda3/envs/UIASegmentation_1/lib/python3.10/site-packages/torch/nn/modules/module.py:1527\u001B[0m, in \u001B[0;36mModule._call_impl\u001B[0;34m(self, *args, **kwargs)\u001B[0m\n\u001B[1;32m   1522\u001B[0m \u001B[38;5;66;03m# If we don't have any hooks, we want to skip the rest of the logic in\u001B[39;00m\n\u001B[1;32m   1523\u001B[0m \u001B[38;5;66;03m# this function, and just call forward.\u001B[39;00m\n\u001B[1;32m   1524\u001B[0m \u001B[38;5;28;01mif\u001B[39;00m \u001B[38;5;129;01mnot\u001B[39;00m (\u001B[38;5;28mself\u001B[39m\u001B[38;5;241m.\u001B[39m_backward_hooks \u001B[38;5;129;01mor\u001B[39;00m \u001B[38;5;28mself\u001B[39m\u001B[38;5;241m.\u001B[39m_backward_pre_hooks \u001B[38;5;129;01mor\u001B[39;00m \u001B[38;5;28mself\u001B[39m\u001B[38;5;241m.\u001B[39m_forward_hooks \u001B[38;5;129;01mor\u001B[39;00m \u001B[38;5;28mself\u001B[39m\u001B[38;5;241m.\u001B[39m_forward_pre_hooks\n\u001B[1;32m   1525\u001B[0m         \u001B[38;5;129;01mor\u001B[39;00m _global_backward_pre_hooks \u001B[38;5;129;01mor\u001B[39;00m _global_backward_hooks\n\u001B[1;32m   1526\u001B[0m         \u001B[38;5;129;01mor\u001B[39;00m _global_forward_hooks \u001B[38;5;129;01mor\u001B[39;00m _global_forward_pre_hooks):\n\u001B[0;32m-> 1527\u001B[0m     \u001B[38;5;28;01mreturn\u001B[39;00m \u001B[43mforward_call\u001B[49m\u001B[43m(\u001B[49m\u001B[38;5;241;43m*\u001B[39;49m\u001B[43margs\u001B[49m\u001B[43m,\u001B[49m\u001B[43m \u001B[49m\u001B[38;5;241;43m*\u001B[39;49m\u001B[38;5;241;43m*\u001B[39;49m\u001B[43mkwargs\u001B[49m\u001B[43m)\u001B[49m\n\u001B[1;32m   1529\u001B[0m \u001B[38;5;28;01mtry\u001B[39;00m:\n\u001B[1;32m   1530\u001B[0m     result \u001B[38;5;241m=\u001B[39m \u001B[38;5;28;01mNone\u001B[39;00m\n",
      "File \u001B[0;32m~/anaconda3/envs/UIASegmentation_1/lib/python3.10/site-packages/torchmetrics/metric.py:298\u001B[0m, in \u001B[0;36mMetric.forward\u001B[0;34m(self, *args, **kwargs)\u001B[0m\n\u001B[1;32m    296\u001B[0m     \u001B[38;5;28mself\u001B[39m\u001B[38;5;241m.\u001B[39m_forward_cache \u001B[38;5;241m=\u001B[39m \u001B[38;5;28mself\u001B[39m\u001B[38;5;241m.\u001B[39m_forward_full_state_update(\u001B[38;5;241m*\u001B[39margs, \u001B[38;5;241m*\u001B[39m\u001B[38;5;241m*\u001B[39mkwargs)\n\u001B[1;32m    297\u001B[0m \u001B[38;5;28;01melse\u001B[39;00m:\n\u001B[0;32m--> 298\u001B[0m     \u001B[38;5;28mself\u001B[39m\u001B[38;5;241m.\u001B[39m_forward_cache \u001B[38;5;241m=\u001B[39m \u001B[38;5;28;43mself\u001B[39;49m\u001B[38;5;241;43m.\u001B[39;49m\u001B[43m_forward_reduce_state_update\u001B[49m\u001B[43m(\u001B[49m\u001B[38;5;241;43m*\u001B[39;49m\u001B[43margs\u001B[49m\u001B[43m,\u001B[49m\u001B[43m \u001B[49m\u001B[38;5;241;43m*\u001B[39;49m\u001B[38;5;241;43m*\u001B[39;49m\u001B[43mkwargs\u001B[49m\u001B[43m)\u001B[49m\n\u001B[1;32m    300\u001B[0m \u001B[38;5;28;01mreturn\u001B[39;00m \u001B[38;5;28mself\u001B[39m\u001B[38;5;241m.\u001B[39m_forward_cache\n",
      "File \u001B[0;32m~/anaconda3/envs/UIASegmentation_1/lib/python3.10/site-packages/torchmetrics/metric.py:367\u001B[0m, in \u001B[0;36mMetric._forward_reduce_state_update\u001B[0;34m(self, *args, **kwargs)\u001B[0m\n\u001B[1;32m    364\u001B[0m \u001B[38;5;28mself\u001B[39m\u001B[38;5;241m.\u001B[39m_enable_grad \u001B[38;5;241m=\u001B[39m \u001B[38;5;28;01mTrue\u001B[39;00m  \u001B[38;5;66;03m# allow grads for batch computation\u001B[39;00m\n\u001B[1;32m    366\u001B[0m \u001B[38;5;66;03m# calculate batch state and compute batch value\u001B[39;00m\n\u001B[0;32m--> 367\u001B[0m \u001B[38;5;28;43mself\u001B[39;49m\u001B[38;5;241;43m.\u001B[39;49m\u001B[43mupdate\u001B[49m\u001B[43m(\u001B[49m\u001B[38;5;241;43m*\u001B[39;49m\u001B[43margs\u001B[49m\u001B[43m,\u001B[49m\u001B[43m \u001B[49m\u001B[38;5;241;43m*\u001B[39;49m\u001B[38;5;241;43m*\u001B[39;49m\u001B[43mkwargs\u001B[49m\u001B[43m)\u001B[49m\n\u001B[1;32m    368\u001B[0m batch_val \u001B[38;5;241m=\u001B[39m \u001B[38;5;28mself\u001B[39m\u001B[38;5;241m.\u001B[39mcompute()\n\u001B[1;32m    370\u001B[0m \u001B[38;5;66;03m# reduce batch and global state\u001B[39;00m\n",
      "File \u001B[0;32m~/anaconda3/envs/UIASegmentation_1/lib/python3.10/site-packages/torchmetrics/metric.py:460\u001B[0m, in \u001B[0;36mMetric._wrap_update.<locals>.wrapped_func\u001B[0;34m(*args, **kwargs)\u001B[0m\n\u001B[1;32m    458\u001B[0m \u001B[38;5;28;01mwith\u001B[39;00m torch\u001B[38;5;241m.\u001B[39mset_grad_enabled(\u001B[38;5;28mself\u001B[39m\u001B[38;5;241m.\u001B[39m_enable_grad):\n\u001B[1;32m    459\u001B[0m     \u001B[38;5;28;01mtry\u001B[39;00m:\n\u001B[0;32m--> 460\u001B[0m         \u001B[43mupdate\u001B[49m\u001B[43m(\u001B[49m\u001B[38;5;241;43m*\u001B[39;49m\u001B[43margs\u001B[49m\u001B[43m,\u001B[49m\u001B[43m \u001B[49m\u001B[38;5;241;43m*\u001B[39;49m\u001B[38;5;241;43m*\u001B[39;49m\u001B[43mkwargs\u001B[49m\u001B[43m)\u001B[49m\n\u001B[1;32m    461\u001B[0m     \u001B[38;5;28;01mexcept\u001B[39;00m \u001B[38;5;167;01mRuntimeError\u001B[39;00m \u001B[38;5;28;01mas\u001B[39;00m err:\n\u001B[1;32m    462\u001B[0m         \u001B[38;5;28;01mif\u001B[39;00m \u001B[38;5;124m\"\u001B[39m\u001B[38;5;124mExpected all tensors to be on\u001B[39m\u001B[38;5;124m\"\u001B[39m \u001B[38;5;129;01min\u001B[39;00m \u001B[38;5;28mstr\u001B[39m(err):\n",
      "File \u001B[0;32m~/anaconda3/envs/UIASegmentation_1/lib/python3.10/site-packages/torchmetrics/classification/dice.py:209\u001B[0m, in \u001B[0;36mDice.update\u001B[0;34m(self, preds, target)\u001B[0m\n\u001B[1;32m    206\u001B[0m \u001B[38;5;129m@no_type_check\u001B[39m\n\u001B[1;32m    207\u001B[0m \u001B[38;5;28;01mdef\u001B[39;00m \u001B[38;5;21mupdate\u001B[39m(\u001B[38;5;28mself\u001B[39m, preds: Tensor, target: Tensor) \u001B[38;5;241m-\u001B[39m\u001B[38;5;241m>\u001B[39m \u001B[38;5;28;01mNone\u001B[39;00m:\n\u001B[1;32m    208\u001B[0m \u001B[38;5;250m    \u001B[39m\u001B[38;5;124;03m\"\"\"Update state with predictions and targets.\"\"\"\u001B[39;00m\n\u001B[0;32m--> 209\u001B[0m     tp, fp, tn, fn \u001B[38;5;241m=\u001B[39m \u001B[43m_stat_scores_update\u001B[49m\u001B[43m(\u001B[49m\n\u001B[1;32m    210\u001B[0m \u001B[43m        \u001B[49m\u001B[43mpreds\u001B[49m\u001B[43m,\u001B[49m\n\u001B[1;32m    211\u001B[0m \u001B[43m        \u001B[49m\u001B[43mtarget\u001B[49m\u001B[43m,\u001B[49m\n\u001B[1;32m    212\u001B[0m \u001B[43m        \u001B[49m\u001B[43mreduce\u001B[49m\u001B[38;5;241;43m=\u001B[39;49m\u001B[38;5;28;43mself\u001B[39;49m\u001B[38;5;241;43m.\u001B[39;49m\u001B[43mreduce\u001B[49m\u001B[43m,\u001B[49m\n\u001B[1;32m    213\u001B[0m \u001B[43m        \u001B[49m\u001B[43mmdmc_reduce\u001B[49m\u001B[38;5;241;43m=\u001B[39;49m\u001B[38;5;28;43mself\u001B[39;49m\u001B[38;5;241;43m.\u001B[39;49m\u001B[43mmdmc_reduce\u001B[49m\u001B[43m,\u001B[49m\n\u001B[1;32m    214\u001B[0m \u001B[43m        \u001B[49m\u001B[43mthreshold\u001B[49m\u001B[38;5;241;43m=\u001B[39;49m\u001B[38;5;28;43mself\u001B[39;49m\u001B[38;5;241;43m.\u001B[39;49m\u001B[43mthreshold\u001B[49m\u001B[43m,\u001B[49m\n\u001B[1;32m    215\u001B[0m \u001B[43m        \u001B[49m\u001B[43mnum_classes\u001B[49m\u001B[38;5;241;43m=\u001B[39;49m\u001B[38;5;28;43mself\u001B[39;49m\u001B[38;5;241;43m.\u001B[39;49m\u001B[43mnum_classes\u001B[49m\u001B[43m,\u001B[49m\n\u001B[1;32m    216\u001B[0m \u001B[43m        \u001B[49m\u001B[43mtop_k\u001B[49m\u001B[38;5;241;43m=\u001B[39;49m\u001B[38;5;28;43mself\u001B[39;49m\u001B[38;5;241;43m.\u001B[39;49m\u001B[43mtop_k\u001B[49m\u001B[43m,\u001B[49m\n\u001B[1;32m    217\u001B[0m \u001B[43m        \u001B[49m\u001B[43mmulticlass\u001B[49m\u001B[38;5;241;43m=\u001B[39;49m\u001B[38;5;28;43mself\u001B[39;49m\u001B[38;5;241;43m.\u001B[39;49m\u001B[43mmulticlass\u001B[49m\u001B[43m,\u001B[49m\n\u001B[1;32m    218\u001B[0m \u001B[43m        \u001B[49m\u001B[43mignore_index\u001B[49m\u001B[38;5;241;43m=\u001B[39;49m\u001B[38;5;28;43mself\u001B[39;49m\u001B[38;5;241;43m.\u001B[39;49m\u001B[43mignore_index\u001B[49m\u001B[43m,\u001B[49m\n\u001B[1;32m    219\u001B[0m \u001B[43m    \u001B[49m\u001B[43m)\u001B[49m\n\u001B[1;32m    221\u001B[0m     \u001B[38;5;66;03m# Update states\u001B[39;00m\n\u001B[1;32m    222\u001B[0m     \u001B[38;5;28;01mif\u001B[39;00m \u001B[38;5;28mself\u001B[39m\u001B[38;5;241m.\u001B[39mreduce \u001B[38;5;241m!=\u001B[39m AverageMethod\u001B[38;5;241m.\u001B[39mSAMPLES \u001B[38;5;129;01mand\u001B[39;00m \u001B[38;5;28mself\u001B[39m\u001B[38;5;241m.\u001B[39mmdmc_reduce \u001B[38;5;241m!=\u001B[39m MDMCAverageMethod\u001B[38;5;241m.\u001B[39mSAMPLEWISE:\n",
      "File \u001B[0;32m~/anaconda3/envs/UIASegmentation_1/lib/python3.10/site-packages/torchmetrics/functional/classification/stat_scores.py:956\u001B[0m, in \u001B[0;36m_stat_scores_update\u001B[0;34m(preds, target, reduce, mdmc_reduce, num_classes, top_k, threshold, multiclass, ignore_index, mode)\u001B[0m\n\u001B[1;32m    953\u001B[0m     preds, target \u001B[38;5;241m=\u001B[39m _drop_negative_ignored_indices(preds, target, ignore_index, mode)\n\u001B[1;32m    954\u001B[0m     _negative_index_dropped \u001B[38;5;241m=\u001B[39m \u001B[38;5;28;01mTrue\u001B[39;00m\n\u001B[0;32m--> 956\u001B[0m preds, target, _ \u001B[38;5;241m=\u001B[39m \u001B[43m_input_format_classification\u001B[49m\u001B[43m(\u001B[49m\n\u001B[1;32m    957\u001B[0m \u001B[43m    \u001B[49m\u001B[43mpreds\u001B[49m\u001B[43m,\u001B[49m\n\u001B[1;32m    958\u001B[0m \u001B[43m    \u001B[49m\u001B[43mtarget\u001B[49m\u001B[43m,\u001B[49m\n\u001B[1;32m    959\u001B[0m \u001B[43m    \u001B[49m\u001B[43mthreshold\u001B[49m\u001B[38;5;241;43m=\u001B[39;49m\u001B[43mthreshold\u001B[49m\u001B[43m,\u001B[49m\n\u001B[1;32m    960\u001B[0m \u001B[43m    \u001B[49m\u001B[43mnum_classes\u001B[49m\u001B[38;5;241;43m=\u001B[39;49m\u001B[43mnum_classes\u001B[49m\u001B[43m,\u001B[49m\n\u001B[1;32m    961\u001B[0m \u001B[43m    \u001B[49m\u001B[43mmulticlass\u001B[49m\u001B[38;5;241;43m=\u001B[39;49m\u001B[43mmulticlass\u001B[49m\u001B[43m,\u001B[49m\n\u001B[1;32m    962\u001B[0m \u001B[43m    \u001B[49m\u001B[43mtop_k\u001B[49m\u001B[38;5;241;43m=\u001B[39;49m\u001B[43mtop_k\u001B[49m\u001B[43m,\u001B[49m\n\u001B[1;32m    963\u001B[0m \u001B[43m    \u001B[49m\u001B[43mignore_index\u001B[49m\u001B[38;5;241;43m=\u001B[39;49m\u001B[43mignore_index\u001B[49m\u001B[43m,\u001B[49m\n\u001B[1;32m    964\u001B[0m \u001B[43m\u001B[49m\u001B[43m)\u001B[49m\n\u001B[1;32m    966\u001B[0m \u001B[38;5;28;01mif\u001B[39;00m ignore_index \u001B[38;5;129;01mis\u001B[39;00m \u001B[38;5;129;01mnot\u001B[39;00m \u001B[38;5;28;01mNone\u001B[39;00m \u001B[38;5;129;01mand\u001B[39;00m ignore_index \u001B[38;5;241m>\u001B[39m\u001B[38;5;241m=\u001B[39m preds\u001B[38;5;241m.\u001B[39mshape[\u001B[38;5;241m1\u001B[39m]:\n\u001B[1;32m    967\u001B[0m     \u001B[38;5;28;01mraise\u001B[39;00m \u001B[38;5;167;01mValueError\u001B[39;00m(\u001B[38;5;124mf\u001B[39m\u001B[38;5;124m\"\u001B[39m\u001B[38;5;124mThe `ignore_index` \u001B[39m\u001B[38;5;132;01m{\u001B[39;00mignore_index\u001B[38;5;132;01m}\u001B[39;00m\u001B[38;5;124m is not valid for inputs with \u001B[39m\u001B[38;5;132;01m{\u001B[39;00mpreds\u001B[38;5;241m.\u001B[39mshape[\u001B[38;5;241m1\u001B[39m]\u001B[38;5;132;01m}\u001B[39;00m\u001B[38;5;124m classes\u001B[39m\u001B[38;5;124m\"\u001B[39m)\n",
      "File \u001B[0;32m~/anaconda3/envs/UIASegmentation_1/lib/python3.10/site-packages/torchmetrics/utilities/checks.py:439\u001B[0m, in \u001B[0;36m_input_format_classification\u001B[0;34m(preds, target, threshold, top_k, num_classes, multiclass, ignore_index)\u001B[0m\n\u001B[1;32m    436\u001B[0m     num_classes \u001B[38;5;241m=\u001B[39m num_classes \u001B[38;5;129;01mor\u001B[39;00m \u001B[38;5;28mint\u001B[39m(\u001B[38;5;28mmax\u001B[39m(preds\u001B[38;5;241m.\u001B[39mmax()\u001B[38;5;241m.\u001B[39mitem(), target\u001B[38;5;241m.\u001B[39mmax()\u001B[38;5;241m.\u001B[39mitem()) \u001B[38;5;241m+\u001B[39m \u001B[38;5;241m1\u001B[39m)\n\u001B[1;32m    437\u001B[0m     preds \u001B[38;5;241m=\u001B[39m to_onehot(preds, \u001B[38;5;28mmax\u001B[39m(\u001B[38;5;241m2\u001B[39m, num_classes))\n\u001B[0;32m--> 439\u001B[0m target \u001B[38;5;241m=\u001B[39m \u001B[43mto_onehot\u001B[49m\u001B[43m(\u001B[49m\u001B[43mtarget\u001B[49m\u001B[43m,\u001B[49m\u001B[43m \u001B[49m\u001B[38;5;28;43mmax\u001B[39;49m\u001B[43m(\u001B[49m\u001B[38;5;241;43m2\u001B[39;49m\u001B[43m,\u001B[49m\u001B[43m \u001B[49m\u001B[43mnum_classes\u001B[49m\u001B[43m)\u001B[49m\u001B[43m)\u001B[49m\n\u001B[1;32m    441\u001B[0m \u001B[38;5;28;01mif\u001B[39;00m multiclass \u001B[38;5;129;01mis\u001B[39;00m \u001B[38;5;28;01mFalse\u001B[39;00m:\n\u001B[1;32m    442\u001B[0m     preds, target \u001B[38;5;241m=\u001B[39m preds[:, \u001B[38;5;241m1\u001B[39m, \u001B[38;5;241m.\u001B[39m\u001B[38;5;241m.\u001B[39m\u001B[38;5;241m.\u001B[39m], target[:, \u001B[38;5;241m1\u001B[39m, \u001B[38;5;241m.\u001B[39m\u001B[38;5;241m.\u001B[39m\u001B[38;5;241m.\u001B[39m]\n",
      "File \u001B[0;32m~/anaconda3/envs/UIASegmentation_1/lib/python3.10/site-packages/torchmetrics/utilities/data.py:112\u001B[0m, in \u001B[0;36mto_onehot\u001B[0;34m(label_tensor, num_classes)\u001B[0m\n\u001B[1;32m    104\u001B[0m tensor_onehot \u001B[38;5;241m=\u001B[39m torch\u001B[38;5;241m.\u001B[39mzeros(\n\u001B[1;32m    105\u001B[0m     label_tensor\u001B[38;5;241m.\u001B[39mshape[\u001B[38;5;241m0\u001B[39m],\n\u001B[1;32m    106\u001B[0m     num_classes,\n\u001B[0;32m   (...)\u001B[0m\n\u001B[1;32m    109\u001B[0m     device\u001B[38;5;241m=\u001B[39mlabel_tensor\u001B[38;5;241m.\u001B[39mdevice,\n\u001B[1;32m    110\u001B[0m )\n\u001B[1;32m    111\u001B[0m index \u001B[38;5;241m=\u001B[39m label_tensor\u001B[38;5;241m.\u001B[39mlong()\u001B[38;5;241m.\u001B[39munsqueeze(\u001B[38;5;241m1\u001B[39m)\u001B[38;5;241m.\u001B[39mexpand_as(tensor_onehot)\n\u001B[0;32m--> 112\u001B[0m \u001B[38;5;28;01mreturn\u001B[39;00m \u001B[43mtensor_onehot\u001B[49m\u001B[38;5;241;43m.\u001B[39;49m\u001B[43mscatter_\u001B[49m\u001B[43m(\u001B[49m\u001B[38;5;241;43m1\u001B[39;49m\u001B[43m,\u001B[49m\u001B[43m \u001B[49m\u001B[43mindex\u001B[49m\u001B[43m,\u001B[49m\u001B[43m \u001B[49m\u001B[38;5;241;43m1.0\u001B[39;49m\u001B[43m)\u001B[49m\n",
      "\u001B[0;31mKeyboardInterrupt\u001B[0m: "
     ]
    }
   ],
   "source": [
    "results_df = calculate_metrics(num_classes=21, aneurysm_class=4, gt_vols_fp=gt_vols_fp, pred_vols_fn=pred_vols_fn)"
   ],
   "metadata": {
    "collapsed": false,
    "ExecuteTime": {
     "end_time": "2023-12-20T20:59:16.313321505Z",
     "start_time": "2023-12-20T20:59:08.786727828Z"
    }
   }
  },
  {
   "cell_type": "code",
   "execution_count": null,
   "outputs": [],
   "source": [
    "results_df.to_csv(os.path.join(data_dir, 'results', 'sd_usz_21classes__td_adam_treated_and_untreated_uias_trainset.csv'), index=False)"
   ],
   "metadata": {
    "collapsed": false,
    "ExecuteTime": {
     "end_time": "2023-12-20T20:59:16.385039176Z",
     "start_time": "2023-12-20T20:59:16.317996320Z"
    }
   }
  },
  {
   "cell_type": "code",
   "execution_count": null,
   "outputs": [],
   "source": [
    "results_df.dice_tm.mean()"
   ],
   "metadata": {
    "collapsed": false,
    "ExecuteTime": {
     "start_time": "2023-12-20T20:59:16.320078912Z"
    }
   }
  },
  {
   "cell_type": "code",
   "execution_count": null,
   "outputs": [],
   "source": [
    "results_df.mhd.map(lambda x: x if x != np.inf else 68).mean()\n"
   ],
   "metadata": {
    "collapsed": false,
    "ExecuteTime": {
     "start_time": "2023-12-20T20:59:16.322822092Z"
    }
   }
  },
  {
   "cell_type": "markdown",
   "source": [
    "# Continure running from here"
   ],
   "metadata": {
    "collapsed": false
   }
  },
  {
   "cell_type": "markdown",
   "source": [
    "### Only untreated UIAs"
   ],
   "metadata": {
    "collapsed": false
   }
  },
  {
   "cell_type": "code",
   "execution_count": 25,
   "outputs": [],
   "source": [
    "ground_truth_dir = os.path.join(data_dir, 'ADAM/Dataset007_ADAMBinaryUntreatedAneurysmsOnly')"
   ],
   "metadata": {
    "collapsed": false,
    "ExecuteTime": {
     "end_time": "2023-12-21T07:10:11.927150486Z",
     "start_time": "2023-12-21T07:10:11.879531932Z"
    }
   }
  },
  {
   "cell_type": "markdown",
   "source": [
    "#### Test set\n",
    "\n",
    "##### Using the model trained on 3 classes\n"
   ],
   "metadata": {
    "collapsed": false
   }
  },
  {
   "cell_type": "code",
   "execution_count": 26,
   "outputs": [
    {
     "data": {
      "text/plain": "['../../../../data/ADAM/Dataset007_ADAMBinaryUntreatedAneurysmsOnly/labelsTs/10047B.nii.gz',\n '../../../../data/ADAM/Dataset007_ADAMBinaryUntreatedAneurysmsOnly/labelsTs/10048B.nii.gz',\n '../../../../data/ADAM/Dataset007_ADAMBinaryUntreatedAneurysmsOnly/labelsTs/10029.nii.gz',\n '../../../../data/ADAM/Dataset007_ADAMBinaryUntreatedAneurysmsOnly/labelsTs/10024.nii.gz']"
     },
     "execution_count": 26,
     "metadata": {},
     "output_type": "execute_result"
    }
   ],
   "source": [
    "predictions_dir = os.path.join(data_dir, 'nnUNet_predictions', 'train_on_SD_predict_on_TD', 'train_on_Dataset003_3Classes', 'ADAM', 'imagesTs', '3d_fullres')\n",
    "gt_vols_fp = glob.glob(os.path.join(ground_truth_dir, 'labelsTs', '*.nii.gz'))\n",
    "pred_vols_fn = os.listdir(predictions_dir)\n",
    "gt_vols_fp[0:4]"
   ],
   "metadata": {
    "collapsed": false,
    "ExecuteTime": {
     "end_time": "2023-12-21T07:10:12.702380295Z",
     "start_time": "2023-12-21T07:10:12.668062948Z"
    }
   }
  },
  {
   "cell_type": "code",
   "execution_count": 27,
   "outputs": [
    {
     "name": "stderr",
     "output_type": "stream",
     "text": [
      "100%|██████████| 23/23 [07:08<00:00, 18.63s/it]\n"
     ]
    }
   ],
   "source": [
    "results_df = calculate_metrics(num_classes=2, aneurysm_class=2, gt_vols_fp=gt_vols_fp, pred_vols_fn=pred_vols_fn)"
   ],
   "metadata": {
    "collapsed": false,
    "ExecuteTime": {
     "end_time": "2023-12-21T07:17:21.944515047Z",
     "start_time": "2023-12-21T07:10:13.381649272Z"
    }
   }
  },
  {
   "cell_type": "code",
   "execution_count": 28,
   "outputs": [],
   "source": [
    "results_df.to_csv(os.path.join(data_dir, 'results', 'sd_usz_3classes__td_adam_untreated_uias_testset.csv'), index=False)"
   ],
   "metadata": {
    "collapsed": false,
    "ExecuteTime": {
     "end_time": "2023-12-21T07:17:21.950748178Z",
     "start_time": "2023-12-21T07:17:21.947763348Z"
    }
   }
  },
  {
   "cell_type": "code",
   "execution_count": 29,
   "outputs": [
    {
     "data": {
      "text/plain": "0.28822340686684067"
     },
     "execution_count": 29,
     "metadata": {},
     "output_type": "execute_result"
    }
   ],
   "source": [
    "results_df.dice_tm.mean()"
   ],
   "metadata": {
    "collapsed": false,
    "ExecuteTime": {
     "end_time": "2023-12-21T07:17:21.969904476Z",
     "start_time": "2023-12-21T07:17:21.953124185Z"
    }
   }
  },
  {
   "cell_type": "code",
   "execution_count": 30,
   "outputs": [
    {
     "data": {
      "text/plain": "37.032459948832866"
     },
     "execution_count": 30,
     "metadata": {},
     "output_type": "execute_result"
    }
   ],
   "source": [
    "results_df.mhd.map(lambda x: x if x != np.inf else 68).mean()\n"
   ],
   "metadata": {
    "collapsed": false,
    "ExecuteTime": {
     "end_time": "2023-12-21T07:17:21.980896901Z",
     "start_time": "2023-12-21T07:17:21.971968117Z"
    }
   }
  },
  {
   "cell_type": "code",
   "execution_count": 31,
   "outputs": [
    {
     "data": {
      "text/plain": "         vol_name  dice_aneur_kostas  recall_aneur_kostas  \\\n0   10047B.nii.gz       8.961748e-01         8.118812e-01   \n1   10048B.nii.gz       9.808145e-01         9.623514e-01   \n2    10029.nii.gz       1.000000e+00         1.000000e+00   \n3    10024.nii.gz       9.858586e-01         9.721116e-01   \n4   10068F.nii.gz       1.000000e+00         1.000000e+00   \n5   10072F.nii.gz       0.000000e+00         0.000000e+00   \n6    10037.nii.gz       0.000000e+00         0.000000e+00   \n7   10068B.nii.gz       1.000000e+00         1.000000e+00   \n8   10072B.nii.gz       0.000000e+00         0.000000e+00   \n9   10047F.nii.gz       8.583333e-01         7.518248e-01   \n10   10015.nii.gz       1.000000e-12         1.000000e-12   \n11  10049F.nii.gz       9.691011e-01         9.400545e-01   \n12   10028.nii.gz       0.000000e+00         0.000000e+00   \n13   10039.nii.gz       1.271676e-01         6.790123e-02   \n14   10035.nii.gz       9.977186e-01         9.954476e-01   \n15  10048F.nii.gz       9.928946e-01         9.858896e-01   \n16   10009.nii.gz       1.000000e-12         1.000000e-12   \n17  10077B.nii.gz       0.000000e+00         0.000000e+00   \n18  10060F.nii.gz       0.000000e+00         0.000000e+00   \n19  10077F.nii.gz       0.000000e+00         0.000000e+00   \n20   10010.nii.gz       1.000000e-12         1.000000e-12   \n21  10060B.nii.gz       0.000000e+00         0.000000e+00   \n22  10049B.nii.gz       8.606174e-01         7.553366e-01   \n\n    precision_aneur_kostas   dice_tm  recall_tm  precision_tm         mhd  \n0             1.000000e+00  0.598540   0.811881           1.0    0.568552  \n1             1.000000e+00  0.764027   0.962351           1.0    0.534275  \n2             1.000000e+00  0.335857   1.000000           1.0    1.778634  \n3             1.000000e+00  0.444040   0.972112           1.0    1.014454  \n4             1.000000e+00  0.379762   1.000000           1.0    2.611038  \n5             1.000000e-12  0.000000   0.000000           0.0         inf  \n6             1.000000e-12  0.000000   0.000000           0.0   79.611111  \n7             1.000000e+00  0.543921   1.000000           1.0    0.840614  \n8             1.000000e-12  0.000000   0.000000           0.0   44.182774  \n9             1.000000e+00  0.693603   0.751825           1.0    0.389302  \n10            1.000000e-12  0.000000   0.000000           0.0    0.000000  \n11            1.000000e+00  0.777027   0.940054           1.0    0.364446  \n12            1.000000e-12  0.000000   0.000000           0.0         inf  \n13            1.000000e+00  0.071584   0.067901           1.0   56.575732  \n14            1.000000e+00  0.572426   0.995448           1.0    0.936233  \n15            1.000000e+00  0.757661   0.985890           1.0    0.560804  \n16            1.000000e-12  0.000000   0.000000           0.0         inf  \n17            1.000000e-12  0.000000   0.000000           0.0   47.469451  \n18            1.000000e-12  0.000000   0.000000           0.0         inf  \n19            1.000000e-12  0.000000   0.000000           0.0   55.065671  \n20            1.000000e-12  0.000000   0.000000           0.0    0.000000  \n21            1.000000e-12  0.000000   0.000000           0.0  286.783406  \n22            1.000000e+00  0.690691   0.755337           1.0    0.460081  ",
      "text/html": "<div>\n<style scoped>\n    .dataframe tbody tr th:only-of-type {\n        vertical-align: middle;\n    }\n\n    .dataframe tbody tr th {\n        vertical-align: top;\n    }\n\n    .dataframe thead th {\n        text-align: right;\n    }\n</style>\n<table border=\"1\" class=\"dataframe\">\n  <thead>\n    <tr style=\"text-align: right;\">\n      <th></th>\n      <th>vol_name</th>\n      <th>dice_aneur_kostas</th>\n      <th>recall_aneur_kostas</th>\n      <th>precision_aneur_kostas</th>\n      <th>dice_tm</th>\n      <th>recall_tm</th>\n      <th>precision_tm</th>\n      <th>mhd</th>\n    </tr>\n  </thead>\n  <tbody>\n    <tr>\n      <th>0</th>\n      <td>10047B.nii.gz</td>\n      <td>8.961748e-01</td>\n      <td>8.118812e-01</td>\n      <td>1.000000e+00</td>\n      <td>0.598540</td>\n      <td>0.811881</td>\n      <td>1.0</td>\n      <td>0.568552</td>\n    </tr>\n    <tr>\n      <th>1</th>\n      <td>10048B.nii.gz</td>\n      <td>9.808145e-01</td>\n      <td>9.623514e-01</td>\n      <td>1.000000e+00</td>\n      <td>0.764027</td>\n      <td>0.962351</td>\n      <td>1.0</td>\n      <td>0.534275</td>\n    </tr>\n    <tr>\n      <th>2</th>\n      <td>10029.nii.gz</td>\n      <td>1.000000e+00</td>\n      <td>1.000000e+00</td>\n      <td>1.000000e+00</td>\n      <td>0.335857</td>\n      <td>1.000000</td>\n      <td>1.0</td>\n      <td>1.778634</td>\n    </tr>\n    <tr>\n      <th>3</th>\n      <td>10024.nii.gz</td>\n      <td>9.858586e-01</td>\n      <td>9.721116e-01</td>\n      <td>1.000000e+00</td>\n      <td>0.444040</td>\n      <td>0.972112</td>\n      <td>1.0</td>\n      <td>1.014454</td>\n    </tr>\n    <tr>\n      <th>4</th>\n      <td>10068F.nii.gz</td>\n      <td>1.000000e+00</td>\n      <td>1.000000e+00</td>\n      <td>1.000000e+00</td>\n      <td>0.379762</td>\n      <td>1.000000</td>\n      <td>1.0</td>\n      <td>2.611038</td>\n    </tr>\n    <tr>\n      <th>5</th>\n      <td>10072F.nii.gz</td>\n      <td>0.000000e+00</td>\n      <td>0.000000e+00</td>\n      <td>1.000000e-12</td>\n      <td>0.000000</td>\n      <td>0.000000</td>\n      <td>0.0</td>\n      <td>inf</td>\n    </tr>\n    <tr>\n      <th>6</th>\n      <td>10037.nii.gz</td>\n      <td>0.000000e+00</td>\n      <td>0.000000e+00</td>\n      <td>1.000000e-12</td>\n      <td>0.000000</td>\n      <td>0.000000</td>\n      <td>0.0</td>\n      <td>79.611111</td>\n    </tr>\n    <tr>\n      <th>7</th>\n      <td>10068B.nii.gz</td>\n      <td>1.000000e+00</td>\n      <td>1.000000e+00</td>\n      <td>1.000000e+00</td>\n      <td>0.543921</td>\n      <td>1.000000</td>\n      <td>1.0</td>\n      <td>0.840614</td>\n    </tr>\n    <tr>\n      <th>8</th>\n      <td>10072B.nii.gz</td>\n      <td>0.000000e+00</td>\n      <td>0.000000e+00</td>\n      <td>1.000000e-12</td>\n      <td>0.000000</td>\n      <td>0.000000</td>\n      <td>0.0</td>\n      <td>44.182774</td>\n    </tr>\n    <tr>\n      <th>9</th>\n      <td>10047F.nii.gz</td>\n      <td>8.583333e-01</td>\n      <td>7.518248e-01</td>\n      <td>1.000000e+00</td>\n      <td>0.693603</td>\n      <td>0.751825</td>\n      <td>1.0</td>\n      <td>0.389302</td>\n    </tr>\n    <tr>\n      <th>10</th>\n      <td>10015.nii.gz</td>\n      <td>1.000000e-12</td>\n      <td>1.000000e-12</td>\n      <td>1.000000e-12</td>\n      <td>0.000000</td>\n      <td>0.000000</td>\n      <td>0.0</td>\n      <td>0.000000</td>\n    </tr>\n    <tr>\n      <th>11</th>\n      <td>10049F.nii.gz</td>\n      <td>9.691011e-01</td>\n      <td>9.400545e-01</td>\n      <td>1.000000e+00</td>\n      <td>0.777027</td>\n      <td>0.940054</td>\n      <td>1.0</td>\n      <td>0.364446</td>\n    </tr>\n    <tr>\n      <th>12</th>\n      <td>10028.nii.gz</td>\n      <td>0.000000e+00</td>\n      <td>0.000000e+00</td>\n      <td>1.000000e-12</td>\n      <td>0.000000</td>\n      <td>0.000000</td>\n      <td>0.0</td>\n      <td>inf</td>\n    </tr>\n    <tr>\n      <th>13</th>\n      <td>10039.nii.gz</td>\n      <td>1.271676e-01</td>\n      <td>6.790123e-02</td>\n      <td>1.000000e+00</td>\n      <td>0.071584</td>\n      <td>0.067901</td>\n      <td>1.0</td>\n      <td>56.575732</td>\n    </tr>\n    <tr>\n      <th>14</th>\n      <td>10035.nii.gz</td>\n      <td>9.977186e-01</td>\n      <td>9.954476e-01</td>\n      <td>1.000000e+00</td>\n      <td>0.572426</td>\n      <td>0.995448</td>\n      <td>1.0</td>\n      <td>0.936233</td>\n    </tr>\n    <tr>\n      <th>15</th>\n      <td>10048F.nii.gz</td>\n      <td>9.928946e-01</td>\n      <td>9.858896e-01</td>\n      <td>1.000000e+00</td>\n      <td>0.757661</td>\n      <td>0.985890</td>\n      <td>1.0</td>\n      <td>0.560804</td>\n    </tr>\n    <tr>\n      <th>16</th>\n      <td>10009.nii.gz</td>\n      <td>1.000000e-12</td>\n      <td>1.000000e-12</td>\n      <td>1.000000e-12</td>\n      <td>0.000000</td>\n      <td>0.000000</td>\n      <td>0.0</td>\n      <td>inf</td>\n    </tr>\n    <tr>\n      <th>17</th>\n      <td>10077B.nii.gz</td>\n      <td>0.000000e+00</td>\n      <td>0.000000e+00</td>\n      <td>1.000000e-12</td>\n      <td>0.000000</td>\n      <td>0.000000</td>\n      <td>0.0</td>\n      <td>47.469451</td>\n    </tr>\n    <tr>\n      <th>18</th>\n      <td>10060F.nii.gz</td>\n      <td>0.000000e+00</td>\n      <td>0.000000e+00</td>\n      <td>1.000000e-12</td>\n      <td>0.000000</td>\n      <td>0.000000</td>\n      <td>0.0</td>\n      <td>inf</td>\n    </tr>\n    <tr>\n      <th>19</th>\n      <td>10077F.nii.gz</td>\n      <td>0.000000e+00</td>\n      <td>0.000000e+00</td>\n      <td>1.000000e-12</td>\n      <td>0.000000</td>\n      <td>0.000000</td>\n      <td>0.0</td>\n      <td>55.065671</td>\n    </tr>\n    <tr>\n      <th>20</th>\n      <td>10010.nii.gz</td>\n      <td>1.000000e-12</td>\n      <td>1.000000e-12</td>\n      <td>1.000000e-12</td>\n      <td>0.000000</td>\n      <td>0.000000</td>\n      <td>0.0</td>\n      <td>0.000000</td>\n    </tr>\n    <tr>\n      <th>21</th>\n      <td>10060B.nii.gz</td>\n      <td>0.000000e+00</td>\n      <td>0.000000e+00</td>\n      <td>1.000000e-12</td>\n      <td>0.000000</td>\n      <td>0.000000</td>\n      <td>0.0</td>\n      <td>286.783406</td>\n    </tr>\n    <tr>\n      <th>22</th>\n      <td>10049B.nii.gz</td>\n      <td>8.606174e-01</td>\n      <td>7.553366e-01</td>\n      <td>1.000000e+00</td>\n      <td>0.690691</td>\n      <td>0.755337</td>\n      <td>1.0</td>\n      <td>0.460081</td>\n    </tr>\n  </tbody>\n</table>\n</div>"
     },
     "execution_count": 31,
     "metadata": {},
     "output_type": "execute_result"
    }
   ],
   "source": [
    "results_df"
   ],
   "metadata": {
    "collapsed": false,
    "ExecuteTime": {
     "end_time": "2023-12-21T07:17:22.015645590Z",
     "start_time": "2023-12-21T07:17:21.981062629Z"
    }
   }
  },
  {
   "cell_type": "markdown",
   "source": [
    "##### Using the model trained on 21 classes\n"
   ],
   "metadata": {
    "collapsed": false
   }
  },
  {
   "cell_type": "code",
   "execution_count": 32,
   "outputs": [
    {
     "data": {
      "text/plain": "['../../../../data/ADAM/Dataset007_ADAMBinaryUntreatedAneurysmsOnly/labelsTs/10047B.nii.gz',\n '../../../../data/ADAM/Dataset007_ADAMBinaryUntreatedAneurysmsOnly/labelsTs/10048B.nii.gz',\n '../../../../data/ADAM/Dataset007_ADAMBinaryUntreatedAneurysmsOnly/labelsTs/10029.nii.gz',\n '../../../../data/ADAM/Dataset007_ADAMBinaryUntreatedAneurysmsOnly/labelsTs/10024.nii.gz',\n '../../../../data/ADAM/Dataset007_ADAMBinaryUntreatedAneurysmsOnly/labelsTs/10068F.nii.gz',\n '../../../../data/ADAM/Dataset007_ADAMBinaryUntreatedAneurysmsOnly/labelsTs/10072F.nii.gz',\n '../../../../data/ADAM/Dataset007_ADAMBinaryUntreatedAneurysmsOnly/labelsTs/10037.nii.gz',\n '../../../../data/ADAM/Dataset007_ADAMBinaryUntreatedAneurysmsOnly/labelsTs/10068B.nii.gz',\n '../../../../data/ADAM/Dataset007_ADAMBinaryUntreatedAneurysmsOnly/labelsTs/10072B.nii.gz',\n '../../../../data/ADAM/Dataset007_ADAMBinaryUntreatedAneurysmsOnly/labelsTs/10047F.nii.gz',\n '../../../../data/ADAM/Dataset007_ADAMBinaryUntreatedAneurysmsOnly/labelsTs/10015.nii.gz',\n '../../../../data/ADAM/Dataset007_ADAMBinaryUntreatedAneurysmsOnly/labelsTs/10049F.nii.gz',\n '../../../../data/ADAM/Dataset007_ADAMBinaryUntreatedAneurysmsOnly/labelsTs/10028.nii.gz',\n '../../../../data/ADAM/Dataset007_ADAMBinaryUntreatedAneurysmsOnly/labelsTs/10039.nii.gz',\n '../../../../data/ADAM/Dataset007_ADAMBinaryUntreatedAneurysmsOnly/labelsTs/10035.nii.gz',\n '../../../../data/ADAM/Dataset007_ADAMBinaryUntreatedAneurysmsOnly/labelsTs/10048F.nii.gz',\n '../../../../data/ADAM/Dataset007_ADAMBinaryUntreatedAneurysmsOnly/labelsTs/10009.nii.gz',\n '../../../../data/ADAM/Dataset007_ADAMBinaryUntreatedAneurysmsOnly/labelsTs/10077B.nii.gz',\n '../../../../data/ADAM/Dataset007_ADAMBinaryUntreatedAneurysmsOnly/labelsTs/10060F.nii.gz',\n '../../../../data/ADAM/Dataset007_ADAMBinaryUntreatedAneurysmsOnly/labelsTs/10077F.nii.gz',\n '../../../../data/ADAM/Dataset007_ADAMBinaryUntreatedAneurysmsOnly/labelsTs/10010.nii.gz',\n '../../../../data/ADAM/Dataset007_ADAMBinaryUntreatedAneurysmsOnly/labelsTs/10060B.nii.gz',\n '../../../../data/ADAM/Dataset007_ADAMBinaryUntreatedAneurysmsOnly/labelsTs/10049B.nii.gz']"
     },
     "execution_count": 32,
     "metadata": {},
     "output_type": "execute_result"
    }
   ],
   "source": [
    "predictions_dir = os.path.join(data_dir, 'nnUNet_predictions', 'train_on_SD_predict_on_TD', 'train_on_Dataset004_21Classes', 'ADAM', 'imagesTs', '3d_fullres')\n",
    "gt_vols_fp = glob.glob(os.path.join(ground_truth_dir, 'labelsTs', '*.nii.gz'))\n",
    "pred_vols_fn = os.listdir(predictions_dir)\n",
    "gt_vols_fp"
   ],
   "metadata": {
    "collapsed": false,
    "ExecuteTime": {
     "end_time": "2023-12-21T07:17:22.017342531Z",
     "start_time": "2023-12-21T07:17:21.999329380Z"
    }
   }
  },
  {
   "cell_type": "code",
   "execution_count": 33,
   "outputs": [
    {
     "name": "stderr",
     "output_type": "stream",
     "text": [
      " 17%|█▋        | 4/23 [02:27<11:31, 36.41s/it]"
     ]
    },
    {
     "name": "stdout",
     "output_type": "stream",
     "text": [
      "No prediction for vol 10068F.nii.gz\n",
      "No prediction for vol 10072F.nii.gz\n"
     ]
    },
    {
     "name": "stderr",
     "output_type": "stream",
     "text": [
      " 35%|███▍      | 8/23 [02:50<03:53, 15.56s/it]"
     ]
    },
    {
     "name": "stdout",
     "output_type": "stream",
     "text": [
      "No prediction for vol 10072B.nii.gz\n"
     ]
    },
    {
     "name": "stderr",
     "output_type": "stream",
     "text": [
      " 74%|███████▍  | 17/23 [09:18<04:59, 49.94s/it]"
     ]
    },
    {
     "name": "stdout",
     "output_type": "stream",
     "text": [
      "No prediction for vol 10077B.nii.gz\n"
     ]
    },
    {
     "name": "stderr",
     "output_type": "stream",
     "text": [
      " 83%|████████▎ | 19/23 [10:21<02:47, 41.77s/it]"
     ]
    },
    {
     "name": "stdout",
     "output_type": "stream",
     "text": [
      "No prediction for vol 10077F.nii.gz\n"
     ]
    },
    {
     "name": "stderr",
     "output_type": "stream",
     "text": [
      " 91%|█████████▏| 21/23 [11:02<01:06, 33.41s/it]"
     ]
    },
    {
     "name": "stdout",
     "output_type": "stream",
     "text": [
      "No prediction for vol 10060B.nii.gz\n"
     ]
    },
    {
     "name": "stderr",
     "output_type": "stream",
     "text": [
      "100%|██████████| 23/23 [11:54<00:00, 31.07s/it]\n"
     ]
    },
    {
     "data": {
      "text/plain": "         vol_name  dice_aneur_kostas  recall_aneur_kostas  \\\n0   10047B.nii.gz       9.849246e-01         9.702970e-01   \n1   10048B.nii.gz       9.526116e-01         9.095112e-01   \n2    10029.nii.gz       9.938144e-01         9.877049e-01   \n3    10024.nii.gz       2.071429e-01         1.155379e-01   \n4    10037.nii.gz       0.000000e+00         0.000000e+00   \n5   10068B.nii.gz       1.000000e+00         1.000000e+00   \n6   10047F.nii.gz       9.169961e-01         8.467153e-01   \n7    10015.nii.gz       1.000000e-12         1.000000e-12   \n8   10049F.nii.gz       0.000000e+00         0.000000e+00   \n9    10028.nii.gz       0.000000e+00         0.000000e+00   \n10   10039.nii.gz       1.015625e-01         5.349794e-02   \n11   10035.nii.gz       9.938931e-01         9.878604e-01   \n12  10048F.nii.gz       9.853719e-01         9.711657e-01   \n13   10009.nii.gz       1.000000e-12         1.000000e-12   \n14  10060F.nii.gz       0.000000e+00         0.000000e+00   \n15   10010.nii.gz       1.000000e-12         1.000000e-12   \n16  10049B.nii.gz       0.000000e+00         0.000000e+00   \n\n    precision_aneur_kostas   dice_tm  recall_tm  precision_tm        mhd  \n0             1.000000e+00  0.592145   0.970297           1.0   0.671277  \n1             1.000000e+00  0.748166   0.909511           1.0   0.515659  \n2             1.000000e+00  0.388084   0.987705           1.0   1.326434  \n3             1.000000e+00  0.186495   0.115538           1.0  20.400906  \n4             1.000000e-12  0.000000   0.000000           0.0  80.000923  \n5             1.000000e+00  0.434100   1.000000           1.0   1.553858  \n6             1.000000e+00  0.628726   0.846715           1.0   0.564183  \n7             1.000000e-12  0.000000   0.000000           0.0   0.000000  \n8             1.000000e-12  0.000000   0.000000           0.0        inf  \n9             1.000000e-12  0.000000   0.000000           0.0        inf  \n10            1.000000e+00  0.057778   0.053498           1.0  55.010586  \n11            1.000000e+00  0.575088   0.987860           1.0   0.938472  \n12            1.000000e+00  0.761974   0.971166           1.0   0.537536  \n13            1.000000e-12  0.000000   0.000000           0.0   0.000000  \n14            1.000000e-12  0.000000   0.000000           0.0        inf  \n15            1.000000e-12  0.000000   0.000000           0.0        inf  \n16            1.000000e-12  0.000000   0.000000           0.0        inf  ",
      "text/html": "<div>\n<style scoped>\n    .dataframe tbody tr th:only-of-type {\n        vertical-align: middle;\n    }\n\n    .dataframe tbody tr th {\n        vertical-align: top;\n    }\n\n    .dataframe thead th {\n        text-align: right;\n    }\n</style>\n<table border=\"1\" class=\"dataframe\">\n  <thead>\n    <tr style=\"text-align: right;\">\n      <th></th>\n      <th>vol_name</th>\n      <th>dice_aneur_kostas</th>\n      <th>recall_aneur_kostas</th>\n      <th>precision_aneur_kostas</th>\n      <th>dice_tm</th>\n      <th>recall_tm</th>\n      <th>precision_tm</th>\n      <th>mhd</th>\n    </tr>\n  </thead>\n  <tbody>\n    <tr>\n      <th>0</th>\n      <td>10047B.nii.gz</td>\n      <td>9.849246e-01</td>\n      <td>9.702970e-01</td>\n      <td>1.000000e+00</td>\n      <td>0.592145</td>\n      <td>0.970297</td>\n      <td>1.0</td>\n      <td>0.671277</td>\n    </tr>\n    <tr>\n      <th>1</th>\n      <td>10048B.nii.gz</td>\n      <td>9.526116e-01</td>\n      <td>9.095112e-01</td>\n      <td>1.000000e+00</td>\n      <td>0.748166</td>\n      <td>0.909511</td>\n      <td>1.0</td>\n      <td>0.515659</td>\n    </tr>\n    <tr>\n      <th>2</th>\n      <td>10029.nii.gz</td>\n      <td>9.938144e-01</td>\n      <td>9.877049e-01</td>\n      <td>1.000000e+00</td>\n      <td>0.388084</td>\n      <td>0.987705</td>\n      <td>1.0</td>\n      <td>1.326434</td>\n    </tr>\n    <tr>\n      <th>3</th>\n      <td>10024.nii.gz</td>\n      <td>2.071429e-01</td>\n      <td>1.155379e-01</td>\n      <td>1.000000e+00</td>\n      <td>0.186495</td>\n      <td>0.115538</td>\n      <td>1.0</td>\n      <td>20.400906</td>\n    </tr>\n    <tr>\n      <th>4</th>\n      <td>10037.nii.gz</td>\n      <td>0.000000e+00</td>\n      <td>0.000000e+00</td>\n      <td>1.000000e-12</td>\n      <td>0.000000</td>\n      <td>0.000000</td>\n      <td>0.0</td>\n      <td>80.000923</td>\n    </tr>\n    <tr>\n      <th>5</th>\n      <td>10068B.nii.gz</td>\n      <td>1.000000e+00</td>\n      <td>1.000000e+00</td>\n      <td>1.000000e+00</td>\n      <td>0.434100</td>\n      <td>1.000000</td>\n      <td>1.0</td>\n      <td>1.553858</td>\n    </tr>\n    <tr>\n      <th>6</th>\n      <td>10047F.nii.gz</td>\n      <td>9.169961e-01</td>\n      <td>8.467153e-01</td>\n      <td>1.000000e+00</td>\n      <td>0.628726</td>\n      <td>0.846715</td>\n      <td>1.0</td>\n      <td>0.564183</td>\n    </tr>\n    <tr>\n      <th>7</th>\n      <td>10015.nii.gz</td>\n      <td>1.000000e-12</td>\n      <td>1.000000e-12</td>\n      <td>1.000000e-12</td>\n      <td>0.000000</td>\n      <td>0.000000</td>\n      <td>0.0</td>\n      <td>0.000000</td>\n    </tr>\n    <tr>\n      <th>8</th>\n      <td>10049F.nii.gz</td>\n      <td>0.000000e+00</td>\n      <td>0.000000e+00</td>\n      <td>1.000000e-12</td>\n      <td>0.000000</td>\n      <td>0.000000</td>\n      <td>0.0</td>\n      <td>inf</td>\n    </tr>\n    <tr>\n      <th>9</th>\n      <td>10028.nii.gz</td>\n      <td>0.000000e+00</td>\n      <td>0.000000e+00</td>\n      <td>1.000000e-12</td>\n      <td>0.000000</td>\n      <td>0.000000</td>\n      <td>0.0</td>\n      <td>inf</td>\n    </tr>\n    <tr>\n      <th>10</th>\n      <td>10039.nii.gz</td>\n      <td>1.015625e-01</td>\n      <td>5.349794e-02</td>\n      <td>1.000000e+00</td>\n      <td>0.057778</td>\n      <td>0.053498</td>\n      <td>1.0</td>\n      <td>55.010586</td>\n    </tr>\n    <tr>\n      <th>11</th>\n      <td>10035.nii.gz</td>\n      <td>9.938931e-01</td>\n      <td>9.878604e-01</td>\n      <td>1.000000e+00</td>\n      <td>0.575088</td>\n      <td>0.987860</td>\n      <td>1.0</td>\n      <td>0.938472</td>\n    </tr>\n    <tr>\n      <th>12</th>\n      <td>10048F.nii.gz</td>\n      <td>9.853719e-01</td>\n      <td>9.711657e-01</td>\n      <td>1.000000e+00</td>\n      <td>0.761974</td>\n      <td>0.971166</td>\n      <td>1.0</td>\n      <td>0.537536</td>\n    </tr>\n    <tr>\n      <th>13</th>\n      <td>10009.nii.gz</td>\n      <td>1.000000e-12</td>\n      <td>1.000000e-12</td>\n      <td>1.000000e-12</td>\n      <td>0.000000</td>\n      <td>0.000000</td>\n      <td>0.0</td>\n      <td>0.000000</td>\n    </tr>\n    <tr>\n      <th>14</th>\n      <td>10060F.nii.gz</td>\n      <td>0.000000e+00</td>\n      <td>0.000000e+00</td>\n      <td>1.000000e-12</td>\n      <td>0.000000</td>\n      <td>0.000000</td>\n      <td>0.0</td>\n      <td>inf</td>\n    </tr>\n    <tr>\n      <th>15</th>\n      <td>10010.nii.gz</td>\n      <td>1.000000e-12</td>\n      <td>1.000000e-12</td>\n      <td>1.000000e-12</td>\n      <td>0.000000</td>\n      <td>0.000000</td>\n      <td>0.0</td>\n      <td>inf</td>\n    </tr>\n    <tr>\n      <th>16</th>\n      <td>10049B.nii.gz</td>\n      <td>0.000000e+00</td>\n      <td>0.000000e+00</td>\n      <td>1.000000e-12</td>\n      <td>0.000000</td>\n      <td>0.000000</td>\n      <td>0.0</td>\n      <td>inf</td>\n    </tr>\n  </tbody>\n</table>\n</div>"
     },
     "execution_count": 33,
     "metadata": {},
     "output_type": "execute_result"
    }
   ],
   "source": [
    "results_df = calculate_metrics(num_classes=21, aneurysm_class=4, gt_vols_fp=gt_vols_fp, pred_vols_fn=pred_vols_fn)\n",
    "results_df"
   ],
   "metadata": {
    "collapsed": false,
    "ExecuteTime": {
     "end_time": "2023-12-21T07:29:18.588325121Z",
     "start_time": "2023-12-21T07:17:22.007090180Z"
    }
   }
  },
  {
   "cell_type": "code",
   "execution_count": 34,
   "outputs": [],
   "source": [
    "results_df.to_csv(os.path.join(data_dir, 'results', 'sd_usz_21classes__td_adam_untreated_uias_testset.csv'), index=False)"
   ],
   "metadata": {
    "collapsed": false,
    "ExecuteTime": {
     "end_time": "2023-12-21T07:29:18.668610017Z",
     "start_time": "2023-12-21T07:29:16.777301135Z"
    }
   }
  },
  {
   "cell_type": "code",
   "execution_count": 35,
   "outputs": [
    {
     "data": {
      "text/plain": "0.2572091712671168"
     },
     "execution_count": 35,
     "metadata": {},
     "output_type": "execute_result"
    }
   ],
   "source": [
    "results_df.dice_tm.mean()"
   ],
   "metadata": {
    "collapsed": false,
    "ExecuteTime": {
     "end_time": "2023-12-21T07:29:18.671440742Z",
     "start_time": "2023-12-21T07:29:16.813476290Z"
    }
   }
  },
  {
   "cell_type": "code",
   "execution_count": 36,
   "outputs": [
    {
     "data": {
      "text/plain": "29.501166736590047"
     },
     "execution_count": 36,
     "metadata": {},
     "output_type": "execute_result"
    }
   ],
   "source": [
    "results_df.mhd.map(lambda x: x if x != np.inf else 68).mean()\n"
   ],
   "metadata": {
    "collapsed": false,
    "ExecuteTime": {
     "end_time": "2023-12-21T07:29:18.673736821Z",
     "start_time": "2023-12-21T07:29:16.842269861Z"
    }
   }
  },
  {
   "cell_type": "markdown",
   "source": [
    "#### Train set\n",
    "##### Using the model trained on 3 classes"
   ],
   "metadata": {
    "collapsed": false
   }
  },
  {
   "cell_type": "code",
   "execution_count": 37,
   "outputs": [
    {
     "data": {
      "text/plain": "['../../../../data/ADAM/Dataset007_ADAMBinaryUntreatedAneurysmsOnly/labelsTr/10064F.nii.gz',\n '../../../../data/ADAM/Dataset007_ADAMBinaryUntreatedAneurysmsOnly/labelsTr/10063B.nii.gz',\n '../../../../data/ADAM/Dataset007_ADAMBinaryUntreatedAneurysmsOnly/labelsTr/10023.nii.gz',\n '../../../../data/ADAM/Dataset007_ADAMBinaryUntreatedAneurysmsOnly/labelsTr/10041.nii.gz',\n '../../../../data/ADAM/Dataset007_ADAMBinaryUntreatedAneurysmsOnly/labelsTr/10075F.nii.gz',\n '../../../../data/ADAM/Dataset007_ADAMBinaryUntreatedAneurysmsOnly/labelsTr/10053F.nii.gz',\n '../../../../data/ADAM/Dataset007_ADAMBinaryUntreatedAneurysmsOnly/labelsTr/10067F.nii.gz',\n '../../../../data/ADAM/Dataset007_ADAMBinaryUntreatedAneurysmsOnly/labelsTr/10071F.nii.gz',\n '../../../../data/ADAM/Dataset007_ADAMBinaryUntreatedAneurysmsOnly/labelsTr/10078B.nii.gz',\n '../../../../data/ADAM/Dataset007_ADAMBinaryUntreatedAneurysmsOnly/labelsTr/10069B.nii.gz',\n '../../../../data/ADAM/Dataset007_ADAMBinaryUntreatedAneurysmsOnly/labelsTr/10063F.nii.gz',\n '../../../../data/ADAM/Dataset007_ADAMBinaryUntreatedAneurysmsOnly/labelsTr/10022.nii.gz',\n '../../../../data/ADAM/Dataset007_ADAMBinaryUntreatedAneurysmsOnly/labelsTr/10018.nii.gz',\n '../../../../data/ADAM/Dataset007_ADAMBinaryUntreatedAneurysmsOnly/labelsTr/10066F.nii.gz',\n '../../../../data/ADAM/Dataset007_ADAMBinaryUntreatedAneurysmsOnly/labelsTr/10053B.nii.gz',\n '../../../../data/ADAM/Dataset007_ADAMBinaryUntreatedAneurysmsOnly/labelsTr/10003.nii.gz',\n '../../../../data/ADAM/Dataset007_ADAMBinaryUntreatedAneurysmsOnly/labelsTr/10056B.nii.gz',\n '../../../../data/ADAM/Dataset007_ADAMBinaryUntreatedAneurysmsOnly/labelsTr/10046F.nii.gz',\n '../../../../data/ADAM/Dataset007_ADAMBinaryUntreatedAneurysmsOnly/labelsTr/10025.nii.gz',\n '../../../../data/ADAM/Dataset007_ADAMBinaryUntreatedAneurysmsOnly/labelsTr/10006.nii.gz',\n '../../../../data/ADAM/Dataset007_ADAMBinaryUntreatedAneurysmsOnly/labelsTr/10030.nii.gz',\n '../../../../data/ADAM/Dataset007_ADAMBinaryUntreatedAneurysmsOnly/labelsTr/10002.nii.gz',\n '../../../../data/ADAM/Dataset007_ADAMBinaryUntreatedAneurysmsOnly/labelsTr/10065F.nii.gz',\n '../../../../data/ADAM/Dataset007_ADAMBinaryUntreatedAneurysmsOnly/labelsTr/10061F.nii.gz',\n '../../../../data/ADAM/Dataset007_ADAMBinaryUntreatedAneurysmsOnly/labelsTr/10016.nii.gz',\n '../../../../data/ADAM/Dataset007_ADAMBinaryUntreatedAneurysmsOnly/labelsTr/10020.nii.gz',\n '../../../../data/ADAM/Dataset007_ADAMBinaryUntreatedAneurysmsOnly/labelsTr/10078F.nii.gz',\n '../../../../data/ADAM/Dataset007_ADAMBinaryUntreatedAneurysmsOnly/labelsTr/10064B.nii.gz',\n '../../../../data/ADAM/Dataset007_ADAMBinaryUntreatedAneurysmsOnly/labelsTr/10052B.nii.gz',\n '../../../../data/ADAM/Dataset007_ADAMBinaryUntreatedAneurysmsOnly/labelsTr/10073F.nii.gz',\n '../../../../data/ADAM/Dataset007_ADAMBinaryUntreatedAneurysmsOnly/labelsTr/10004.nii.gz',\n '../../../../data/ADAM/Dataset007_ADAMBinaryUntreatedAneurysmsOnly/labelsTr/10019.nii.gz',\n '../../../../data/ADAM/Dataset007_ADAMBinaryUntreatedAneurysmsOnly/labelsTr/10074F.nii.gz',\n '../../../../data/ADAM/Dataset007_ADAMBinaryUntreatedAneurysmsOnly/labelsTr/10021.nii.gz',\n '../../../../data/ADAM/Dataset007_ADAMBinaryUntreatedAneurysmsOnly/labelsTr/10034.nii.gz',\n '../../../../data/ADAM/Dataset007_ADAMBinaryUntreatedAneurysmsOnly/labelsTr/10017.nii.gz',\n '../../../../data/ADAM/Dataset007_ADAMBinaryUntreatedAneurysmsOnly/labelsTr/10038.nii.gz',\n '../../../../data/ADAM/Dataset007_ADAMBinaryUntreatedAneurysmsOnly/labelsTr/10027.nii.gz',\n '../../../../data/ADAM/Dataset007_ADAMBinaryUntreatedAneurysmsOnly/labelsTr/10061B.nii.gz',\n '../../../../data/ADAM/Dataset007_ADAMBinaryUntreatedAneurysmsOnly/labelsTr/10062F.nii.gz',\n '../../../../data/ADAM/Dataset007_ADAMBinaryUntreatedAneurysmsOnly/labelsTr/10054F.nii.gz',\n '../../../../data/ADAM/Dataset007_ADAMBinaryUntreatedAneurysmsOnly/labelsTr/10071B.nii.gz',\n '../../../../data/ADAM/Dataset007_ADAMBinaryUntreatedAneurysmsOnly/labelsTr/10045B.nii.gz',\n '../../../../data/ADAM/Dataset007_ADAMBinaryUntreatedAneurysmsOnly/labelsTr/10070B.nii.gz',\n '../../../../data/ADAM/Dataset007_ADAMBinaryUntreatedAneurysmsOnly/labelsTr/10074B.nii.gz',\n '../../../../data/ADAM/Dataset007_ADAMBinaryUntreatedAneurysmsOnly/labelsTr/10050F.nii.gz',\n '../../../../data/ADAM/Dataset007_ADAMBinaryUntreatedAneurysmsOnly/labelsTr/10031.nii.gz',\n '../../../../data/ADAM/Dataset007_ADAMBinaryUntreatedAneurysmsOnly/labelsTr/10058B.nii.gz',\n '../../../../data/ADAM/Dataset007_ADAMBinaryUntreatedAneurysmsOnly/labelsTr/10005.nii.gz',\n '../../../../data/ADAM/Dataset007_ADAMBinaryUntreatedAneurysmsOnly/labelsTr/10036.nii.gz',\n '../../../../data/ADAM/Dataset007_ADAMBinaryUntreatedAneurysmsOnly/labelsTr/10058F.nii.gz',\n '../../../../data/ADAM/Dataset007_ADAMBinaryUntreatedAneurysmsOnly/labelsTr/10050B.nii.gz',\n '../../../../data/ADAM/Dataset007_ADAMBinaryUntreatedAneurysmsOnly/labelsTr/10013.nii.gz',\n '../../../../data/ADAM/Dataset007_ADAMBinaryUntreatedAneurysmsOnly/labelsTr/10001.nii.gz',\n '../../../../data/ADAM/Dataset007_ADAMBinaryUntreatedAneurysmsOnly/labelsTr/10073B.nii.gz',\n '../../../../data/ADAM/Dataset007_ADAMBinaryUntreatedAneurysmsOnly/labelsTr/10065B.nii.gz',\n '../../../../data/ADAM/Dataset007_ADAMBinaryUntreatedAneurysmsOnly/labelsTr/10043.nii.gz',\n '../../../../data/ADAM/Dataset007_ADAMBinaryUntreatedAneurysmsOnly/labelsTr/10012.nii.gz',\n '../../../../data/ADAM/Dataset007_ADAMBinaryUntreatedAneurysmsOnly/labelsTr/10054B.nii.gz',\n '../../../../data/ADAM/Dataset007_ADAMBinaryUntreatedAneurysmsOnly/labelsTr/10055B.nii.gz',\n '../../../../data/ADAM/Dataset007_ADAMBinaryUntreatedAneurysmsOnly/labelsTr/10026.nii.gz',\n '../../../../data/ADAM/Dataset007_ADAMBinaryUntreatedAneurysmsOnly/labelsTr/10044F.nii.gz',\n '../../../../data/ADAM/Dataset007_ADAMBinaryUntreatedAneurysmsOnly/labelsTr/10055F.nii.gz',\n '../../../../data/ADAM/Dataset007_ADAMBinaryUntreatedAneurysmsOnly/labelsTr/10076B.nii.gz',\n '../../../../data/ADAM/Dataset007_ADAMBinaryUntreatedAneurysmsOnly/labelsTr/10057F.nii.gz',\n '../../../../data/ADAM/Dataset007_ADAMBinaryUntreatedAneurysmsOnly/labelsTr/10076F.nii.gz',\n '../../../../data/ADAM/Dataset007_ADAMBinaryUntreatedAneurysmsOnly/labelsTr/10070F.nii.gz',\n '../../../../data/ADAM/Dataset007_ADAMBinaryUntreatedAneurysmsOnly/labelsTr/10008.nii.gz',\n '../../../../data/ADAM/Dataset007_ADAMBinaryUntreatedAneurysmsOnly/labelsTr/10057B.nii.gz',\n '../../../../data/ADAM/Dataset007_ADAMBinaryUntreatedAneurysmsOnly/labelsTr/10059B.nii.gz',\n '../../../../data/ADAM/Dataset007_ADAMBinaryUntreatedAneurysmsOnly/labelsTr/10051F.nii.gz',\n '../../../../data/ADAM/Dataset007_ADAMBinaryUntreatedAneurysmsOnly/labelsTr/10075B.nii.gz',\n '../../../../data/ADAM/Dataset007_ADAMBinaryUntreatedAneurysmsOnly/labelsTr/10033.nii.gz',\n '../../../../data/ADAM/Dataset007_ADAMBinaryUntreatedAneurysmsOnly/labelsTr/10059F.nii.gz',\n '../../../../data/ADAM/Dataset007_ADAMBinaryUntreatedAneurysmsOnly/labelsTr/10056F.nii.gz',\n '../../../../data/ADAM/Dataset007_ADAMBinaryUntreatedAneurysmsOnly/labelsTr/10066B.nii.gz',\n '../../../../data/ADAM/Dataset007_ADAMBinaryUntreatedAneurysmsOnly/labelsTr/10044B.nii.gz',\n '../../../../data/ADAM/Dataset007_ADAMBinaryUntreatedAneurysmsOnly/labelsTr/10040.nii.gz',\n '../../../../data/ADAM/Dataset007_ADAMBinaryUntreatedAneurysmsOnly/labelsTr/10042.nii.gz',\n '../../../../data/ADAM/Dataset007_ADAMBinaryUntreatedAneurysmsOnly/labelsTr/10069F.nii.gz',\n '../../../../data/ADAM/Dataset007_ADAMBinaryUntreatedAneurysmsOnly/labelsTr/10062B.nii.gz',\n '../../../../data/ADAM/Dataset007_ADAMBinaryUntreatedAneurysmsOnly/labelsTr/10051B.nii.gz',\n '../../../../data/ADAM/Dataset007_ADAMBinaryUntreatedAneurysmsOnly/labelsTr/10045F.nii.gz',\n '../../../../data/ADAM/Dataset007_ADAMBinaryUntreatedAneurysmsOnly/labelsTr/10067B.nii.gz',\n '../../../../data/ADAM/Dataset007_ADAMBinaryUntreatedAneurysmsOnly/labelsTr/10014.nii.gz',\n '../../../../data/ADAM/Dataset007_ADAMBinaryUntreatedAneurysmsOnly/labelsTr/10007.nii.gz',\n '../../../../data/ADAM/Dataset007_ADAMBinaryUntreatedAneurysmsOnly/labelsTr/10011.nii.gz',\n '../../../../data/ADAM/Dataset007_ADAMBinaryUntreatedAneurysmsOnly/labelsTr/10032.nii.gz',\n '../../../../data/ADAM/Dataset007_ADAMBinaryUntreatedAneurysmsOnly/labelsTr/10052F.nii.gz',\n '../../../../data/ADAM/Dataset007_ADAMBinaryUntreatedAneurysmsOnly/labelsTr/10046B.nii.gz']"
     },
     "execution_count": 37,
     "metadata": {},
     "output_type": "execute_result"
    }
   ],
   "source": [
    "predictions_dir = os.path.join(data_dir, 'nnUNet_predictions', 'train_on_SD_predict_on_TD', 'train_on_Dataset003_3Classes', 'ADAM', 'imagesTr', '3d_fullres')\n",
    "\n",
    "gt_vols_fp = glob.glob(os.path.join(ground_truth_dir, 'labelsTr', '*.nii.gz'))\n",
    "pred_vols_fn = os.listdir(predictions_dir)\n",
    "gt_vols_fp"
   ],
   "metadata": {
    "collapsed": false,
    "ExecuteTime": {
     "end_time": "2023-12-21T07:29:18.682417351Z",
     "start_time": "2023-12-21T07:29:16.854795996Z"
    }
   }
  },
  {
   "cell_type": "code",
   "execution_count": 38,
   "outputs": [
    {
     "name": "stderr",
     "output_type": "stream",
     "text": [
      "100%|██████████| 90/90 [36:31<00:00, 24.35s/it]\n"
     ]
    },
    {
     "data": {
      "text/plain": "         vol_name  dice_aneur_kostas  recall_aneur_kostas  \\\n0   10064F.nii.gz       9.992266e-01         9.984544e-01   \n1   10063B.nii.gz       9.850384e-01         9.705179e-01   \n2    10023.nii.gz       0.000000e+00         0.000000e+00   \n3    10041.nii.gz       0.000000e+00         0.000000e+00   \n4   10075F.nii.gz       9.846154e-01         9.696970e-01   \n..            ...                ...                  ...   \n85   10007.nii.gz       1.000000e-12         1.000000e-12   \n86   10011.nii.gz       1.000000e-12         1.000000e-12   \n87   10032.nii.gz       0.000000e+00         0.000000e+00   \n88  10052F.nii.gz       8.430232e-01         7.286432e-01   \n89  10046B.nii.gz       5.142857e-01         3.461539e-01   \n\n    precision_aneur_kostas   dice_tm  recall_tm  precision_tm        mhd  \n0             1.000000e+00  0.667355   0.998454           1.0  16.886461  \n1             1.000000e+00  0.743136   0.970518           1.0   0.476742  \n2             1.000000e-12  0.000000   0.000000           0.0        inf  \n3             1.000000e-12  0.000000   0.000000           0.0        inf  \n4             1.000000e+00  0.166667   0.969697           1.0   4.020993  \n..                     ...       ...        ...           ...        ...  \n85            1.000000e-12  0.000000   0.000000           0.0   0.000000  \n86            1.000000e-12  0.000000   0.000000           0.0        inf  \n87            1.000000e-12  0.000000   0.000000           0.0        inf  \n88            1.000000e+00  0.396988   0.728643           1.0   2.116431  \n89            1.000000e+00  0.500000   0.346154           1.0   0.953048  \n\n[90 rows x 8 columns]",
      "text/html": "<div>\n<style scoped>\n    .dataframe tbody tr th:only-of-type {\n        vertical-align: middle;\n    }\n\n    .dataframe tbody tr th {\n        vertical-align: top;\n    }\n\n    .dataframe thead th {\n        text-align: right;\n    }\n</style>\n<table border=\"1\" class=\"dataframe\">\n  <thead>\n    <tr style=\"text-align: right;\">\n      <th></th>\n      <th>vol_name</th>\n      <th>dice_aneur_kostas</th>\n      <th>recall_aneur_kostas</th>\n      <th>precision_aneur_kostas</th>\n      <th>dice_tm</th>\n      <th>recall_tm</th>\n      <th>precision_tm</th>\n      <th>mhd</th>\n    </tr>\n  </thead>\n  <tbody>\n    <tr>\n      <th>0</th>\n      <td>10064F.nii.gz</td>\n      <td>9.992266e-01</td>\n      <td>9.984544e-01</td>\n      <td>1.000000e+00</td>\n      <td>0.667355</td>\n      <td>0.998454</td>\n      <td>1.0</td>\n      <td>16.886461</td>\n    </tr>\n    <tr>\n      <th>1</th>\n      <td>10063B.nii.gz</td>\n      <td>9.850384e-01</td>\n      <td>9.705179e-01</td>\n      <td>1.000000e+00</td>\n      <td>0.743136</td>\n      <td>0.970518</td>\n      <td>1.0</td>\n      <td>0.476742</td>\n    </tr>\n    <tr>\n      <th>2</th>\n      <td>10023.nii.gz</td>\n      <td>0.000000e+00</td>\n      <td>0.000000e+00</td>\n      <td>1.000000e-12</td>\n      <td>0.000000</td>\n      <td>0.000000</td>\n      <td>0.0</td>\n      <td>inf</td>\n    </tr>\n    <tr>\n      <th>3</th>\n      <td>10041.nii.gz</td>\n      <td>0.000000e+00</td>\n      <td>0.000000e+00</td>\n      <td>1.000000e-12</td>\n      <td>0.000000</td>\n      <td>0.000000</td>\n      <td>0.0</td>\n      <td>inf</td>\n    </tr>\n    <tr>\n      <th>4</th>\n      <td>10075F.nii.gz</td>\n      <td>9.846154e-01</td>\n      <td>9.696970e-01</td>\n      <td>1.000000e+00</td>\n      <td>0.166667</td>\n      <td>0.969697</td>\n      <td>1.0</td>\n      <td>4.020993</td>\n    </tr>\n    <tr>\n      <th>...</th>\n      <td>...</td>\n      <td>...</td>\n      <td>...</td>\n      <td>...</td>\n      <td>...</td>\n      <td>...</td>\n      <td>...</td>\n      <td>...</td>\n    </tr>\n    <tr>\n      <th>85</th>\n      <td>10007.nii.gz</td>\n      <td>1.000000e-12</td>\n      <td>1.000000e-12</td>\n      <td>1.000000e-12</td>\n      <td>0.000000</td>\n      <td>0.000000</td>\n      <td>0.0</td>\n      <td>0.000000</td>\n    </tr>\n    <tr>\n      <th>86</th>\n      <td>10011.nii.gz</td>\n      <td>1.000000e-12</td>\n      <td>1.000000e-12</td>\n      <td>1.000000e-12</td>\n      <td>0.000000</td>\n      <td>0.000000</td>\n      <td>0.0</td>\n      <td>inf</td>\n    </tr>\n    <tr>\n      <th>87</th>\n      <td>10032.nii.gz</td>\n      <td>0.000000e+00</td>\n      <td>0.000000e+00</td>\n      <td>1.000000e-12</td>\n      <td>0.000000</td>\n      <td>0.000000</td>\n      <td>0.0</td>\n      <td>inf</td>\n    </tr>\n    <tr>\n      <th>88</th>\n      <td>10052F.nii.gz</td>\n      <td>8.430232e-01</td>\n      <td>7.286432e-01</td>\n      <td>1.000000e+00</td>\n      <td>0.396988</td>\n      <td>0.728643</td>\n      <td>1.0</td>\n      <td>2.116431</td>\n    </tr>\n    <tr>\n      <th>89</th>\n      <td>10046B.nii.gz</td>\n      <td>5.142857e-01</td>\n      <td>3.461539e-01</td>\n      <td>1.000000e+00</td>\n      <td>0.500000</td>\n      <td>0.346154</td>\n      <td>1.0</td>\n      <td>0.953048</td>\n    </tr>\n  </tbody>\n</table>\n<p>90 rows × 8 columns</p>\n</div>"
     },
     "execution_count": 38,
     "metadata": {},
     "output_type": "execute_result"
    }
   ],
   "source": [
    "results_df = calculate_metrics(num_classes=2, aneurysm_class=2, gt_vols_fp=gt_vols_fp, pred_vols_fn=pred_vols_fn)\n",
    "results_df"
   ],
   "metadata": {
    "collapsed": false,
    "ExecuteTime": {
     "end_time": "2023-12-21T08:05:48.228145230Z",
     "start_time": "2023-12-21T07:29:16.899864722Z"
    }
   }
  },
  {
   "cell_type": "code",
   "execution_count": 39,
   "outputs": [],
   "source": [
    "results_df.to_csv(os.path.join(data_dir, 'results', 'sd_usz_21classes__td_adam_untreated_uias_trainset.csv'), index=False)"
   ],
   "metadata": {
    "collapsed": false,
    "ExecuteTime": {
     "end_time": "2023-12-21T08:05:48.260954537Z",
     "start_time": "2023-12-21T08:05:48.238499194Z"
    }
   }
  },
  {
   "cell_type": "code",
   "execution_count": 40,
   "outputs": [
    {
     "data": {
      "text/plain": "0.30287734474986794"
     },
     "execution_count": 40,
     "metadata": {},
     "output_type": "execute_result"
    }
   ],
   "source": [
    "results_df.dice_tm.mean()"
   ],
   "metadata": {
    "collapsed": false,
    "ExecuteTime": {
     "end_time": "2023-12-21T08:05:48.327931822Z",
     "start_time": "2023-12-21T08:05:48.254733215Z"
    }
   }
  },
  {
   "cell_type": "code",
   "execution_count": 41,
   "outputs": [
    {
     "data": {
      "text/plain": "0.23434726148843765"
     },
     "execution_count": 41,
     "metadata": {},
     "output_type": "execute_result"
    }
   ],
   "source": [
    "results_df.dice_tm.median()"
   ],
   "metadata": {
    "collapsed": false,
    "ExecuteTime": {
     "end_time": "2023-12-21T08:05:48.348122007Z",
     "start_time": "2023-12-21T08:05:48.271274312Z"
    }
   }
  },
  {
   "cell_type": "code",
   "execution_count": 42,
   "outputs": [
    {
     "data": {
      "text/plain": "<Axes: ylabel='Frequency'>"
     },
     "execution_count": 42,
     "metadata": {},
     "output_type": "execute_result"
    },
    {
     "data": {
      "text/plain": "<Figure size 640x480 with 1 Axes>",
      "image/png": "[encoded data removed]"
     },
     "metadata": {},
     "output_type": "display_data"
    }
   ],
   "source": [
    "results_df.dice_tm.plot(kind='hist')"
   ],
   "metadata": {
    "collapsed": false,
    "ExecuteTime": {
     "end_time": "2023-12-21T08:05:48.633262867Z",
     "start_time": "2023-12-21T08:05:48.285495648Z"
    }
   }
  },
  {
   "cell_type": "code",
   "execution_count": 43,
   "outputs": [
    {
     "data": {
      "text/plain": "24.36648787673488"
     },
     "execution_count": 43,
     "metadata": {},
     "output_type": "execute_result"
    }
   ],
   "source": [
    "results_df.mhd.map(lambda x: x if x != np.inf else 68).mean()\n"
   ],
   "metadata": {
    "collapsed": false,
    "ExecuteTime": {
     "end_time": "2023-12-21T08:05:48.740526097Z",
     "start_time": "2023-12-21T08:05:48.640459058Z"
    }
   }
  },
  {
   "cell_type": "code",
   "execution_count": null,
   "outputs": [],
   "source": [],
   "metadata": {
    "collapsed": false
   }
  }
 ],
 "metadata": {
  "kernelspec": {
   "display_name": "pytcu_21_1__py_3_10",
   "language": "python",
   "name": "python3"
  },
  "language_info": {
   "codemirror_mode": {
    "name": "ipython",
    "version": 3
   },
   "file_extension": ".py",
   "mimetype": "text/x-python",
   "name": "python",
   "nbconvert_exporter": "python",
   "pygments_lexer": "ipython3",
   "version": "3.10.13"
  }
 },
 "nbformat": 4,
 "nbformat_minor": 2
}
