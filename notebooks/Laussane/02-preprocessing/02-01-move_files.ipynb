{
 "cells": [
  {
   "cell_type": "code",
   "execution_count": 1,
   "metadata": {},
   "outputs": [],
   "source": [
    "import os\n",
    "import sys\n",
    "import glob\n",
    "import json\n",
    "import tqdm\n",
    "import shutil\n",
    "\n",
    "import numpy as np\n",
    "import pandas as pd\n",
    "import nibabel as nib\n",
    "\n",
    "sys.path.append(os.path.join(\"..\", \"..\", \"..\"))\n",
    "from tta_uia_segmentation.src.preprocessing.utils import get_filepaths_raw"
   ]
  },
  {
   "cell_type": "markdown",
   "metadata": {},
   "source": [
    "## Extract the bias corrected TOF scans"
   ]
  },
  {
   "cell_type": "code",
   "execution_count": 22,
   "metadata": {},
   "outputs": [],
   "source": [
    "output_dir = '../../../../data/preprocessed/0_bias_corrected/Lausanne'\n",
    "\n",
    "scans_dict = get_filepaths_raw(\n",
    "    path_to_tof_dir='/scratch_net/biwidl319/jbermeo/data/raw/Lausanne/N4_bias_field_corrected',\n",
    "    fp_pattern_tof=['*', '*', '*', '*angio_N4bfc_mask.nii.gz'],\n",
    "    path_to_seg_dir='/scratch_net/biwidl319/jbermeo/data/raw/Lausanne/skull_stripped_and_aneurysm_mask',\n",
    "    fp_pattern_seg=['*', '*', '*', '*Lesion_1_mask.nii.gz'],\n",
    "    level_of_dir_with_id=-4,\n",
    "    every_scan_has_seg=False    \n",
    ")\n",
    "\n",
    "scans_dict_2 = get_filepaths_raw(\n",
    "    path_to_tof_dir='/scratch_net/biwidl319/jbermeo/data/raw/Lausanne/N4_bias_field_corrected',\n",
    "    fp_pattern_tof=['*', '*', '*', '*angio_N4bfc_mask.nii.gz'],\n",
    "    path_to_seg_dir='/scratch_net/biwidl319/jbermeo/data/raw/Lausanne/skull_stripped_and_aneurysm_mask',\n",
    "    fp_pattern_seg=['*', '*', '*', '*Lesion_2_mask.nii.gz'],\n",
    "    level_of_dir_with_id=-4,\n",
    "    every_scan_has_seg=False    \n",
    ")\n",
    "\n",
    "scans_dict_3 = get_filepaths_raw(\n",
    "    path_to_tof_dir='/scratch_net/biwidl319/jbermeo/data/raw/Lausanne/N4_bias_field_corrected',\n",
    "    fp_pattern_tof=['*', '*', '*', '*angio_N4bfc_mask.nii.gz'],\n",
    "    path_to_seg_dir='/scratch_net/biwidl319/jbermeo/data/raw/Lausanne/skull_stripped_and_aneurysm_mask',\n",
    "    fp_pattern_seg=['*', '*', '*', '*Lesion_3_mask.nii.gz'],\n",
    "    level_of_dir_with_id=-4,\n",
    "    every_scan_has_seg=False    \n",
    ")\n",
    "\n",
    "scans_dict_4 = get_filepaths_raw(\n",
    "    path_to_tof_dir='/scratch_net/biwidl319/jbermeo/data/raw/Lausanne/N4_bias_field_corrected',\n",
    "    fp_pattern_tof=['*', '*', '*', '*angio_N4bfc_mask.nii.gz'],\n",
    "    path_to_seg_dir='/scratch_net/biwidl319/jbermeo/data/raw/Lausanne/skull_stripped_and_aneurysm_mask',\n",
    "    fp_pattern_seg=['*', '*', '*', '*Lesion_4_mask.nii.gz'],\n",
    "    level_of_dir_with_id=-4,\n",
    "    every_scan_has_seg=False    \n",
    ")"
   ]
  },
  {
   "cell_type": "code",
   "execution_count": 33,
   "metadata": {},
   "outputs": [
    {
     "name": "stdout",
     "output_type": "stream",
     "text": [
      "sub-452\n"
     ]
    }
   ],
   "source": [
    "for id, info in scans_dict_3.items():\n",
    "    if 'seg' in info:\n",
    "        print(id)"
   ]
  },
  {
   "cell_type": "code",
   "execution_count": 25,
   "metadata": {},
   "outputs": [
    {
     "name": "stdout",
     "output_type": "stream",
     "text": [
      "sub-458\n",
      "sub-481\n",
      "sub-480\n",
      "sub-452\n",
      "sub-452\n",
      "sub-464\n",
      "sub-487\n",
      "sub-486\n",
      "sub-457\n"
     ]
    }
   ],
   "source": [
    "scan_dict_complete = dict()\n",
    "for id, info in scans_dict.items():\n",
    "    scan_dict_complete[id] = {}\n",
    "    scan_dict_complete[id]['tof'] = info['tof']\n",
    "    if 'seg' in info:\n",
    "        scan_dict_complete[id]['seg'] = [info['seg']]\n",
    "    \n",
    "    for scan_d_i in [scans_dict_2, scans_dict_3, scans_dict_4]:\n",
    "        if 'seg' in scan_d_i[id]:\n",
    "            print(id)\n",
    "            scan_dict_complete[id]['seg'].append(scan_d_i[id]['seg'])        "
   ]
  },
  {
   "cell_type": "code",
   "execution_count": 32,
   "metadata": {},
   "outputs": [
    {
     "name": "stderr",
     "output_type": "stream",
     "text": [
      "100%|██████████| 37/37 [01:40<00:00,  2.70s/it]\n"
     ]
    }
   ],
   "source": [
    "for scan_id, scans in tqdm.tqdm(scan_dict_complete.items()):\n",
    "    scan_dir_path = os.path.join(output_dir, scan_id)\n",
    "    os.makedirs(scan_dir_path, exist_ok=True)\n",
    "    \n",
    "    # copy new_path_tof to output_dir_tof\n",
    "    new_path_tof = os.path.join(scan_dir_path, f'{scan_id}_tof.nii.gz')\n",
    "    shutil.copy(scans['tof'], new_path_tof)\n",
    "\n",
    "    # copy new_path_aneurysm to output_dir_label\n",
    "    if 'seg' in scans:\n",
    "        # Load nifti file of all the scans and collapse them into a single mask\n",
    "        segs = []\n",
    "        for i, seg in enumerate(scans['seg']):\n",
    "            seg_nib = nib.load(seg)\n",
    "            if i == 0:\n",
    "                header = seg_nib.header\n",
    "                affine = seg_nib.affine\n",
    "                \n",
    "            segs.append(seg_nib.get_fdata())\n",
    "            \n",
    "        # Collapse them into single mask\n",
    "        segs = np.array(segs)\n",
    "        segs = np.sum(segs, axis=0)\n",
    "        segs[segs > 0] = 1\n",
    "        segs = nib.Nifti1Image(segs, affine, header)\n",
    "        new_path_aneurysm = os.path.join(scan_dir_path, f'{scan_id}_seg.nii.gz') \n",
    "        nib.save(segs, new_path_aneurysm)\n",
    "    \n"
   ]
  },
  {
   "cell_type": "code",
   "execution_count": 30,
   "metadata": {},
   "outputs": [
    {
     "data": {
      "text/plain": [
       "'/'"
      ]
     },
     "execution_count": 30,
     "metadata": {},
     "output_type": "execute_result"
    }
   ],
   "source": [
    "seg"
   ]
  },
  {
   "cell_type": "code",
   "execution_count": 16,
   "metadata": {},
   "outputs": [
    {
     "data": {
      "text/plain": [
       "{'tof': '/scratch_net/biwidl319/jbermeo/data/raw/Lausanne/N4_bias_field_corrected/sub-482/ses-20140210/anat/sub-482_ses-20140210_desc-angio_N4bfc_mask.nii.gz'}"
      ]
     },
     "execution_count": 16,
     "metadata": {},
     "output_type": "execute_result"
    }
   ],
   "source": [
    "scans"
   ]
  },
  {
   "cell_type": "markdown",
   "metadata": {},
   "source": [
    "## Do it for the healthy patient scans"
   ]
  },
  {
   "cell_type": "code",
   "execution_count": 4,
   "metadata": {},
   "outputs": [],
   "source": [
    "output_dir = '../../../../data/preprocessed/0_bias_corrected/Lausanne_healthy_subjects'\n",
    "\n",
    "scans_dict = get_filepaths_raw(\n",
    "    path_to_tof_dir='/scratch_net/biwidl319/jbermeo/data/raw/Lausanne_healthy_subjects/N4_bias_field_corrected',\n",
    "    fp_pattern_tof=['*', '*', '*', '*angio_N4bfc_mask.nii.gz'],\n",
    "    path_to_seg_dir='/scratch_net/biwidl319/jbermeo/data/raw/Lausanne_healthy_subjects/manual_masks',\n",
    "    fp_pattern_seg=['*', '*', '*', '*Lesion_1_mask.nii.gz'],\n",
    "    level_of_dir_with_id=-4,\n",
    "    every_scan_has_seg=False    \n",
    ")"
   ]
  },
  {
   "cell_type": "code",
   "execution_count": 6,
   "metadata": {},
   "outputs": [
    {
     "name": "stderr",
     "output_type": "stream",
     "text": [
      "100%|██████████| 19/19 [00:00<00:00, 28.51it/s]\n"
     ]
    }
   ],
   "source": [
    "for scan_id, scans in tqdm.tqdm(scans_dict.items()):\n",
    "    scan_dir_path = os.path.join(output_dir, scan_id)\n",
    "    os.makedirs(scan_dir_path, exist_ok=True)\n",
    "    \n",
    "    # copy new_path_tof to output_dir_tof\n",
    "    new_path_tof = os.path.join(scan_dir_path, f'{scan_id}_tof.nii.gz')\n",
    "    shutil.copy(scans['tof'], new_path_tof)\n",
    "\n",
    "    # copy new_path_aneurysm to output_dir_label\n",
    "    if 'seg' in scans:\n",
    "        # Load nifti file of all the scans and collapse them into a single mask\n",
    "        segs = []\n",
    "        for i, seg in enumerate(scans['seg']):\n",
    "            seg_nib = nib.load(seg)\n",
    "            if i == 0:\n",
    "                header = seg_nib.header\n",
    "                affine = seg_nib.affine\n",
    "                \n",
    "            segs.append(seg_nib.get_fdata())\n",
    "            \n",
    "        # Collapse them into single mask\n",
    "        segs = np.array(segs)\n",
    "        segs = np.sum(segs, axis=0)\n",
    "        segs[segs > 0] = 1\n",
    "        segs = nib.Nifti1Image(segs, affine, header)\n",
    "        new_path_aneurysm = os.path.join(scan_dir_path, f'{scan_id}_seg.nii.gz') \n",
    "        nib.save(segs, new_path_aneurysm)\n",
    "    "
   ]
  },
  {
   "cell_type": "code",
   "execution_count": null,
   "metadata": {},
   "outputs": [],
   "source": []
  }
 ],
 "metadata": {
  "kernelspec": {
   "display_name": "nnUnet_dev",
   "language": "python",
   "name": "python3"
  },
  "language_info": {
   "codemirror_mode": {
    "name": "ipython",
    "version": 3
   },
   "file_extension": ".py",
   "mimetype": "text/x-python",
   "name": "python",
   "nbconvert_exporter": "python",
   "pygments_lexer": "ipython3",
   "version": "3.9.18"
  }
 },
 "nbformat": 4,
 "nbformat_minor": 2
}
