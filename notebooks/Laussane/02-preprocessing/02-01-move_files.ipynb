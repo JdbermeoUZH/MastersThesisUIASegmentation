{
 "cells": [
  {
   "cell_type": "code",
   "execution_count": 11,
   "metadata": {},
   "outputs": [],
   "source": [
    "import os\n",
    "import sys\n",
    "import glob\n",
    "import json\n",
    "import tqdm\n",
    "import shutil\n",
    "\n",
    "import numpy as np\n",
    "import pandas as pd\n",
    "import nibabel as nib\n",
    "\n",
    "sys.path.append(os.path.join(\"..\", \"..\", \"..\"))\n",
    "from tta_uia_segmentation.src.preprocessing.utils import get_filepaths_raw"
   ]
  },
  {
   "cell_type": "markdown",
   "metadata": {},
   "source": [
    "## Extract the bias corrected TOF scans"
   ]
  },
  {
   "cell_type": "code",
   "execution_count": 18,
   "metadata": {},
   "outputs": [],
   "source": [
    "output_dir = '../../../../data/preprocessed/0_bias_corrected/Lausanne'\n",
    "\n",
    "scans_dict = get_filepaths_raw(\n",
    "    path_to_tof_dir='/scratch_net/biwidl319/jbermeo/data/raw/Lausanne/N4_bias_field_corrected',\n",
    "    fp_pattern_tof=['*', '*', '*', '*angio_N4bfc_mask.nii.gz'],\n",
    "    path_to_seg_dir='/scratch_net/biwidl319/jbermeo/data/raw/Lausanne/skull_stripped_and_aneurysm_mask',\n",
    "    fp_pattern_seg=['*', '*', '*', '*Lesion_1_mask.nii.gz'],\n",
    "    level_of_dir_with_id=-4,\n",
    "    every_scan_has_seg=False    \n",
    ")"
   ]
  },
  {
   "cell_type": "code",
   "execution_count": 19,
   "metadata": {},
   "outputs": [
    {
     "name": "stderr",
     "output_type": "stream",
     "text": [
      "100%|██████████| 38/38 [00:17<00:00,  2.21it/s]\n"
     ]
    }
   ],
   "source": [
    "for scan_id, scans in tqdm.tqdm(scans_dict.items()):\n",
    "    scan_dir_path = os.path.join(output_dir, scan_id)\n",
    "    os.makedirs(scan_dir_path, exist_ok=True)\n",
    "    \n",
    "    # copy new_path_tof to output_dir_tof\n",
    "    new_path_tof = os.path.join(scan_dir_path, f'{scan_id}_tof.nii.gz')\n",
    "    shutil.copy(scans['tof'], new_path_tof)\n",
    "\n",
    "    # copy new_path_aneurysm to output_dir_label\n",
    "    if 'seg' in scans:\n",
    "        new_path_aneurysm = os.path.join(scan_dir_path, f'{scan_id}_seg.nii.gz')\n",
    "        shutil.copy(scans['seg'], new_path_aneurysm)\n",
    "    \n"
   ]
  },
  {
   "cell_type": "code",
   "execution_count": 16,
   "metadata": {},
   "outputs": [
    {
     "data": {
      "text/plain": [
       "{'tof': '/scratch_net/biwidl319/jbermeo/data/raw/Lausanne/N4_bias_field_corrected/sub-482/ses-20140210/anat/sub-482_ses-20140210_desc-angio_N4bfc_mask.nii.gz'}"
      ]
     },
     "execution_count": 16,
     "metadata": {},
     "output_type": "execute_result"
    }
   ],
   "source": [
    "scans"
   ]
  },
  {
   "cell_type": "code",
   "execution_count": null,
   "metadata": {},
   "outputs": [],
   "source": []
  }
 ],
 "metadata": {
  "kernelspec": {
   "display_name": "nnUnet_dev",
   "language": "python",
   "name": "python3"
  },
  "language_info": {
   "codemirror_mode": {
    "name": "ipython",
    "version": 3
   },
   "file_extension": ".py",
   "mimetype": "text/x-python",
   "name": "python",
   "nbconvert_exporter": "python",
   "pygments_lexer": "ipython3",
   "version": "3.9.18"
  }
 },
 "nbformat": 4,
 "nbformat_minor": 2
}
