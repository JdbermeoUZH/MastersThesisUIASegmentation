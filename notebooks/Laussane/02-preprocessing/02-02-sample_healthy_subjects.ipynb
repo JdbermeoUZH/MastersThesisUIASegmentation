{
 "cells": [
  {
   "cell_type": "code",
   "execution_count": 23,
   "metadata": {},
   "outputs": [],
   "source": [
    "import os\n",
    "import glob\n",
    "import random"
   ]
  },
  {
   "cell_type": "code",
   "execution_count": 6,
   "metadata": {},
   "outputs": [],
   "source": [
    "data_dir_path = \"/media/juanbermeo/Elements/Master's Thesis/data/Laussane/derivatives/manual_masks\""
   ]
  },
  {
   "cell_type": "code",
   "execution_count": 13,
   "metadata": {},
   "outputs": [],
   "source": [
    "paths = glob.glob(os.path.join(data_dir_path, \"sub-*\"))"
   ]
  },
  {
   "cell_type": "code",
   "execution_count": 20,
   "metadata": {},
   "outputs": [],
   "source": [
    "healthy_subjs = []\n",
    "for subj_dir in paths:\n",
    "    \n",
    "    if int(subj_dir.split('/')[-1].split('-')[-1]) > 450:\n",
    "        continue\n",
    "    \n",
    "    if len(glob.glob(os.path.join(subj_dir, '*/*/*Lesion*'))) == 0:\n",
    "        healthy_subjs.append(subj_dir.split('/')[-1])\n",
    "        \n",
    "        "
   ]
  },
  {
   "cell_type": "code",
   "execution_count": 21,
   "metadata": {},
   "outputs": [
    {
     "data": {
      "text/plain": [
       "127"
      ]
     },
     "execution_count": 21,
     "metadata": {},
     "output_type": "execute_result"
    }
   ],
   "source": [
    "len(healthy_subjs)"
   ]
  },
  {
   "cell_type": "code",
   "execution_count": 25,
   "metadata": {},
   "outputs": [],
   "source": [
    "# sample 19 subjects\n",
    "random.seed(1)\n",
    "healthy_subjects = random.sample(healthy_subjs, 19)"
   ]
  },
  {
   "cell_type": "code",
   "execution_count": 26,
   "metadata": {},
   "outputs": [
    {
     "data": {
      "text/plain": [
       "['sub-069',\n",
       " 'sub-243',\n",
       " 'sub-299',\n",
       " 'sub-287',\n",
       " 'sub-279',\n",
       " 'sub-030',\n",
       " 'sub-128',\n",
       " 'sub-053',\n",
       " 'sub-214',\n",
       " 'sub-204',\n",
       " 'sub-209',\n",
       " 'sub-261',\n",
       " 'sub-183',\n",
       " 'sub-284',\n",
       " 'sub-107',\n",
       " 'sub-037',\n",
       " 'sub-297',\n",
       " 'sub-005',\n",
       " 'sub-319']"
      ]
     },
     "execution_count": 26,
     "metadata": {},
     "output_type": "execute_result"
    }
   ],
   "source": [
    "healthy_subjects"
   ]
  },
  {
   "cell_type": "code",
   "execution_count": 29,
   "metadata": {},
   "outputs": [],
   "source": [
    "lesion_subjects = \"/media/juanbermeo/Elements/Master's Thesis/data/Laussane/derivatives/manual_masks\"\n",
    "bias_corrected_images = \"/media/juanbermeo/Elements/Master's Thesis/data/Laussane/derivatives/N4_bias_field_corrected\"\n",
    "original_images = \"/media/juanbermeo/Elements/Master's Thesis/data/Laussane/\"\n",
    "subj_dir_dest = \"/media/juanbermeo/Elements/Master's Thesis/data/raw/Lausanne_healthy_subjects\""
   ]
  },
  {
   "cell_type": "code",
   "execution_count": 33,
   "metadata": {},
   "outputs": [],
   "source": [
    "import shutil\n",
    "\n",
    "\n",
    "\n",
    "for subj in healthy_subjects:\n",
    "    subj_dir = os.path.join(lesion_subjects, subj)\n",
    "    shutil.copytree(subj_dir, os.path.join(subj_dir_dest, 'manual_masks', subj))\n",
    "    \n",
    "    subj_dir = os.path.join(bias_corrected_images, subj)\n",
    "    shutil.copytree(subj_dir, os.path.join(subj_dir_dest, 'N4_bias_field_corrected', subj))\n",
    "    \n",
    "    subj_dir = os.path.join(original_images, subj)\n",
    "    shutil.copytree(subj_dir, os.path.join(subj_dir_dest, 'raw', subj))"
   ]
  },
  {
   "cell_type": "code",
   "execution_count": null,
   "metadata": {},
   "outputs": [],
   "source": []
  }
 ],
 "metadata": {
  "kernelspec": {
   "display_name": "nnUnet_dev",
   "language": "python",
   "name": "python3"
  },
  "language_info": {
   "codemirror_mode": {
    "name": "ipython",
    "version": 3
   },
   "file_extension": ".py",
   "mimetype": "text/x-python",
   "name": "python",
   "nbconvert_exporter": "python",
   "pygments_lexer": "ipython3",
   "version": "3.11.7"
  }
 },
 "nbformat": 4,
 "nbformat_minor": 2
}
