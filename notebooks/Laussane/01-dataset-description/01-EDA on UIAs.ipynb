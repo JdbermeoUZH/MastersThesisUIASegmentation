{
 "cells": [
  {
   "cell_type": "code",
   "execution_count": 1,
   "id": "6978fe0e",
   "metadata": {},
   "outputs": [],
   "source": [
    "import os\n",
    "import sys\n",
    "import glob\n",
    "import json\n",
    "import tqdm\n",
    "\n",
    "import numpy as np\n",
    "import pandas as pd\n",
    "import nibabel as nib"
   ]
  },
  {
   "cell_type": "markdown",
   "id": "5944803b0d142041",
   "metadata": {
    "collapsed": false
   },
   "source": [
    "# 01 - General Description and some statistics of the Dataset"
   ]
  },
  {
   "cell_type": "markdown",
   "id": "f67702bb",
   "metadata": {},
   "source": [
    "## 1.0 Generate csv file with basic information per image\n",
    " - voxel size\n",
    " - field of view\n",
    " - volume of aneurysm class"
   ]
  },
  {
   "cell_type": "code",
   "execution_count": 45,
   "id": "882e0f56",
   "metadata": {},
   "outputs": [],
   "source": [
    "tof_data_dir = '../../../../data/raw/Lausanne/original_images'\n",
    "label_data_dir = '../../../../data/raw/Lausanne/skull_stripped_and_aneurysm_mask'\n",
    "image_tof_fps = glob.glob(os.path.join(tof_data_dir, '*', '*', '*', '*_angio.nii.gz'))\n",
    "image_tof_fps_df = pd.DataFrame([{'image_name': image_tof_fp.split('/')[-4],\n",
    "                                  'image_tof_fp': image_tof_fp} \n",
    "                                 for image_tof_fp in image_tof_fps])\n",
    "image_label_fps = glob.glob(os.path.join(label_data_dir, '*', '*', '*', '*Lesion_1_mask.nii.gz'))\n",
    "image_label_fps_df = pd.DataFrame([{'image_name': image_label_fp.split('/')[-4],\n",
    "                                    'image_label_fp': image_label_fp} \n",
    "                                   for image_label_fp in image_label_fps])\n"
   ]
  },
  {
   "cell_type": "code",
   "execution_count": 50,
   "id": "1ec7fc8a",
   "metadata": {},
   "outputs": [
    {
     "data": {
      "text/html": [
       "<div>\n",
       "<style scoped>\n",
       "    .dataframe tbody tr th:only-of-type {\n",
       "        vertical-align: middle;\n",
       "    }\n",
       "\n",
       "    .dataframe tbody tr th {\n",
       "        vertical-align: top;\n",
       "    }\n",
       "\n",
       "    .dataframe thead th {\n",
       "        text-align: right;\n",
       "    }\n",
       "</style>\n",
       "<table border=\"1\" class=\"dataframe\">\n",
       "  <thead>\n",
       "    <tr style=\"text-align: right;\">\n",
       "      <th></th>\n",
       "      <th>image_tof_fp</th>\n",
       "      <th>image_label_fp</th>\n",
       "    </tr>\n",
       "    <tr>\n",
       "      <th>image_name</th>\n",
       "      <th></th>\n",
       "      <th></th>\n",
       "    </tr>\n",
       "  </thead>\n",
       "  <tbody>\n",
       "    <tr>\n",
       "      <th>sub-471</th>\n",
       "      <td>../../../../data/raw/Lausanne/original_images/...</td>\n",
       "      <td>../../../../data/raw/Lausanne/skull_stripped_a...</td>\n",
       "    </tr>\n",
       "    <tr>\n",
       "      <th>sub-458</th>\n",
       "      <td>../../../../data/raw/Lausanne/original_images/...</td>\n",
       "      <td>../../../../data/raw/Lausanne/skull_stripped_a...</td>\n",
       "    </tr>\n",
       "    <tr>\n",
       "      <th>sub-451</th>\n",
       "      <td>../../../../data/raw/Lausanne/original_images/...</td>\n",
       "      <td>../../../../data/raw/Lausanne/skull_stripped_a...</td>\n",
       "    </tr>\n",
       "    <tr>\n",
       "      <th>sub-474</th>\n",
       "      <td>../../../../data/raw/Lausanne/original_images/...</td>\n",
       "      <td>../../../../data/raw/Lausanne/skull_stripped_a...</td>\n",
       "    </tr>\n",
       "    <tr>\n",
       "      <th>sub-450</th>\n",
       "      <td>../../../../data/raw/Lausanne/original_images/...</td>\n",
       "      <td>../../../../data/raw/Lausanne/skull_stripped_a...</td>\n",
       "    </tr>\n",
       "  </tbody>\n",
       "</table>\n",
       "</div>"
      ],
      "text/plain": [
       "                                                 image_tof_fp  \\\n",
       "image_name                                                      \n",
       "sub-471     ../../../../data/raw/Lausanne/original_images/...   \n",
       "sub-458     ../../../../data/raw/Lausanne/original_images/...   \n",
       "sub-451     ../../../../data/raw/Lausanne/original_images/...   \n",
       "sub-474     ../../../../data/raw/Lausanne/original_images/...   \n",
       "sub-450     ../../../../data/raw/Lausanne/original_images/...   \n",
       "\n",
       "                                               image_label_fp  \n",
       "image_name                                                     \n",
       "sub-471     ../../../../data/raw/Lausanne/skull_stripped_a...  \n",
       "sub-458     ../../../../data/raw/Lausanne/skull_stripped_a...  \n",
       "sub-451     ../../../../data/raw/Lausanne/skull_stripped_a...  \n",
       "sub-474     ../../../../data/raw/Lausanne/skull_stripped_a...  \n",
       "sub-450     ../../../../data/raw/Lausanne/skull_stripped_a...  "
      ]
     },
     "execution_count": 50,
     "metadata": {},
     "output_type": "execute_result"
    }
   ],
   "source": [
    "image_paths_df = pd.merge(image_tof_fps_df, image_label_fps_df, on='image_name')\n",
    "image_paths_df.set_index('image_name', inplace=True)\n",
    "image_paths_df.head()"
   ]
  },
  {
   "cell_type": "code",
   "execution_count": 56,
   "id": "c11bf0c6",
   "metadata": {},
   "outputs": [
    {
     "name": "stderr",
     "output_type": "stream",
     "text": [
      "0it [00:00, ?it/s]"
     ]
    },
    {
     "name": "stdout",
     "output_type": "stream",
     "text": [
      "processing image:  sub-471\r"
     ]
    },
    {
     "name": "stderr",
     "output_type": "stream",
     "text": [
      "1it [00:00,  4.77it/s]"
     ]
    },
    {
     "name": "stdout",
     "output_type": "stream",
     "text": [
      "processing image:  sub-451\r"
     ]
    },
    {
     "name": "stderr",
     "output_type": "stream",
     "text": [
      "3it [00:00,  6.82it/s]"
     ]
    },
    {
     "name": "stdout",
     "output_type": "stream",
     "text": [
      "processing image:  sub-474\r"
     ]
    },
    {
     "name": "stderr",
     "output_type": "stream",
     "text": [
      "5it [00:00,  5.66it/s]"
     ]
    },
    {
     "name": "stdout",
     "output_type": "stream",
     "text": [
      "processing image:  sub-472\r"
     ]
    },
    {
     "name": "stderr",
     "output_type": "stream",
     "text": [
      "7it [00:01,  6.76it/s]"
     ]
    },
    {
     "name": "stdout",
     "output_type": "stream",
     "text": [
      "processing image:  sub-481\r"
     ]
    },
    {
     "name": "stderr",
     "output_type": "stream",
     "text": [
      "9it [00:01,  7.11it/s]"
     ]
    },
    {
     "name": "stdout",
     "output_type": "stream",
     "text": [
      "processing image:  sub-462\r"
     ]
    },
    {
     "name": "stderr",
     "output_type": "stream",
     "text": [
      "10it [00:01,  6.34it/s]"
     ]
    },
    {
     "name": "stdout",
     "output_type": "stream",
     "text": [
      "processing image:  sub-452\r"
     ]
    },
    {
     "name": "stderr",
     "output_type": "stream",
     "text": [
      "12it [00:01,  6.81it/s]"
     ]
    },
    {
     "name": "stdout",
     "output_type": "stream",
     "text": [
      "processing image:  sub-455\r"
     ]
    },
    {
     "name": "stderr",
     "output_type": "stream",
     "text": [
      "13it [00:02,  5.92it/s]"
     ]
    },
    {
     "name": "stdout",
     "output_type": "stream",
     "text": [
      "processing image:  sub-464\r"
     ]
    },
    {
     "name": "stderr",
     "output_type": "stream",
     "text": [
      "14it [00:02,  5.55it/s]"
     ]
    },
    {
     "name": "stdout",
     "output_type": "stream",
     "text": [
      "processing image:  sub-453\r"
     ]
    },
    {
     "name": "stderr",
     "output_type": "stream",
     "text": [
      "17it [00:02,  7.14it/s]"
     ]
    },
    {
     "name": "stdout",
     "output_type": "stream",
     "text": [
      "processing image:  sub-478\r"
     ]
    },
    {
     "name": "stderr",
     "output_type": "stream",
     "text": [
      "20it [00:02,  8.29it/s]"
     ]
    },
    {
     "name": "stdout",
     "output_type": "stream",
     "text": [
      "processing image:  sub-490\r"
     ]
    },
    {
     "name": "stderr",
     "output_type": "stream",
     "text": [
      "23it [00:03,  9.25it/s]"
     ]
    },
    {
     "name": "stdout",
     "output_type": "stream",
     "text": [
      "processing image:  sub-465\r"
     ]
    },
    {
     "name": "stderr",
     "output_type": "stream",
     "text": [
      "24it [00:03,  8.04it/s]"
     ]
    },
    {
     "name": "stdout",
     "output_type": "stream",
     "text": [
      "processing image:  sub-492\r"
     ]
    },
    {
     "name": "stderr",
     "output_type": "stream",
     "text": [
      "26it [00:03,  6.60it/s]"
     ]
    },
    {
     "name": "stdout",
     "output_type": "stream",
     "text": [
      "processing image:  sub-470\r"
     ]
    },
    {
     "name": "stderr",
     "output_type": "stream",
     "text": [
      "28it [00:03,  7.65it/s]"
     ]
    },
    {
     "name": "stdout",
     "output_type": "stream",
     "text": [
      "processing image:  sub-479\r"
     ]
    },
    {
     "name": "stderr",
     "output_type": "stream",
     "text": [
      "30it [00:04,  6.60it/s]"
     ]
    },
    {
     "name": "stdout",
     "output_type": "stream",
     "text": [
      "processing image:  sub-487\r"
     ]
    },
    {
     "name": "stderr",
     "output_type": "stream",
     "text": [
      "32it [00:04,  6.05it/s]"
     ]
    },
    {
     "name": "stdout",
     "output_type": "stream",
     "text": [
      "processing image:  sub-467\r"
     ]
    },
    {
     "name": "stderr",
     "output_type": "stream",
     "text": [
      "33it [00:04,  5.58it/s]"
     ]
    },
    {
     "name": "stdout",
     "output_type": "stream",
     "text": [
      "processing image:  sub-461\r"
     ]
    },
    {
     "name": "stderr",
     "output_type": "stream",
     "text": [
      "34it [00:05,  5.34it/s]"
     ]
    },
    {
     "name": "stdout",
     "output_type": "stream",
     "text": [
      "processing image:  sub-457\r"
     ]
    },
    {
     "name": "stderr",
     "output_type": "stream",
     "text": [
      "37it [00:05,  6.89it/s]\n"
     ]
    }
   ],
   "source": [
    "aneurysm_label = 1\n",
    "basic_desc = []\n",
    "for image_name, row in tqdm.tqdm(image_paths_df.iterrows()):\n",
    "    \n",
    "    img_fp = row['image_tof_fp']\n",
    "    label_fp = row['image_label_fp']\n",
    "    \n",
    "    print('processing image: ', image_name,  end='\\r')\n",
    "    \n",
    "    # load nift image\n",
    "    img = nib.load(img_fp)\n",
    "    aneurysm_mask = nib.load(label_fp)\n",
    "    \n",
    "    # Get voxel_size_in each dimension\n",
    "    y_size, x_size, z_size = img.header.get_zooms()\n",
    "    \n",
    "    # Get field of view in each dimension\n",
    "    y_fov = y_size * img.shape[0]\n",
    "    x_fov = x_size * img.shape[1]\n",
    "    z_fov = z_size * img.shape[2]\n",
    "    \n",
    "    # Volume of the aneurysm\n",
    "    aneurysm_volume = np.sum(aneurysm_mask.get_fdata() == aneurysm_label) * y_size * x_size * z_size\n",
    "    \n",
    "    basic_desc.append(\n",
    "        {\n",
    "            'img_name': image_name,\n",
    "            'y_size': y_size,\n",
    "            'x_size': x_size,\n",
    "            'z_size': z_size,\n",
    "            'y_fov': y_fov,\n",
    "            'x_fov': x_fov,\n",
    "            'z_fov': z_fov,\n",
    "            'aneurysm_volume': aneurysm_volume\n",
    "        }\n",
    "    )"
   ]
  },
  {
   "cell_type": "code",
   "execution_count": 57,
   "id": "9b721f53",
   "metadata": {},
   "outputs": [
    {
     "data": {
      "text/html": [
       "<div>\n",
       "<style scoped>\n",
       "    .dataframe tbody tr th:only-of-type {\n",
       "        vertical-align: middle;\n",
       "    }\n",
       "\n",
       "    .dataframe tbody tr th {\n",
       "        vertical-align: top;\n",
       "    }\n",
       "\n",
       "    .dataframe thead th {\n",
       "        text-align: right;\n",
       "    }\n",
       "</style>\n",
       "<table border=\"1\" class=\"dataframe\">\n",
       "  <thead>\n",
       "    <tr style=\"text-align: right;\">\n",
       "      <th></th>\n",
       "      <th>y_size</th>\n",
       "      <th>x_size</th>\n",
       "      <th>z_size</th>\n",
       "      <th>y_fov</th>\n",
       "      <th>x_fov</th>\n",
       "      <th>z_fov</th>\n",
       "      <th>aneurysm_volume</th>\n",
       "    </tr>\n",
       "    <tr>\n",
       "      <th>img_name</th>\n",
       "      <th></th>\n",
       "      <th></th>\n",
       "      <th></th>\n",
       "      <th></th>\n",
       "      <th></th>\n",
       "      <th></th>\n",
       "      <th></th>\n",
       "    </tr>\n",
       "  </thead>\n",
       "  <tbody>\n",
       "    <tr>\n",
       "      <th>sub-471</th>\n",
       "      <td>0.245536</td>\n",
       "      <td>0.245536</td>\n",
       "      <td>0.700001</td>\n",
       "      <td>176.785716</td>\n",
       "      <td>220.000002</td>\n",
       "      <td>112.000151</td>\n",
       "      <td>123.312808</td>\n",
       "    </tr>\n",
       "    <tr>\n",
       "      <th>sub-458</th>\n",
       "      <td>0.546875</td>\n",
       "      <td>0.546875</td>\n",
       "      <td>0.699997</td>\n",
       "      <td>167.343750</td>\n",
       "      <td>210.000000</td>\n",
       "      <td>90.999565</td>\n",
       "      <td>44.800811</td>\n",
       "    </tr>\n",
       "    <tr>\n",
       "      <th>sub-451</th>\n",
       "      <td>0.286458</td>\n",
       "      <td>0.286458</td>\n",
       "      <td>0.500002</td>\n",
       "      <td>199.375007</td>\n",
       "      <td>220.000008</td>\n",
       "      <td>100.000441</td>\n",
       "      <td>26.340857</td>\n",
       "    </tr>\n",
       "    <tr>\n",
       "      <th>sub-474</th>\n",
       "      <td>0.286458</td>\n",
       "      <td>0.286458</td>\n",
       "      <td>0.499999</td>\n",
       "      <td>199.375007</td>\n",
       "      <td>220.000008</td>\n",
       "      <td>99.999803</td>\n",
       "      <td>29.869192</td>\n",
       "    </tr>\n",
       "    <tr>\n",
       "      <th>sub-450</th>\n",
       "      <td>0.286458</td>\n",
       "      <td>0.286458</td>\n",
       "      <td>0.650003</td>\n",
       "      <td>174.166673</td>\n",
       "      <td>220.000008</td>\n",
       "      <td>130.000520</td>\n",
       "      <td>45.070747</td>\n",
       "    </tr>\n",
       "    <tr>\n",
       "      <th>sub-472</th>\n",
       "      <td>0.546875</td>\n",
       "      <td>0.546875</td>\n",
       "      <td>0.700003</td>\n",
       "      <td>167.343750</td>\n",
       "      <td>210.000000</td>\n",
       "      <td>112.000408</td>\n",
       "      <td>7562.608127</td>\n",
       "    </tr>\n",
       "    <tr>\n",
       "      <th>sub-459</th>\n",
       "      <td>0.286458</td>\n",
       "      <td>0.286458</td>\n",
       "      <td>0.600003</td>\n",
       "      <td>179.895821</td>\n",
       "      <td>219.999985</td>\n",
       "      <td>120.000565</td>\n",
       "      <td>93.940859</td>\n",
       "    </tr>\n",
       "    <tr>\n",
       "      <th>sub-488</th>\n",
       "      <td>0.468750</td>\n",
       "      <td>0.468750</td>\n",
       "      <td>0.699999</td>\n",
       "      <td>165.000000</td>\n",
       "      <td>210.000000</td>\n",
       "      <td>111.999798</td>\n",
       "      <td>9.536116</td>\n",
       "    </tr>\n",
       "    <tr>\n",
       "      <th>sub-481</th>\n",
       "      <td>0.234375</td>\n",
       "      <td>0.234375</td>\n",
       "      <td>0.700005</td>\n",
       "      <td>168.750000</td>\n",
       "      <td>210.000000</td>\n",
       "      <td>112.000732</td>\n",
       "      <td>21.840963</td>\n",
       "    </tr>\n",
       "    <tr>\n",
       "      <th>sub-462</th>\n",
       "      <td>0.286458</td>\n",
       "      <td>0.286458</td>\n",
       "      <td>0.500001</td>\n",
       "      <td>199.375007</td>\n",
       "      <td>220.000008</td>\n",
       "      <td>100.000107</td>\n",
       "      <td>30.238546</td>\n",
       "    </tr>\n",
       "    <tr>\n",
       "      <th>sub-480</th>\n",
       "      <td>0.468750</td>\n",
       "      <td>0.468750</td>\n",
       "      <td>0.699997</td>\n",
       "      <td>165.000000</td>\n",
       "      <td>210.000000</td>\n",
       "      <td>111.999588</td>\n",
       "      <td>49.218569</td>\n",
       "    </tr>\n",
       "    <tr>\n",
       "      <th>sub-452</th>\n",
       "      <td>0.234375</td>\n",
       "      <td>0.234375</td>\n",
       "      <td>0.700001</td>\n",
       "      <td>168.750000</td>\n",
       "      <td>210.000000</td>\n",
       "      <td>112.000141</td>\n",
       "      <td>192.491698</td>\n",
       "    </tr>\n",
       "    <tr>\n",
       "      <th>sub-455</th>\n",
       "      <td>0.234375</td>\n",
       "      <td>0.234375</td>\n",
       "      <td>0.700001</td>\n",
       "      <td>168.750000</td>\n",
       "      <td>210.000000</td>\n",
       "      <td>133.000236</td>\n",
       "      <td>40.913158</td>\n",
       "    </tr>\n",
       "    <tr>\n",
       "      <th>sub-464</th>\n",
       "      <td>0.286458</td>\n",
       "      <td>0.286458</td>\n",
       "      <td>0.499999</td>\n",
       "      <td>199.375007</td>\n",
       "      <td>220.000008</td>\n",
       "      <td>99.999881</td>\n",
       "      <td>53.953322</td>\n",
       "    </tr>\n",
       "    <tr>\n",
       "      <th>sub-485</th>\n",
       "      <td>0.468750</td>\n",
       "      <td>0.468750</td>\n",
       "      <td>0.700002</td>\n",
       "      <td>165.000000</td>\n",
       "      <td>210.000000</td>\n",
       "      <td>112.000341</td>\n",
       "      <td>16.765188</td>\n",
       "    </tr>\n",
       "    <tr>\n",
       "      <th>sub-473</th>\n",
       "      <td>0.546875</td>\n",
       "      <td>0.546875</td>\n",
       "      <td>0.700001</td>\n",
       "      <td>167.343750</td>\n",
       "      <td>210.000000</td>\n",
       "      <td>112.000122</td>\n",
       "      <td>145.289465</td>\n",
       "    </tr>\n",
       "    <tr>\n",
       "      <th>sub-453</th>\n",
       "      <td>0.234375</td>\n",
       "      <td>0.234375</td>\n",
       "      <td>0.700002</td>\n",
       "      <td>168.750000</td>\n",
       "      <td>210.000000</td>\n",
       "      <td>112.000351</td>\n",
       "      <td>21.033391</td>\n",
       "    </tr>\n",
       "    <tr>\n",
       "      <th>sub-489</th>\n",
       "      <td>0.546875</td>\n",
       "      <td>0.546875</td>\n",
       "      <td>0.699998</td>\n",
       "      <td>167.343750</td>\n",
       "      <td>210.000000</td>\n",
       "      <td>111.999760</td>\n",
       "      <td>38.311075</td>\n",
       "    </tr>\n",
       "    <tr>\n",
       "      <th>sub-476</th>\n",
       "      <td>0.546875</td>\n",
       "      <td>0.546875</td>\n",
       "      <td>0.699996</td>\n",
       "      <td>167.343750</td>\n",
       "      <td>210.000000</td>\n",
       "      <td>111.999416</td>\n",
       "      <td>40.404453</td>\n",
       "    </tr>\n",
       "    <tr>\n",
       "      <th>sub-478</th>\n",
       "      <td>0.234375</td>\n",
       "      <td>0.234375</td>\n",
       "      <td>0.699997</td>\n",
       "      <td>164.062500</td>\n",
       "      <td>210.000000</td>\n",
       "      <td>111.999502</td>\n",
       "      <td>26995.672245</td>\n",
       "    </tr>\n",
       "    <tr>\n",
       "      <th>sub-466</th>\n",
       "      <td>0.546875</td>\n",
       "      <td>0.546875</td>\n",
       "      <td>0.700001</td>\n",
       "      <td>167.343750</td>\n",
       "      <td>210.000000</td>\n",
       "      <td>112.000084</td>\n",
       "      <td>78.087827</td>\n",
       "    </tr>\n",
       "    <tr>\n",
       "      <th>sub-454</th>\n",
       "      <td>0.546875</td>\n",
       "      <td>0.546875</td>\n",
       "      <td>0.699998</td>\n",
       "      <td>167.343750</td>\n",
       "      <td>210.000000</td>\n",
       "      <td>111.999636</td>\n",
       "      <td>132.099790</td>\n",
       "    </tr>\n",
       "    <tr>\n",
       "      <th>sub-490</th>\n",
       "      <td>0.286458</td>\n",
       "      <td>0.286458</td>\n",
       "      <td>0.529997</td>\n",
       "      <td>169.583322</td>\n",
       "      <td>219.999985</td>\n",
       "      <td>105.999410</td>\n",
       "      <td>19.222886</td>\n",
       "    </tr>\n",
       "    <tr>\n",
       "      <th>sub-465</th>\n",
       "      <td>0.286458</td>\n",
       "      <td>0.286458</td>\n",
       "      <td>0.500000</td>\n",
       "      <td>199.375007</td>\n",
       "      <td>220.000008</td>\n",
       "      <td>99.999964</td>\n",
       "      <td>17.027108</td>\n",
       "    </tr>\n",
       "    <tr>\n",
       "      <th>sub-492</th>\n",
       "      <td>0.286458</td>\n",
       "      <td>0.286458</td>\n",
       "      <td>0.500002</td>\n",
       "      <td>199.375007</td>\n",
       "      <td>220.000008</td>\n",
       "      <td>100.000453</td>\n",
       "      <td>6.892935</td>\n",
       "    </tr>\n",
       "    <tr>\n",
       "      <th>sub-460</th>\n",
       "      <td>0.286458</td>\n",
       "      <td>0.286458</td>\n",
       "      <td>0.499998</td>\n",
       "      <td>165.000006</td>\n",
       "      <td>220.000008</td>\n",
       "      <td>99.999511</td>\n",
       "      <td>56.578978</td>\n",
       "    </tr>\n",
       "    <tr>\n",
       "      <th>sub-470</th>\n",
       "      <td>0.546875</td>\n",
       "      <td>0.546875</td>\n",
       "      <td>0.699999</td>\n",
       "      <td>167.343750</td>\n",
       "      <td>210.000000</td>\n",
       "      <td>111.999893</td>\n",
       "      <td>13.817125</td>\n",
       "    </tr>\n",
       "    <tr>\n",
       "      <th>sub-469</th>\n",
       "      <td>0.273438</td>\n",
       "      <td>0.273438</td>\n",
       "      <td>0.499999</td>\n",
       "      <td>157.500000</td>\n",
       "      <td>210.000000</td>\n",
       "      <td>83.999855</td>\n",
       "      <td>72.225827</td>\n",
       "    </tr>\n",
       "    <tr>\n",
       "      <th>sub-479</th>\n",
       "      <td>0.234375</td>\n",
       "      <td>0.234375</td>\n",
       "      <td>0.700006</td>\n",
       "      <td>164.062500</td>\n",
       "      <td>210.000000</td>\n",
       "      <td>112.001028</td>\n",
       "      <td>12.766230</td>\n",
       "    </tr>\n",
       "    <tr>\n",
       "      <th>sub-475</th>\n",
       "      <td>0.273438</td>\n",
       "      <td>0.273438</td>\n",
       "      <td>0.500000</td>\n",
       "      <td>178.281250</td>\n",
       "      <td>210.000000</td>\n",
       "      <td>83.999925</td>\n",
       "      <td>24.075296</td>\n",
       "    </tr>\n",
       "    <tr>\n",
       "      <th>sub-487</th>\n",
       "      <td>0.273438</td>\n",
       "      <td>0.273438</td>\n",
       "      <td>0.500000</td>\n",
       "      <td>178.281250</td>\n",
       "      <td>210.000000</td>\n",
       "      <td>84.000000</td>\n",
       "      <td>22.729492</td>\n",
       "    </tr>\n",
       "    <tr>\n",
       "      <th>sub-491</th>\n",
       "      <td>0.286458</td>\n",
       "      <td>0.286458</td>\n",
       "      <td>0.499998</td>\n",
       "      <td>176.458321</td>\n",
       "      <td>219.999985</td>\n",
       "      <td>99.999523</td>\n",
       "      <td>15.180725</td>\n",
       "    </tr>\n",
       "    <tr>\n",
       "      <th>sub-467</th>\n",
       "      <td>0.286458</td>\n",
       "      <td>0.286458</td>\n",
       "      <td>0.500000</td>\n",
       "      <td>199.375007</td>\n",
       "      <td>220.000008</td>\n",
       "      <td>100.000000</td>\n",
       "      <td>40.906104</td>\n",
       "    </tr>\n",
       "    <tr>\n",
       "      <th>sub-461</th>\n",
       "      <td>0.234375</td>\n",
       "      <td>0.234375</td>\n",
       "      <td>0.700007</td>\n",
       "      <td>168.750000</td>\n",
       "      <td>210.000000</td>\n",
       "      <td>112.001076</td>\n",
       "      <td>54.410313</td>\n",
       "    </tr>\n",
       "    <tr>\n",
       "      <th>sub-484</th>\n",
       "      <td>0.546875</td>\n",
       "      <td>0.546875</td>\n",
       "      <td>0.700001</td>\n",
       "      <td>167.343750</td>\n",
       "      <td>210.000000</td>\n",
       "      <td>112.000113</td>\n",
       "      <td>25.122096</td>\n",
       "    </tr>\n",
       "    <tr>\n",
       "      <th>sub-486</th>\n",
       "      <td>0.546875</td>\n",
       "      <td>0.546875</td>\n",
       "      <td>0.699997</td>\n",
       "      <td>167.343750</td>\n",
       "      <td>210.000000</td>\n",
       "      <td>111.999569</td>\n",
       "      <td>24.284575</td>\n",
       "    </tr>\n",
       "    <tr>\n",
       "      <th>sub-457</th>\n",
       "      <td>0.273438</td>\n",
       "      <td>0.273438</td>\n",
       "      <td>0.500001</td>\n",
       "      <td>178.281250</td>\n",
       "      <td>210.000000</td>\n",
       "      <td>84.000130</td>\n",
       "      <td>305.353256</td>\n",
       "    </tr>\n",
       "  </tbody>\n",
       "</table>\n",
       "</div>"
      ],
      "text/plain": [
       "            y_size    x_size    z_size       y_fov       x_fov       z_fov  \\\n",
       "img_name                                                                     \n",
       "sub-471   0.245536  0.245536  0.700001  176.785716  220.000002  112.000151   \n",
       "sub-458   0.546875  0.546875  0.699997  167.343750  210.000000   90.999565   \n",
       "sub-451   0.286458  0.286458  0.500002  199.375007  220.000008  100.000441   \n",
       "sub-474   0.286458  0.286458  0.499999  199.375007  220.000008   99.999803   \n",
       "sub-450   0.286458  0.286458  0.650003  174.166673  220.000008  130.000520   \n",
       "sub-472   0.546875  0.546875  0.700003  167.343750  210.000000  112.000408   \n",
       "sub-459   0.286458  0.286458  0.600003  179.895821  219.999985  120.000565   \n",
       "sub-488   0.468750  0.468750  0.699999  165.000000  210.000000  111.999798   \n",
       "sub-481   0.234375  0.234375  0.700005  168.750000  210.000000  112.000732   \n",
       "sub-462   0.286458  0.286458  0.500001  199.375007  220.000008  100.000107   \n",
       "sub-480   0.468750  0.468750  0.699997  165.000000  210.000000  111.999588   \n",
       "sub-452   0.234375  0.234375  0.700001  168.750000  210.000000  112.000141   \n",
       "sub-455   0.234375  0.234375  0.700001  168.750000  210.000000  133.000236   \n",
       "sub-464   0.286458  0.286458  0.499999  199.375007  220.000008   99.999881   \n",
       "sub-485   0.468750  0.468750  0.700002  165.000000  210.000000  112.000341   \n",
       "sub-473   0.546875  0.546875  0.700001  167.343750  210.000000  112.000122   \n",
       "sub-453   0.234375  0.234375  0.700002  168.750000  210.000000  112.000351   \n",
       "sub-489   0.546875  0.546875  0.699998  167.343750  210.000000  111.999760   \n",
       "sub-476   0.546875  0.546875  0.699996  167.343750  210.000000  111.999416   \n",
       "sub-478   0.234375  0.234375  0.699997  164.062500  210.000000  111.999502   \n",
       "sub-466   0.546875  0.546875  0.700001  167.343750  210.000000  112.000084   \n",
       "sub-454   0.546875  0.546875  0.699998  167.343750  210.000000  111.999636   \n",
       "sub-490   0.286458  0.286458  0.529997  169.583322  219.999985  105.999410   \n",
       "sub-465   0.286458  0.286458  0.500000  199.375007  220.000008   99.999964   \n",
       "sub-492   0.286458  0.286458  0.500002  199.375007  220.000008  100.000453   \n",
       "sub-460   0.286458  0.286458  0.499998  165.000006  220.000008   99.999511   \n",
       "sub-470   0.546875  0.546875  0.699999  167.343750  210.000000  111.999893   \n",
       "sub-469   0.273438  0.273438  0.499999  157.500000  210.000000   83.999855   \n",
       "sub-479   0.234375  0.234375  0.700006  164.062500  210.000000  112.001028   \n",
       "sub-475   0.273438  0.273438  0.500000  178.281250  210.000000   83.999925   \n",
       "sub-487   0.273438  0.273438  0.500000  178.281250  210.000000   84.000000   \n",
       "sub-491   0.286458  0.286458  0.499998  176.458321  219.999985   99.999523   \n",
       "sub-467   0.286458  0.286458  0.500000  199.375007  220.000008  100.000000   \n",
       "sub-461   0.234375  0.234375  0.700007  168.750000  210.000000  112.001076   \n",
       "sub-484   0.546875  0.546875  0.700001  167.343750  210.000000  112.000113   \n",
       "sub-486   0.546875  0.546875  0.699997  167.343750  210.000000  111.999569   \n",
       "sub-457   0.273438  0.273438  0.500001  178.281250  210.000000   84.000130   \n",
       "\n",
       "          aneurysm_volume  \n",
       "img_name                   \n",
       "sub-471        123.312808  \n",
       "sub-458         44.800811  \n",
       "sub-451         26.340857  \n",
       "sub-474         29.869192  \n",
       "sub-450         45.070747  \n",
       "sub-472       7562.608127  \n",
       "sub-459         93.940859  \n",
       "sub-488          9.536116  \n",
       "sub-481         21.840963  \n",
       "sub-462         30.238546  \n",
       "sub-480         49.218569  \n",
       "sub-452        192.491698  \n",
       "sub-455         40.913158  \n",
       "sub-464         53.953322  \n",
       "sub-485         16.765188  \n",
       "sub-473        145.289465  \n",
       "sub-453         21.033391  \n",
       "sub-489         38.311075  \n",
       "sub-476         40.404453  \n",
       "sub-478      26995.672245  \n",
       "sub-466         78.087827  \n",
       "sub-454        132.099790  \n",
       "sub-490         19.222886  \n",
       "sub-465         17.027108  \n",
       "sub-492          6.892935  \n",
       "sub-460         56.578978  \n",
       "sub-470         13.817125  \n",
       "sub-469         72.225827  \n",
       "sub-479         12.766230  \n",
       "sub-475         24.075296  \n",
       "sub-487         22.729492  \n",
       "sub-491         15.180725  \n",
       "sub-467         40.906104  \n",
       "sub-461         54.410313  \n",
       "sub-484         25.122096  \n",
       "sub-486         24.284575  \n",
       "sub-457        305.353256  "
      ]
     },
     "execution_count": 57,
     "metadata": {},
     "output_type": "execute_result"
    }
   ],
   "source": [
    "basic_desc_df = pd.DataFrame(basic_desc).set_index('img_name')\n",
    "\n",
    "basic_desc_df"
   ]
  },
  {
   "cell_type": "code",
   "execution_count": 58,
   "id": "4f8e3623",
   "metadata": {},
   "outputs": [],
   "source": [
    "basic_desc_df = pd.DataFrame(basic_desc).set_index('img_name')\n",
    "basic_desc_df['total_fov'] = basic_desc_df[['y_fov', 'x_fov', 'z_fov']].agg(np.multiply.reduce, axis=1)\n",
    "basic_desc_df.to_csv('basic_info_Laussane_dataset.csv')"
   ]
  },
  {
   "cell_type": "code",
   "execution_count": 2,
   "id": "1e4a90c3",
   "metadata": {},
   "outputs": [],
   "source": [
    "basic_desc_df = pd.read_csv('basic_info_Laussane_dataset.csv', index_col='img_name')"
   ]
  },
  {
   "cell_type": "markdown",
   "id": "833c7adb",
   "metadata": {},
   "source": [
    "### What is the distribution of resolutions of the scans\n"
   ]
  },
  {
   "cell_type": "code",
   "execution_count": 63,
   "id": "1a525e17",
   "metadata": {},
   "outputs": [
    {
     "data": {
      "text/html": [
       "<div>\n",
       "<style scoped>\n",
       "    .dataframe tbody tr th:only-of-type {\n",
       "        vertical-align: middle;\n",
       "    }\n",
       "\n",
       "    .dataframe tbody tr th {\n",
       "        vertical-align: top;\n",
       "    }\n",
       "\n",
       "    .dataframe thead th {\n",
       "        text-align: right;\n",
       "    }\n",
       "</style>\n",
       "<table border=\"1\" class=\"dataframe\">\n",
       "  <thead>\n",
       "    <tr style=\"text-align: right;\">\n",
       "      <th></th>\n",
       "      <th>y_size</th>\n",
       "      <th>x_size</th>\n",
       "      <th>z_size</th>\n",
       "    </tr>\n",
       "  </thead>\n",
       "  <tbody>\n",
       "    <tr>\n",
       "      <th>count</th>\n",
       "      <td>37.000000</td>\n",
       "      <td>37.000000</td>\n",
       "      <td>37.000000</td>\n",
       "    </tr>\n",
       "    <tr>\n",
       "      <th>mean</th>\n",
       "      <td>0.359254</td>\n",
       "      <td>0.359254</td>\n",
       "      <td>0.621081</td>\n",
       "    </tr>\n",
       "    <tr>\n",
       "      <th>std</th>\n",
       "      <td>0.129436</td>\n",
       "      <td>0.129436</td>\n",
       "      <td>0.095882</td>\n",
       "    </tr>\n",
       "    <tr>\n",
       "      <th>min</th>\n",
       "      <td>0.234375</td>\n",
       "      <td>0.234375</td>\n",
       "      <td>0.499998</td>\n",
       "    </tr>\n",
       "    <tr>\n",
       "      <th>25%</th>\n",
       "      <td>0.273438</td>\n",
       "      <td>0.273438</td>\n",
       "      <td>0.500001</td>\n",
       "    </tr>\n",
       "    <tr>\n",
       "      <th>50%</th>\n",
       "      <td>0.286458</td>\n",
       "      <td>0.286458</td>\n",
       "      <td>0.699997</td>\n",
       "    </tr>\n",
       "    <tr>\n",
       "      <th>75%</th>\n",
       "      <td>0.546875</td>\n",
       "      <td>0.546875</td>\n",
       "      <td>0.700001</td>\n",
       "    </tr>\n",
       "    <tr>\n",
       "      <th>max</th>\n",
       "      <td>0.546875</td>\n",
       "      <td>0.546875</td>\n",
       "      <td>0.700007</td>\n",
       "    </tr>\n",
       "  </tbody>\n",
       "</table>\n",
       "</div>"
      ],
      "text/plain": [
       "          y_size     x_size     z_size\n",
       "count  37.000000  37.000000  37.000000\n",
       "mean    0.359254   0.359254   0.621081\n",
       "std     0.129436   0.129436   0.095882\n",
       "min     0.234375   0.234375   0.499998\n",
       "25%     0.273438   0.273438   0.500001\n",
       "50%     0.286458   0.286458   0.699997\n",
       "75%     0.546875   0.546875   0.700001\n",
       "max     0.546875   0.546875   0.700007"
      ]
     },
     "execution_count": 63,
     "metadata": {},
     "output_type": "execute_result"
    }
   ],
   "source": [
    "basic_desc_df[['y_size', 'x_size', 'z_size']].describe()"
   ]
  },
  {
   "cell_type": "code",
   "execution_count": 62,
   "id": "9c63483b",
   "metadata": {},
   "outputs": [
    {
     "data": {
      "image/png": "[encoded data removed]",
      "text/plain": [
       "<Figure size 2000x500 with 3 Axes>"
      ]
     },
     "metadata": {},
     "output_type": "display_data"
    }
   ],
   "source": [
    "# Plot the histogram of y_size, x_size, z_size in 3 subfigures\n",
    "import matplotlib.pyplot as plt\n",
    "%matplotlib inline\n",
    "fig, axes = plt.subplots(1, 3, figsize=(20, 5))\n",
    "basic_desc_df['y_size'].hist(ax=axes[0])\n",
    "basic_desc_df['x_size'].hist(ax=axes[1])\n",
    "basic_desc_df['z_size'].hist(ax=axes[2])\n",
    "axes[0].set_xlabel('y_size')\n",
    "axes[1].set_xlabel('x_size')\n",
    "axes[2].set_xlabel('z_size')\n",
    "plt.savefig('Laussane_dataset_size_histogram.png')"
   ]
  },
  {
   "cell_type": "markdown",
   "id": "7af39d23",
   "metadata": {},
   "source": [
    "We can pick either \"10745241-MCA-new\" (decent FoV and very small aneurysm) and \"10600633-AComm-new-Colors\" (overlaps in top 15 largest field of views in total and in the z axis, while being in top 15 smallest aneurysms)"
   ]
  },
  {
   "cell_type": "markdown",
   "id": "52a2046b270c8f6b",
   "metadata": {
    "collapsed": false
   },
   "source": [
    "## 1.1 Distribution of UIAs location (per Vessel Type)"
   ]
  },
  {
   "cell_type": "code",
   "execution_count": 73,
   "id": "2b212b02",
   "metadata": {},
   "outputs": [
    {
     "data": {
      "text/plain": [
       "(652, 768, 168)"
      ]
     },
     "execution_count": 73,
     "metadata": {},
     "output_type": "execute_result"
    }
   ],
   "source": [
    "img.header.get_data_shape()"
   ]
  },
  {
   "cell_type": "code",
   "execution_count": 75,
   "id": "c0fffe7d",
   "metadata": {},
   "outputs": [
    {
     "data": {
      "text/plain": [
       "array([652, 768, 168], dtype=int16)"
      ]
     },
     "execution_count": 75,
     "metadata": {},
     "output_type": "execute_result"
    }
   ],
   "source": [
    "img.header[\"dim\"][1:4]"
   ]
  },
  {
   "cell_type": "markdown",
   "id": "df403f57d8a8dc84",
   "metadata": {
    "collapsed": false
   },
   "source": [
    "## 1.2 Distribution of UIAs location (per Vessel Type and territory)"
   ]
  },
  {
   "cell_type": "code",
   "execution_count": null,
   "id": "1270317abbb3ec8e",
   "metadata": {
    "collapsed": false
   },
   "outputs": [],
   "source": []
  },
  {
   "cell_type": "markdown",
   "id": "27e9d279d9de8739",
   "metadata": {
    "collapsed": false
   },
   "source": [
    "## 1.3 Distribution of UIAs per size"
   ]
  },
  {
   "cell_type": "markdown",
   "id": "c223776e85465003",
   "metadata": {
    "collapsed": false
   },
   "source": [
    "### Per maximum diameter \n",
    "\n",
    "For example in ranges [0, 5mm), [5mm, 10mm), [10mm, inf)"
   ]
  },
  {
   "cell_type": "markdown",
   "id": "69085b330e101695",
   "metadata": {
    "collapsed": false
   },
   "source": [
    "### Per volume"
   ]
  },
  {
   "cell_type": "code",
   "execution_count": 3,
   "id": "a5fb1b86",
   "metadata": {},
   "outputs": [
    {
     "data": {
      "text/plain": [
       "<Axes: >"
      ]
     },
     "execution_count": 3,
     "metadata": {},
     "output_type": "execute_result"
    },
    {
     "data": {
      "image/png": "[encoded data removed]",
      "text/plain": [
       "<Figure size 640x480 with 1 Axes>"
      ]
     },
     "metadata": {},
     "output_type": "display_data"
    }
   ],
   "source": [
    "basic_desc_df.aneurysm_volume.hist(bins=30)"
   ]
  },
  {
   "cell_type": "code",
   "execution_count": 4,
   "id": "21431b03",
   "metadata": {},
   "outputs": [
    {
     "data": {
      "text/plain": [
       "<Axes: >"
      ]
     },
     "execution_count": 4,
     "metadata": {},
     "output_type": "execute_result"
    },
    {
     "data": {
      "image/png": "[encoded data removed]",
      "text/plain": [
       "<Figure size 640x480 with 1 Axes>"
      ]
     },
     "metadata": {},
     "output_type": "display_data"
    }
   ],
   "source": [
    "basic_desc_df.aneurysm_volume[basic_desc_df.aneurysm_volume < 1000].hist(bins=30)"
   ]
  },
  {
   "cell_type": "code",
   "execution_count": 7,
   "id": "7d1b68de",
   "metadata": {},
   "outputs": [
    {
     "data": {
      "text/plain": [
       "img_name\n",
       "sub-492     6.892935\n",
       "sub-488     9.536116\n",
       "sub-479    12.766230\n",
       "sub-470    13.817125\n",
       "sub-491    15.180725\n",
       "sub-485    16.765188\n",
       "sub-465    17.027108\n",
       "sub-490    19.222886\n",
       "sub-453    21.033391\n",
       "sub-481    21.840963\n",
       "Name: aneurysm_volume, dtype: float64"
      ]
     },
     "execution_count": 7,
     "metadata": {},
     "output_type": "execute_result"
    }
   ],
   "source": [
    "basic_desc_df.aneurysm_volume.sort_values(ascending=True).head(10)"
   ]
  },
  {
   "cell_type": "markdown",
   "id": "c5cbd8c43658d781",
   "metadata": {
    "collapsed": false
   },
   "source": [
    "### Per maximum median radius"
   ]
  },
  {
   "cell_type": "markdown",
   "id": "c930558e77dbeb78",
   "metadata": {
    "collapsed": false
   },
   "source": [
    "## 1.4 Distribution of UIAs type (saccular or fusiform)"
   ]
  },
  {
   "cell_type": "code",
   "execution_count": null,
   "id": "initial_id",
   "metadata": {
    "collapsed": true
   },
   "outputs": [],
   "source": []
  }
 ],
 "metadata": {
  "kernelspec": {
   "display_name": "Python 3",
   "language": "python",
   "name": "python3"
  },
  "language_info": {
   "codemirror_mode": {
    "name": "ipython",
    "version": 3
   },
   "file_extension": ".py",
   "mimetype": "text/x-python",
   "name": "python",
   "nbconvert_exporter": "python",
   "pygments_lexer": "ipython3",
   "version": "3.9.18"
  }
 },
 "nbformat": 4,
 "nbformat_minor": 5
}
