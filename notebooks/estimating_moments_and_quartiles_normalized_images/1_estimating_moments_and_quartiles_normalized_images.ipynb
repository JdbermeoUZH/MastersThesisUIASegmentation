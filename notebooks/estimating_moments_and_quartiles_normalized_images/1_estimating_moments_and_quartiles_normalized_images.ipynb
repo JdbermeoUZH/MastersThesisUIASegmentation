{
 "cells": [
  {
   "cell_type": "code",
   "execution_count": 35,
   "metadata": {},
   "outputs": [],
   "source": [
    "import os\n",
    "import sys\n",
    "import json\n",
    "\n",
    "import numpy as np\n",
    "from tqdm import tqdm\n",
    "import torch\n",
    "import torch.nn.functional as F\n",
    "from tdigest import TDigest\n",
    "from torch.utils.data import DataLoader\n",
    "\n",
    "sys.path.append(os.path.join('..', '..', 'tta_uia_segmentation', 'src'))\n",
    "\n",
    "from dataset.dataset_in_memory import get_datasets\n",
    "from tta_uia_segmentation.src.models.io import load_norm_from_configs_and_cpt\n",
    "from tta_uia_segmentation.src.utils.io import load_config\n",
    "from tta_uia_segmentation.src.utils.loss import dice_score\n",
    "from tta_uia_segmentation.src.dataset.utils import onehot_to_class, class_to_onehot"
   ]
  },
  {
   "cell_type": "markdown",
   "metadata": {},
   "source": [
    "# Load trained model and dataset"
   ]
  },
  {
   "cell_type": "code",
   "execution_count": 22,
   "metadata": {},
   "outputs": [],
   "source": [
    "# Load Normalizer and Segmentation model\n",
    "trained_model_dir   = '/scratch_net/biwidl319/jbermeo/data/models/brain/segmentation/hcp_t1/no_bg_supp_norm_w_3x3_conv'\n",
    "dataset_name        = 'hcp_t1'\n",
    "split               = 'train'\n",
    "image_size          = (1, 256, 256)\n",
    "device              = 'cuda' if torch.cuda.is_available() else 'cpu' \n",
    "\n",
    "params              = load_config(os.path.join(trained_model_dir, 'params.yaml'))\n",
    "dataset_params      = params['dataset'][dataset_name]\n",
    "model_params        = params['model']\n",
    "train_params        = params['training']['segmentation']\n"
   ]
  },
  {
   "cell_type": "code",
   "execution_count": 23,
   "metadata": {},
   "outputs": [
    {
     "ename": "MemoryError",
     "evalue": "Unable to allocate 1.29 GiB for an array with shape (20, 256, 260, 260) and data type float32",
     "output_type": "error",
     "traceback": [
      "\u001b[0;31m---------------------------------------------------------------------------\u001b[0m",
      "\u001b[0;31mMemoryError\u001b[0m                               Traceback (most recent call last)",
      "Cell \u001b[0;32mIn[23], line 2\u001b[0m\n\u001b[1;32m      1\u001b[0m \u001b[38;5;66;03m# Load dataset with original preprocessed images (val)\u001b[39;00m\n\u001b[0;32m----> 2\u001b[0m (ds, )  \u001b[38;5;241m=\u001b[39m \u001b[43mget_datasets\u001b[49m\u001b[43m(\u001b[49m\n\u001b[1;32m      3\u001b[0m \u001b[43m        \u001b[49m\u001b[43msplits\u001b[49m\u001b[43m          \u001b[49m\u001b[38;5;241;43m=\u001b[39;49m\u001b[43m \u001b[49m\u001b[43m[\u001b[49m\u001b[43msplit\u001b[49m\u001b[43m]\u001b[49m\u001b[43m,\u001b[49m\n\u001b[1;32m      4\u001b[0m \u001b[43m        \u001b[49m\u001b[43mpaths\u001b[49m\u001b[43m           \u001b[49m\u001b[38;5;241;43m=\u001b[39;49m\u001b[43m \u001b[49m\u001b[43mdataset_params\u001b[49m\u001b[43m[\u001b[49m\u001b[38;5;124;43m'\u001b[39;49m\u001b[38;5;124;43mpaths_processed\u001b[39;49m\u001b[38;5;124;43m'\u001b[39;49m\u001b[43m]\u001b[49m\u001b[43m,\u001b[49m\n\u001b[1;32m      5\u001b[0m \u001b[43m        \u001b[49m\u001b[43mpaths_original\u001b[49m\u001b[43m  \u001b[49m\u001b[38;5;241;43m=\u001b[39;49m\u001b[43m \u001b[49m\u001b[43mdataset_params\u001b[49m\u001b[43m[\u001b[49m\u001b[38;5;124;43m'\u001b[39;49m\u001b[38;5;124;43mpaths_original\u001b[39;49m\u001b[38;5;124;43m'\u001b[39;49m\u001b[43m]\u001b[49m\u001b[43m,\u001b[49m\u001b[43m \u001b[49m\n\u001b[1;32m      6\u001b[0m \u001b[43m        \u001b[49m\u001b[43mimage_size\u001b[49m\u001b[43m      \u001b[49m\u001b[38;5;241;43m=\u001b[39;49m\u001b[43m \u001b[49m\u001b[43mtrain_params\u001b[49m\u001b[43m[\u001b[49m\u001b[38;5;124;43m'\u001b[39;49m\u001b[38;5;124;43mimage_size\u001b[39;49m\u001b[38;5;124;43m'\u001b[39;49m\u001b[43m]\u001b[49m\u001b[43m,\u001b[49m\n\u001b[1;32m      7\u001b[0m \u001b[43m        \u001b[49m\u001b[43mresolution_proc\u001b[49m\u001b[43m \u001b[49m\u001b[38;5;241;43m=\u001b[39;49m\u001b[43m \u001b[49m\u001b[43mdataset_params\u001b[49m\u001b[43m[\u001b[49m\u001b[38;5;124;43m'\u001b[39;49m\u001b[38;5;124;43mresolution_proc\u001b[39;49m\u001b[38;5;124;43m'\u001b[39;49m\u001b[43m]\u001b[49m\u001b[43m,\u001b[49m\n\u001b[1;32m      8\u001b[0m \u001b[43m        \u001b[49m\u001b[43mdim_proc\u001b[49m\u001b[43m        \u001b[49m\u001b[38;5;241;43m=\u001b[39;49m\u001b[43m \u001b[49m\u001b[43mdataset_params\u001b[49m\u001b[43m[\u001b[49m\u001b[38;5;124;43m'\u001b[39;49m\u001b[38;5;124;43mdim\u001b[39;49m\u001b[38;5;124;43m'\u001b[39;49m\u001b[43m]\u001b[49m\u001b[43m,\u001b[49m\n\u001b[1;32m      9\u001b[0m \u001b[43m        \u001b[49m\u001b[43mn_classes\u001b[49m\u001b[43m       \u001b[49m\u001b[38;5;241;43m=\u001b[39;49m\u001b[43m \u001b[49m\u001b[43mdataset_params\u001b[49m\u001b[43m[\u001b[49m\u001b[38;5;124;43m'\u001b[39;49m\u001b[38;5;124;43mn_classes\u001b[39;49m\u001b[38;5;124;43m'\u001b[39;49m\u001b[43m]\u001b[49m\u001b[43m,\u001b[49m\n\u001b[1;32m     10\u001b[0m \u001b[43m        \u001b[49m\u001b[43maug_params\u001b[49m\u001b[43m      \u001b[49m\u001b[38;5;241;43m=\u001b[39;49m\u001b[43m \u001b[49m\u001b[43mtrain_params\u001b[49m\u001b[43m[\u001b[49m\u001b[38;5;124;43m'\u001b[39;49m\u001b[38;5;124;43maugmentation\u001b[39;49m\u001b[38;5;124;43m'\u001b[39;49m\u001b[43m]\u001b[49m\u001b[43m,\u001b[49m\n\u001b[1;32m     11\u001b[0m \u001b[43m        \u001b[49m\u001b[43mdeformation\u001b[49m\u001b[43m     \u001b[49m\u001b[38;5;241;43m=\u001b[39;49m\u001b[43m \u001b[49m\u001b[38;5;28;43;01mNone\u001b[39;49;00m\u001b[43m,\u001b[49m\n\u001b[1;32m     12\u001b[0m \u001b[43m        \u001b[49m\u001b[43mload_original\u001b[49m\u001b[43m   \u001b[49m\u001b[38;5;241;43m=\u001b[39;49m\u001b[43m \u001b[49m\u001b[38;5;28;43;01mTrue\u001b[39;49;00m\u001b[43m,\u001b[49m\n\u001b[1;32m     13\u001b[0m \u001b[43m        \u001b[49m\u001b[43mbg_suppression_opts\u001b[49m\u001b[43m \u001b[49m\u001b[38;5;241;43m=\u001b[39;49m\u001b[43m \u001b[49m\u001b[43mtrain_params\u001b[49m\u001b[43m[\u001b[49m\u001b[38;5;124;43m'\u001b[39;49m\u001b[38;5;124;43mbg_suppression_opts\u001b[39;49m\u001b[38;5;124;43m'\u001b[39;49m\u001b[43m]\u001b[49m\n\u001b[1;32m     14\u001b[0m \u001b[43m    \u001b[49m\u001b[43m)\u001b[49m\n",
      "File \u001b[0;32m/scratch_net/biwidl319/jbermeo/MastersThesisUIASegmentation/notebooks/estimating_moments_and_quartiles_normalized_images/../../tta_uia_segmentation/src/dataset/dataset_in_memory.py:58\u001b[0m, in \u001b[0;36mget_datasets\u001b[0;34m(paths, paths_original, splits, image_size, resolution_proc, dim_proc, n_classes, rescale_factor, aug_params, deformation, load_original, image_transform, image_transform_args, bg_suppression_opts, seed)\u001b[0m\n\u001b[1;32m     55\u001b[0m datasets \u001b[38;5;241m=\u001b[39m []\n\u001b[1;32m     57\u001b[0m \u001b[38;5;28;01mfor\u001b[39;00m split \u001b[38;5;129;01min\u001b[39;00m splits:\n\u001b[0;32m---> 58\u001b[0m     datasets\u001b[38;5;241m.\u001b[39mappend(\u001b[43mDatasetInMemory\u001b[49m\u001b[43m(\u001b[49m\n\u001b[1;32m     59\u001b[0m \u001b[43m        \u001b[49m\u001b[43mpaths\u001b[49m\u001b[43m,\u001b[49m\n\u001b[1;32m     60\u001b[0m \u001b[43m        \u001b[49m\u001b[43mpaths_original\u001b[49m\u001b[43m,\u001b[49m\n\u001b[1;32m     61\u001b[0m \u001b[43m        \u001b[49m\u001b[43msplit\u001b[49m\u001b[43m,\u001b[49m\n\u001b[1;32m     62\u001b[0m \u001b[43m        \u001b[49m\u001b[43mimage_size\u001b[49m\u001b[43m,\u001b[49m\n\u001b[1;32m     63\u001b[0m \u001b[43m        \u001b[49m\u001b[43mresolution_proc\u001b[49m\u001b[43m,\u001b[49m\n\u001b[1;32m     64\u001b[0m \u001b[43m        \u001b[49m\u001b[43mdim_proc\u001b[49m\u001b[43m,\u001b[49m\n\u001b[1;32m     65\u001b[0m \u001b[43m        \u001b[49m\u001b[43mn_classes\u001b[49m\u001b[43m,\u001b[49m\n\u001b[1;32m     66\u001b[0m \u001b[43m        \u001b[49m\u001b[43mrescale_factor\u001b[49m\u001b[43m,\u001b[49m\n\u001b[1;32m     67\u001b[0m \u001b[43m        \u001b[49m\u001b[43maug_params\u001b[49m\u001b[43m,\u001b[49m\n\u001b[1;32m     68\u001b[0m \u001b[43m        \u001b[49m\u001b[43mdeformation\u001b[49m\u001b[43m,\u001b[49m\n\u001b[1;32m     69\u001b[0m \u001b[43m        \u001b[49m\u001b[43mload_original\u001b[49m\u001b[43m,\u001b[49m\n\u001b[1;32m     70\u001b[0m \u001b[43m        \u001b[49m\u001b[43mimage_transform\u001b[49m\u001b[43m,\u001b[49m\n\u001b[1;32m     71\u001b[0m \u001b[43m        \u001b[49m\u001b[43mimage_transform_args\u001b[49m\u001b[43m,\u001b[49m\n\u001b[1;32m     72\u001b[0m \u001b[43m        \u001b[49m\u001b[43mbg_suppression_opts\u001b[49m\u001b[38;5;241;43m=\u001b[39;49m\u001b[43mbg_suppression_opts\u001b[49m\u001b[43m,\u001b[49m\n\u001b[1;32m     73\u001b[0m \u001b[43m        \u001b[49m\u001b[43mseed\u001b[49m\u001b[38;5;241;43m=\u001b[39;49m\u001b[43mseed\u001b[49m\u001b[43m,\u001b[49m\n\u001b[1;32m     74\u001b[0m \u001b[43m    \u001b[49m\u001b[43m)\u001b[49m)\n\u001b[1;32m     76\u001b[0m \u001b[38;5;28;01mreturn\u001b[39;00m datasets\n",
      "File \u001b[0;32m/scratch_net/biwidl319/jbermeo/MastersThesisUIASegmentation/notebooks/estimating_moments_and_quartiles_normalized_images/../../tta_uia_segmentation/src/dataset/dataset_in_memory.py:177\u001b[0m, in \u001b[0;36mDatasetInMemory.__init__\u001b[0;34m(self, paths, paths_original, split, image_size, resolution_proc, dim_proc, n_classes, rescale_factor, aug_params, deformation, load_original, image_transform, image_transform_args, bg_suppression_opts, seed, label_names)\u001b[0m\n\u001b[1;32m    174\u001b[0m \u001b[38;5;28;01massert\u001b[39;00m \u001b[38;5;28mself\u001b[39m\u001b[38;5;241m.\u001b[39mimages\u001b[38;5;241m.\u001b[39mshape \u001b[38;5;241m==\u001b[39m \u001b[38;5;28mself\u001b[39m\u001b[38;5;241m.\u001b[39mlabels\u001b[38;5;241m.\u001b[39mshape, \u001b[38;5;124m'\u001b[39m\u001b[38;5;124mImage and label shape not matching\u001b[39m\u001b[38;5;124m'\u001b[39m\n\u001b[1;32m    176\u001b[0m \u001b[38;5;28;01mif\u001b[39;00m load_original:\n\u001b[0;32m--> 177\u001b[0m     \u001b[38;5;28;43mself\u001b[39;49m\u001b[38;5;241;43m.\u001b[39;49m\u001b[43mload_original_images\u001b[49m\u001b[43m(\u001b[49m\u001b[43m)\u001b[49m\n\u001b[1;32m    178\u001b[0m \u001b[38;5;28;01melse\u001b[39;00m:\n\u001b[1;32m    179\u001b[0m     \u001b[38;5;28mself\u001b[39m\u001b[38;5;241m.\u001b[39mlabels_original \u001b[38;5;241m=\u001b[39m \u001b[38;5;28;01mNone\u001b[39;00m\n",
      "File \u001b[0;32m/scratch_net/biwidl319/jbermeo/MastersThesisUIASegmentation/notebooks/estimating_moments_and_quartiles_normalized_images/../../tta_uia_segmentation/src/dataset/dataset_in_memory.py:202\u001b[0m, in \u001b[0;36mDatasetInMemory.load_original_images\u001b[0;34m(self)\u001b[0m\n\u001b[1;32m    200\u001b[0m \u001b[38;5;28;01mdef\u001b[39;00m \u001b[38;5;21mload_original_images\u001b[39m(\u001b[38;5;28mself\u001b[39m):\n\u001b[1;32m    201\u001b[0m     \u001b[38;5;28;01mwith\u001b[39;00m h5py\u001b[38;5;241m.\u001b[39mFile(\u001b[38;5;28mself\u001b[39m\u001b[38;5;241m.\u001b[39mpath_original, \u001b[38;5;124m'\u001b[39m\u001b[38;5;124mr\u001b[39m\u001b[38;5;124m'\u001b[39m) \u001b[38;5;28;01mas\u001b[39;00m data:\n\u001b[0;32m--> 202\u001b[0m         \u001b[38;5;28mself\u001b[39m\u001b[38;5;241m.\u001b[39mimages_original \u001b[38;5;241m=\u001b[39m \u001b[43mdata\u001b[49m\u001b[43m[\u001b[49m\u001b[38;5;124;43m'\u001b[39;49m\u001b[38;5;124;43mimages\u001b[39;49m\u001b[38;5;124;43m'\u001b[39;49m\u001b[43m]\u001b[49m\u001b[43m[\u001b[49m\u001b[43m:\u001b[49m\u001b[43m]\u001b[49m\u001b[38;5;241;43m.\u001b[39;49m\u001b[43mastype\u001b[49m\u001b[43m(\u001b[49m\u001b[43mnp\u001b[49m\u001b[38;5;241;43m.\u001b[39;49m\u001b[43mfloat32\u001b[49m\u001b[43m)\u001b[49m\n\u001b[1;32m    203\u001b[0m         \u001b[38;5;28mself\u001b[39m\u001b[38;5;241m.\u001b[39mlabels_original \u001b[38;5;241m=\u001b[39m data[\u001b[38;5;124m'\u001b[39m\u001b[38;5;124mlabels\u001b[39m\u001b[38;5;124m'\u001b[39m][:]\u001b[38;5;241m.\u001b[39mastype(np\u001b[38;5;241m.\u001b[39muint8)\n\u001b[1;32m    205\u001b[0m         num_volumes \u001b[38;5;241m=\u001b[39m \u001b[38;5;28mlen\u001b[39m(data[\u001b[38;5;124m'\u001b[39m\u001b[38;5;124mnx\u001b[39m\u001b[38;5;124m'\u001b[39m])\n",
      "\u001b[0;31mMemoryError\u001b[0m: Unable to allocate 1.29 GiB for an array with shape (20, 256, 260, 260) and data type float32"
     ]
    }
   ],
   "source": [
    "# Load dataset with original preprocessed images (val)\n",
    "(ds, )  = get_datasets(\n",
    "        splits          = [split],\n",
    "        paths           = dataset_params['paths_processed'],\n",
    "        paths_original  = dataset_params['paths_original'], \n",
    "        image_size      = train_params['image_size'],\n",
    "        resolution_proc = dataset_params['resolution_proc'],\n",
    "        dim_proc        = dataset_params['dim'],\n",
    "        n_classes       = dataset_params['n_classes'],\n",
    "        aug_params      = train_params['augmentation'],\n",
    "        deformation     = None,\n",
    "        load_original   = True,\n",
    "        bg_suppression_opts = train_params['bg_suppression_opts']\n",
    "    )\n"
   ]
  },
  {
   "cell_type": "code",
   "execution_count": null,
   "metadata": {},
   "outputs": [
    {
     "data": {
      "text/plain": [
       "Normalization(\n",
       "  (layers): Sequential(\n",
       "    (0): Conv2d(1, 16, kernel_size=(3, 3), stride=(1, 1), padding=same, padding_mode=reflect)\n",
       "    (1): BatchNorm2d(16, eps=1e-05, momentum=0.1, affine=True, track_running_stats=True)\n",
       "    (2): RBF()\n",
       "    (3): Conv2d(16, 16, kernel_size=(3, 3), stride=(1, 1), padding=same, padding_mode=reflect)\n",
       "    (4): BatchNorm2d(16, eps=1e-05, momentum=0.1, affine=True, track_running_stats=True)\n",
       "    (5): RBF()\n",
       "    (6): Conv2d(16, 1, kernel_size=(3, 3), stride=(1, 1), padding=same, padding_mode=reflect)\n",
       "  )\n",
       ")"
      ]
     },
     "execution_count": 18,
     "metadata": {},
     "output_type": "execute_result"
    }
   ],
   "source": [
    "norm = load_norm_from_configs_and_cpt(\n",
    "    model_params_norm=model_params['normalization_2D'],\n",
    "    cpt_fp=os.path.join(trained_model_dir, 'checkpoint_best.pth'),\n",
    "    device=device\n",
    ")\n",
    "norm.eval()"
   ]
  },
  {
   "cell_type": "markdown",
   "metadata": {},
   "source": [
    "# Calculate quantiles and first two moments and save them as a dictionary"
   ]
  },
  {
   "cell_type": "code",
   "execution_count": 42,
   "metadata": {},
   "outputs": [
    {
     "data": {
      "text/plain": [
       "{'augmentation': {'alpha': 1000,\n",
       "  'brightness_max': 0.1,\n",
       "  'brightness_min': 0.0,\n",
       "  'da_ratio': 0.25,\n",
       "  'gamma_max': 2.0,\n",
       "  'gamma_min': 0.5,\n",
       "  'noise_mean': 0.0,\n",
       "  'noise_std': 0.1,\n",
       "  'rot_max': 10,\n",
       "  'rot_min': -10,\n",
       "  'scale_max': 1.1,\n",
       "  'scale_min': 0.9,\n",
       "  'sigma': 20,\n",
       "  'trans_max': 10,\n",
       "  'trans_min': -10},\n",
       " 'batch_size': 16,\n",
       " 'bg_suppression_opts': {'bg_value': -0.5,\n",
       "  'bg_value_max': 1,\n",
       "  'bg_value_min': -0.5,\n",
       "  'hole_filling': True,\n",
       "  'mask_source': 'thresholding',\n",
       "  'thresholding': 'otsu',\n",
       "  'type': 'none'},\n",
       " 'dataset': 'hcp_t1',\n",
       " 'epochs': 150,\n",
       " 'image_size': [1, 256, 256],\n",
       " 'learning_rate': 0.001,\n",
       " 'logdir': '/scratch_net/biwidl319/jbermeo/data/models/brain/segmentation/hcp_t1/no_bg_supp_norm_w_3x3_conv',\n",
       " 'num_workers': 3,\n",
       " 'validate_every': 3,\n",
       " 'wandb_project': 'mt-segmentation_models',\n",
       " 'with_bg_supression': False}"
      ]
     },
     "execution_count": 42,
     "metadata": {},
     "output_type": "execute_result"
    }
   ],
   "source": [
    "train_params"
   ]
  },
  {
   "cell_type": "code",
   "execution_count": 26,
   "metadata": {},
   "outputs": [],
   "source": [
    "dl = DataLoader(ds, batch_size=16, shuffle=False)"
   ]
  },
  {
   "cell_type": "code",
   "execution_count": 27,
   "metadata": {},
   "outputs": [
    {
     "name": "stderr",
     "output_type": "stream",
     "text": [
      "  1%|          | 3/320 [01:44<3:04:13, 34.87s/it]\n"
     ]
    },
    {
     "ename": "KeyboardInterrupt",
     "evalue": "",
     "output_type": "error",
     "traceback": [
      "\u001b[0;31m---------------------------------------------------------------------------\u001b[0m",
      "\u001b[0;31mKeyboardInterrupt\u001b[0m                         Traceback (most recent call last)",
      "Cell \u001b[0;32mIn[27], line 19\u001b[0m\n\u001b[1;32m     16\u001b[0m     \u001b[38;5;28msum\u001b[39m \u001b[38;5;241m+\u001b[39m\u001b[38;5;241m=\u001b[39m img_sum\u001b[38;5;241m.\u001b[39mitem()\n\u001b[1;32m     17\u001b[0m     sum_sq \u001b[38;5;241m+\u001b[39m\u001b[38;5;241m=\u001b[39m (img_sum \u001b[38;5;241m*\u001b[39m\u001b[38;5;241m*\u001b[39m \u001b[38;5;241m2\u001b[39m)\u001b[38;5;241m.\u001b[39mitem()\n\u001b[0;32m---> 19\u001b[0m     \u001b[43mdigest\u001b[49m\u001b[38;5;241;43m.\u001b[39;49m\u001b[43mbatch_update\u001b[49m\u001b[43m(\u001b[49m\u001b[43mimg\u001b[49m\u001b[38;5;241;43m.\u001b[39;49m\u001b[43mcpu\u001b[49m\u001b[43m(\u001b[49m\u001b[43m)\u001b[49m\u001b[38;5;241;43m.\u001b[39;49m\u001b[43mnumpy\u001b[49m\u001b[43m(\u001b[49m\u001b[43m)\u001b[49m\u001b[38;5;241;43m.\u001b[39;49m\u001b[43mflatten\u001b[49m\u001b[43m(\u001b[49m\u001b[43m)\u001b[49m\u001b[43m)\u001b[49m\n\u001b[1;32m     21\u001b[0m mean \u001b[38;5;241m=\u001b[39m \u001b[38;5;28msum\u001b[39m \u001b[38;5;241m/\u001b[39m n\n\u001b[1;32m     22\u001b[0m std \u001b[38;5;241m=\u001b[39m np\u001b[38;5;241m.\u001b[39msqrt(sum_sq \u001b[38;5;241m/\u001b[39m n \u001b[38;5;241m-\u001b[39m mean \u001b[38;5;241m*\u001b[39m\u001b[38;5;241m*\u001b[39m \u001b[38;5;241m2\u001b[39m)\n",
      "File \u001b[0;32m/scratch_net/biwidl319/jbermeo/GNN-Domain-Generalization-main/net_scratch/conda_envs/tta_uia_seg/lib/python3.10/site-packages/tdigest/tdigest.py:148\u001b[0m, in \u001b[0;36mTDigest.batch_update\u001b[0;34m(self, values, w)\u001b[0m\n\u001b[1;32m    143\u001b[0m \u001b[38;5;250m\u001b[39m\u001b[38;5;124;03m\"\"\"\u001b[39;00m\n\u001b[1;32m    144\u001b[0m \u001b[38;5;124;03mUpdate the t-digest with an iterable of values. This assumes all points have the\u001b[39;00m\n\u001b[1;32m    145\u001b[0m \u001b[38;5;124;03msame weight.\u001b[39;00m\n\u001b[1;32m    146\u001b[0m \u001b[38;5;124;03m\"\"\"\u001b[39;00m\n\u001b[1;32m    147\u001b[0m \u001b[38;5;28;01mfor\u001b[39;00m x \u001b[38;5;129;01min\u001b[39;00m values:\n\u001b[0;32m--> 148\u001b[0m     \u001b[38;5;28;43mself\u001b[39;49m\u001b[38;5;241;43m.\u001b[39;49m\u001b[43mupdate\u001b[49m\u001b[43m(\u001b[49m\u001b[43mx\u001b[49m\u001b[43m,\u001b[49m\u001b[43m \u001b[49m\u001b[43mw\u001b[49m\u001b[43m)\u001b[49m\n\u001b[1;32m    149\u001b[0m \u001b[38;5;28mself\u001b[39m\u001b[38;5;241m.\u001b[39mcompress()\n\u001b[1;32m    150\u001b[0m \u001b[38;5;28;01mreturn\u001b[39;00m\n",
      "File \u001b[0;32m/scratch_net/biwidl319/jbermeo/GNN-Domain-Generalization-main/net_scratch/conda_envs/tta_uia_seg/lib/python3.10/site-packages/tdigest/tdigest.py:130\u001b[0m, in \u001b[0;36mTDigest.update\u001b[0;34m(self, x, w)\u001b[0m\n\u001b[1;32m    127\u001b[0m     \u001b[38;5;28;01mcontinue\u001b[39;00m\n\u001b[1;32m    129\u001b[0m delta_w \u001b[38;5;241m=\u001b[39m \u001b[38;5;28mmin\u001b[39m(\u001b[38;5;28mself\u001b[39m\u001b[38;5;241m.\u001b[39m_threshold(q) \u001b[38;5;241m-\u001b[39m c_j\u001b[38;5;241m.\u001b[39mcount, w)\n\u001b[0;32m--> 130\u001b[0m \u001b[38;5;28;43mself\u001b[39;49m\u001b[38;5;241;43m.\u001b[39;49m\u001b[43m_update_centroid\u001b[49m\u001b[43m(\u001b[49m\u001b[43mc_j\u001b[49m\u001b[43m,\u001b[49m\u001b[43m \u001b[49m\u001b[43mx\u001b[49m\u001b[43m,\u001b[49m\u001b[43m \u001b[49m\u001b[43mdelta_w\u001b[49m\u001b[43m)\u001b[49m\n\u001b[1;32m    131\u001b[0m w \u001b[38;5;241m-\u001b[39m\u001b[38;5;241m=\u001b[39m delta_w\n\u001b[1;32m    132\u001b[0m S\u001b[38;5;241m.\u001b[39mpop(j)\n",
      "File \u001b[0;32m/scratch_net/biwidl319/jbermeo/GNN-Domain-Generalization-main/net_scratch/conda_envs/tta_uia_seg/lib/python3.10/site-packages/tdigest/tdigest.py:77\u001b[0m, in \u001b[0;36mTDigest._update_centroid\u001b[0;34m(self, centroid, x, w)\u001b[0m\n\u001b[1;32m     76\u001b[0m \u001b[38;5;28;01mdef\u001b[39;00m \u001b[38;5;21m_update_centroid\u001b[39m(\u001b[38;5;28mself\u001b[39m, centroid, x, w):\n\u001b[0;32m---> 77\u001b[0m     \u001b[38;5;28;43mself\u001b[39;49m\u001b[38;5;241;43m.\u001b[39;49m\u001b[43mC\u001b[49m\u001b[38;5;241;43m.\u001b[39;49m\u001b[43mpop\u001b[49m\u001b[43m(\u001b[49m\u001b[43mcentroid\u001b[49m\u001b[38;5;241;43m.\u001b[39;49m\u001b[43mmean\u001b[49m\u001b[43m)\u001b[49m\n\u001b[1;32m     78\u001b[0m     centroid\u001b[38;5;241m.\u001b[39mupdate(x, w)\n\u001b[1;32m     79\u001b[0m     \u001b[38;5;28mself\u001b[39m\u001b[38;5;241m.\u001b[39m_add_centroid(centroid)\n",
      "File \u001b[0;32m/scratch_net/biwidl319/jbermeo/GNN-Domain-Generalization-main/net_scratch/conda_envs/tta_uia_seg/lib/python3.10/site-packages/accumulation_tree/abctree.py:372\u001b[0m, in \u001b[0;36m_ABCTree.pop\u001b[0;34m(self, key, *args)\u001b[0m\n\u001b[1;32m    370\u001b[0m \u001b[38;5;28;01mtry\u001b[39;00m:\n\u001b[1;32m    371\u001b[0m     value \u001b[38;5;241m=\u001b[39m \u001b[38;5;28mself\u001b[39m\u001b[38;5;241m.\u001b[39mget_value(key)\n\u001b[0;32m--> 372\u001b[0m     \u001b[38;5;28;43mself\u001b[39;49m\u001b[38;5;241;43m.\u001b[39;49m\u001b[43mremove\u001b[49m\u001b[43m(\u001b[49m\u001b[43mkey\u001b[49m\u001b[43m)\u001b[49m\n\u001b[1;32m    373\u001b[0m     \u001b[38;5;28;01mreturn\u001b[39;00m value\n\u001b[1;32m    374\u001b[0m \u001b[38;5;28;01mexcept\u001b[39;00m \u001b[38;5;167;01mKeyError\u001b[39;00m:\n",
      "File \u001b[0;32maccumulation_tree/accumulation_tree.pyx:241\u001b[0m, in \u001b[0;36maccumulation_tree.accumulation_tree._AccumulationTree.remove\u001b[0;34m()\u001b[0m\n",
      "File \u001b[0;32maccumulation_tree/accumulation_tree.pyx:307\u001b[0m, in \u001b[0;36maccumulation_tree.accumulation_tree._AccumulationTree._update_dirty_nodes\u001b[0;34m()\u001b[0m\n",
      "File \u001b[0;32maccumulation_tree/accumulation_tree.pyx:335\u001b[0m, in \u001b[0;36maccumulation_tree.accumulation_tree._AccumulationTree._update_accumulation\u001b[0;34m()\u001b[0m\n",
      "File \u001b[0;32m/scratch_net/biwidl319/jbermeo/GNN-Domain-Generalization-main/net_scratch/conda_envs/tta_uia_seg/lib/python3.10/site-packages/tdigest/tdigest.py:9\u001b[0m, in \u001b[0;36m_centroid_count\u001b[0;34m(centroid)\u001b[0m\n\u001b[1;32m      5\u001b[0m \u001b[38;5;28;01mfrom\u001b[39;00m \u001b[38;5;21;01maccumulation_tree\u001b[39;00m \u001b[38;5;28;01mimport\u001b[39;00m AccumulationTree\n\u001b[1;32m      6\u001b[0m \u001b[38;5;28;01mimport\u001b[39;00m \u001b[38;5;21;01mpyudorandom\u001b[39;00m\n\u001b[0;32m----> 9\u001b[0m \u001b[38;5;28;01mdef\u001b[39;00m \u001b[38;5;21m_centroid_count\u001b[39m(centroid):\n\u001b[1;32m     10\u001b[0m     \u001b[38;5;66;03m# this is defined at the top level because\u001b[39;00m\n\u001b[1;32m     11\u001b[0m     \u001b[38;5;66;03m# pyspark needs to pickle these functions properly\u001b[39;00m\n\u001b[1;32m     12\u001b[0m     \u001b[38;5;66;03m# See https://github.com/CamDavidsonPilon/tdigest/issues/42\u001b[39;00m\n\u001b[1;32m     13\u001b[0m     \u001b[38;5;28;01mreturn\u001b[39;00m centroid\u001b[38;5;241m.\u001b[39mcount\n\u001b[1;32m     16\u001b[0m \u001b[38;5;28;01mclass\u001b[39;00m \u001b[38;5;21;01mCentroid\u001b[39;00m(\u001b[38;5;28mobject\u001b[39m):\n",
      "\u001b[0;31mKeyboardInterrupt\u001b[0m: "
     ]
    }
   ],
   "source": [
    "n_epochs = 1\n",
    "sum = 0\n",
    "sum_sq = 0\n",
    "n = 0\n",
    "digest = TDigest()\n",
    "\n",
    "for img, *_ in tqdm(dl):\n",
    "    img = img.to(device)\n",
    "    \n",
    "    # Get normalized image\n",
    "    with torch.no_grad():\n",
    "        img = norm(img)\n",
    "    \n",
    "    n += torch.prod(torch.tensor(img.shape))\n",
    "    sum += img.sum().item()\n",
    "    sum_sq += (img ** 2).sum().item()\n",
    "    \n",
    "    digest.batch_update(img.cpu().numpy().flatten())\n",
    "            \n",
    "mean = sum / n\n",
    "std = np.sqrt(sum_sq / n - mean ** 2)\n",
    "print(f'Mean: {mean}, Std: {std}')\n",
    "print(f'Deciles: {[digest.percentile(i) for i in np.linspace(0, 1, 11)]}')\n",
    "        "
   ]
  },
  {
   "cell_type": "code",
   "execution_count": 37,
   "metadata": {},
   "outputs": [],
   "source": [
    "mean = sum / n\n",
    "std = np.sqrt(sum_sq / n - mean ** 2)"
   ]
  },
  {
   "cell_type": "code",
   "execution_count": 40,
   "metadata": {},
   "outputs": [],
   "source": [
    "quantiles = np.concatenate([\n",
    "    np.array([0.001, 0.01, 0.025, 0.05]),\n",
    "    np.arange(.1, 0.9, 0.05),\n",
    "    np.array([0.95, 0.975, 0.99, 0.999])\n",
    "])\n",
    "\n",
    "statistics = {\n",
    "    'moments': {\n",
    "        'mean': mean,   \n",
    "        'std': std  \n",
    "    }, \n",
    "    'quantiles': {\n",
    "        q: digest.percentile(q * 100) for q in quantiles\n",
    "    }\n",
    "}"
   ]
  },
  {
   "cell_type": "code",
   "execution_count": 41,
   "metadata": {},
   "outputs": [
    {
     "data": {
      "text/plain": [
       "{'moments': {'mean': tensor(-0.5634), 'std': tensor(582.3605)},\n",
       " 'quantiles': {0.001: -0.9945433342916964,\n",
       "  0.01: -0.9021149695185093,\n",
       "  0.025: -0.854265213743379,\n",
       "  0.05: -0.809861784110772,\n",
       "  0.1: -0.7521351086885315,\n",
       "  0.15000000000000002: -0.7335615792542854,\n",
       "  0.20000000000000004: -0.7335615575900846,\n",
       "  0.25000000000000006: -0.7335615359258834,\n",
       "  0.30000000000000004: -0.7335607424755598,\n",
       "  0.3500000000000001: -0.7335499086800722,\n",
       "  0.40000000000000013: -0.7335390748845846,\n",
       "  0.45000000000000007: -0.733528241089097,\n",
       "  0.5000000000000001: -0.714010575237264,\n",
       "  0.5500000000000002: -0.7035516091813828,\n",
       "  0.6000000000000002: -0.6783800194401608,\n",
       "  0.6500000000000001: -0.6635622541876772,\n",
       "  0.7000000000000002: -0.6441343705656857,\n",
       "  0.7500000000000002: -0.6422032084829853,\n",
       "  0.8000000000000002: -0.5911896446707012,\n",
       "  0.8500000000000002: -0.2608513039432001,\n",
       "  0.95: 0.09741911641490902,\n",
       "  0.975: 0.1882849318456169,\n",
       "  0.99: 0.24772406815528256,\n",
       "  0.999: 0.6185989379882812}}"
      ]
     },
     "execution_count": 41,
     "metadata": {},
     "output_type": "execute_result"
    }
   ],
   "source": [
    "statistics"
   ]
  },
  {
   "cell_type": "code",
   "execution_count": 36,
   "metadata": {},
   "outputs": [
    {
     "data": {
      "text/plain": [
       "'{\"n\": 3207722, \"delta\": 0.01, \"K\": 25, \"centroids\": [{\"m\": -1.2559771537780762, \"c\": 1.0}, {\"m\": -1.1844812631607056, \"c\": 1.0}, {\"m\": -1.1696264743804932, \"c\": 1.0}, {\"m\": -1.1674108505249023, \"c\": 1.0}, {\"m\": -1.1660230159759521, \"c\": 1.0}, {\"m\": -1.1632336378097534, \"c\": 1.0}, {\"m\": -1.1623378992080688, \"c\": 1.0}, {\"m\": -1.1572933197021484, \"c\": 1.0}, {\"m\": -1.15138840675354, \"c\": 1.0}, {\"m\": -1.150769591331482, \"c\": 1.0}, {\"m\": -1.1501342058181763, \"c\": 1.0}, {\"m\": -1.1498668193817139, \"c\": 1.0}, {\"m\": -1.1497288942337036, \"c\": 1.0}, {\"m\": -1.1497209072113037, \"c\": 1.0}, {\"m\": -1.1487590074539185, \"c\": 1.0}, {\"m\": -1.1452170610427856, \"c\": 1.0}, {\"m\": -1.1438095569610596, \"c\": 1.0}, {\"m\": -1.14359450340271, \"c\": 1.0}, {\"m\": -1.1434494256973267, \"c\": 1.0}, {\"m\": -1.1413179636001587, \"c\": 1.0}, {\"m\": -1.1407928466796875, \"c\": 1.0}, {\"m\": -1.1398078203201294, \"c\": 1.0}, {\"m\": -1.1379530429840088, \"c\": 1.0}, {\"m\": -1.1377865076065063, \"c\": 1.0}, {\"m\": -1.137774109840393, \"c\": 1.0}, {\"m\": -1.1360162496566772, \"c\": 1.0}, {\"m\": -1.135770559310913, \"c\": 1.0}, {\"m\": -1.1357483863830566, \"c\": 1.0}, {\"m\": -1.1351127624511719, \"c\": 1.0}, {\"m\": -1.1350617408752441, \"c\": 1.0}, {\"m\": -1.133583664894104, \"c\": 1.0}, {\"m\": -1.1322849988937378, \"c\": 1.0}, {\"m\": -1.1317709684371948, \"c\": 1.0}, {\"m\": -1.1314376592636108, \"c\": 1.0}, {\"m\": -1.1309127807617188, \"c\": 1.0}, {\"m\": -1.1292192935943604, \"c\": 1.0}, {\"m\": -1.1284065246582031, \"c\": 1.0}, {\"m\": -1.1283010244369507, \"c\": 1.0}, {\"m\": -1.1279442310333252, \"c\": 1.0}, {\"m\": -1.127535343170166, \"c\": 1.0}, {\"m\": -1.1274522542953491, \"c\": 1.0}, {\"m\": -1.1272811889648438, \"c\": 1.0}, {\"m\": -1.1267846822738647, \"c\": 1.0}, {\"m\": -1.1263537406921387, \"c\": 1.0}, {\"m\": -1.126165747642517, \"c\": 1.0}, {\"m\": -1.1257402896881104, \"c\": 1.0}, {\"m\": -1.1253708600997925, \"c\": 1.0}, {\"m\": -1.1248805522918701, \"c\": 1.0}, {\"m\": -1.1241816282272339, \"c\": 1.0}, {\"m\": -1.1239306926727295, \"c\": 1.0}, {\"m\": -1.1238676309585571, \"c\": 1.0}, {\"m\": -1.122577428817749, \"c\": 1.0}, {\"m\": -1.1224792003631592, \"c\": 1.0}, {\"m\": -1.1216226816177368, \"c\": 1.0}, {\"m\": -1.121483564376831, \"c\": 1.0}, {\"m\": -1.1212784051895142, \"c\": 1.0}, {\"m\": -1.120392084121704, \"c\": 2.0}, {\"m\": -1.1197842359542847, \"c\": 1.0}, {\"m\": -1.1189863681793213, \"c\": 1.0}, {\"m\": -1.1185816526412964, \"c\": 1.0}, {\"m\": -1.1182552576065063, \"c\": 1.0}, {\"m\": -1.1167689561843872, \"c\": 2.0}, {\"m\": -1.1156268119812012, \"c\": 1.0}, {\"m\": -1.1148784160614014, \"c\": 1.0}, {\"m\": -1.1146254539489746, \"c\": 1.0}, {\"m\": -1.1145060062408447, \"c\": 1.0}, {\"m\": -1.114432692527771, \"c\": 1.0}, {\"m\": -1.1131147742271423, \"c\": 2.0}, {\"m\": -1.112673580646515, \"c\": 2.0}, {\"m\": -1.112422227859497, \"c\": 2.0}, {\"m\": -1.1121755242347717, \"c\": 2.0}, {\"m\": -1.1115938425064087, \"c\": 1.0}, {\"m\": -1.1107902526855469, \"c\": 2.0}, {\"m\": -1.1105848550796509, \"c\": 2.0}, {\"m\": -1.1103986501693726, \"c\": 1.0}, {\"m\": -1.1101104617118835, \"c\": 2.0}, {\"m\": -1.1094375054041545, \"c\": 3.0}, {\"m\": -1.1083473563194275, \"c\": 2.0}, {\"m\": -1.107614815235138, \"c\": 2.0}, {\"m\": -1.1072015166282654, \"c\": 2.0}, {\"m\": -1.1068904002507527, \"c\": 3.0}, {\"m\": -1.10636967420578, \"c\": 2.0}, {\"m\": -1.105773687362671, \"c\": 3.0}, {\"m\": -1.1055694818496704, \"c\": 1.0}, {\"m\": -1.1051169633865356, \"c\": 3.0}, {\"m\": -1.1031838655471802, \"c\": 3.0}, {\"m\": -1.1026002963383992, \"c\": 3.0}, {\"m\": -1.1016995906829834, \"c\": 1.0}, {\"m\": -1.1015065610408783, \"c\": 4.0}, {\"m\": -1.1010884046554565, \"c\": 1.0}, {\"m\": -1.1004295349121094, \"c\": 1.0}, {\"m\": -1.100299596786499, \"c\": 3.0}, {\"m\": -1.0999507904052734, \"c\": 2.0}, {\"m\": -1.099634051322937, \"c\": 2.0}, {\"m\": -1.0994189580281575, \"c\": 3.0}, {\"m\": -1.0988578796386719, \"c\": 2.0}, {\"m\": -1.0982094705104828, \"c\": 4.0}, {\"m\": -1.0974172949790955, \"c\": 4.0}, {\"m\": -1.0966182947158813, \"c\": 2.0}, {\"m\": -1.0960331857204437, \"c\": 4.0}, {\"m\": -1.0945154428482056, \"c\": 3.0}, {\"m\": -1.0933552185694377, \"c\": 3.0}, {\"m\": -1.0929554303487141, \"c\": 3.0}, {\"m\": -1.0923877656459808, \"c\": 4.0}, {\"m\": -1.0913674036661785, \"c\": 3.0}, {\"m\": -1.0896413922309875, \"c\": 6.0}, {\"m\": -1.088312178850174, \"c\": 4.0}, {\"m\": -1.087342768907547, \"c\": 4.0}, {\"m\": -1.0872050921122234, \"c\": 3.0}, {\"m\": -1.0865579843521118, \"c\": 4.0}, {\"m\": -1.0856393575668335, \"c\": 2.0}, {\"m\": -1.085287630558014, \"c\": 4.0}, {\"m\": -1.083817958831787, \"c\": 6.0}, {\"m\": -1.0824509859085083, \"c\": 2.0}, {\"m\": -1.0817057490348816, \"c\": 6.0}, {\"m\": -1.0810911258061726, \"c\": 3.0}, {\"m\": -1.0806337594985962, \"c\": 5.0}, {\"m\": -1.0798128843307495, \"c\": 6.0}, {\"m\": -1.078985869884491, \"c\": 6.0}, {\"m\": -1.0779016613960266, \"c\": 8.0}, {\"m\": -1.0770073235034943, \"c\": 4.0}, {\"m\": -1.0757590770721435, \"c\": 5.0}, {\"m\": -1.0746777256329856, \"c\": 6.0}, {\"m\": -1.0741658608118694, \"c\": 6.0}, {\"m\": -1.0734596933637346, \"c\": 7.0}, {\"m\": -1.0730964541435242, \"c\": 4.0}, {\"m\": -1.0725208520889282, \"c\": 5.0}, {\"m\": -1.071947353226798, \"c\": 7.0}, {\"m\": -1.0714884996414185, \"c\": 8.0}, {\"m\": -1.0706027235303608, \"c\": 7.0}, {\"m\": -1.0701161921024323, \"c\": 8.0}, {\"m\": -1.069661796092987, \"c\": 2.0}, {\"m\": -1.069234549999237, \"c\": 6.0}, {\"m\": -1.0689528981844583, \"c\": 6.0}, {\"m\": -1.0684067805608113, \"c\": 6.0}, {\"m\": -1.068140943845113, \"c\": 6.0}, {\"m\": -1.0680352449417114, \"c\": 2.0}, {\"m\": -1.067607045173645, \"c\": 6.0}, {\"m\": -1.0671182359967912, \"c\": 7.0}, {\"m\": -1.0664243433210585, \"c\": 9.0}, {\"m\": -1.065818005137973, \"c\": 9.0}, {\"m\": -1.0651833176612853, \"c\": 10.0}, {\"m\": -1.0640513896942139, \"c\": 8.0}, {\"m\": -1.063472588857015, \"c\": 9.0}, {\"m\": -1.0632072687149048, \"c\": 3.0}, {\"m\": -1.0625346004962921, \"c\": 4.0}, {\"m\": -1.0622399250666303, \"c\": 12.0}, {\"m\": -1.0615346564186945, \"c\": 9.0}, {\"m\": -1.0605079174041747, \"c\": 10.0}, {\"m\": -1.0598109960556032, \"c\": 7.0}, {\"m\": -1.0594591413225447, \"c\": 7.0}, {\"m\": -1.0585844346455164, \"c\": 14.0}, {\"m\": -1.0575870360646926, \"c\": 14.0}, {\"m\": -1.056628452406989, \"c\": 9.0}, {\"m\": -1.0558183749516807, \"c\": 15.0}, {\"m\": -1.0553181852613176, \"c\": 7.0}, {\"m\": -1.0547454436620078, \"c\": 15.0}, {\"m\": -1.0540999919176104, \"c\": 16.0}, {\"m\": -1.0533997118473053, \"c\": 12.0}, {\"m\": -1.0528754711151123, \"c\": 10.0}, {\"m\": -1.052207247416178, \"c\": 15.0}, {\"m\": -1.05140996830804, \"c\": 14.0}, {\"m\": -1.050645359357198, \"c\": 15.0}, {\"m\": -1.0500100702047348, \"c\": 16.0}, {\"m\": -1.0492861015456063, \"c\": 14.0}, {\"m\": -1.0484824750734412, \"c\": 23.0}, {\"m\": -1.0474259179571401, \"c\": 23.0}, {\"m\": -1.0460193016949821, \"c\": 17.0}, {\"m\": -1.0453721074496998, \"c\": 17.0}, {\"m\": -1.0445738887786866, \"c\": 25.0}, {\"m\": -1.0437199274698894, \"c\": 12.0}, {\"m\": -1.0431331396102905, \"c\": 16.0}, {\"m\": -1.0424187839031223, \"c\": 20.0}, {\"m\": -1.0417675344567547, \"c\": 19.0}, {\"m\": -1.0408522865988994, \"c\": 22.0}, {\"m\": -1.0402980297803879, \"c\": 8.0}, {\"m\": -1.039740761121114, \"c\": 24.0}, {\"m\": -1.0388607166030188, \"c\": 22.0}, {\"m\": -1.0382644946758564, \"c\": 13.0}, {\"m\": -1.037621455533164, \"c\": 14.0}, {\"m\": -1.0369557142257693, \"c\": 26.0}, {\"m\": -1.0364202737808226, \"c\": 20.0}, {\"m\": -1.0357526865872473, \"c\": 22.0}, {\"m\": -1.0347575936998639, \"c\": 35.0}, {\"m\": -1.0345197121302288, \"c\": 3.0}, {\"m\": -1.0338181389702692, \"c\": 27.0}, {\"m\": -1.0330774854211244, \"c\": 17.0}, {\"m\": -1.0320202906926472, \"c\": 27.0}, {\"m\": -1.0312114821539986, \"c\": 18.0}, {\"m\": -1.0309728185335794, \"c\": 12.0}, {\"m\": -1.0304329931735992, \"c\": 20.0}, {\"m\": -1.029432621869174, \"c\": 33.0}, {\"m\": -1.028579750231334, \"c\": 28.0}, {\"m\": -1.0275860786437987, \"c\": 30.0}, {\"m\": -1.0269043147563934, \"c\": 24.0}, {\"m\": -1.0262996991475422, \"c\": 30.0}, {\"m\": -1.0257191210985186, \"c\": 32.0}, {\"m\": -1.0251430590947468, \"c\": 30.0}, {\"m\": -1.0244062308109165, \"c\": 33.0}, {\"m\": -1.0238785296678543, \"c\": 16.0}, {\"m\": -1.0231147713131374, \"c\": 45.0}, {\"m\": -1.0220648576231564, \"c\": 34.0}, {\"m\": -1.0210658073425292, \"c\": 35.0}, {\"m\": -1.020447590134361, \"c\": 33.0}, {\"m\": -1.0194977124532063, \"c\": 39.0}, {\"m\": -1.0185898386913794, \"c\": 46.0}, {\"m\": -1.0179374439771784, \"c\": 43.0}, {\"m\": -1.017035808165868, \"c\": 60.0}, {\"m\": -1.0159210165341697, \"c\": 36.0}, {\"m\": -1.0149519594888838, \"c\": 63.0}, {\"m\": -1.013817496218924, \"c\": 59.0}, {\"m\": -1.012812585365481, \"c\": 41.0}, {\"m\": -1.0121079527813455, \"c\": 46.0}, {\"m\": -1.0113692820911675, \"c\": 71.0}, {\"m\": -1.010412410589365, \"c\": 65.0}, {\"m\": -1.009625878023065, \"c\": 46.0}, {\"m\": -1.0088400341743644, \"c\": 43.0}, {\"m\": -1.0082709176199773, \"c\": 35.0}, {\"m\": -1.007709387021187, \"c\": 39.0}, {\"m\": -1.0070651336149739, \"c\": 44.0}, {\"m\": -1.006454356511434, \"c\": 30.0}, {\"m\": -1.005824065870709, \"c\": 36.0}, {\"m\": -1.0052170435587566, \"c\": 45.0}, {\"m\": -1.0046133518218994, \"c\": 40.0}, {\"m\": -1.003801249169015, \"c\": 74.0}, {\"m\": -1.0030894646277793, \"c\": 52.0}, {\"m\": -1.001950583037208, \"c\": 68.0}, {\"m\": -1.0009942640338036, \"c\": 57.0}, {\"m\": -1.0003220381275297, \"c\": 31.0}, {\"m\": -0.9998173196360748, \"c\": 53.0}, {\"m\": -0.9990655877373433, \"c\": 55.0}, {\"m\": -0.9982631529791881, \"c\": 59.0}, {\"m\": -0.9975034420306866, \"c\": 65.0}, {\"m\": -0.996721089631319, \"c\": 80.0}, {\"m\": -0.9958852013436759, \"c\": 82.0}, {\"m\": -0.9950031431516011, \"c\": 75.0}, {\"m\": -0.9941107869148254, \"c\": 85.0}, {\"m\": -0.9931000665176748, \"c\": 86.0}, {\"m\": -0.9919362273891413, \"c\": 113.0}, {\"m\": -0.9910754718999754, \"c\": 87.0}, {\"m\": -0.9903189717833678, \"c\": 67.0}, {\"m\": -0.9895534704713262, \"c\": 85.0}, {\"m\": -0.9887226884271585, \"c\": 102.0}, {\"m\": -0.9878093556811415, \"c\": 96.0}, {\"m\": -0.9870048178139551, \"c\": 93.0}, {\"m\": -0.9861815843251672, \"c\": 101.0}, {\"m\": -0.9854721547441277, \"c\": 94.0}, {\"m\": -0.9844849358743694, \"c\": 134.0}, {\"m\": -0.9834223723411559, \"c\": 125.0}, {\"m\": -0.9825177478029371, \"c\": 94.0}, {\"m\": -0.9816424380178039, \"c\": 115.0}, {\"m\": -0.9807889709170434, \"c\": 142.0}, {\"m\": -0.9797899341411729, \"c\": 139.0}, {\"m\": -0.9788408096020037, \"c\": 104.0}, {\"m\": -0.9776897225528954, \"c\": 192.0}, {\"m\": -0.9765236733340417, \"c\": 119.0}, {\"m\": -0.9757534847202071, \"c\": 83.0}, {\"m\": -0.9750305719262974, \"c\": 127.0}, {\"m\": -0.9740963489921005, \"c\": 135.0}, {\"m\": -0.9731915762791262, \"c\": 130.0}, {\"m\": -0.9725504354533984, \"c\": 117.0}, {\"m\": -0.9718539147149947, \"c\": 105.0}, {\"m\": -0.9710334206651324, \"c\": 163.0}, {\"m\": -0.9700554481079414, \"c\": 172.0}, {\"m\": -0.9691077339829818, \"c\": 132.0}, {\"m\": -0.9683158350618263, \"c\": 152.0}, {\"m\": -0.9675604771859577, \"c\": 101.0}, {\"m\": -0.9670808219684744, \"c\": 106.0}, {\"m\": -0.9664864380050588, \"c\": 108.0}, {\"m\": -0.9657469519547052, \"c\": 154.0}, {\"m\": -0.96467858148071, \"c\": 265.0}, {\"m\": -0.9634851807385534, \"c\": 201.0}, {\"m\": -0.9624228896238868, \"c\": 195.0}, {\"m\": -0.9615659729964071, \"c\": 147.0}, {\"m\": -0.9607460256232773, \"c\": 172.0}, {\"m\": -0.9598446589708329, \"c\": 200.0}, {\"m\": -0.9589013074609368, \"c\": 176.0}, {\"m\": -0.9579898180043113, \"c\": 244.0}, {\"m\": -0.956900046121606, \"c\": 229.0}, {\"m\": -0.9558281556237489, \"c\": 256.0}, {\"m\": -0.955018226281706, \"c\": 166.0}, {\"m\": -0.9542085618044422, \"c\": 226.0}, {\"m\": -0.953307968347184, \"c\": 193.0}, {\"m\": -0.9523951096354787, \"c\": 265.0}, {\"m\": -0.9514583823008413, \"c\": 234.0}, {\"m\": -0.9505735169495307, \"c\": 248.0}, {\"m\": -0.949518626579991, \"c\": 308.0}, {\"m\": -0.9484379502731982, \"c\": 254.0}, {\"m\": -0.9474185206851021, \"c\": 305.0}, {\"m\": -0.9464393162433007, \"c\": 243.0}, {\"m\": -0.9454681665666641, \"c\": 310.0}, {\"m\": -0.9443363409135593, \"c\": 358.0}, {\"m\": -0.9432387375322528, \"c\": 281.0}, {\"m\": -0.9422945440954464, \"c\": 314.0}, {\"m\": -0.9413182209519777, \"c\": 272.0}, {\"m\": -0.9405478353959968, \"c\": 249.0}, {\"m\": -0.9395966560653091, \"c\": 445.0}, {\"m\": -0.9385277084856225, \"c\": 298.0}, {\"m\": -0.9376139926448092, \"c\": 361.0}, {\"m\": -0.9366796898617636, \"c\": 319.0}, {\"m\": -0.9356405631961108, \"c\": 428.0}, {\"m\": -0.9343973920733915, \"c\": 454.0}, {\"m\": -0.9331275200357244, \"c\": 490.0}, {\"m\": -0.9319564566087493, \"c\": 418.0}, {\"m\": -0.9310535368739922, \"c\": 372.0}, {\"m\": -0.9300855704672267, \"c\": 387.0}, {\"m\": -0.9292229996860353, \"c\": 362.0}, {\"m\": -0.9283886086868957, \"c\": 332.0}, {\"m\": -0.927563582894796, \"c\": 399.0}, {\"m\": -0.9267033717535826, \"c\": 346.0}, {\"m\": -0.9259913663401651, \"c\": 299.0}, {\"m\": -0.925258808665806, \"c\": 351.0}, {\"m\": -0.9244196863000645, \"c\": 439.0}, {\"m\": -0.9233863968773192, \"c\": 502.0}, {\"m\": -0.9223417276043002, \"c\": 531.0}, {\"m\": -0.9213590236271134, \"c\": 442.0}, {\"m\": -0.9204906439318242, \"c\": 412.0}, {\"m\": -0.9195139287828328, \"c\": 555.0}, {\"m\": -0.9183813908496086, \"c\": 566.0}, {\"m\": -0.9171714921545541, \"c\": 644.0}, {\"m\": -0.9161475193279175, \"c\": 377.0}, {\"m\": -0.9153661148047749, \"c\": 405.0}, {\"m\": -0.9144675427508129, \"c\": 535.0}, {\"m\": -0.913441528349951, \"c\": 547.0}, {\"m\": -0.9125126767990199, \"c\": 430.0}, {\"m\": -0.9117109117694717, \"c\": 434.0}, {\"m\": -0.9108797655075416, \"c\": 474.0}, {\"m\": -0.9096659776362651, \"c\": 898.0}, {\"m\": -0.9083549239716352, \"c\": 619.0}, {\"m\": -0.9072754757886451, \"c\": 722.0}, {\"m\": -0.9062277591657563, \"c\": 639.0}, {\"m\": -0.9052707129814593, \"c\": 610.0}, {\"m\": -0.9041191916771215, \"c\": 921.0}, {\"m\": -0.9029627361557854, \"c\": 568.0}, {\"m\": -0.9018110198778019, \"c\": 946.0}, {\"m\": -0.9002794844676801, \"c\": 1177.0}, {\"m\": -0.8990381027458355, \"c\": 681.0}, {\"m\": -0.8980708636590763, \"c\": 693.0}, {\"m\": -0.8967926964954459, \"c\": 1225.0}, {\"m\": -0.895135129934333, \"c\": 1245.0}, {\"m\": -0.8936987941520362, \"c\": 878.0}, {\"m\": -0.8926670762297207, \"c\": 726.0}, {\"m\": -0.8914244150280193, \"c\": 1256.0}, {\"m\": -0.8902407649077908, \"c\": 658.0}, {\"m\": -0.8892533108519197, \"c\": 1023.0}, {\"m\": -0.8880186818708143, \"c\": 1064.0}, {\"m\": -0.8869720258350883, \"c\": 672.0}, {\"m\": -0.8861924610809441, \"c\": 703.0}, {\"m\": -0.8853420747971713, \"c\": 826.0}, {\"m\": -0.884271380756175, \"c\": 1084.0}, {\"m\": -0.8828573165176153, \"c\": 1554.0}, {\"m\": -0.8816015577717237, \"c\": 773.0}, {\"m\": -0.8806046594843341, \"c\": 1045.0}, {\"m\": -0.8795226687636661, \"c\": 994.0}, {\"m\": -0.8784044785620447, \"c\": 1144.0}, {\"m\": -0.877187225919116, \"c\": 1305.0}, {\"m\": -0.8759301162770873, \"c\": 1305.0}, {\"m\": -0.8747230702087659, \"c\": 1190.0}, {\"m\": -0.8736231357966816, \"c\": 1157.0}, {\"m\": -0.8725870274797546, \"c\": 1056.0}, {\"m\": -0.8716234034773972, \"c\": 1056.0}, {\"m\": -0.8707350886474227, \"c\": 944.0}, {\"m\": -0.8698034992829459, \"c\": 1162.0}, {\"m\": -0.8685832827554548, \"c\": 1554.0}, {\"m\": -0.8671922392097647, \"c\": 1582.0}, {\"m\": -0.8659307989935737, \"c\": 1309.0}, {\"m\": -0.8648910510945786, \"c\": 1087.0}, {\"m\": -0.8639620457376743, \"c\": 1134.0}, {\"m\": -0.862844770138191, \"c\": 1637.0}, {\"m\": -0.8614896530332018, \"c\": 1721.0}, {\"m\": -0.8602624524788672, \"c\": 1328.0}, {\"m\": -0.8592618705122156, \"c\": 1397.0}, {\"m\": -0.8579896941136459, \"c\": 1965.0}, {\"m\": -0.8567191036093361, \"c\": 1434.0}, {\"m\": -0.855513006101841, \"c\": 1890.0}, {\"m\": -0.8542350157526623, \"c\": 1703.0}, {\"m\": -0.8528863760184797, \"c\": 2105.0}, {\"m\": -0.8514680844143121, \"c\": 1956.0}, {\"m\": -0.8502661204270243, \"c\": 1406.0}, {\"m\": -0.8491089975981052, \"c\": 2025.0}, {\"m\": -0.8476771015747977, \"c\": 2212.0}, {\"m\": -0.8463692889658677, \"c\": 1789.0}, {\"m\": -0.8448572432978388, \"c\": 2898.0}, {\"m\": -0.8432350471465558, \"c\": 2182.0}, {\"m\": -0.8419978447986297, \"c\": 1771.0}, {\"m\": -0.8403469394958986, \"c\": 3584.0}, {\"m\": -0.8386072183149095, \"c\": 2366.0}, {\"m\": -0.8369167857769074, \"c\": 3447.0}, {\"m\": -0.8352448192816686, \"c\": 2295.0}, {\"m\": -0.833670385002007, \"c\": 3189.0}, {\"m\": -0.8322674015685593, \"c\": 1641.0}, {\"m\": -0.8312946536330303, \"c\": 1788.0}, {\"m\": -0.8301858823866092, \"c\": 2335.0}, {\"m\": -0.8284442099871576, \"c\": 4058.0}, {\"m\": -0.8268221967875666, \"c\": 2110.0}, {\"m\": -0.8257479854090927, \"c\": 2059.0}, {\"m\": -0.8246479366369455, \"c\": 2293.0}, {\"m\": -0.8232693152638881, \"c\": 3093.0}, {\"m\": -0.8218406103339138, \"c\": 2633.0}, {\"m\": -0.820553008312675, \"c\": 2487.0}, {\"m\": -0.81934024335016, \"c\": 2469.0}, {\"m\": -0.8181760639716418, \"c\": 2418.0}, {\"m\": -0.8170180153817502, \"c\": 2446.0}, {\"m\": -0.8159911519294818, \"c\": 2058.0}, {\"m\": -0.8148497580419133, \"c\": 2692.0}, {\"m\": -0.8134069463556963, \"c\": 3552.0}, {\"m\": -0.8114824750829585, \"c\": 4802.0}, {\"m\": -0.8096494663163022, \"c\": 3208.0}, {\"m\": -0.8080097541322854, \"c\": 4207.0}, {\"m\": -0.8061405771828808, \"c\": 4200.0}, {\"m\": -0.8045366007952282, \"c\": 3358.0}, {\"m\": -0.8031925974733859, \"c\": 3014.0}, {\"m\": -0.8019896456655466, \"c\": 2650.0}, {\"m\": -0.8006290261443578, \"c\": 3870.0}, {\"m\": -0.7987194741131086, \"c\": 5448.0}, {\"m\": -0.7969510100547831, \"c\": 3374.0}, {\"m\": -0.7953117247193696, \"c\": 4879.0}, {\"m\": -0.7933441394725337, \"c\": 5136.0}, {\"m\": -0.7913554379573239, \"c\": 5252.0}, {\"m\": -0.789291292314366, \"c\": 5461.0}, {\"m\": -0.7873155477385578, \"c\": 4816.0}, {\"m\": -0.785348995551204, \"c\": 5660.0}, {\"m\": -0.7834756683165413, \"c\": 4505.0}, {\"m\": -0.7816774104542715, \"c\": 5225.0}, {\"m\": -0.7800866248748023, \"c\": 3872.0}, {\"m\": -0.7780863228370539, \"c\": 7393.0}, {\"m\": -0.7754275473364728, \"c\": 7872.0}, {\"m\": -0.7728103301112192, \"c\": 7177.0}, {\"m\": -0.7707636046814211, \"c\": 4891.0}, {\"m\": -0.7689049065905159, \"c\": 6020.0}, {\"m\": -0.7662998795990748, \"c\": 9657.0}, {\"m\": -0.7636748182889344, \"c\": 6281.0}, {\"m\": -0.7617517810680159, \"c\": 6058.0}, {\"m\": -0.7595966698263202, \"c\": 7040.0}, {\"m\": -0.7576065537482646, \"c\": 5895.0}, {\"m\": -0.7554929094852542, \"c\": 7809.0}, {\"m\": -0.7534993258658595, \"c\": 5398.0}, {\"m\": -0.7519503734176062, \"c\": 5046.0}, {\"m\": -0.7503818366181395, \"c\": 5868.0}, {\"m\": -0.7486186048203332, \"c\": 6342.0}, {\"m\": -0.7466487533748256, \"c\": 7339.0}, {\"m\": -0.7445000495043564, \"c\": 7787.0}, {\"m\": -0.7424027726002422, \"c\": 7195.0}, {\"m\": -0.7400269479058644, \"c\": 10150.0}, {\"m\": -0.7376208704413264, \"c\": 7994.0}, {\"m\": -0.7356764535209628, \"c\": 7321.0}, {\"m\": -0.7344067718126825, \"c\": 3900.0}, {\"m\": -0.7337288267113444, \"c\": 3225.0}, {\"m\": -0.7335791801297387, \"c\": 215.0}, {\"m\": -0.7335627284370551, \"c\": 119.0}, {\"m\": -0.73356159137828, \"c\": 56.0}, {\"m\": -0.7335615158081055, \"c\": 1118878.0}, {\"m\": -0.7335237264633179, \"c\": 7.0}, {\"m\": -0.7334458305285522, \"c\": 910.0}, {\"m\": -0.731899417760961, \"c\": 18050.0}, {\"m\": -0.7275813954423543, \"c\": 17076.0}, {\"m\": -0.7217992654597701, \"c\": 25780.0}, {\"m\": -0.7151401056440048, \"c\": 27282.0}, {\"m\": -0.7135779632182976, \"c\": 22755.0}, {\"m\": -0.7135404771885394, \"c\": 23654.0}, {\"m\": -0.7104975650730193, \"c\": 12913.0}, {\"m\": -0.7054961975665915, \"c\": 18314.0}, {\"m\": -0.704603704617178, \"c\": 139.0}, {\"m\": -0.7040088614448905, \"c\": 64.0}, {\"m\": -0.7037369851712828, \"c\": 27.0}, {\"m\": -0.7036161805902208, \"c\": 14.0}, {\"m\": -0.7035705049832662, \"c\": 3.0}, {\"m\": -0.7035577297210693, \"c\": 2.0}, {\"m\": -0.7035520076751709, \"c\": 99779.0}, {\"m\": -0.7035514712333679, \"c\": 1.0}, {\"m\": -0.7035437822341919, \"c\": 1.0}, {\"m\": -0.7035156488418579, \"c\": 7.0}, {\"m\": -0.7034445603688557, \"c\": 24.0}, {\"m\": -0.7032414056086396, \"c\": 15727.0}, {\"m\": -0.6984086483796834, \"c\": 20511.0}, {\"m\": -0.6914777031494076, \"c\": 24777.0}, {\"m\": -0.6850382664459237, \"c\": 20213.0}, {\"m\": -0.6835956190527841, \"c\": 13116.0}, {\"m\": -0.6835615108098743, \"c\": 13733.0}, {\"m\": -0.6835584819890782, \"c\": 12151.0}, {\"m\": -0.6830367784344559, \"c\": 17966.0}, {\"m\": -0.6785029497614281, \"c\": 17640.0}, {\"m\": -0.6756775040296767, \"c\": 5813.0}, {\"m\": -0.6746095660722481, \"c\": 106.0}, {\"m\": -0.6740184263749557, \"c\": 55.0}, {\"m\": -0.6737529486417769, \"c\": 24.0}, {\"m\": -0.673595560921563, \"c\": 9.0}, {\"m\": -0.6735725601514181, \"c\": 3.0}, {\"m\": -0.6735615134239197, \"c\": 95692.0}, {\"m\": -0.6735512316226959, \"c\": 4.0}, {\"m\": -0.6735115860189711, \"c\": 14.0}, {\"m\": -0.673387355529345, \"c\": 26.0}, {\"m\": -0.673079280049204, \"c\": 851.0}, {\"m\": -0.6706096444656053, \"c\": 23610.0}, {\"m\": -0.6647377488889461, \"c\": 17815.0}, {\"m\": -0.664022212722294, \"c\": 622.0}, {\"m\": -0.6637171162822382, \"c\": 123.0}, {\"m\": -0.6635923636587044, \"c\": 19.0}, {\"m\": -0.663562536239624, \"c\": 2.0}, {\"m\": -0.6635615229606628, \"c\": 52372.0}, {\"m\": -0.6635580658912659, \"c\": 1.0}, {\"m\": -0.6635119517644247, \"c\": 6.0}, {\"m\": -0.6634225482526033, \"c\": 23.0}, {\"m\": -0.6631550003254836, \"c\": 371.0}, {\"m\": -0.6615041908086994, \"c\": 8699.0}, {\"m\": -0.6581182106570096, \"c\": 11677.0}, {\"m\": -0.6541413249339033, \"c\": 13085.0}, {\"m\": -0.653653226747103, \"c\": 163.0}, {\"m\": -0.6535853544871012, \"c\": 9.0}, {\"m\": -0.653561532497406, \"c\": 53322.0}, {\"m\": -0.653549998998642, \"c\": 2.0}, {\"m\": -0.6535399198532105, \"c\": 5.0}, {\"m\": -0.6534900665283203, \"c\": 12.0}, {\"m\": -0.6533038956778391, \"c\": 28.0}, {\"m\": -0.6529003861083176, \"c\": 521.0}, {\"m\": -0.6503116804270027, \"c\": 15010.0}, {\"m\": -0.6451542722128286, \"c\": 14309.0}, {\"m\": -0.6435844855429038, \"c\": 1741.0}, {\"m\": -0.6435614824295044, \"c\": 153621.0}, {\"m\": -0.6435356537501017, \"c\": 3.0}, {\"m\": -0.6434304788708688, \"c\": 8.0}, {\"m\": -0.6432357728481293, \"c\": 32.0}, {\"m\": -0.642797275729801, \"c\": 69.0}, {\"m\": -0.6420396720070242, \"c\": 7598.0}, {\"m\": -0.6386577704017438, \"c\": 9629.0}, {\"m\": -0.6364214585107913, \"c\": 170.0}, {\"m\": -0.6350310694603696, \"c\": 105.0}, {\"m\": -0.6342193215501076, \"c\": 51.0}, {\"m\": -0.6338023214504637, \"c\": 29.0}, {\"m\": -0.6336235404014587, \"c\": 7.0}, {\"m\": -0.6335614919662476, \"c\": 58039.0}, {\"m\": -0.633549302816391, \"c\": 2.0}, {\"m\": -0.6335161805152894, \"c\": 5.0}, {\"m\": -0.6333925466512487, \"c\": 18894.0}, {\"m\": -0.6274624210809163, \"c\": 11470.0}, {\"m\": -0.6209842432104257, \"c\": 18319.0}, {\"m\": -0.6140888706293735, \"c\": 11241.0}, {\"m\": -0.6088156513087124, \"c\": 9853.0}, {\"m\": -0.5997162347851389, \"c\": 7425.0}, {\"m\": -0.5947527666121605, \"c\": 9167.0}, {\"m\": -0.5892755416372191, \"c\": 9086.0}, {\"m\": -0.5823724325585684, \"c\": 11596.0}, {\"m\": -0.574308910521085, \"c\": 10706.0}, {\"m\": -0.5667483965734054, \"c\": 8473.0}, {\"m\": -0.5601970237575845, \"c\": 6664.0}, {\"m\": -0.5537776722786821, \"c\": 6648.0}, {\"m\": -0.5470553173076365, \"c\": 6218.0}, {\"m\": -0.5387543714346769, \"c\": 8178.0}, {\"m\": -0.5295567833541425, \"c\": 6218.0}, {\"m\": -0.5188476892309917, \"c\": 8185.0}, {\"m\": -0.5039485578420174, \"c\": 8265.0}, {\"m\": -0.4883060992200874, \"c\": 6004.0}, {\"m\": -0.46966926305927076, \"c\": 7464.0}, {\"m\": -0.43832371175679946, \"c\": 10831.0}, {\"m\": -0.40249096612957413, \"c\": 7204.0}, {\"m\": -0.37093574775261634, \"c\": 8112.0}, {\"m\": -0.33478926936451886, \"c\": 11681.0}, {\"m\": -0.29672989112868287, \"c\": 12698.0}, {\"m\": -0.2693060929505026, \"c\": 7985.0}, {\"m\": -0.2504498119098158, \"c\": 7699.0}, {\"m\": -0.2333055703590313, \"c\": 8496.0}, {\"m\": -0.21411833597416996, \"c\": 11586.0}, {\"m\": -0.19486507426232103, \"c\": 10473.0}, {\"m\": -0.17954164442131937, \"c\": 8754.0}, {\"m\": -0.16404678162222544, \"c\": 12195.0}, {\"m\": -0.14930152965963228, \"c\": 9076.0}, {\"m\": -0.138647450075498, \"c\": 7081.0}, {\"m\": -0.12995503250969243, \"c\": 6765.0}, {\"m\": -0.12133686504269793, \"c\": 7388.0}, {\"m\": -0.11169975702086939, \"c\": 9612.0}, {\"m\": -0.10085700963753248, \"c\": 9988.0}, {\"m\": -0.09105021771923971, \"c\": 8695.0}, {\"m\": -0.0810942198581087, \"c\": 11144.0}, {\"m\": -0.07011041059246606, \"c\": 11872.0}, {\"m\": -0.06118384791897049, \"c\": 8106.0}, {\"m\": -0.054181938180927265, \"c\": 7747.0}, {\"m\": -0.047440986250008185, \"c\": 8161.0}, {\"m\": -0.0404335820290351, \"c\": 8525.0}, {\"m\": -0.03364893507448257, \"c\": 7913.0}, {\"m\": -0.027415483807552293, \"c\": 7559.0}, {\"m\": -0.02109916910411333, \"c\": 7969.0}, {\"m\": -0.014318148947639555, \"c\": 8586.0}, {\"m\": -0.007900661159707868, \"c\": 7114.0}, {\"m\": -0.0024664771598514983, \"c\": 6009.0}, {\"m\": 0.0026122684082762714, \"c\": 6394.0}, {\"m\": 0.0074193829717671715, \"c\": 5099.0}, {\"m\": 0.011271860263896132, \"c\": 4312.0}, {\"m\": 0.014997890145319895, \"c\": 4267.0}, {\"m\": 0.019034773350228087, \"c\": 5115.0}, {\"m\": 0.023879461560083436, \"c\": 5951.0}, {\"m\": 0.028413711627911984, \"c\": 4193.0}, {\"m\": 0.03225801627776203, \"c\": 4250.0}, {\"m\": 0.03619252760018065, \"c\": 4419.0}, {\"m\": 0.039935546586068425, \"c\": 3809.0}, {\"m\": 0.04362513036595988, \"c\": 4048.0}, {\"m\": 0.04709037917062842, \"c\": 3299.0}, {\"m\": 0.05088691306015567, \"c\": 4593.0}, {\"m\": 0.05484848104535063, \"c\": 3544.0}, {\"m\": 0.05854014937811708, \"c\": 3904.0}, {\"m\": 0.06258773968783707, \"c\": 4008.0}, {\"m\": 0.06680321108434047, \"c\": 4473.0}, {\"m\": 0.07070287232043088, \"c\": 3296.0}, {\"m\": 0.07444059714591084, \"c\": 3731.0}, {\"m\": 0.07868800933421281, \"c\": 4317.0}, {\"m\": 0.08272949425714013, \"c\": 3373.0}, {\"m\": 0.08613034144456799, \"c\": 2779.0}, {\"m\": 0.08992913275653001, \"c\": 3920.0}, {\"m\": 0.09381292837800255, \"c\": 2983.0}, {\"m\": 0.09659280491164655, \"c\": 1977.0}, {\"m\": 0.09959040135329818, \"c\": 3228.0}, {\"m\": 0.10372207208892126, \"c\": 3701.0}, {\"m\": 0.10843780969045486, \"c\": 4135.0}, {\"m\": 0.1124031011723289, \"c\": 2420.0}, {\"m\": 0.11563237485699589, \"c\": 2922.0}, {\"m\": 0.11941778749094546, \"c\": 3138.0}, {\"m\": 0.12291023507016396, \"c\": 2669.0}, {\"m\": 0.12601586666369363, \"c\": 2437.0}, {\"m\": 0.12909158031304027, \"c\": 2510.0}, {\"m\": 0.13220270651980037, \"c\": 2556.0}, {\"m\": 0.13533688025041082, \"c\": 2695.0}, {\"m\": 0.138587999487174, \"c\": 2662.0}, {\"m\": 0.14173957875830306, \"c\": 2537.0}, {\"m\": 0.1447426830127137, \"c\": 2526.0}, {\"m\": 0.14800446699303363, \"c\": 3058.0}, {\"m\": 0.15121410599009888, \"c\": 2543.0}, {\"m\": 0.15430355105448534, \"c\": 2853.0}, {\"m\": 0.1572367170222682, \"c\": 2419.0}, {\"m\": 0.16065191129604384, \"c\": 3741.0}, {\"m\": 0.16359006014785582, \"c\": 1792.0}, {\"m\": 0.16541024206658095, \"c\": 1690.0}, {\"m\": 0.16716855760855845, \"c\": 1687.0}, {\"m\": 0.16904544445776176, \"c\": 1829.0}, {\"m\": 0.17115812405835878, \"c\": 2208.0}, {\"m\": 0.17329962150467357, \"c\": 1954.0}, {\"m\": 0.17512443714356843, \"c\": 1641.0}, {\"m\": 0.1767784585681596, \"c\": 1653.0}, {\"m\": 0.1784622003706758, \"c\": 1656.0}, {\"m\": 0.18017256810742668, \"c\": 1753.0}, {\"m\": 0.18198577231995677, \"c\": 2011.0}, {\"m\": 0.184055526731593, \"c\": 2113.0}, {\"m\": 0.1859743464191871, \"c\": 1739.0}, {\"m\": 0.1876315364534369, \"c\": 1588.0}, {\"m\": 0.18913836975682374, \"c\": 1419.0}, {\"m\": 0.19067787410578874, \"c\": 1771.0}, {\"m\": 0.19219170531540894, \"c\": 1363.0}, {\"m\": 0.19357764942828215, \"c\": 1531.0}, {\"m\": 0.19512036865340648, \"c\": 1615.0}, {\"m\": 0.1968161846887973, \"c\": 1915.0}, {\"m\": 0.1984779157403512, \"c\": 1481.0}, {\"m\": 0.19994161647918718, \"c\": 1422.0}, {\"m\": 0.20145904498066894, \"c\": 1571.0}, {\"m\": 0.20290830984979172, \"c\": 1281.0}, {\"m\": 0.20444695864148638, \"c\": 1661.0}, {\"m\": 0.2060317486908109, \"c\": 1321.0}, {\"m\": 0.20712593645279534, \"c\": 706.0}, {\"m\": 0.20816445370350983, \"c\": 1210.0}, {\"m\": 0.20842915908856824, \"c\": 440.0}, {\"m\": 0.20935069862516184, \"c\": 393.0}, {\"m\": 0.2102792754176792, \"c\": 1358.0}, {\"m\": 0.21170961985816555, \"c\": 1294.0}, {\"m\": 0.21296127059031264, \"c\": 1024.0}, {\"m\": 0.21424519825686242, \"c\": 1286.0}, {\"m\": 0.2155266704966201, \"c\": 961.0}, {\"m\": 0.21652243970191662, \"c\": 949.0}, {\"m\": 0.21778857467204513, \"c\": 1114.0}, {\"m\": 0.21907654746825866, \"c\": 1019.0}, {\"m\": 0.22064313860641263, \"c\": 1495.0}, {\"m\": 0.2221101883828169, \"c\": 889.0}, {\"m\": 0.2231197547317379, \"c\": 721.0}, {\"m\": 0.22413240898371356, \"c\": 766.0}, {\"m\": 0.22530079294334734, \"c\": 1144.0}, {\"m\": 0.22689897683729615, \"c\": 1162.0}, {\"m\": 0.22840894855020613, \"c\": 1052.0}, {\"m\": 0.22982777364197227, \"c\": 840.0}, {\"m\": 0.23093355366378848, \"c\": 628.0}, {\"m\": 0.2319710661523698, \"c\": 649.0}, {\"m\": 0.23312420171833803, \"c\": 873.0}, {\"m\": 0.2344594132914115, \"c\": 859.0}, {\"m\": 0.2356941431500125, \"c\": 686.0}, {\"m\": 0.23684556590354694, \"c\": 629.0}, {\"m\": 0.23797453843709218, \"c\": 697.0}, {\"m\": 0.23937801973632541, \"c\": 968.0}, {\"m\": 0.24093905450230835, \"c\": 905.0}, {\"m\": 0.24248667990589456, \"c\": 813.0}, {\"m\": 0.24394108219970015, \"c\": 695.0}, {\"m\": 0.24534461648524317, \"c\": 595.0}, {\"m\": 0.24673176204123096, \"c\": 714.0}, {\"m\": 0.24817643579963147, \"c\": 584.0}, {\"m\": 0.24958024172847826, \"c\": 661.0}, {\"m\": 0.25121015273887665, \"c\": 655.0}, {\"m\": 0.25277778793805183, \"c\": 653.0}, {\"m\": 0.254396556141345, \"c\": 608.0}, {\"m\": 0.2558024436869517, \"c\": 517.0}, {\"m\": 0.2567057237996682, \"c\": 154.0}, {\"m\": 0.2575057363611159, \"c\": 472.0}, {\"m\": 0.25778459225382117, \"c\": 56.0}, {\"m\": 0.25841223113238815, \"c\": 160.0}, {\"m\": 0.2594096940139242, \"c\": 145.0}, {\"m\": 0.25951497859733047, \"c\": 430.0}, {\"m\": 0.26048489768280936, \"c\": 117.0}, {\"m\": 0.2613798289729948, \"c\": 509.0}, {\"m\": 0.2629090253352246, \"c\": 547.0}, {\"m\": 0.2643199089046136, \"c\": 459.0}, {\"m\": 0.26544905262079066, \"c\": 334.0}, {\"m\": 0.2661964949220419, \"c\": 128.0}, {\"m\": 0.26632666972375685, \"c\": 31.0}, {\"m\": 0.26643282175064087, \"c\": 2.0}, {\"m\": 0.26643422459120164, \"c\": 797.0}, {\"m\": 0.26643848419189453, \"c\": 4390.0}, {\"m\": 0.2664414644241333, \"c\": 1.0}, {\"m\": 0.266445517539978, \"c\": 1.0}, {\"m\": 0.26645684242248535, \"c\": 1.0}, {\"m\": 0.2664574654052002, \"c\": 1279.0}, {\"m\": 0.2665344178676605, \"c\": 4.0}, {\"m\": 0.26691214905844807, \"c\": 54.0}, {\"m\": 0.26754769257136757, \"c\": 133.0}, {\"m\": 0.26884281308683633, \"c\": 219.0}, {\"m\": 0.27087078315083235, \"c\": 281.0}, {\"m\": 0.2729707377544346, \"c\": 276.0}, {\"m\": 0.2749516390194403, \"c\": 214.0}, {\"m\": 0.27635229931396676, \"c\": 147.0}, {\"m\": 0.27754575125524916, \"c\": 214.0}, {\"m\": 0.27920308805281097, \"c\": 217.0}, {\"m\": 0.2806227987057694, \"c\": 107.0}, {\"m\": 0.28155951802410306, \"c\": 134.0}, {\"m\": 0.28260474531881274, \"c\": 124.0}, {\"m\": 0.28409906971120397, \"c\": 214.0}, {\"m\": 0.2859546396197102, \"c\": 196.0}, {\"m\": 0.28748877944460344, \"c\": 157.0}, {\"m\": 0.2888548974118203, \"c\": 153.0}, {\"m\": 0.2900316767070603, \"c\": 138.0}, {\"m\": 0.2914728653985401, \"c\": 172.0}, {\"m\": 0.2930533742904663, \"c\": 175.0}, {\"m\": 0.294828094306745, \"c\": 190.0}, {\"m\": 0.29655948573467783, \"c\": 204.0}, {\"m\": 0.2986636071947953, \"c\": 199.0}, {\"m\": 0.30074868665487287, \"c\": 211.0}, {\"m\": 0.30248263164570466, \"c\": 152.0}, {\"m\": 0.3037652878821651, \"c\": 79.0}, {\"m\": 0.30490055614047556, \"c\": 180.0}, {\"m\": 0.3068007116808611, \"c\": 136.0}, {\"m\": 0.30800257689917265, \"c\": 67.0}, {\"m\": 0.3090669184923172, \"c\": 80.0}, {\"m\": 0.30983324917879984, \"c\": 110.0}, {\"m\": 0.3109597360964902, \"c\": 97.0}, {\"m\": 0.31236865040328765, \"c\": 144.0}, {\"m\": 0.3142888110781473, \"c\": 126.0}, {\"m\": 0.3156167001866582, \"c\": 67.0}, {\"m\": 0.3169008206438136, \"c\": 108.0}, {\"m\": 0.3182590453021498, \"c\": 83.0}, {\"m\": 0.31987111377716065, \"c\": 125.0}, {\"m\": 0.32120285964593664, \"c\": 82.0}, {\"m\": 0.32226947616128365, \"c\": 85.0}, {\"m\": 0.32358768293934487, \"c\": 93.0}, {\"m\": 0.32522688073627015, \"c\": 118.0}, {\"m\": 0.32663138253348206, \"c\": 105.0}, {\"m\": 0.3278710034585768, \"c\": 62.0}, {\"m\": 0.3291032939281278, \"c\": 103.0}, {\"m\": 0.3307658780704845, \"c\": 110.0}, {\"m\": 0.3323631326357524, \"c\": 60.0}, {\"m\": 0.3330486059188843, \"c\": 5.0}, {\"m\": 0.3331622461909834, \"c\": 92.0}, {\"m\": 0.333405335744222, \"c\": 9.0}, {\"m\": 0.33365557952360675, \"c\": 22.0}, {\"m\": 0.3341283405699381, \"c\": 82.0}, {\"m\": 0.33548825291486883, \"c\": 104.0}, {\"m\": 0.3367923321547331, \"c\": 54.0}, {\"m\": 0.33789032867976604, \"c\": 70.0}, {\"m\": 0.33885882330722505, \"c\": 61.0}, {\"m\": 0.33988068338300353, \"c\": 61.0}, {\"m\": 0.34084307119764123, \"c\": 58.0}, {\"m\": 0.3417096117447163, \"c\": 58.0}, {\"m\": 0.34272059239447117, \"c\": 64.0}, {\"m\": 0.3440029255549113, \"c\": 75.0}, {\"m\": 0.3454925054457129, \"c\": 82.0}, {\"m\": 0.3467551358910493, \"c\": 43.0}, {\"m\": 0.34775120961038686, \"c\": 57.0}, {\"m\": 0.34888014258170613, \"c\": 49.0}, {\"m\": 0.35006053447723384, \"c\": 70.0}, {\"m\": 0.3514234852045774, \"c\": 64.0}, {\"m\": 0.3528616221054742, \"c\": 69.0}, {\"m\": 0.3538561373949051, \"c\": 40.0}, {\"m\": 0.35505809481181794, \"c\": 63.0}, {\"m\": 0.35626185913475183, \"c\": 49.0}, {\"m\": 0.3577526155859232, \"c\": 64.0}, {\"m\": 0.35935964801094744, \"c\": 55.0}, {\"m\": 0.35989299546117365, \"c\": 23.0}, {\"m\": 0.3606291328157698, \"c\": 42.0}, {\"m\": 0.3618550691753625, \"c\": 64.0}, {\"m\": 0.3635936390678837, \"c\": 53.0}, {\"m\": 0.3649733375619959, \"c\": 54.0}, {\"m\": 0.36636177982602797, \"c\": 56.0}, {\"m\": 0.3675578037897746, \"c\": 42.0}, {\"m\": 0.3686897482190813, \"c\": 35.0}, {\"m\": 0.36971177657445264, \"c\": 42.0}, {\"m\": 0.3708751036061181, \"c\": 36.0}, {\"m\": 0.37224926825227417, \"c\": 58.0}, {\"m\": 0.37350800875070933, \"c\": 37.0}, {\"m\": 0.37476276357968646, \"c\": 36.0}, {\"m\": 0.3758822781699044, \"c\": 35.0}, {\"m\": 0.37716653943061823, \"c\": 44.0}, {\"m\": 0.37876130392154067, \"c\": 48.0}, {\"m\": 0.3799016229037581, \"c\": 29.0}, {\"m\": 0.38096175874982563, \"c\": 35.0}, {\"m\": 0.38202744060092503, \"c\": 27.0}, {\"m\": 0.3828178827579205, \"c\": 26.0}, {\"m\": 0.3833368676049369, \"c\": 14.0}, {\"m\": 0.3836719989776612, \"c\": 23.0}, {\"m\": 0.3840969502925873, \"c\": 12.0}, {\"m\": 0.3850158977508545, \"c\": 25.0}, {\"m\": 0.3863437101244927, \"c\": 32.0}, {\"m\": 0.3871872067451478, \"c\": 30.0}, {\"m\": 0.3884714501244681, \"c\": 35.0}, {\"m\": 0.3897551894187927, \"c\": 24.0}, {\"m\": 0.3906917870044708, \"c\": 28.0}, {\"m\": 0.3914516766866048, \"c\": 18.0}, {\"m\": 0.3922279079755147, \"c\": 30.0}, {\"m\": 0.3932313477551495, \"c\": 27.0}, {\"m\": 0.3943884412447611, \"c\": 30.0}, {\"m\": 0.3955795661262844, \"c\": 23.0}, {\"m\": 0.39616991281509395, \"c\": 10.0}, {\"m\": 0.3970568918046497, \"c\": 21.0}, {\"m\": 0.3977581113576889, \"c\": 24.0}, {\"m\": 0.3988647162914276, \"c\": 20.0}, {\"m\": 0.39968131383260086, \"c\": 15.0}, {\"m\": 0.400548701700957, \"c\": 23.0}, {\"m\": 0.4010193262781416, \"c\": 14.0}, {\"m\": 0.40197165116019873, \"c\": 23.0}, {\"m\": 0.4029202801840646, \"c\": 7.0}, {\"m\": 0.40349699621615204, \"c\": 23.0}, {\"m\": 0.40467598221518775, \"c\": 22.0}, {\"m\": 0.4057478564126151, \"c\": 21.0}, {\"m\": 0.40641348702566965, \"c\": 21.0}, {\"m\": 0.40699797123670584, \"c\": 16.0}, {\"m\": 0.4080912251221506, \"c\": 19.0}, {\"m\": 0.40906039306095676, \"c\": 21.0}, {\"m\": 0.4101111829280853, \"c\": 20.0}, {\"m\": 0.4110348435009228, \"c\": 17.0}, {\"m\": 0.41200931370258326, \"c\": 24.0}, {\"m\": 0.41357379693251395, \"c\": 13.0}, {\"m\": 0.4143185483084784, \"c\": 27.0}, {\"m\": 0.4157613515853882, \"c\": 21.0}, {\"m\": 0.4168842205634484, \"c\": 13.0}, {\"m\": 0.4176866014798482, \"c\": 12.0}, {\"m\": 0.41844687678597187, \"c\": 11.0}, {\"m\": 0.4193246176368312, \"c\": 19.0}, {\"m\": 0.41986559737812384, \"c\": 11.0}, {\"m\": 0.42046776839665007, \"c\": 7.0}, {\"m\": 0.4212795570492745, \"c\": 16.0}, {\"m\": 0.4216338098049164, \"c\": 8.0}, {\"m\": 0.42213906182183164, \"c\": 9.0}, {\"m\": 0.4227474000718858, \"c\": 9.0}, {\"m\": 0.4232746145941994, \"c\": 11.0}, {\"m\": 0.42378284533818567, \"c\": 12.0}, {\"m\": 0.4250924587249756, \"c\": 8.0}, {\"m\": 0.4258846789598465, \"c\": 8.0}, {\"m\": 0.42730806555066797, \"c\": 14.0}, {\"m\": 0.4280280709266663, \"c\": 10.0}, {\"m\": 0.4288400411605835, \"c\": 10.0}, {\"m\": 0.42960205078124997, \"c\": 10.0}, {\"m\": 0.4301169051064385, \"c\": 9.0}, {\"m\": 0.4306603840419225, \"c\": 7.0}, {\"m\": 0.431297371784846, \"c\": 12.0}, {\"m\": 0.4322014351685842, \"c\": 12.0}, {\"m\": 0.43288807074228924, \"c\": 3.0}, {\"m\": 0.43381706567911, \"c\": 13.0}, {\"m\": 0.43516863476146356, \"c\": 11.0}, {\"m\": 0.4366319179534912, \"c\": 8.0}, {\"m\": 0.43758177757263184, \"c\": 1.0}, {\"m\": 0.4383858186858041, \"c\": 14.0}, {\"m\": 0.4397469907999038, \"c\": 8.0}, {\"m\": 0.44005635976791385, \"c\": 10.0}, {\"m\": 0.44064133167266845, \"c\": 5.0}, {\"m\": 0.4414821863174438, \"c\": 7.0}, {\"m\": 0.44266395568847655, \"c\": 5.0}, {\"m\": 0.44326839182111955, \"c\": 9.0}, {\"m\": 0.44499998092651366, \"c\": 5.0}, {\"m\": 0.44606261783176, \"c\": 9.0}, {\"m\": 0.4469195008277893, \"c\": 8.0}, {\"m\": 0.4475771635770798, \"c\": 8.0}, {\"m\": 0.44830387830734253, \"c\": 8.0}, {\"m\": 0.4490926606314523, \"c\": 7.0}, {\"m\": 0.4504195094108582, \"c\": 10.0}, {\"m\": 0.4515462160110474, \"c\": 5.0}, {\"m\": 0.45307205617427826, \"c\": 8.0}, {\"m\": 0.4543648787907192, \"c\": 7.0}, {\"m\": 0.455275821685791, \"c\": 5.0}, {\"m\": 0.4558456242084503, \"c\": 4.0}, {\"m\": 0.45740336179733276, \"c\": 6.0}, {\"m\": 0.45802050828933716, \"c\": 2.0}, {\"m\": 0.45843958854675293, \"c\": 1.0}, {\"m\": 0.4585634469985962, \"c\": 9.0}, {\"m\": 0.4591555595397949, \"c\": 2.0}, {\"m\": 0.4600909352302551, \"c\": 2.0}, {\"m\": 0.46075470447540284, \"c\": 5.0}, {\"m\": 0.46243077516555786, \"c\": 8.0}, {\"m\": 0.4625619649887085, \"c\": 1.0}, {\"m\": 0.4629671573638916, \"c\": 1.0}, {\"m\": 0.46417548656463625, \"c\": 5.0}, {\"m\": 0.46573599179585773, \"c\": 6.0}, {\"m\": 0.46650954087575275, \"c\": 3.0}, {\"m\": 0.46709569295247394, \"c\": 3.0}, {\"m\": 0.46755850315093994, \"c\": 5.0}, {\"m\": 0.468719482421875, \"c\": 6.0}, {\"m\": 0.47031426429748535, \"c\": 7.0}, {\"m\": 0.4708702564239502, \"c\": 1.0}, {\"m\": 0.4720258414745331, \"c\": 4.0}, {\"m\": 0.4731287956237793, \"c\": 2.0}, {\"m\": 0.4738541126251221, \"c\": 10.0}, {\"m\": 0.47494109471638996, \"c\": 3.0}, {\"m\": 0.47516655921936035, \"c\": 2.0}, {\"m\": 0.47718632221221924, \"c\": 5.0}, {\"m\": 0.478907036781311, \"c\": 5.0}, {\"m\": 0.47936010360717773, \"c\": 1.0}, {\"m\": 0.48138880729675293, \"c\": 2.0}, {\"m\": 0.483867883682251, \"c\": 1.0}, {\"m\": 0.4843926876783371, \"c\": 8.0}, {\"m\": 0.48520398139953613, \"c\": 1.0}, {\"m\": 0.4865807294845581, \"c\": 1.0}, {\"m\": 0.48688313364982605, \"c\": 4.0}, {\"m\": 0.4878222346305847, \"c\": 2.0}, {\"m\": 0.489066203435262, \"c\": 3.0}, {\"m\": 0.4893778860569, \"c\": 4.0}, {\"m\": 0.4903930425643921, \"c\": 1.0}, {\"m\": 0.49053287506103516, \"c\": 4.0}, {\"m\": 0.4909323453903198, \"c\": 1.0}, {\"m\": 0.49214112758636475, \"c\": 1.0}, {\"m\": 0.4924684762954712, \"c\": 4.0}, {\"m\": 0.4935804009437561, \"c\": 2.0}, {\"m\": 0.4946768283843994, \"c\": 2.0}, {\"m\": 0.49505889415740967, \"c\": 1.0}, {\"m\": 0.4951313336690267, \"c\": 3.0}, {\"m\": 0.4951484203338623, \"c\": 1.0}, {\"m\": 0.49543023109436035, \"c\": 1.0}, {\"m\": 0.49625688791275024, \"c\": 2.0}, {\"m\": 0.497447927792867, \"c\": 3.0}, {\"m\": 0.49766016006469727, \"c\": 2.0}, {\"m\": 0.49890979131062824, \"c\": 3.0}, {\"m\": 0.4996635516484578, \"c\": 3.0}, {\"m\": 0.5011297464370728, \"c\": 1.0}, {\"m\": 0.5012330710887909, \"c\": 4.0}, {\"m\": 0.5017904043197632, \"c\": 1.0}, {\"m\": 0.5038081407546997, \"c\": 1.0}, {\"m\": 0.5061735212802887, \"c\": 4.0}, {\"m\": 0.5080360174179077, \"c\": 1.0}, {\"m\": 0.5107349157333374, \"c\": 1.0}, {\"m\": 0.5109275579452515, \"c\": 1.0}, {\"m\": 0.5114672183990479, \"c\": 4.0}, {\"m\": 0.5116235017776489, \"c\": 1.0}, {\"m\": 0.5129486322402954, \"c\": 2.0}, {\"m\": 0.5142858028411865, \"c\": 2.0}, {\"m\": 0.5148801565170288, \"c\": 5.0}, {\"m\": 0.5165295600891113, \"c\": 1.0}, {\"m\": 0.5176689624786377, \"c\": 1.0}, {\"m\": 0.5182269513607025, \"c\": 4.0}, {\"m\": 0.5185885429382324, \"c\": 1.0}, {\"m\": 0.5208244323730469, \"c\": 1.0}, {\"m\": 0.5234479904174805, \"c\": 1.0}, {\"m\": 0.5248928864796957, \"c\": 3.0}, {\"m\": 0.5264143943786621, \"c\": 1.0}, {\"m\": 0.5276963710784912, \"c\": 1.0}, {\"m\": 0.5287903547286987, \"c\": 1.0}, {\"m\": 0.5300992727279663, \"c\": 2.0}, {\"m\": 0.5310516357421875, \"c\": 1.0}, {\"m\": 0.5313574075698853, \"c\": 1.0}, {\"m\": 0.5349781513214111, \"c\": 1.0}, {\"m\": 0.5365462303161621, \"c\": 1.0}, {\"m\": 0.5377562046051025, \"c\": 1.0}, {\"m\": 0.5388146638870239, \"c\": 1.0}, {\"m\": 0.5396578311920166, \"c\": 1.0}, {\"m\": 0.540302038192749, \"c\": 1.0}, {\"m\": 0.5412811305787828, \"c\": 9.0}, {\"m\": 0.5464029312133789, \"c\": 1.0}, {\"m\": 0.5469118356704712, \"c\": 1.0}, {\"m\": 0.5469326972961426, \"c\": 1.0}, {\"m\": 0.5491571426391602, \"c\": 1.0}, {\"m\": 0.5513602495193481, \"c\": 1.0}, {\"m\": 0.5544371604919434, \"c\": 1.0}, {\"m\": 0.5547480583190918, \"c\": 1.0}, {\"m\": 0.5570929050445557, \"c\": 1.0}, {\"m\": 0.564643144607544, \"c\": 1.0}, {\"m\": 0.566510796546936, \"c\": 1.0}, {\"m\": 0.5727221965789795, \"c\": 1.0}, {\"m\": 0.5787340402603149, \"c\": 1.0}, {\"m\": 0.5920064151287079, \"c\": 4.0}, {\"m\": 0.6185989379882812, \"c\": 1.0}]}'"
      ]
     },
     "execution_count": 36,
     "metadata": {},
     "output_type": "execute_result"
    }
   ],
   "source": [
    "json.dumps(digest.to_dict())"
   ]
  },
  {
   "cell_type": "code",
   "execution_count": null,
   "metadata": {},
   "outputs": [],
   "source": []
  }
 ],
 "metadata": {
  "kernelspec": {
   "display_name": "Python 3",
   "language": "python",
   "name": "python3"
  },
  "language_info": {
   "codemirror_mode": {
    "name": "ipython",
    "version": 3
   },
   "file_extension": ".py",
   "mimetype": "text/x-python",
   "name": "python",
   "nbconvert_exporter": "python",
   "pygments_lexer": "ipython3",
   "version": "3.10.13"
  }
 },
 "nbformat": 4,
 "nbformat_minor": 2
}
