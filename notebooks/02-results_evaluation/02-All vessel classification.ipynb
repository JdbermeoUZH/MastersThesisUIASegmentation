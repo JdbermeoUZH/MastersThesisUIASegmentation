{
 "cells": [
  {
   "cell_type": "markdown",
   "source": [
    "# Validate peroformance of the vessel tree "
   ],
   "metadata": {
    "collapsed": false
   },
   "id": "c719c074afec1205"
  },
  {
   "cell_type": "markdown",
   "source": [
    "## Dice-Score"
   ],
   "metadata": {
    "collapsed": false
   },
   "id": "4c7460bcb134d490"
  },
  {
   "cell_type": "markdown",
   "source": [
    "## Hausdorff distance"
   ],
   "metadata": {
    "collapsed": false
   },
   "id": "5e4f3f18660ac807"
  },
  {
   "cell_type": "markdown",
   "source": [
    "## Recall"
   ],
   "metadata": {
    "collapsed": false
   },
   "id": "aebf808e44472c2e"
  },
  {
   "cell_type": "markdown",
   "source": [
    "## Precision"
   ],
   "metadata": {
    "collapsed": false
   },
   "id": "40f62eb6e1d0c950"
  },
  {
   "cell_type": "markdown",
   "source": [
    "# Validate that the vessel tree includes the aneurysms well"
   ],
   "metadata": {
    "collapsed": false
   },
   "id": "d7528c45e27388bc"
  },
  {
   "cell_type": "markdown",
   "source": [
    "## What is the recall of aneurysms in the vessel tree?"
   ],
   "metadata": {
    "collapsed": false
   },
   "id": "e2966dcf0e2ac781"
  },
  {
   "cell_type": "markdown",
   "source": [
    "## Dilate the aneurysm mask and calculate the precision"
   ],
   "metadata": {
    "collapsed": false
   },
   "id": "39d3d002d50efb8"
  },
  {
   "cell_type": "code",
   "execution_count": null,
   "outputs": [],
   "source": [],
   "metadata": {
    "collapsed": false
   },
   "id": "cb064a007b120032"
  }
 ],
 "metadata": {
  "kernelspec": {
   "display_name": "Python 3",
   "language": "python",
   "name": "python3"
  },
  "language_info": {
   "codemirror_mode": {
    "name": "ipython",
    "version": 2
   },
   "file_extension": ".py",
   "mimetype": "text/x-python",
   "name": "python",
   "nbconvert_exporter": "python",
   "pygments_lexer": "ipython2",
   "version": "2.7.6"
  }
 },
 "nbformat": 4,
 "nbformat_minor": 5
}
