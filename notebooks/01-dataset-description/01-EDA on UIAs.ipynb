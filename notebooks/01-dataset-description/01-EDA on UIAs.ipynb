{
 "cells": [
  {
   "cell_type": "markdown",
   "source": [
    "# 01 - General Description and some statistics of the Dataset"
   ],
   "metadata": {
    "collapsed": false
   },
   "id": "5944803b0d142041"
  },
  {
   "cell_type": "markdown",
   "source": [
    "## 1.1 Distribution of UIAs location (per Vessel Type)"
   ],
   "metadata": {
    "collapsed": false
   },
   "id": "52a2046b270c8f6b"
  },
  {
   "cell_type": "code",
   "execution_count": null,
   "outputs": [],
   "source": [],
   "metadata": {
    "collapsed": false
   },
   "id": "3f3d3e42f44ee55b"
  },
  {
   "cell_type": "markdown",
   "source": [
    "## 1.2 Distribution of UIAs location (per Vessel Type and territory)"
   ],
   "metadata": {
    "collapsed": false
   },
   "id": "df403f57d8a8dc84"
  },
  {
   "cell_type": "code",
   "execution_count": null,
   "outputs": [],
   "source": [],
   "metadata": {
    "collapsed": false
   },
   "id": "1270317abbb3ec8e"
  },
  {
   "cell_type": "markdown",
   "source": [
    "## 1.3 Distribution of UIAs per size"
   ],
   "metadata": {
    "collapsed": false
   },
   "id": "27e9d279d9de8739"
  },
  {
   "cell_type": "markdown",
   "source": [
    "### Per maximum diameter \n",
    "\n",
    "For example in ranges [0, 5mm), [5mm, 10mm), [10mm, inf)"
   ],
   "metadata": {
    "collapsed": false
   },
   "id": "c223776e85465003"
  },
  {
   "cell_type": "markdown",
   "source": [
    "### Per volume"
   ],
   "metadata": {
    "collapsed": false
   },
   "id": "69085b330e101695"
  },
  {
   "cell_type": "markdown",
   "source": [
    "### Per maximum median radius"
   ],
   "metadata": {
    "collapsed": false
   },
   "id": "c5cbd8c43658d781"
  },
  {
   "cell_type": "markdown",
   "source": [
    "## 1.4 Distribution of UIAs type (saccular or fusiform)"
   ],
   "metadata": {
    "collapsed": false
   },
   "id": "c930558e77dbeb78"
  },
  {
   "cell_type": "code",
   "execution_count": null,
   "id": "initial_id",
   "metadata": {
    "collapsed": true
   },
   "outputs": [],
   "source": []
  }
 ],
 "metadata": {
  "kernelspec": {
   "display_name": "Python 3",
   "language": "python",
   "name": "python3"
  },
  "language_info": {
   "codemirror_mode": {
    "name": "ipython",
    "version": 2
   },
   "file_extension": ".py",
   "mimetype": "text/x-python",
   "name": "python",
   "nbconvert_exporter": "python",
   "pygments_lexer": "ipython2",
   "version": "2.7.6"
  }
 },
 "nbformat": 4,
 "nbformat_minor": 5
}
