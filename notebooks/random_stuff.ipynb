{
 "cells": [
  {
   "cell_type": "code",
   "execution_count": 6,
   "metadata": {},
   "outputs": [],
   "source": [
    "import os\n",
    "import sys\n",
    "import glob\n",
    "\n",
    "sys.path.append(os.path.join(\"..\"))\n",
    "from tta_uia_segmentation.src.preprocessing.utils import get_filepaths_raw, get_filepaths_preprocessed"
   ]
  },
  {
   "cell_type": "code",
   "execution_count": 7,
   "metadata": {},
   "outputs": [],
   "source": [
    "a = get_filepaths_preprocessed(path_to_dir=\"/scratch_net/biwidl319/jbermeo/data/preprocessed/1_resampled/USZ\")"
   ]
  },
  {
   "cell_type": "code",
   "execution_count": 8,
   "metadata": {},
   "outputs": [
    {
     "data": {
      "text/plain": [
       "62"
      ]
     },
     "execution_count": 8,
     "metadata": {},
     "output_type": "execute_result"
    }
   ],
   "source": [
    "len(a)"
   ]
  },
  {
   "cell_type": "code",
   "execution_count": 5,
   "metadata": {},
   "outputs": [],
   "source": [
    "data_dir_path = '../../data/'\n",
    "bias_corrected_data_dir_path = os.path.join(data_dir_path, 'preprocessed/0_bias_corrected/USZ')\n",
    "raw_data_dir_path = os.path.join(data_dir_path, 'raw/USZ')"
   ]
  },
  {
   "cell_type": "code",
   "execution_count": 24,
   "metadata": {},
   "outputs": [],
   "source": [
    "fps = glob.glob(os.path.join(bias_corrected_data_dir_path, '*'))"
   ]
  },
  {
   "cell_type": "code",
   "execution_count": 25,
   "metadata": {},
   "outputs": [
    {
     "data": {
      "text/plain": [
       "['../../data/preprocessed/0_bias_corrected/USZ/10107525-MCA-new-Colors',\n",
       " '../../data/preprocessed/0_bias_corrected/USZ/10811755_CC_AComm_NEW',\n",
       " '../../data/preprocessed/0_bias_corrected/USZ/60213089-MCA-ICA-NEW',\n",
       " '../../data/preprocessed/0_bias_corrected/USZ/10764179-MCA-NEW_DONE',\n",
       " '../../data/preprocessed/0_bias_corrected/USZ/11096773_IB_PComm',\n",
       " '../../data/preprocessed/0_bias_corrected/USZ/60201588-MCA-NEW_DONE',\n",
       " '../../data/preprocessed/0_bias_corrected/USZ/10731286-ICA-links-NEW',\n",
       " '../../data/preprocessed/0_bias_corrected/USZ/11047954_LM_Pericallosa',\n",
       " '../../data/preprocessed/0_bias_corrected/USZ/10104830_ZG_ComplexICA_Checked',\n",
       " '../../data/preprocessed/0_bias_corrected/USZ/10299485_BMM_AComm_MCA_Checked',\n",
       " '../../data/preprocessed/0_bias_corrected/USZ/10266790_CL_ICA_Checked',\n",
       " '../../data/preprocessed/0_bias_corrected/USZ/10599468-AComm-new',\n",
       " '../../data/preprocessed/0_bias_corrected/USZ/10019209_EK_MCA_Checked',\n",
       " '../../data/preprocessed/0_bias_corrected/USZ/10986737_SH_PICA',\n",
       " '../../data/preprocessed/0_bias_corrected/USZ/11092603_GDSCR_MCA',\n",
       " '../../data/preprocessed/0_bias_corrected/USZ/10480878_HS_PComm_MCA_Checked',\n",
       " '../../data/preprocessed/0_bias_corrected/USZ/10102066_KA_AComm_Checked',\n",
       " '../../data/preprocessed/0_bias_corrected/USZ/10083905_GLUK_MCA_Checked',\n",
       " '../../data/preprocessed/0_bias_corrected/USZ/10795198-BA-NEW_DONE',\n",
       " '../../data/preprocessed/0_bias_corrected/USZ/10820130_MB_MirrorMCA',\n",
       " '../../data/preprocessed/0_bias_corrected/USZ/11137190_NM_MA_NEW',\n",
       " '../../data/preprocessed/0_bias_corrected/USZ/11050151_JT_PICA',\n",
       " '../../data/preprocessed/0_bias_corrected/USZ/10600633-AComm-new-Colors',\n",
       " '../../data/preprocessed/0_bias_corrected/USZ/10704331-AComm-NEW',\n",
       " '../../data/preprocessed/0_bias_corrected/USZ/10739823-PComm-links-NEW',\n",
       " '../../data/preprocessed/0_bias_corrected/USZ/10293987_HMR_AComm_Checked',\n",
       " '../../data/preprocessed/0_bias_corrected/USZ/10787757-ACA-NEW_DONE',\n",
       " '../../data/preprocessed/0_bias_corrected/USZ/08211078_FS_MCA_NEW',\n",
       " '../../data/preprocessed/0_bias_corrected/USZ/11140272_DSRMSM_ICA_NEW',\n",
       " '../../data/preprocessed/0_bias_corrected/USZ/10788543_ZM_MirrorMCA_Checked',\n",
       " '../../data/preprocessed/0_bias_corrected/USZ/10919238_GD_MCA',\n",
       " '../../data/preprocessed/0_bias_corrected/USZ/10731124-MCA-rechts-NEW',\n",
       " '../../data/preprocessed/0_bias_corrected/USZ/07767625_LJ_Pericallosa_Checked',\n",
       " '../../data/preprocessed/0_bias_corrected/USZ/110676637_BIS_PComm',\n",
       " '../../data/preprocessed/0_bias_corrected/USZ/10998664_RJR_BAGiant',\n",
       " '../../data/preprocessed/0_bias_corrected/USZ/10448252_BPE_ICA_Checked',\n",
       " '../../data/preprocessed/0_bias_corrected/USZ/02453347_PG_Multiple_Checked',\n",
       " '../../data/preprocessed/0_bias_corrected/USZ/06913083-MCA-NEW',\n",
       " '../../data/preprocessed/0_bias_corrected/USZ/08016046-PComm-NEW_DONE',\n",
       " '../../data/preprocessed/0_bias_corrected/USZ/10804920_ARS_MCA_Checked',\n",
       " '../../data/preprocessed/0_bias_corrected/USZ/10924527_FJR_AComm',\n",
       " '../../data/preprocessed/0_bias_corrected/USZ/10576901_KJ_ICA_Checked',\n",
       " '../../data/preprocessed/0_bias_corrected/USZ/10810765_EA_MCA',\n",
       " '../../data/preprocessed/0_bias_corrected/USZ/02053152-MCA-rechts-NEW',\n",
       " '../../data/preprocessed/0_bias_corrected/USZ/10863077_KA_ICA',\n",
       " '../../data/preprocessed/0_bias_corrected/USZ/11089079_KA_MCA',\n",
       " '../../data/preprocessed/0_bias_corrected/USZ/10716885-AComm-NEW',\n",
       " '../../data/preprocessed/0_bias_corrected/USZ/10745241-MCA-new',\n",
       " '../../data/preprocessed/0_bias_corrected/USZ/10015183-MCA-new',\n",
       " '../../data/preprocessed/0_bias_corrected/USZ/10797356-VA-NEW',\n",
       " '../../data/preprocessed/0_bias_corrected/USZ/10235145_SMHH_BA_MCA_Checked',\n",
       " '../../data/preprocessed/0_bias_corrected/USZ/10147148-AComm-NEW',\n",
       " '../../data/preprocessed/0_bias_corrected/USZ/11102734_RD_MCA_AComm_NEW',\n",
       " '../../data/preprocessed/0_bias_corrected/USZ/10896074_BRE_AComm_ICA',\n",
       " '../../data/preprocessed/0_bias_corrected/USZ/04270916_VS_AComm_Checked',\n",
       " '../../data/preprocessed/0_bias_corrected/USZ/02014629_KO_MCA_Checked',\n",
       " '../../data/preprocessed/0_bias_corrected/USZ/10795693_BE_PCA_Checked',\n",
       " '../../data/preprocessed/0_bias_corrected/USZ/10799172_WH_MCA_Checked',\n",
       " '../../data/preprocessed/0_bias_corrected/USZ/10854414_SS_MCA',\n",
       " '../../data/preprocessed/0_bias_corrected/USZ/06928064_SMK_MCA_Checked',\n",
       " '../../data/preprocessed/0_bias_corrected/USZ/10941965_TSV_MCA_ICA',\n",
       " '../../data/preprocessed/0_bias_corrected/USZ/05481872-AComm-new']"
      ]
     },
     "execution_count": 25,
     "metadata": {},
     "output_type": "execute_result"
    }
   ],
   "source": [
    "fps"
   ]
  },
  {
   "cell_type": "code",
   "execution_count": 28,
   "metadata": {},
   "outputs": [],
   "source": [
    "missing_seg_mask = [ ]\n",
    "for fp in fps:\n",
    "    scans = glob.glob(os.path.join(fp, '*.nii.gz'))\n",
    "    \n",
    "    if len(scans) == 1:\n",
    "        missing_seg_mask.append(fp)\n",
    "        \n",
    "    elif len(scans) == 0:\n",
    "        print(f'{fp} has no scans at all')"
   ]
  },
  {
   "cell_type": "code",
   "execution_count": 29,
   "metadata": {},
   "outputs": [
    {
     "data": {
      "text/plain": [
       "[]"
      ]
     },
     "execution_count": 29,
     "metadata": {},
     "output_type": "execute_result"
    }
   ],
   "source": [
    "missing_seg_mask"
   ]
  },
  {
   "cell_type": "code",
   "execution_count": null,
   "metadata": {},
   "outputs": [],
   "source": []
  }
 ],
 "metadata": {
  "kernelspec": {
   "display_name": "nnUnet_dev",
   "language": "python",
   "name": "python3"
  },
  "language_info": {
   "codemirror_mode": {
    "name": "ipython",
    "version": 3
   },
   "file_extension": ".py",
   "mimetype": "text/x-python",
   "name": "python",
   "nbconvert_exporter": "python",
   "pygments_lexer": "ipython3",
   "version": "3.9.18"
  }
 },
 "nbformat": 4,
 "nbformat_minor": 2
}
