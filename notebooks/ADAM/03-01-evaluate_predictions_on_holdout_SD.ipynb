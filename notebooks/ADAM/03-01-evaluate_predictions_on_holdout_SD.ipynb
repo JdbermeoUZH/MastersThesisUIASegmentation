{
 "cells": [
  {
   "cell_type": "code",
   "execution_count": 1,
   "metadata": {
    "ExecuteTime": {
     "end_time": "2023-12-21T06:37:07.369191446Z",
     "start_time": "2023-12-21T06:37:03.675039724Z"
    }
   },
   "outputs": [],
   "source": [
    "import os \n",
    "import glob \n",
    "from tqdm import tqdm\n",
    "\n",
    "import torch\n",
    "import pandas as pd\n",
    "import numpy as np\n",
    "import skimage.metrics \n",
    "from torchmetrics.functional.classification import dice, recall, precision\n",
    "from torchmetrics import Dice, Recall, Precision \n",
    "import nibabel as nib "
   ]
  },
  {
   "cell_type": "code",
   "execution_count": 2,
   "metadata": {
    "ExecuteTime": {
     "end_time": "2023-12-21T06:37:07.394578133Z",
     "start_time": "2023-12-21T06:37:07.382636836Z"
    }
   },
   "outputs": [],
   "source": [
    "def binarize_image(img, threshold = 0.5, one_hot = False):\n",
    "    if img.ndim == 4:\n",
    "       img = img.unsqueeze(0)\n",
    "\n",
    "    elif img.ndim == 3:\n",
    "        img = img[None, None, :, :, :]\n",
    "\n",
    "    assert img.ndim == 5, f'Binarize_image, tensor mismatch {img.shape}'\n",
    "\n",
    "    n_channels = img.shape[1]\n",
    "\n",
    "    # binary problem\n",
    "    if n_channels == 1:\n",
    "        nimg = img > threshold\n",
    "    elif n_channels == 3:\n",
    "        if img.dtype == torch.bool:\n",
    "            nimg = img.float()\n",
    "        else:\n",
    "            nimg           = torch.zeros_like(img)\n",
    "            argmax_indexes = torch.argmax(img, dim = 1)\n",
    "            nimg.scatter_(1, argmax_indexes.unsqueeze(1), 1) \n",
    "    else:\n",
    "        print(f\"In binarize_image, number of channels {n_channels}\")\n",
    "    \n",
    "    if nimg.dtype != torch.float:   nimg = nimg.float()\n",
    "    \n",
    "    return nimg\n",
    "\n",
    "def calculate_overlap_metrics(pred, gt, target_label: int == 1):\n",
    "    aneur_mask      = torch.where(gt == target_label, 1, 0)\n",
    "    pred_image_bin  = binarize_image(pred)\n",
    "    pred_aneur_mask = torch.mul(pred_image_bin, aneur_mask)\n",
    "\n",
    "    # compute dice score recall and precision\n",
    "    tp = torch.sum((pred_aneur_mask == 1) & (aneur_mask == 1))\n",
    "    fp = torch.sum((pred_aneur_mask == 1) & (aneur_mask == 0))\n",
    "    fn = torch.sum((pred_aneur_mask == 0) & (aneur_mask == 1))\n",
    "\n",
    "    if 2*tp + fp + fn == 0: dice_aneur = 1e-12\n",
    "    else: dice_aneur = (2*tp/(2*tp + fp + fn)).item()\n",
    "\n",
    "    if tp + fn == 0: recall_aneur = 1e-12\n",
    "    else: recall_aneur = (tp/(tp+fn)).item()\n",
    "\n",
    "    if fp + tp == 0: precision_aneur = 1e-12\n",
    "    else: precision_aneur = (tp/(tp+fp)).item()\n",
    "    metrics = {'dice_aneur':dice_aneur, \n",
    "               'recall_aneur':recall_aneur, \n",
    "               'precision_aneur':precision_aneur}\n",
    "    \n",
    "    return metrics"
   ]
  },
  {
   "cell_type": "code",
   "execution_count": 30,
   "outputs": [],
   "source": [
    "def calculate_metrics(num_classes, gt_vols_fp, pred_vols_fn,\n",
    "                      collapse_into_single_uia_class=False, untreated_aneurysm_only=False):\n",
    "    dice = Dice(num_classes=num_classes, ignore_index=0, average='micro')\n",
    "    recall = Recall(num_classes=num_classes, num_labels=num_classes, ignore_index=0, average='micro', task='binary')\n",
    "    precision = Precision(num_classes=num_classes,  num_labels=num_classes, ignore_index=0, average='micro', task='binary')\n",
    "    \n",
    "    metrics_tm = {'dice': dice, 'recall': recall, 'precision': precision}\n",
    "    \n",
    "    results = []\n",
    "    for gt_vol_fp in tqdm(gt_vols_fp):\n",
    "        vol_fn = os.path.basename(gt_vol_fp)\n",
    "    \n",
    "        try:\n",
    "            assert vol_fn in pred_vols_fn, \\\n",
    "                f\"No prediction for vol {vol_fn}\"\n",
    "        except AssertionError as e:\n",
    "            print(e)\n",
    "            continue\n",
    "        \n",
    "        # load vols     \n",
    "        gt = nib.load(gt_vol_fp).get_fdata()\n",
    "        gt = torch.tensor(gt).int()\n",
    "        \n",
    "        pred = nib.load(os.path.join(predictions_dir, vol_fn)).get_fdata()\n",
    "        pred = torch.tensor(pred).int()\n",
    "           \n",
    "        # Calculate metrics\n",
    "        metrics = calculate_overlap_metrics(pred.float(), gt.float(), target_label= 1)\n",
    "        metrics = {f'{k}_kostas':v for k,v in metrics.items()}\n",
    "        \n",
    "        for metric_name, metric_tm in metrics_tm.items():\n",
    "            try:\n",
    "                metrics[f'{metric_name}_tm'] = metric_tm(pred, gt).item()\n",
    "            except:\n",
    "                print(f'Error calculating {metric_name} for {vol_fn}')\n",
    "                metrics[f'{metric_name}_tm'] = np.nan\n",
    "                \n",
    "        metrics['mhd'] = skimage.metrics.hausdorff_distance(gt.cpu().numpy(), pred.cpu().numpy(), method='modified')\n",
    "        \n",
    "        if collapse_into_single_uia_class and num_classes > 2:\n",
    "            # collapse both labels into a single aneurysm class\n",
    "            pred_mod = torch.where(pred > 0, 1, 0)\n",
    "            gt_mod = torch.where(gt > 0, 1, 0)\n",
    "            \n",
    "            for metric_name, metric_tm in metrics_tm.items():\n",
    "                metrics[f'{metric_name}_tm_single_UIA_class'] = metric_tm(pred_mod, gt_mod).item()\n",
    "                metrics['mhd_single_UIA_class'] = skimage.metrics.hausdorff_distance(gt_mod.cpu().numpy(), pred_mod.cpu().numpy(), method='modified')\n",
    "                \n",
    "        if untreated_aneurysm_only and num_classes > 2:\n",
    "            # Calculate the aneurysm only metrics\n",
    "            gt = torch.where(gt == 1, 1, 0)\n",
    "            pred = torch.where(pred == 1, 1, 0)\n",
    "            \n",
    "            for metric_name, metric_tm in metrics_tm.items():\n",
    "                 metrics[f'{metric_name}_tm_untreated_aneurysm_only'] = metric_tm(pred, gt).item()\n",
    "            metrics['mhd_untreated_aneurysm_only'] = skimage.metrics.hausdorff_distance(gt.cpu().numpy(), pred.cpu().numpy(), method='modified')\n",
    "\n",
    "        # Add metrics to the results list\n",
    "        results.append({\n",
    "            'vol_name': vol_fn,\n",
    "            **metrics\n",
    "        })\n",
    "    \n",
    "    return pd.DataFrame(results)\n",
    "    "
   ],
   "metadata": {
    "collapsed": false,
    "ExecuteTime": {
     "end_time": "2023-12-21T07:59:44.181950308Z",
     "start_time": "2023-12-21T07:59:44.104255136Z"
    }
   }
  },
  {
   "cell_type": "markdown",
   "metadata": {},
   "source": [
    "# Evaluate trained on source domain and predicting in holdout set of the same domain (ADAM)\n",
    "\n",
    "Keep Dice-Score, Recall, Precision, and modified Hausdorff Distance for each volume and each class\n"
   ]
  },
  {
   "cell_type": "markdown",
   "metadata": {},
   "source": [
    "## 3 Classes: Background, Untreated, Treated Aneurysms"
   ]
  },
  {
   "cell_type": "code",
   "execution_count": 35,
   "metadata": {
    "ExecuteTime": {
     "end_time": "2023-12-21T08:03:39.812601550Z",
     "start_time": "2023-12-21T08:03:39.764271374Z"
    }
   },
   "outputs": [
    {
     "data": {
      "text/plain": "['10047B.nii.gz',\n '10048B.nii.gz',\n '10029.nii.gz',\n '10024.nii.gz',\n '10068F.nii.gz']"
     },
     "execution_count": 35,
     "metadata": {},
     "output_type": "execute_result"
    }
   ],
   "source": [
    "data_dir = '../../../data/'\n",
    "results_dir = os.path.join(data_dir, 'results')\n",
    "\n",
    "os.makedirs(results_dir, exist_ok=True)\n",
    "\n",
    "ground_truth_dir = os.path.join(data_dir, 'ADAM/Dataset005_ADAM3ClassesAneurysmsOnly')\n",
    "gt_vols_fp = glob.glob(os.path.join(ground_truth_dir, 'labelsTs', '*.nii.gz'))\n",
    "predictions_dir = os.path.join(data_dir, 'nnUNet_predictions', 'train_on_SD_predict_on_SD', 'Dataset005_ADAM3ClassesAneurysmsOnly', 'imageTs')\n",
    "pred_vols_fn = os.listdir(predictions_dir)\n",
    "pred_vols_fn[0:5]"
   ]
  },
  {
   "cell_type": "code",
   "execution_count": 36,
   "outputs": [
    {
     "name": "stderr",
     "output_type": "stream",
     "text": [
      "  9%|▊         | 2/23 [01:47<17:57, 51.33s/it]"
     ]
    },
    {
     "name": "stdout",
     "output_type": "stream",
     "text": [
      "Error calculating recall for 10029.nii.gz\n",
      "Error calculating precision for 10029.nii.gz\n"
     ]
    },
    {
     "name": "stderr",
     "output_type": "stream",
     "text": [
      " 17%|█▋        | 4/23 [03:03<13:38, 43.09s/it]"
     ]
    },
    {
     "name": "stdout",
     "output_type": "stream",
     "text": [
      "Error calculating recall for 10068F.nii.gz\n",
      "Error calculating precision for 10068F.nii.gz\n"
     ]
    },
    {
     "name": "stderr",
     "output_type": "stream",
     "text": [
      " 22%|██▏       | 5/23 [06:05<27:58, 93.25s/it]"
     ]
    },
    {
     "name": "stdout",
     "output_type": "stream",
     "text": [
      "Error calculating recall for 10072F.nii.gz\n",
      "Error calculating precision for 10072F.nii.gz\n"
     ]
    },
    {
     "name": "stderr",
     "output_type": "stream",
     "text": [
      " 30%|███       | 7/23 [06:46<13:44, 51.53s/it]"
     ]
    },
    {
     "name": "stdout",
     "output_type": "stream",
     "text": [
      "Error calculating recall for 10068B.nii.gz\n",
      "Error calculating precision for 10068B.nii.gz\n"
     ]
    },
    {
     "name": "stderr",
     "output_type": "stream",
     "text": [
      " 35%|███▍      | 8/23 [07:13<10:54, 43.63s/it]"
     ]
    },
    {
     "name": "stdout",
     "output_type": "stream",
     "text": [
      "Error calculating recall for 10072B.nii.gz\n",
      "Error calculating precision for 10072B.nii.gz\n"
     ]
    },
    {
     "name": "stderr",
     "output_type": "stream",
     "text": [
      " 43%|████▎     | 10/23 [10:34<14:24, 66.53s/it]"
     ]
    },
    {
     "name": "stdout",
     "output_type": "stream",
     "text": [
      "Error calculating dice for 10015.nii.gz\n",
      "Error calculating recall for 10015.nii.gz\n",
      "Error calculating precision for 10015.nii.gz\n"
     ]
    },
    {
     "name": "stderr",
     "output_type": "stream",
     "text": [
      " 52%|█████▏    | 12/23 [11:55<09:48, 53.50s/it]"
     ]
    },
    {
     "name": "stdout",
     "output_type": "stream",
     "text": [
      "Error calculating recall for 10028.nii.gz\n",
      "Error calculating precision for 10028.nii.gz\n"
     ]
    },
    {
     "name": "stderr",
     "output_type": "stream",
     "text": [
      " 70%|██████▉   | 16/23 [15:51<06:44, 57.73s/it]"
     ]
    },
    {
     "name": "stdout",
     "output_type": "stream",
     "text": [
      "Error calculating dice for 10009.nii.gz\n",
      "Error calculating recall for 10009.nii.gz\n",
      "Error calculating precision for 10009.nii.gz\n"
     ]
    },
    {
     "name": "stderr",
     "output_type": "stream",
     "text": [
      " 74%|███████▍  | 17/23 [16:38<05:26, 54.49s/it]"
     ]
    },
    {
     "name": "stdout",
     "output_type": "stream",
     "text": [
      "Error calculating recall for 10077B.nii.gz\n",
      "Error calculating precision for 10077B.nii.gz\n"
     ]
    },
    {
     "name": "stderr",
     "output_type": "stream",
     "text": [
      " 78%|███████▊  | 18/23 [17:16<04:06, 49.32s/it]"
     ]
    },
    {
     "name": "stdout",
     "output_type": "stream",
     "text": [
      "Error calculating recall for 10060F.nii.gz\n",
      "Error calculating precision for 10060F.nii.gz\n"
     ]
    },
    {
     "name": "stderr",
     "output_type": "stream",
     "text": [
      " 83%|████████▎ | 19/23 [17:51<03:00, 45.15s/it]"
     ]
    },
    {
     "name": "stdout",
     "output_type": "stream",
     "text": [
      "Error calculating recall for 10077F.nii.gz\n",
      "Error calculating precision for 10077F.nii.gz\n"
     ]
    },
    {
     "name": "stderr",
     "output_type": "stream",
     "text": [
      " 87%|████████▋ | 20/23 [18:27<02:07, 42.52s/it]"
     ]
    },
    {
     "name": "stdout",
     "output_type": "stream",
     "text": [
      "Error calculating dice for 10010.nii.gz\n",
      "Error calculating recall for 10010.nii.gz\n",
      "Error calculating precision for 10010.nii.gz\n"
     ]
    },
    {
     "name": "stderr",
     "output_type": "stream",
     "text": [
      " 91%|█████████▏| 21/23 [19:02<01:20, 40.16s/it]"
     ]
    },
    {
     "name": "stdout",
     "output_type": "stream",
     "text": [
      "Error calculating recall for 10060B.nii.gz\n",
      "Error calculating precision for 10060B.nii.gz\n"
     ]
    },
    {
     "name": "stderr",
     "output_type": "stream",
     "text": [
      "100%|██████████| 23/23 [22:30<00:00, 58.74s/it]\n"
     ]
    }
   ],
   "source": [
    "results_df = calculate_metrics(num_classes=3, gt_vols_fp=gt_vols_fp, pred_vols_fn=pred_vols_fn,\n",
    "                               collapse_into_single_uia_class=True, untreated_aneurysm_only=True)"
   ],
   "metadata": {
    "collapsed": false,
    "ExecuteTime": {
     "end_time": "2023-12-21T08:26:11.219872140Z",
     "start_time": "2023-12-21T08:03:40.109004951Z"
    }
   }
  },
  {
   "cell_type": "code",
   "execution_count": 37,
   "outputs": [
    {
     "data": {
      "text/plain": "         vol_name  dice_aneur_kostas  recall_aneur_kostas  \\\n0   10047B.nii.gz       7.530864e-01         6.039604e-01   \n1   10048B.nii.gz       8.642160e-01         7.608983e-01   \n2    10029.nii.gz       9.812108e-01         9.631147e-01   \n3    10024.nii.gz       9.649485e-01         9.322709e-01   \n4   10068F.nii.gz       9.463493e-01         8.981623e-01   \n5   10072F.nii.gz       0.000000e+00         0.000000e+00   \n6    10037.nii.gz       0.000000e+00         0.000000e+00   \n7   10068B.nii.gz       9.455041e-01         8.966408e-01   \n8   10072B.nii.gz       0.000000e+00         0.000000e+00   \n9   10047F.nii.gz       6.952381e-01         5.328467e-01   \n10   10015.nii.gz       1.000000e-12         1.000000e-12   \n11  10049F.nii.gz       9.416006e-01         8.896458e-01   \n12   10028.nii.gz       0.000000e+00         0.000000e+00   \n13   10039.nii.gz       4.546900e-01         2.942387e-01   \n14   10035.nii.gz       9.735203e-01         9.484067e-01   \n15  10048F.nii.gz       8.621292e-01         7.576687e-01   \n16   10009.nii.gz       1.000000e-12         1.000000e-12   \n17  10077B.nii.gz       0.000000e+00         0.000000e+00   \n18  10060F.nii.gz       0.000000e+00         0.000000e+00   \n19  10077F.nii.gz       0.000000e+00         0.000000e+00   \n20   10010.nii.gz       1.000000e-12         1.000000e-12   \n21  10060B.nii.gz       0.000000e+00         0.000000e+00   \n22  10049B.nii.gz       8.288462e-01         7.077176e-01   \n\n    precision_aneur_kostas   dice_tm  recall_tm  precision_tm         mhd  \\\n0             1.000000e+00  0.721893   0.603960           1.0    0.560829   \n1             1.000000e+00  0.789582   0.760898           1.0    0.273209   \n2             1.000000e+00  0.662906        NaN           NaN    8.247260   \n3             1.000000e+00  0.717791   0.932271           1.0    0.462330   \n4             1.000000e+00  0.779920        NaN           NaN    1.886223   \n5             1.000000e-12  0.000000        NaN           NaN         inf   \n6             1.000000e-12  0.000000   0.000000           0.0         inf   \n7             1.000000e+00  0.288565        NaN           NaN   10.579254   \n8             1.000000e-12  0.000000        NaN           NaN   37.656664   \n9             1.000000e+00  0.691943   0.532847           1.0    0.572109   \n10            1.000000e-12       NaN        NaN           NaN         inf   \n11            1.000000e+00  0.915207   0.889646           1.0    0.122547   \n12            1.000000e-12  0.000000        NaN           NaN  156.518530   \n13            1.000000e+00  0.431373   0.294239           1.0    1.512696   \n14            1.000000e+00  0.738334   0.948407           1.0    0.546581   \n15            1.000000e+00  0.806136   0.757669           1.0    0.387366   \n16            1.000000e-12       NaN        NaN           NaN         inf   \n17            1.000000e-12  0.022228        NaN           NaN   35.311003   \n18            1.000000e-12  0.000000        NaN           NaN   72.243935   \n19            1.000000e-12  0.026420        NaN           NaN   47.487014   \n20            1.000000e-12       NaN        NaN           NaN         inf   \n21            1.000000e-12  0.018358        NaN           NaN   15.535330   \n22            1.000000e+00  0.807116   0.707718           1.0    0.463030   \n\n    dice_tm_single_UIA_class  mhd_single_UIA_class  \\\n0                   0.721893              0.560829   \n1                   0.789582              0.273209   \n2                   0.662906              8.247260   \n3                   0.717791              0.462330   \n4                   0.779920              1.886223   \n5                   0.000000                   inf   \n6                   0.000000                   inf   \n7                   0.288565             10.579254   \n8                   0.018338             37.656664   \n9                   0.691943              0.572109   \n10                  0.000000                   inf   \n11                  0.915207              0.122547   \n12                  0.000000            156.518530   \n13                  0.431373              1.512696   \n14                  0.738334              0.546581   \n15                  0.806136              0.387366   \n16                  0.000000                   inf   \n17                  0.022228             35.311003   \n18                  0.000000             72.243935   \n19                  0.056218             47.487014   \n20                  0.000000                   inf   \n21                  0.018358             15.535330   \n22                  0.807116              0.463030   \n\n    recall_tm_single_UIA_class  precision_tm_single_UIA_class  \\\n0                     0.603960                            1.0   \n1                     0.760898                            1.0   \n2                     0.963115                            1.0   \n3                     0.932271                            1.0   \n4                     0.898162                            1.0   \n5                     0.000000                            0.0   \n6                     0.000000                            0.0   \n7                     0.896641                            1.0   \n8                     0.009254                            1.0   \n9                     0.532847                            1.0   \n10                    0.000000                            0.0   \n11                    0.889646                            1.0   \n12                    0.000000                            0.0   \n13                    0.294239                            1.0   \n14                    0.948407                            1.0   \n15                    0.757669                            1.0   \n16                    0.000000                            0.0   \n17                    0.034694                            1.0   \n18                    0.000000                            0.0   \n19                    0.043445                            1.0   \n20                    0.000000                            0.0   \n21                    0.009269                            1.0   \n22                    0.707718                            1.0   \n\n    dice_tm_untreated_aneurysm_only  recall_tm_untreated_aneurysm_only  \\\n0                          0.721893                           0.603960   \n1                          0.789582                           0.760898   \n2                          0.690162                           0.963115   \n3                          0.717791                           0.932271   \n4                          0.794715                           0.898162   \n5                          0.000000                           0.000000   \n6                          0.000000                           0.000000   \n7                          0.826190                           0.896641   \n8                          0.000000                           0.000000   \n9                          0.691943                           0.532847   \n10                         0.000000                           0.000000   \n11                         0.915207                           0.889646   \n12                         0.000000                           0.000000   \n13                         0.431373                           0.294239   \n14                         0.738334                           0.948407   \n15                         0.806136                           0.757669   \n16                         0.000000                           0.000000   \n17                         0.000000                           0.000000   \n18                         0.000000                           0.000000   \n19                         0.000000                           0.000000   \n20                         0.000000                           0.000000   \n21                         0.000000                           0.000000   \n22                         0.807116                           0.707718   \n\n    precision_tm_untreated_aneurysm_only  mhd_untreated_aneurysm_only  \n0                                    1.0                     0.560829  \n1                                    1.0                     0.273209  \n2                                    1.0                     0.534330  \n3                                    1.0                     0.462330  \n4                                    1.0                     0.576065  \n5                                    0.0                          inf  \n6                                    0.0                          inf  \n7                                    1.0                     0.233996  \n8                                    0.0                    75.865834  \n9                                    1.0                     0.572109  \n10                                   0.0                          inf  \n11                                   1.0                     0.122547  \n12                                   0.0                          inf  \n13                                   1.0                     1.512696  \n14                                   1.0                     0.546581  \n15                                   1.0                     0.387366  \n16                                   0.0                          inf  \n17                                   0.0                          inf  \n18                                   0.0                     3.095907  \n19                                   0.0                    49.867355  \n20                                   0.0                          inf  \n21                                   0.0                   131.557727  \n22                                   1.0                     0.463030  ",
      "text/html": "<div>\n<style scoped>\n    .dataframe tbody tr th:only-of-type {\n        vertical-align: middle;\n    }\n\n    .dataframe tbody tr th {\n        vertical-align: top;\n    }\n\n    .dataframe thead th {\n        text-align: right;\n    }\n</style>\n<table border=\"1\" class=\"dataframe\">\n  <thead>\n    <tr style=\"text-align: right;\">\n      <th></th>\n      <th>vol_name</th>\n      <th>dice_aneur_kostas</th>\n      <th>recall_aneur_kostas</th>\n      <th>precision_aneur_kostas</th>\n      <th>dice_tm</th>\n      <th>recall_tm</th>\n      <th>precision_tm</th>\n      <th>mhd</th>\n      <th>dice_tm_single_UIA_class</th>\n      <th>mhd_single_UIA_class</th>\n      <th>recall_tm_single_UIA_class</th>\n      <th>precision_tm_single_UIA_class</th>\n      <th>dice_tm_untreated_aneurysm_only</th>\n      <th>recall_tm_untreated_aneurysm_only</th>\n      <th>precision_tm_untreated_aneurysm_only</th>\n      <th>mhd_untreated_aneurysm_only</th>\n    </tr>\n  </thead>\n  <tbody>\n    <tr>\n      <th>0</th>\n      <td>10047B.nii.gz</td>\n      <td>7.530864e-01</td>\n      <td>6.039604e-01</td>\n      <td>1.000000e+00</td>\n      <td>0.721893</td>\n      <td>0.603960</td>\n      <td>1.0</td>\n      <td>0.560829</td>\n      <td>0.721893</td>\n      <td>0.560829</td>\n      <td>0.603960</td>\n      <td>1.0</td>\n      <td>0.721893</td>\n      <td>0.603960</td>\n      <td>1.0</td>\n      <td>0.560829</td>\n    </tr>\n    <tr>\n      <th>1</th>\n      <td>10048B.nii.gz</td>\n      <td>8.642160e-01</td>\n      <td>7.608983e-01</td>\n      <td>1.000000e+00</td>\n      <td>0.789582</td>\n      <td>0.760898</td>\n      <td>1.0</td>\n      <td>0.273209</td>\n      <td>0.789582</td>\n      <td>0.273209</td>\n      <td>0.760898</td>\n      <td>1.0</td>\n      <td>0.789582</td>\n      <td>0.760898</td>\n      <td>1.0</td>\n      <td>0.273209</td>\n    </tr>\n    <tr>\n      <th>2</th>\n      <td>10029.nii.gz</td>\n      <td>9.812108e-01</td>\n      <td>9.631147e-01</td>\n      <td>1.000000e+00</td>\n      <td>0.662906</td>\n      <td>NaN</td>\n      <td>NaN</td>\n      <td>8.247260</td>\n      <td>0.662906</td>\n      <td>8.247260</td>\n      <td>0.963115</td>\n      <td>1.0</td>\n      <td>0.690162</td>\n      <td>0.963115</td>\n      <td>1.0</td>\n      <td>0.534330</td>\n    </tr>\n    <tr>\n      <th>3</th>\n      <td>10024.nii.gz</td>\n      <td>9.649485e-01</td>\n      <td>9.322709e-01</td>\n      <td>1.000000e+00</td>\n      <td>0.717791</td>\n      <td>0.932271</td>\n      <td>1.0</td>\n      <td>0.462330</td>\n      <td>0.717791</td>\n      <td>0.462330</td>\n      <td>0.932271</td>\n      <td>1.0</td>\n      <td>0.717791</td>\n      <td>0.932271</td>\n      <td>1.0</td>\n      <td>0.462330</td>\n    </tr>\n    <tr>\n      <th>4</th>\n      <td>10068F.nii.gz</td>\n      <td>9.463493e-01</td>\n      <td>8.981623e-01</td>\n      <td>1.000000e+00</td>\n      <td>0.779920</td>\n      <td>NaN</td>\n      <td>NaN</td>\n      <td>1.886223</td>\n      <td>0.779920</td>\n      <td>1.886223</td>\n      <td>0.898162</td>\n      <td>1.0</td>\n      <td>0.794715</td>\n      <td>0.898162</td>\n      <td>1.0</td>\n      <td>0.576065</td>\n    </tr>\n    <tr>\n      <th>5</th>\n      <td>10072F.nii.gz</td>\n      <td>0.000000e+00</td>\n      <td>0.000000e+00</td>\n      <td>1.000000e-12</td>\n      <td>0.000000</td>\n      <td>NaN</td>\n      <td>NaN</td>\n      <td>inf</td>\n      <td>0.000000</td>\n      <td>inf</td>\n      <td>0.000000</td>\n      <td>0.0</td>\n      <td>0.000000</td>\n      <td>0.000000</td>\n      <td>0.0</td>\n      <td>inf</td>\n    </tr>\n    <tr>\n      <th>6</th>\n      <td>10037.nii.gz</td>\n      <td>0.000000e+00</td>\n      <td>0.000000e+00</td>\n      <td>1.000000e-12</td>\n      <td>0.000000</td>\n      <td>0.000000</td>\n      <td>0.0</td>\n      <td>inf</td>\n      <td>0.000000</td>\n      <td>inf</td>\n      <td>0.000000</td>\n      <td>0.0</td>\n      <td>0.000000</td>\n      <td>0.000000</td>\n      <td>0.0</td>\n      <td>inf</td>\n    </tr>\n    <tr>\n      <th>7</th>\n      <td>10068B.nii.gz</td>\n      <td>9.455041e-01</td>\n      <td>8.966408e-01</td>\n      <td>1.000000e+00</td>\n      <td>0.288565</td>\n      <td>NaN</td>\n      <td>NaN</td>\n      <td>10.579254</td>\n      <td>0.288565</td>\n      <td>10.579254</td>\n      <td>0.896641</td>\n      <td>1.0</td>\n      <td>0.826190</td>\n      <td>0.896641</td>\n      <td>1.0</td>\n      <td>0.233996</td>\n    </tr>\n    <tr>\n      <th>8</th>\n      <td>10072B.nii.gz</td>\n      <td>0.000000e+00</td>\n      <td>0.000000e+00</td>\n      <td>1.000000e-12</td>\n      <td>0.000000</td>\n      <td>NaN</td>\n      <td>NaN</td>\n      <td>37.656664</td>\n      <td>0.018338</td>\n      <td>37.656664</td>\n      <td>0.009254</td>\n      <td>1.0</td>\n      <td>0.000000</td>\n      <td>0.000000</td>\n      <td>0.0</td>\n      <td>75.865834</td>\n    </tr>\n    <tr>\n      <th>9</th>\n      <td>10047F.nii.gz</td>\n      <td>6.952381e-01</td>\n      <td>5.328467e-01</td>\n      <td>1.000000e+00</td>\n      <td>0.691943</td>\n      <td>0.532847</td>\n      <td>1.0</td>\n      <td>0.572109</td>\n      <td>0.691943</td>\n      <td>0.572109</td>\n      <td>0.532847</td>\n      <td>1.0</td>\n      <td>0.691943</td>\n      <td>0.532847</td>\n      <td>1.0</td>\n      <td>0.572109</td>\n    </tr>\n    <tr>\n      <th>10</th>\n      <td>10015.nii.gz</td>\n      <td>1.000000e-12</td>\n      <td>1.000000e-12</td>\n      <td>1.000000e-12</td>\n      <td>NaN</td>\n      <td>NaN</td>\n      <td>NaN</td>\n      <td>inf</td>\n      <td>0.000000</td>\n      <td>inf</td>\n      <td>0.000000</td>\n      <td>0.0</td>\n      <td>0.000000</td>\n      <td>0.000000</td>\n      <td>0.0</td>\n      <td>inf</td>\n    </tr>\n    <tr>\n      <th>11</th>\n      <td>10049F.nii.gz</td>\n      <td>9.416006e-01</td>\n      <td>8.896458e-01</td>\n      <td>1.000000e+00</td>\n      <td>0.915207</td>\n      <td>0.889646</td>\n      <td>1.0</td>\n      <td>0.122547</td>\n      <td>0.915207</td>\n      <td>0.122547</td>\n      <td>0.889646</td>\n      <td>1.0</td>\n      <td>0.915207</td>\n      <td>0.889646</td>\n      <td>1.0</td>\n      <td>0.122547</td>\n    </tr>\n    <tr>\n      <th>12</th>\n      <td>10028.nii.gz</td>\n      <td>0.000000e+00</td>\n      <td>0.000000e+00</td>\n      <td>1.000000e-12</td>\n      <td>0.000000</td>\n      <td>NaN</td>\n      <td>NaN</td>\n      <td>156.518530</td>\n      <td>0.000000</td>\n      <td>156.518530</td>\n      <td>0.000000</td>\n      <td>0.0</td>\n      <td>0.000000</td>\n      <td>0.000000</td>\n      <td>0.0</td>\n      <td>inf</td>\n    </tr>\n    <tr>\n      <th>13</th>\n      <td>10039.nii.gz</td>\n      <td>4.546900e-01</td>\n      <td>2.942387e-01</td>\n      <td>1.000000e+00</td>\n      <td>0.431373</td>\n      <td>0.294239</td>\n      <td>1.0</td>\n      <td>1.512696</td>\n      <td>0.431373</td>\n      <td>1.512696</td>\n      <td>0.294239</td>\n      <td>1.0</td>\n      <td>0.431373</td>\n      <td>0.294239</td>\n      <td>1.0</td>\n      <td>1.512696</td>\n    </tr>\n    <tr>\n      <th>14</th>\n      <td>10035.nii.gz</td>\n      <td>9.735203e-01</td>\n      <td>9.484067e-01</td>\n      <td>1.000000e+00</td>\n      <td>0.738334</td>\n      <td>0.948407</td>\n      <td>1.0</td>\n      <td>0.546581</td>\n      <td>0.738334</td>\n      <td>0.546581</td>\n      <td>0.948407</td>\n      <td>1.0</td>\n      <td>0.738334</td>\n      <td>0.948407</td>\n      <td>1.0</td>\n      <td>0.546581</td>\n    </tr>\n    <tr>\n      <th>15</th>\n      <td>10048F.nii.gz</td>\n      <td>8.621292e-01</td>\n      <td>7.576687e-01</td>\n      <td>1.000000e+00</td>\n      <td>0.806136</td>\n      <td>0.757669</td>\n      <td>1.0</td>\n      <td>0.387366</td>\n      <td>0.806136</td>\n      <td>0.387366</td>\n      <td>0.757669</td>\n      <td>1.0</td>\n      <td>0.806136</td>\n      <td>0.757669</td>\n      <td>1.0</td>\n      <td>0.387366</td>\n    </tr>\n    <tr>\n      <th>16</th>\n      <td>10009.nii.gz</td>\n      <td>1.000000e-12</td>\n      <td>1.000000e-12</td>\n      <td>1.000000e-12</td>\n      <td>NaN</td>\n      <td>NaN</td>\n      <td>NaN</td>\n      <td>inf</td>\n      <td>0.000000</td>\n      <td>inf</td>\n      <td>0.000000</td>\n      <td>0.0</td>\n      <td>0.000000</td>\n      <td>0.000000</td>\n      <td>0.0</td>\n      <td>inf</td>\n    </tr>\n    <tr>\n      <th>17</th>\n      <td>10077B.nii.gz</td>\n      <td>0.000000e+00</td>\n      <td>0.000000e+00</td>\n      <td>1.000000e-12</td>\n      <td>0.022228</td>\n      <td>NaN</td>\n      <td>NaN</td>\n      <td>35.311003</td>\n      <td>0.022228</td>\n      <td>35.311003</td>\n      <td>0.034694</td>\n      <td>1.0</td>\n      <td>0.000000</td>\n      <td>0.000000</td>\n      <td>0.0</td>\n      <td>inf</td>\n    </tr>\n    <tr>\n      <th>18</th>\n      <td>10060F.nii.gz</td>\n      <td>0.000000e+00</td>\n      <td>0.000000e+00</td>\n      <td>1.000000e-12</td>\n      <td>0.000000</td>\n      <td>NaN</td>\n      <td>NaN</td>\n      <td>72.243935</td>\n      <td>0.000000</td>\n      <td>72.243935</td>\n      <td>0.000000</td>\n      <td>0.0</td>\n      <td>0.000000</td>\n      <td>0.000000</td>\n      <td>0.0</td>\n      <td>3.095907</td>\n    </tr>\n    <tr>\n      <th>19</th>\n      <td>10077F.nii.gz</td>\n      <td>0.000000e+00</td>\n      <td>0.000000e+00</td>\n      <td>1.000000e-12</td>\n      <td>0.026420</td>\n      <td>NaN</td>\n      <td>NaN</td>\n      <td>47.487014</td>\n      <td>0.056218</td>\n      <td>47.487014</td>\n      <td>0.043445</td>\n      <td>1.0</td>\n      <td>0.000000</td>\n      <td>0.000000</td>\n      <td>0.0</td>\n      <td>49.867355</td>\n    </tr>\n    <tr>\n      <th>20</th>\n      <td>10010.nii.gz</td>\n      <td>1.000000e-12</td>\n      <td>1.000000e-12</td>\n      <td>1.000000e-12</td>\n      <td>NaN</td>\n      <td>NaN</td>\n      <td>NaN</td>\n      <td>inf</td>\n      <td>0.000000</td>\n      <td>inf</td>\n      <td>0.000000</td>\n      <td>0.0</td>\n      <td>0.000000</td>\n      <td>0.000000</td>\n      <td>0.0</td>\n      <td>inf</td>\n    </tr>\n    <tr>\n      <th>21</th>\n      <td>10060B.nii.gz</td>\n      <td>0.000000e+00</td>\n      <td>0.000000e+00</td>\n      <td>1.000000e-12</td>\n      <td>0.018358</td>\n      <td>NaN</td>\n      <td>NaN</td>\n      <td>15.535330</td>\n      <td>0.018358</td>\n      <td>15.535330</td>\n      <td>0.009269</td>\n      <td>1.0</td>\n      <td>0.000000</td>\n      <td>0.000000</td>\n      <td>0.0</td>\n      <td>131.557727</td>\n    </tr>\n    <tr>\n      <th>22</th>\n      <td>10049B.nii.gz</td>\n      <td>8.288462e-01</td>\n      <td>7.077176e-01</td>\n      <td>1.000000e+00</td>\n      <td>0.807116</td>\n      <td>0.707718</td>\n      <td>1.0</td>\n      <td>0.463030</td>\n      <td>0.807116</td>\n      <td>0.463030</td>\n      <td>0.707718</td>\n      <td>1.0</td>\n      <td>0.807116</td>\n      <td>0.707718</td>\n      <td>1.0</td>\n      <td>0.463030</td>\n    </tr>\n  </tbody>\n</table>\n</div>"
     },
     "execution_count": 37,
     "metadata": {},
     "output_type": "execute_result"
    }
   ],
   "source": [
    "results_df"
   ],
   "metadata": {
    "collapsed": false,
    "ExecuteTime": {
     "end_time": "2023-12-21T08:26:11.256435869Z",
     "start_time": "2023-12-21T08:26:11.230303709Z"
    }
   }
  },
  {
   "cell_type": "code",
   "execution_count": 39,
   "outputs": [],
   "source": [
    "results_df.to_csv(os.path.join(data_dir, 'results', 'sd_adam__td_adam__3classes_treated_and_untreated_UIAs.csv'), index=False)"
   ],
   "metadata": {
    "collapsed": false,
    "ExecuteTime": {
     "end_time": "2023-12-21T08:26:11.334786781Z",
     "start_time": "2023-12-21T08:26:11.289131379Z"
    }
   }
  },
  {
   "cell_type": "code",
   "execution_count": 40,
   "outputs": [
    {
     "data": {
      "text/plain": "0.42088863514363767"
     },
     "execution_count": 40,
     "metadata": {},
     "output_type": "execute_result"
    }
   ],
   "source": [
    "results_df.dice_tm.mean()"
   ],
   "metadata": {
    "collapsed": false,
    "ExecuteTime": {
     "end_time": "2023-12-21T08:26:11.460220688Z",
     "start_time": "2023-12-21T08:26:11.296821913Z"
    }
   }
  },
  {
   "cell_type": "code",
   "execution_count": 47,
   "outputs": [
    {
     "ename": "AttributeError",
     "evalue": "'DataFrame' object has no attribute 'mhd'",
     "output_type": "error",
     "traceback": [
      "\u001B[0;31m---------------------------------------------------------------------------\u001B[0m",
      "\u001B[0;31mAttributeError\u001B[0m                            Traceback (most recent call last)",
      "\u001B[0;32m/tmp/ipykernel_9629/3549708132.py\u001B[0m in \u001B[0;36m?\u001B[0;34m()\u001B[0m\n\u001B[0;32m----> 1\u001B[0;31m \u001B[0mresults_df\u001B[0m\u001B[0;34m.\u001B[0m\u001B[0mmhd\u001B[0m\u001B[0;34m.\u001B[0m\u001B[0mmap\u001B[0m\u001B[0;34m(\u001B[0m\u001B[0;32mlambda\u001B[0m \u001B[0mx\u001B[0m\u001B[0;34m:\u001B[0m \u001B[0mx\u001B[0m \u001B[0;32mif\u001B[0m \u001B[0mx\u001B[0m \u001B[0;34m>\u001B[0m \u001B[0;36m68\u001B[0m \u001B[0;32melse\u001B[0m \u001B[0;36m68\u001B[0m\u001B[0;34m)\u001B[0m\u001B[0;34m.\u001B[0m\u001B[0mmean\u001B[0m\u001B[0;34m(\u001B[0m\u001B[0;34m)\u001B[0m\u001B[0;34m\u001B[0m\u001B[0;34m\u001B[0m\u001B[0m\n\u001B[0m\u001B[1;32m      2\u001B[0m \u001B[0;34m\u001B[0m\u001B[0m\n\u001B[1;32m      3\u001B[0m \u001B[0;34m\u001B[0m\u001B[0m\n",
      "\u001B[0;32m~/anaconda3/envs/UIASegmentation_1/lib/python3.10/site-packages/pandas/core/generic.py\u001B[0m in \u001B[0;36m?\u001B[0;34m(self, name)\u001B[0m\n\u001B[1;32m   5483\u001B[0m             \u001B[0;32mand\u001B[0m \u001B[0mname\u001B[0m \u001B[0;32mnot\u001B[0m \u001B[0;32min\u001B[0m \u001B[0mself\u001B[0m\u001B[0;34m.\u001B[0m\u001B[0m_accessors\u001B[0m\u001B[0;34m\u001B[0m\u001B[0;34m\u001B[0m\u001B[0m\n\u001B[1;32m   5484\u001B[0m             \u001B[0;32mand\u001B[0m \u001B[0mself\u001B[0m\u001B[0;34m.\u001B[0m\u001B[0m_info_axis\u001B[0m\u001B[0;34m.\u001B[0m\u001B[0m_can_hold_identifiers_and_holds_name\u001B[0m\u001B[0;34m(\u001B[0m\u001B[0mname\u001B[0m\u001B[0;34m)\u001B[0m\u001B[0;34m\u001B[0m\u001B[0;34m\u001B[0m\u001B[0m\n\u001B[1;32m   5485\u001B[0m         ):\n\u001B[1;32m   5486\u001B[0m             \u001B[0;32mreturn\u001B[0m \u001B[0mself\u001B[0m\u001B[0;34m[\u001B[0m\u001B[0mname\u001B[0m\u001B[0;34m]\u001B[0m\u001B[0;34m\u001B[0m\u001B[0;34m\u001B[0m\u001B[0m\n\u001B[0;32m-> 5487\u001B[0;31m         \u001B[0;32mreturn\u001B[0m \u001B[0mobject\u001B[0m\u001B[0;34m.\u001B[0m\u001B[0m__getattribute__\u001B[0m\u001B[0;34m(\u001B[0m\u001B[0mself\u001B[0m\u001B[0;34m,\u001B[0m \u001B[0mname\u001B[0m\u001B[0;34m)\u001B[0m\u001B[0;34m\u001B[0m\u001B[0;34m\u001B[0m\u001B[0m\n\u001B[0m",
      "\u001B[0;31mAttributeError\u001B[0m: 'DataFrame' object has no attribute 'mhd'"
     ]
    }
   ],
   "source": [
    "results_df.mhd.map(lambda x: x if x > 68 else 68).mean()\n",
    "\n"
   ],
   "metadata": {
    "collapsed": false,
    "ExecuteTime": {
     "end_time": "2023-12-21T08:59:25.487816999Z",
     "start_time": "2023-12-21T08:59:25.444431944Z"
    }
   }
  },
  {
   "cell_type": "markdown",
   "source": [
    "### Binary Segmentation Aneurysm vs Background"
   ],
   "metadata": {
    "collapsed": false
   }
  },
  {
   "cell_type": "code",
   "execution_count": 52,
   "outputs": [
    {
     "data": {
      "text/plain": "['10047B.nii.gz',\n '10048B.nii.gz',\n '10029.nii.gz',\n '10024.nii.gz',\n '10068F.nii.gz']"
     },
     "execution_count": 52,
     "metadata": {},
     "output_type": "execute_result"
    }
   ],
   "source": [
    "ground_truth_dir = os.path.join(data_dir, 'ADAM/Dataset006_ADAMBinaryAneurysmsOnly')\n",
    "gt_vols_fp = glob.glob(os.path.join(ground_truth_dir, 'labelsTs', '*.nii.gz'))\n",
    "predictions_dir = os.path.join(data_dir, 'nnUNet_predictions', 'train_on_SD_predict_on_SD', 'Dataset006_ADAMBinaryAneurysmsOnly', 'imageTs')\n",
    "pred_vols_fn = os.listdir(predictions_dir)\n",
    "pred_vols_fn[0:5]"
   ],
   "metadata": {
    "collapsed": false,
    "ExecuteTime": {
     "end_time": "2023-12-21T09:07:06.113601716Z",
     "start_time": "2023-12-21T09:07:06.026847770Z"
    }
   }
  },
  {
   "cell_type": "code",
   "execution_count": 53,
   "outputs": [
    {
     "data": {
      "text/plain": "['../../../data/ADAM/Dataset006_ADAMBinaryAneurysmsOnly/labelsTs/10047B.nii.gz',\n '../../../data/ADAM/Dataset006_ADAMBinaryAneurysmsOnly/labelsTs/10048B.nii.gz',\n '../../../data/ADAM/Dataset006_ADAMBinaryAneurysmsOnly/labelsTs/10029.nii.gz',\n '../../../data/ADAM/Dataset006_ADAMBinaryAneurysmsOnly/labelsTs/10024.nii.gz',\n '../../../data/ADAM/Dataset006_ADAMBinaryAneurysmsOnly/labelsTs/10068F.nii.gz',\n '../../../data/ADAM/Dataset006_ADAMBinaryAneurysmsOnly/labelsTs/10072F.nii.gz',\n '../../../data/ADAM/Dataset006_ADAMBinaryAneurysmsOnly/labelsTs/10037.nii.gz',\n '../../../data/ADAM/Dataset006_ADAMBinaryAneurysmsOnly/labelsTs/10068B.nii.gz',\n '../../../data/ADAM/Dataset006_ADAMBinaryAneurysmsOnly/labelsTs/10072B.nii.gz',\n '../../../data/ADAM/Dataset006_ADAMBinaryAneurysmsOnly/labelsTs/10047F.nii.gz',\n '../../../data/ADAM/Dataset006_ADAMBinaryAneurysmsOnly/labelsTs/10015.nii.gz',\n '../../../data/ADAM/Dataset006_ADAMBinaryAneurysmsOnly/labelsTs/10049F.nii.gz',\n '../../../data/ADAM/Dataset006_ADAMBinaryAneurysmsOnly/labelsTs/10028.nii.gz',\n '../../../data/ADAM/Dataset006_ADAMBinaryAneurysmsOnly/labelsTs/10039.nii.gz',\n '../../../data/ADAM/Dataset006_ADAMBinaryAneurysmsOnly/labelsTs/10035.nii.gz',\n '../../../data/ADAM/Dataset006_ADAMBinaryAneurysmsOnly/labelsTs/10048F.nii.gz',\n '../../../data/ADAM/Dataset006_ADAMBinaryAneurysmsOnly/labelsTs/10009.nii.gz',\n '../../../data/ADAM/Dataset006_ADAMBinaryAneurysmsOnly/labelsTs/10077B.nii.gz',\n '../../../data/ADAM/Dataset006_ADAMBinaryAneurysmsOnly/labelsTs/10060F.nii.gz',\n '../../../data/ADAM/Dataset006_ADAMBinaryAneurysmsOnly/labelsTs/10077F.nii.gz',\n '../../../data/ADAM/Dataset006_ADAMBinaryAneurysmsOnly/labelsTs/10010.nii.gz',\n '../../../data/ADAM/Dataset006_ADAMBinaryAneurysmsOnly/labelsTs/10060B.nii.gz',\n '../../../data/ADAM/Dataset006_ADAMBinaryAneurysmsOnly/labelsTs/10049B.nii.gz']"
     },
     "execution_count": 53,
     "metadata": {},
     "output_type": "execute_result"
    }
   ],
   "source": [
    "gt_vols_fp"
   ],
   "metadata": {
    "collapsed": false,
    "ExecuteTime": {
     "end_time": "2023-12-21T09:07:08.295595179Z",
     "start_time": "2023-12-21T09:07:08.276348882Z"
    }
   }
  },
  {
   "cell_type": "code",
   "execution_count": 54,
   "outputs": [
    {
     "name": "stderr",
     "output_type": "stream",
     "text": [
      "100%|██████████| 23/23 [08:17<00:00, 21.64s/it]\n"
     ]
    },
    {
     "data": {
      "text/plain": "         vol_name  dice_aneur_kostas  recall_aneur_kostas  \\\n0   10047B.nii.gz       7.051282e-01         5.445545e-01   \n1   10048B.nii.gz       9.092219e-01         8.335535e-01   \n2    10029.nii.gz       9.938144e-01         9.877049e-01   \n3    10024.nii.gz       9.649485e-01         9.322709e-01   \n4   10068F.nii.gz       9.572854e-01         9.180704e-01   \n5   10072F.nii.gz       0.000000e+00         0.000000e+00   \n6    10037.nii.gz       1.800000e-01         9.890110e-02   \n7   10068B.nii.gz       9.368132e-01         8.811370e-01   \n8   10072B.nii.gz       5.132586e-01         3.452239e-01   \n9   10047F.nii.gz       5.027322e-01         3.357664e-01   \n10   10015.nii.gz       1.000000e-12         1.000000e-12   \n11  10049F.nii.gz       9.691011e-01         9.400545e-01   \n12   10028.nii.gz       0.000000e+00         0.000000e+00   \n13   10039.nii.gz       6.173542e-01         4.465021e-01   \n14   10035.nii.gz       9.931245e-01         9.863430e-01   \n15  10048F.nii.gz       9.165836e-01         8.460123e-01   \n16   10009.nii.gz       1.000000e-12         1.000000e-12   \n17  10077B.nii.gz       4.737580e-01         3.104082e-01   \n18  10060F.nii.gz       3.773585e-02         1.923077e-02   \n19  10077F.nii.gz       7.416208e-01         5.893461e-01   \n20   10010.nii.gz       1.000000e-12         1.000000e-12   \n21  10060B.nii.gz       8.977556e-03         4.509018e-03   \n22  10049B.nii.gz       8.595505e-01         7.536946e-01   \n\n    precision_aneur_kostas   dice_tm  recall_tm  precision_tm        mhd  \n0             1.000000e+00  0.683230   0.544554           1.0   0.658391  \n1             1.000000e+00  0.805361   0.833553           1.0   0.334366  \n2             1.000000e+00  0.635884   0.987705           1.0   0.652393  \n3             1.000000e+00  0.738170   0.932271           1.0   0.429060  \n4             1.000000e+00  0.794829   0.918070           1.0   2.879623  \n5             1.000000e-12  0.000000   0.000000           0.0        inf  \n6             1.000000e+00  0.174757   0.098901           1.0   1.836261  \n7             1.000000e+00  0.806147   0.881137           1.0   2.345334  \n8             1.000000e+00  0.512974   0.345224           1.0   8.524691  \n9             1.000000e+00  0.502732   0.335766           1.0   0.929189  \n10            1.000000e-12  0.000000   0.000000           0.0   0.000000  \n11            1.000000e+00  0.910290   0.940054           1.0   0.118706  \n12            1.000000e-12  0.000000   0.000000           0.0        inf  \n13            1.000000e+00  0.580991   0.446502           1.0   0.883610  \n14            1.000000e+00  0.714286   0.986343           1.0   0.592207  \n15            1.000000e+00  0.836011   0.846012           1.0   0.287111  \n16            1.000000e-12  0.000000   0.000000           0.0   0.000000  \n17            1.000000e+00  0.220579   0.310408           1.0   6.310200  \n18            1.000000e+00  0.035170   0.019231           1.0  43.057703  \n19            1.000000e+00  0.331277   0.589346           1.0   5.820605  \n20            1.000000e-12  0.000000   0.000000           0.0   0.000000  \n21            1.000000e+00  0.008841   0.004509           1.0  77.761342  \n22            1.000000e+00  0.825540   0.753695           1.0   0.364598  ",
      "text/html": "<div>\n<style scoped>\n    .dataframe tbody tr th:only-of-type {\n        vertical-align: middle;\n    }\n\n    .dataframe tbody tr th {\n        vertical-align: top;\n    }\n\n    .dataframe thead th {\n        text-align: right;\n    }\n</style>\n<table border=\"1\" class=\"dataframe\">\n  <thead>\n    <tr style=\"text-align: right;\">\n      <th></th>\n      <th>vol_name</th>\n      <th>dice_aneur_kostas</th>\n      <th>recall_aneur_kostas</th>\n      <th>precision_aneur_kostas</th>\n      <th>dice_tm</th>\n      <th>recall_tm</th>\n      <th>precision_tm</th>\n      <th>mhd</th>\n    </tr>\n  </thead>\n  <tbody>\n    <tr>\n      <th>0</th>\n      <td>10047B.nii.gz</td>\n      <td>7.051282e-01</td>\n      <td>5.445545e-01</td>\n      <td>1.000000e+00</td>\n      <td>0.683230</td>\n      <td>0.544554</td>\n      <td>1.0</td>\n      <td>0.658391</td>\n    </tr>\n    <tr>\n      <th>1</th>\n      <td>10048B.nii.gz</td>\n      <td>9.092219e-01</td>\n      <td>8.335535e-01</td>\n      <td>1.000000e+00</td>\n      <td>0.805361</td>\n      <td>0.833553</td>\n      <td>1.0</td>\n      <td>0.334366</td>\n    </tr>\n    <tr>\n      <th>2</th>\n      <td>10029.nii.gz</td>\n      <td>9.938144e-01</td>\n      <td>9.877049e-01</td>\n      <td>1.000000e+00</td>\n      <td>0.635884</td>\n      <td>0.987705</td>\n      <td>1.0</td>\n      <td>0.652393</td>\n    </tr>\n    <tr>\n      <th>3</th>\n      <td>10024.nii.gz</td>\n      <td>9.649485e-01</td>\n      <td>9.322709e-01</td>\n      <td>1.000000e+00</td>\n      <td>0.738170</td>\n      <td>0.932271</td>\n      <td>1.0</td>\n      <td>0.429060</td>\n    </tr>\n    <tr>\n      <th>4</th>\n      <td>10068F.nii.gz</td>\n      <td>9.572854e-01</td>\n      <td>9.180704e-01</td>\n      <td>1.000000e+00</td>\n      <td>0.794829</td>\n      <td>0.918070</td>\n      <td>1.0</td>\n      <td>2.879623</td>\n    </tr>\n    <tr>\n      <th>5</th>\n      <td>10072F.nii.gz</td>\n      <td>0.000000e+00</td>\n      <td>0.000000e+00</td>\n      <td>1.000000e-12</td>\n      <td>0.000000</td>\n      <td>0.000000</td>\n      <td>0.0</td>\n      <td>inf</td>\n    </tr>\n    <tr>\n      <th>6</th>\n      <td>10037.nii.gz</td>\n      <td>1.800000e-01</td>\n      <td>9.890110e-02</td>\n      <td>1.000000e+00</td>\n      <td>0.174757</td>\n      <td>0.098901</td>\n      <td>1.0</td>\n      <td>1.836261</td>\n    </tr>\n    <tr>\n      <th>7</th>\n      <td>10068B.nii.gz</td>\n      <td>9.368132e-01</td>\n      <td>8.811370e-01</td>\n      <td>1.000000e+00</td>\n      <td>0.806147</td>\n      <td>0.881137</td>\n      <td>1.0</td>\n      <td>2.345334</td>\n    </tr>\n    <tr>\n      <th>8</th>\n      <td>10072B.nii.gz</td>\n      <td>5.132586e-01</td>\n      <td>3.452239e-01</td>\n      <td>1.000000e+00</td>\n      <td>0.512974</td>\n      <td>0.345224</td>\n      <td>1.0</td>\n      <td>8.524691</td>\n    </tr>\n    <tr>\n      <th>9</th>\n      <td>10047F.nii.gz</td>\n      <td>5.027322e-01</td>\n      <td>3.357664e-01</td>\n      <td>1.000000e+00</td>\n      <td>0.502732</td>\n      <td>0.335766</td>\n      <td>1.0</td>\n      <td>0.929189</td>\n    </tr>\n    <tr>\n      <th>10</th>\n      <td>10015.nii.gz</td>\n      <td>1.000000e-12</td>\n      <td>1.000000e-12</td>\n      <td>1.000000e-12</td>\n      <td>0.000000</td>\n      <td>0.000000</td>\n      <td>0.0</td>\n      <td>0.000000</td>\n    </tr>\n    <tr>\n      <th>11</th>\n      <td>10049F.nii.gz</td>\n      <td>9.691011e-01</td>\n      <td>9.400545e-01</td>\n      <td>1.000000e+00</td>\n      <td>0.910290</td>\n      <td>0.940054</td>\n      <td>1.0</td>\n      <td>0.118706</td>\n    </tr>\n    <tr>\n      <th>12</th>\n      <td>10028.nii.gz</td>\n      <td>0.000000e+00</td>\n      <td>0.000000e+00</td>\n      <td>1.000000e-12</td>\n      <td>0.000000</td>\n      <td>0.000000</td>\n      <td>0.0</td>\n      <td>inf</td>\n    </tr>\n    <tr>\n      <th>13</th>\n      <td>10039.nii.gz</td>\n      <td>6.173542e-01</td>\n      <td>4.465021e-01</td>\n      <td>1.000000e+00</td>\n      <td>0.580991</td>\n      <td>0.446502</td>\n      <td>1.0</td>\n      <td>0.883610</td>\n    </tr>\n    <tr>\n      <th>14</th>\n      <td>10035.nii.gz</td>\n      <td>9.931245e-01</td>\n      <td>9.863430e-01</td>\n      <td>1.000000e+00</td>\n      <td>0.714286</td>\n      <td>0.986343</td>\n      <td>1.0</td>\n      <td>0.592207</td>\n    </tr>\n    <tr>\n      <th>15</th>\n      <td>10048F.nii.gz</td>\n      <td>9.165836e-01</td>\n      <td>8.460123e-01</td>\n      <td>1.000000e+00</td>\n      <td>0.836011</td>\n      <td>0.846012</td>\n      <td>1.0</td>\n      <td>0.287111</td>\n    </tr>\n    <tr>\n      <th>16</th>\n      <td>10009.nii.gz</td>\n      <td>1.000000e-12</td>\n      <td>1.000000e-12</td>\n      <td>1.000000e-12</td>\n      <td>0.000000</td>\n      <td>0.000000</td>\n      <td>0.0</td>\n      <td>0.000000</td>\n    </tr>\n    <tr>\n      <th>17</th>\n      <td>10077B.nii.gz</td>\n      <td>4.737580e-01</td>\n      <td>3.104082e-01</td>\n      <td>1.000000e+00</td>\n      <td>0.220579</td>\n      <td>0.310408</td>\n      <td>1.0</td>\n      <td>6.310200</td>\n    </tr>\n    <tr>\n      <th>18</th>\n      <td>10060F.nii.gz</td>\n      <td>3.773585e-02</td>\n      <td>1.923077e-02</td>\n      <td>1.000000e+00</td>\n      <td>0.035170</td>\n      <td>0.019231</td>\n      <td>1.0</td>\n      <td>43.057703</td>\n    </tr>\n    <tr>\n      <th>19</th>\n      <td>10077F.nii.gz</td>\n      <td>7.416208e-01</td>\n      <td>5.893461e-01</td>\n      <td>1.000000e+00</td>\n      <td>0.331277</td>\n      <td>0.589346</td>\n      <td>1.0</td>\n      <td>5.820605</td>\n    </tr>\n    <tr>\n      <th>20</th>\n      <td>10010.nii.gz</td>\n      <td>1.000000e-12</td>\n      <td>1.000000e-12</td>\n      <td>1.000000e-12</td>\n      <td>0.000000</td>\n      <td>0.000000</td>\n      <td>0.0</td>\n      <td>0.000000</td>\n    </tr>\n    <tr>\n      <th>21</th>\n      <td>10060B.nii.gz</td>\n      <td>8.977556e-03</td>\n      <td>4.509018e-03</td>\n      <td>1.000000e+00</td>\n      <td>0.008841</td>\n      <td>0.004509</td>\n      <td>1.0</td>\n      <td>77.761342</td>\n    </tr>\n    <tr>\n      <th>22</th>\n      <td>10049B.nii.gz</td>\n      <td>8.595505e-01</td>\n      <td>7.536946e-01</td>\n      <td>1.000000e+00</td>\n      <td>0.825540</td>\n      <td>0.753695</td>\n      <td>1.0</td>\n      <td>0.364598</td>\n    </tr>\n  </tbody>\n</table>\n</div>"
     },
     "execution_count": 54,
     "metadata": {},
     "output_type": "execute_result"
    }
   ],
   "source": [
    "results_df = calculate_metrics(num_classes=2, gt_vols_fp=gt_vols_fp, pred_vols_fn=pred_vols_fn)\n",
    "results_df"
   ],
   "metadata": {
    "collapsed": false,
    "ExecuteTime": {
     "end_time": "2023-12-21T09:15:26.606754335Z",
     "start_time": "2023-12-21T09:07:08.958856448Z"
    }
   }
  },
  {
   "cell_type": "markdown",
   "source": [
    "Note it could not identify aneurysms at all in 2 cases, scan 61 and scan 1. The rest of them have a very high value except for 51."
   ],
   "metadata": {
    "collapsed": false
   }
  },
  {
   "cell_type": "code",
   "execution_count": 55,
   "outputs": [],
   "source": [
    "os.makedirs(os.path.join(data_dir, 'results'), exist_ok=True)"
   ],
   "metadata": {
    "collapsed": false,
    "ExecuteTime": {
     "end_time": "2023-12-21T09:15:26.608616712Z",
     "start_time": "2023-12-21T09:15:26.599758101Z"
    }
   }
  },
  {
   "cell_type": "code",
   "execution_count": 56,
   "outputs": [],
   "source": [
    "results_df.to_csv(os.path.join(data_dir, 'results', 'sd_adam__td_adam__binary_treated_and_untreated_UIAs.csv'), index=False)"
   ],
   "metadata": {
    "collapsed": false,
    "ExecuteTime": {
     "end_time": "2023-12-21T09:15:26.655391608Z",
     "start_time": "2023-12-21T09:15:26.602715327Z"
    }
   }
  },
  {
   "cell_type": "code",
   "execution_count": 57,
   "outputs": [
    {
     "data": {
      "text/plain": "0.43987249121393845"
     },
     "execution_count": 57,
     "metadata": {},
     "output_type": "execute_result"
    }
   ],
   "source": [
    "results_df.dice_tm.mean()"
   ],
   "metadata": {
    "collapsed": false,
    "ExecuteTime": {
     "end_time": "2023-12-21T09:15:26.672700242Z",
     "start_time": "2023-12-21T09:15:26.619628792Z"
    }
   }
  },
  {
   "cell_type": "code",
   "execution_count": 58,
   "outputs": [
    {
     "data": {
      "text/plain": "12.599364806442384"
     },
     "execution_count": 58,
     "metadata": {},
     "output_type": "execute_result"
    }
   ],
   "source": [
    "import numpy as np\n",
    "results_df.mhd.map(lambda x: x if x != np.inf else 68).mean()\n"
   ],
   "metadata": {
    "collapsed": false,
    "ExecuteTime": {
     "end_time": "2023-12-21T09:15:26.817062439Z",
     "start_time": "2023-12-21T09:15:26.630962144Z"
    }
   }
  },
  {
   "cell_type": "markdown",
   "source": [
    "### Binary: Untreated UIAs only (predictions not available yet)"
   ],
   "metadata": {
    "collapsed": false
   }
  },
  {
   "cell_type": "code",
   "execution_count": null,
   "outputs": [],
   "source": [
    "ground_truth_dir = os.path.join(data_dir, 'ADAM/Dataset006_ADAMBinaryAneurysmsOnly')\n",
    "gt_vols_fp = glob.glob(os.path.join(ground_truth_dir, 'labelsTs', '*.nii.gz'))\n",
    "predictions_dir = os.path.join(data_dir, 'nnUNet_predictions', 'train_on_SD_predict_on_SD', 'Dataset007_ADAMBinaryUntreatedAneurysmsOnly', 'imageTs')\n",
    "pred_vols_fn = os.listdir(predictions_dir)\n",
    "pred_vols_fn[0:5]"
   ],
   "metadata": {
    "collapsed": false,
    "ExecuteTime": {
     "start_time": "2023-12-21T08:26:11.443142021Z"
    }
   }
  },
  {
   "cell_type": "code",
   "execution_count": null,
   "outputs": [],
   "source": [
    "results_df = calculate_metrics(num_classes=2, gt_vols_fp=gt_vols_fp, pred_vols_fn=pred_vols_fn)\n",
    "results_df"
   ],
   "metadata": {
    "collapsed": false,
    "ExecuteTime": {
     "start_time": "2023-12-21T08:26:11.443287492Z"
    }
   }
  },
  {
   "cell_type": "markdown",
   "source": [
    "Note it could not identify aneurysms at all in 2 cases, scan 61 and scan 1. The rest of them have a very high value except for 51."
   ],
   "metadata": {
    "collapsed": false
   }
  },
  {
   "cell_type": "code",
   "execution_count": null,
   "outputs": [],
   "source": [
    "os.makedirs(os.path.join(data_dir, 'results'), exist_ok=True)"
   ],
   "metadata": {
    "collapsed": false,
    "ExecuteTime": {
     "start_time": "2023-12-21T08:26:11.443453155Z"
    }
   }
  },
  {
   "cell_type": "code",
   "execution_count": null,
   "outputs": [],
   "source": [
    "results_df.to_csv(os.path.join(data_dir, 'results', 'sd_adam__td_adam__binary_only_untreated_UIAs.csv'), index=False)"
   ],
   "metadata": {
    "collapsed": false,
    "ExecuteTime": {
     "start_time": "2023-12-21T08:26:11.443580343Z"
    }
   }
  },
  {
   "cell_type": "code",
   "execution_count": null,
   "outputs": [],
   "source": [
    "results_df.dice_tm.mean()"
   ],
   "metadata": {
    "collapsed": false,
    "ExecuteTime": {
     "start_time": "2023-12-21T08:26:11.443696749Z"
    }
   }
  },
  {
   "cell_type": "code",
   "execution_count": null,
   "outputs": [],
   "source": [
    "import numpy as np\n",
    "results_df.mhd.map(lambda x: x if x != np.inf else 68).mean()"
   ],
   "metadata": {
    "collapsed": false,
    "ExecuteTime": {
     "start_time": "2023-12-21T08:26:11.443923194Z"
    }
   }
  },
  {
   "cell_type": "code",
   "execution_count": null,
   "outputs": [],
   "source": [],
   "metadata": {
    "collapsed": false
   }
  }
 ],
 "metadata": {
  "kernelspec": {
   "display_name": "pytcu_21_1__py_3_10",
   "language": "python",
   "name": "python3"
  },
  "language_info": {
   "codemirror_mode": {
    "name": "ipython",
    "version": 3
   },
   "file_extension": ".py",
   "mimetype": "text/x-python",
   "name": "python",
   "nbconvert_exporter": "python",
   "pygments_lexer": "ipython3",
   "version": "3.10.13"
  }
 },
 "nbformat": 4,
 "nbformat_minor": 2
}
