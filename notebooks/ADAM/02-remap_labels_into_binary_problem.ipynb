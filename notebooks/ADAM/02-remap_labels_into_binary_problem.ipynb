{
 "cells": [
  {
   "cell_type": "code",
   "execution_count": 1,
   "metadata": {
    "ExecuteTime": {
     "end_time": "2023-12-21T07:07:59.166244655Z",
     "start_time": "2023-12-21T07:07:58.893381330Z"
    }
   },
   "outputs": [],
   "source": [
    "import os\n",
    "import glob\n",
    "\n",
    "import numpy as np\n",
    "import nibabel as nib\n",
    "from tqdm import tqdm"
   ]
  },
  {
   "cell_type": "code",
   "execution_count": 2,
   "metadata": {
    "ExecuteTime": {
     "end_time": "2023-12-21T07:07:59.208676145Z",
     "start_time": "2023-12-21T07:07:59.207013726Z"
    }
   },
   "outputs": [],
   "source": [
    "def binarize_segmentation(img_np, only_specific_vessel_class: int = None):\n",
    "    if not only_specific_vessel_class:\n",
    "        img_np = np.where(img_np >= 1, 1, 0)\n",
    "    else:\n",
    "        img_np = np.where(img_np == only_specific_vessel_class, 1, 0)\n",
    "    return img_np\n"
   ]
  },
  {
   "cell_type": "code",
   "execution_count": 3,
   "metadata": {
    "ExecuteTime": {
     "end_time": "2023-12-21T07:07:59.209143306Z",
     "start_time": "2023-12-21T07:07:59.207189735Z"
    }
   },
   "outputs": [],
   "source": [
    "def transform_label_vols_in_dir(filepaths: list, output_dir: str, transformation: callable):\n",
    "    os.makedirs(output_dir, exist_ok=True)\n",
    "    for file_path in tqdm(filepaths):\n",
    "        img_name = os.path.basename(file_path)\n",
    "        img = nib.load(file_path)\n",
    "        img_np = img.get_fdata()\n",
    "        img_np = transformation(img_np)\n",
    "        img = nib.Nifti1Image(img_np, img.affine, img.header)\n",
    "        nib.save(img, os.path.join(output_dir, img_name))"
   ]
  },
  {
   "cell_type": "markdown",
   "metadata": {},
   "source": [
    "## Remap label data"
   ]
  },
  {
   "cell_type": "code",
   "execution_count": 4,
   "metadata": {
    "ExecuteTime": {
     "end_time": "2023-12-21T07:08:02.401006123Z",
     "start_time": "2023-12-21T07:08:02.389746017Z"
    }
   },
   "outputs": [],
   "source": [
    "data_dir = os.path.join('..', '..', '..', 'data', 'ADAM', 'Dataset005_ADAM3ClassesAneurysmsOnly')\n",
    "data_dst_dir = os.path.join('..', '..', '..', 'data', 'ADAM', 'Dataset005_ADAMBinaryAneurysmsOnly')\n",
    "os.makedirs(data_dst_dir, exist_ok=True)\n",
    "\n",
    "labels_tr_dir_org = os.path.join(data_dir, 'labelsTr', '*.nii.gz')\n",
    "labels_tr_dst_org = os.path.join(data_dst_dir, 'labelsTr')\n",
    "\n",
    "labels_ts_dir_org = os.path.join(data_dir, 'labelsTs', '*.nii.gz')\n",
    "labels_ts_dst_dir = os.path.join(data_dst_dir, 'labelsTs')\n",
    "\n",
    "file_paths_train = glob.glob(labels_tr_dir_org)\n",
    "file_paths_test = glob.glob(labels_ts_dir_org)"
   ]
  },
  {
   "cell_type": "code",
   "execution_count": 6,
   "metadata": {
    "ExecuteTime": {
     "end_time": "2023-12-19T16:08:26.381587584Z",
     "start_time": "2023-12-19T15:55:27.620680409Z"
    }
   },
   "outputs": [
    {
     "name": "stderr",
     "output_type": "stream",
     "text": [
      "100%|██████████| 90/90 [09:57<00:00,  6.64s/it]\n",
      "100%|██████████| 23/23 [03:01<00:00,  7.89s/it]\n"
     ]
    }
   ],
   "source": [
    "# Train\n",
    "transform_label_vols_in_dir(\n",
    "    file_paths_train, \n",
    "    labels_tr_dst_org,\n",
    "    binarize_segmentation\n",
    ")\n",
    "\n",
    "# Test\n",
    "transform_label_vols_in_dir(\n",
    "    file_paths_test, \n",
    "    labels_ts_dst_dir,\n",
    "    binarize_segmentation\n",
    ")"
   ]
  },
  {
   "cell_type": "code",
   "execution_count": 7,
   "metadata": {},
   "outputs": [],
   "source": [
    "train_dir_org = os.path.join(data_dir, 'imagesTr')\n",
    "train_dir_dst = os.path.join(data_dst_dir, 'imagesTr')"
   ]
  },
  {
   "cell_type": "code",
   "execution_count": 8,
   "metadata": {},
   "outputs": [],
   "source": [
    "!ln -s $train_dir_org $train_dir_dst"
   ]
  },
  {
   "cell_type": "code",
   "execution_count": 9,
   "metadata": {},
   "outputs": [],
   "source": [
    "test_dir_org = os.path.join(data_dir, 'imagesTs')\n",
    "test_dir_dst = os.path.join(data_dst_dir, 'imagesTs')"
   ]
  },
  {
   "cell_type": "code",
   "execution_count": 10,
   "metadata": {},
   "outputs": [],
   "source": [
    "!ln -s $test_dir_org $test_dir_dst"
   ]
  },
  {
   "cell_type": "markdown",
   "metadata": {},
   "source": [
    "## Map to only untreated aneurysm"
   ]
  },
  {
   "cell_type": "code",
   "execution_count": 6,
   "outputs": [
    {
     "name": "stderr",
     "output_type": "stream",
     "text": [
      "100%|██████████| 23/23 [00:18<00:00,  1.23it/s]\n"
     ]
    }
   ],
   "source": [
    "data_dst_dir = os.path.join('..', '..', '..', 'data', 'ADAM', 'Dataset007_ADAMBinaryUntreatedAneurysmsOnly')\n",
    "os.makedirs(data_dst_dir, exist_ok=True)\n",
    "\n",
    "labels_tr_dir_org = os.path.join(data_dir, 'labelsTr', '*.nii.gz')\n",
    "labels_tr_dst_org = os.path.join(data_dst_dir, 'labelsTr')\n",
    "\n",
    "labels_ts_dir_org = os.path.join(data_dir, 'labelsTs', '*.nii.gz')\n",
    "labels_ts_dst_dir = os.path.join(data_dst_dir, 'labelsTs')\n",
    "\n",
    "file_paths_train = glob.glob(labels_tr_dir_org)\n",
    "file_paths_test = glob.glob(labels_ts_dir_org)\n",
    "\n",
    "# Train\n",
    "transform_label_vols_in_dir(\n",
    "    file_paths_train, \n",
    "    labels_tr_dst_org,\n",
    "    lambda vol: binarize_segmentation(vol, only_specific_vessel_class=1)\n",
    ")\n",
    "# Test\n",
    "transform_label_vols_in_dir(\n",
    "    file_paths_test, \n",
    "    labels_ts_dst_dir,\n",
    "    lambda vol: binarize_segmentation(vol, only_specific_vessel_class=1)\n",
    ")"
   ],
   "metadata": {
    "ExecuteTime": {
     "end_time": "2023-12-21T07:10:02.876274525Z",
     "start_time": "2023-12-21T07:09:44.114128232Z"
    }
   }
  },
  {
   "cell_type": "code",
   "execution_count": 12,
   "metadata": {},
   "outputs": [],
   "source": [
    "train_dir_org = os.path.join(data_dir, 'imagesTr')\n",
    "train_dir_dst = os.path.join(data_dst_dir, 'imagesTr')"
   ]
  },
  {
   "cell_type": "code",
   "execution_count": 13,
   "metadata": {},
   "outputs": [],
   "source": [
    "!ln -s $train_dir_org $train_dir_dst"
   ]
  },
  {
   "cell_type": "code",
   "execution_count": 14,
   "metadata": {},
   "outputs": [],
   "source": [
    "test_dir_org = os.path.join(data_dir, 'imagesTs')\n",
    "test_dir_dst = os.path.join(data_dst_dir, 'imagesTs')"
   ]
  },
  {
   "cell_type": "code",
   "execution_count": 15,
   "metadata": {},
   "outputs": [],
   "source": [
    "!ln -s $test_dir_org $test_dir_dst"
   ]
  }
 ],
 "metadata": {
  "kernelspec": {
   "display_name": "nnUnet_dev",
   "language": "python",
   "name": "python3"
  },
  "language_info": {
   "codemirror_mode": {
    "name": "ipython",
    "version": 3
   },
   "file_extension": ".py",
   "mimetype": "text/x-python",
   "name": "python",
   "nbconvert_exporter": "python",
   "pygments_lexer": "ipython3",
   "version": "3.10.13"
  }
 },
 "nbformat": 4,
 "nbformat_minor": 2
}
