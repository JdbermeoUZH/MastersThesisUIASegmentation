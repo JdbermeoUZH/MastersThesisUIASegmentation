{
 "cells": [
  {
   "cell_type": "code",
   "execution_count": 1,
   "metadata": {
    "ExecuteTime": {
     "end_time": "2023-12-21T07:24:38.578694110Z",
     "start_time": "2023-12-21T07:24:28.022940172Z"
    }
   },
   "outputs": [],
   "source": [
    "import os \n",
    "import glob \n",
    "from tqdm import tqdm\n",
    "\n",
    "import torch\n",
    "import pandas as pd\n",
    "import numpy as np\n",
    "import skimage.metrics \n",
    "from torchmetrics.functional.classification import dice, recall, precision\n",
    "from torchmetrics import Dice, Recall, Precision \n",
    "import nibabel as nib "
   ]
  },
  {
   "cell_type": "code",
   "execution_count": 2,
   "metadata": {
    "ExecuteTime": {
     "end_time": "2023-12-21T07:24:38.605610666Z",
     "start_time": "2023-12-21T07:24:38.592663733Z"
    }
   },
   "outputs": [],
   "source": [
    "def binarize_image(img, threshold = 0.5, one_hot = False):\n",
    "    if img.ndim == 4:\n",
    "       img = img.unsqueeze(0)\n",
    "\n",
    "    elif img.ndim == 3:\n",
    "        img = img[None, None, :, :, :]\n",
    "\n",
    "    assert img.ndim == 5, f'Binarize_image, tensor mismatch {img.shape}'\n",
    "\n",
    "    n_channels = img.shape[1]\n",
    "\n",
    "    # binary problem\n",
    "    if n_channels == 1:\n",
    "        nimg = img > threshold\n",
    "    elif n_channels == 3:\n",
    "        if img.dtype == torch.bool:\n",
    "            nimg = img.float()\n",
    "        else:\n",
    "            nimg           = torch.zeros_like(img)\n",
    "            argmax_indexes = torch.argmax(img, dim = 1)\n",
    "            nimg.scatter_(1, argmax_indexes.unsqueeze(1), 1) \n",
    "    else:\n",
    "        print(f\"In binarize_image, number of channels {n_channels}\")\n",
    "    \n",
    "    if nimg.dtype != torch.float:   nimg = nimg.float()\n",
    "    \n",
    "    return nimg\n",
    "\n",
    "def calculate_overlap_metrics(pred, gt, target_label: int == 1):\n",
    "    aneur_mask      = torch.where(gt == target_label, 1, 0)\n",
    "    pred_image_bin  = binarize_image(pred)\n",
    "    pred_aneur_mask = torch.mul(pred_image_bin, aneur_mask)\n",
    "\n",
    "    # compute dice score recall and precision\n",
    "    tp = torch.sum((pred_aneur_mask == 1) & (aneur_mask == 1))\n",
    "    fp = torch.sum((pred_aneur_mask == 1) & (aneur_mask == 0))\n",
    "    fn = torch.sum((pred_aneur_mask == 0) & (aneur_mask == 1))\n",
    "\n",
    "    if 2*tp + fp + fn == 0: dice_aneur = 1e-12\n",
    "    else: dice_aneur = (2*tp/(2*tp + fp + fn)).item()\n",
    "\n",
    "    if tp + fn == 0: recall_aneur = 1e-12\n",
    "    else: recall_aneur = (tp/(tp+fn)).item()\n",
    "\n",
    "    if fp + tp == 0: precision_aneur = 1e-12\n",
    "    else: precision_aneur = (tp/(tp+fp)).item()\n",
    "    metrics = {'dice_aneur':dice_aneur, \n",
    "               'recall_aneur':recall_aneur, \n",
    "               'precision_aneur':precision_aneur}\n",
    "    \n",
    "    return metrics"
   ]
  },
  {
   "cell_type": "code",
   "execution_count": 18,
   "outputs": [],
   "source": [
    "def calculate_metrics(num_classes, target_aneurysm_class, gt_vols_fp, pred_vols_fn,\n",
    "                      collapse_into_single_uia_class=False, untreated_aneurysm_only=False):\n",
    "    dice = Dice(num_classes=num_classes, ignore_index=0, average='micro')\n",
    "    recall = Recall(num_classes=num_classes, num_labels=num_classes, ignore_index=0, average='micro', task='binary')\n",
    "    precision = Precision(num_classes=num_classes,  num_labels=num_classes, ignore_index=0, average='micro', task='binary')\n",
    "    \n",
    "    metrics_tm = {'dice': dice, 'recall': recall, 'precision': precision}\n",
    "    \n",
    "    results = []\n",
    "    for gt_vol_fp in tqdm(gt_vols_fp):\n",
    "        vol_fn = os.path.basename(gt_vol_fp)\n",
    "    \n",
    "        try:\n",
    "            assert vol_fn in pred_vols_fn, \\\n",
    "                f\"No prediction for vol {vol_fn}\"\n",
    "        except AssertionError as e:\n",
    "            print(e)\n",
    "            continue\n",
    "        \n",
    "        # load vols     \n",
    "        gt = nib.load(gt_vol_fp).get_fdata()\n",
    "        gt = torch.tensor(gt).int()\n",
    "        gt = torch.where(gt == target_aneurysm_class, 1, 0)\n",
    "        \n",
    "        pred = nib.load(os.path.join(predictions_dir, vol_fn)).get_fdata()\n",
    "        pred = torch.tensor(pred).int()\n",
    "        pred = torch.where(pred > 0, 1, 0)\n",
    "\n",
    "        # Calculate metrics\n",
    "        metrics = calculate_overlap_metrics(pred.float(), gt.float(), target_label= 1)\n",
    "        metrics = {f'{k}_kostas':v for k,v in metrics.items()}\n",
    "        \n",
    "        for metric_name, metric_tm in metrics_tm.items():\n",
    "            try:\n",
    "                metrics[f'{metric_name}_tm'] = metric_tm(pred, gt).item()\n",
    "            except:\n",
    "                print(f'Error calculating {metric_name} for {vol_fn}')\n",
    "                metrics[f'{metric_name}_tm'] = np.nan\n",
    "                \n",
    "        metrics['mhd'] = skimage.metrics.hausdorff_distance(gt.cpu().numpy(), pred.cpu().numpy(), method='modified')\n",
    "        \n",
    "        # Add metrics to the results list\n",
    "        results.append({\n",
    "            'vol_name': vol_fn,\n",
    "            **metrics\n",
    "        })\n",
    "    \n",
    "    return pd.DataFrame(results)\n",
    "    "
   ],
   "metadata": {
    "collapsed": false,
    "ExecuteTime": {
     "end_time": "2023-12-21T07:39:08.048974596Z",
     "start_time": "2023-12-21T07:39:07.876452983Z"
    }
   }
  },
  {
   "cell_type": "markdown",
   "metadata": {},
   "source": [
    "# Evaluate trained on source domain and predicting in target Domain (ADAM)"
   ]
  },
  {
   "cell_type": "markdown",
   "source": [
    "## USZ"
   ],
   "metadata": {
    "collapsed": false
   }
  },
  {
   "cell_type": "code",
   "execution_count": 19,
   "outputs": [],
   "source": [
    "data_dir = '../../../data/'\n",
    "results_dir = os.path.join(data_dir, 'results')\n",
    "\n",
    "os.makedirs(results_dir, exist_ok=True)\n",
    "\n",
    "ground_truth_dir = os.path.join(data_dir, 'preprocessed/Mathijs/Dataset004_21Classes')\n",
    "target_aneurysm_class = 4"
   ],
   "metadata": {
    "collapsed": false,
    "ExecuteTime": {
     "end_time": "2023-12-21T07:39:09.337949819Z",
     "start_time": "2023-12-21T07:39:09.304437057Z"
    }
   }
  },
  {
   "cell_type": "markdown",
   "metadata": {},
   "source": [
    "## Model Trained on Binary Segmentation Aneurysm (treated and untreated) vs Background"
   ]
  },
  {
   "cell_type": "code",
   "execution_count": 20,
   "metadata": {
    "ExecuteTime": {
     "end_time": "2023-12-21T07:39:10.233188975Z",
     "start_time": "2023-12-21T07:39:10.211281038Z"
    }
   },
   "outputs": [
    {
     "data": {
      "text/plain": "['18.nii.gz',\n 'predict_from_raw_data_args.json',\n '19.nii.gz',\n '61.nii.gz',\n '49.nii.gz']"
     },
     "execution_count": 20,
     "metadata": {},
     "output_type": "execute_result"
    }
   ],
   "source": [
    "gt_vols_fp = glob.glob(os.path.join(ground_truth_dir, 'labelsTs', '*.nii.gz'))\n",
    "\n",
    "predictions_dir = os.path.join(data_dir, 'nnUNet_predictions', 'train_on_SD_predict_on_TD', 'train_on_Dataset006_ADAMBinaryAneurysmsOnly', 'USZ', 'imagesTs', '3d_fullres')\n",
    "pred_vols_fn = os.listdir(predictions_dir)\n",
    "pred_vols_fn[0:5]"
   ]
  },
  {
   "cell_type": "code",
   "execution_count": 21,
   "outputs": [
    {
     "name": "stderr",
     "output_type": "stream",
     "text": [
      "100%|██████████| 13/13 [12:34<00:00, 58.01s/it]\n"
     ]
    }
   ],
   "source": [
    "results_df = calculate_metrics(num_classes=2, target_aneurysm_class=target_aneurysm_class, gt_vols_fp=gt_vols_fp, pred_vols_fn=pred_vols_fn,\n",
    "                               collapse_into_single_uia_class=True, untreated_aneurysm_only=True)"
   ],
   "metadata": {
    "collapsed": false,
    "ExecuteTime": {
     "end_time": "2023-12-21T07:51:45.020879764Z",
     "start_time": "2023-12-21T07:39:10.678446249Z"
    }
   }
  },
  {
   "cell_type": "code",
   "execution_count": 22,
   "outputs": [
    {
     "data": {
      "text/plain": "     vol_name  dice_aneur_kostas  recall_aneur_kostas  precision_aneur_kostas  \\\n0   18.nii.gz           0.807497             0.677144                     1.0   \n1   19.nii.gz           0.552023             0.381238                     1.0   \n2   61.nii.gz           0.392369             0.244066                     1.0   \n3   49.nii.gz           0.515468             0.347226                     1.0   \n4   31.nii.gz           0.749429             0.599270                     1.0   \n5   51.nii.gz           0.679374             0.514434                     1.0   \n6   48.nii.gz           0.677949             0.512801                     1.0   \n7   27.nii.gz           0.692432             0.529557                     1.0   \n8    1.nii.gz           0.137681             0.073930                     1.0   \n9    0.nii.gz           0.614242             0.443253                     1.0   \n10   3.nii.gz           0.582915             0.411348                     1.0   \n11   7.nii.gz           0.783362             0.643875                     1.0   \n12  25.nii.gz           0.670191             0.503975                     1.0   \n\n     dice_tm  recall_tm  precision_tm         mhd  \n0   0.798940   0.677144           1.0    0.394475  \n1   0.443213   0.381238           1.0  122.672084  \n2   0.391373   0.244066           1.0    3.708302  \n3   0.512007   0.347226           1.0    2.101250  \n4   0.729994   0.599270           1.0    0.602211  \n5   0.658768   0.514434           1.0    0.628222  \n6   0.039608   0.512801           1.0  205.533844  \n7   0.642750   0.529557           1.0    0.631643  \n8   0.128668   0.073930           1.0   68.483097  \n9   0.599829   0.443253           1.0    1.920295  \n10  0.582915   0.411348           1.0    1.007204  \n11  0.767142   0.643875           1.0    0.535600  \n12  0.041671   0.503975           1.0  214.321691  ",
      "text/html": "<div>\n<style scoped>\n    .dataframe tbody tr th:only-of-type {\n        vertical-align: middle;\n    }\n\n    .dataframe tbody tr th {\n        vertical-align: top;\n    }\n\n    .dataframe thead th {\n        text-align: right;\n    }\n</style>\n<table border=\"1\" class=\"dataframe\">\n  <thead>\n    <tr style=\"text-align: right;\">\n      <th></th>\n      <th>vol_name</th>\n      <th>dice_aneur_kostas</th>\n      <th>recall_aneur_kostas</th>\n      <th>precision_aneur_kostas</th>\n      <th>dice_tm</th>\n      <th>recall_tm</th>\n      <th>precision_tm</th>\n      <th>mhd</th>\n    </tr>\n  </thead>\n  <tbody>\n    <tr>\n      <th>0</th>\n      <td>18.nii.gz</td>\n      <td>0.807497</td>\n      <td>0.677144</td>\n      <td>1.0</td>\n      <td>0.798940</td>\n      <td>0.677144</td>\n      <td>1.0</td>\n      <td>0.394475</td>\n    </tr>\n    <tr>\n      <th>1</th>\n      <td>19.nii.gz</td>\n      <td>0.552023</td>\n      <td>0.381238</td>\n      <td>1.0</td>\n      <td>0.443213</td>\n      <td>0.381238</td>\n      <td>1.0</td>\n      <td>122.672084</td>\n    </tr>\n    <tr>\n      <th>2</th>\n      <td>61.nii.gz</td>\n      <td>0.392369</td>\n      <td>0.244066</td>\n      <td>1.0</td>\n      <td>0.391373</td>\n      <td>0.244066</td>\n      <td>1.0</td>\n      <td>3.708302</td>\n    </tr>\n    <tr>\n      <th>3</th>\n      <td>49.nii.gz</td>\n      <td>0.515468</td>\n      <td>0.347226</td>\n      <td>1.0</td>\n      <td>0.512007</td>\n      <td>0.347226</td>\n      <td>1.0</td>\n      <td>2.101250</td>\n    </tr>\n    <tr>\n      <th>4</th>\n      <td>31.nii.gz</td>\n      <td>0.749429</td>\n      <td>0.599270</td>\n      <td>1.0</td>\n      <td>0.729994</td>\n      <td>0.599270</td>\n      <td>1.0</td>\n      <td>0.602211</td>\n    </tr>\n    <tr>\n      <th>5</th>\n      <td>51.nii.gz</td>\n      <td>0.679374</td>\n      <td>0.514434</td>\n      <td>1.0</td>\n      <td>0.658768</td>\n      <td>0.514434</td>\n      <td>1.0</td>\n      <td>0.628222</td>\n    </tr>\n    <tr>\n      <th>6</th>\n      <td>48.nii.gz</td>\n      <td>0.677949</td>\n      <td>0.512801</td>\n      <td>1.0</td>\n      <td>0.039608</td>\n      <td>0.512801</td>\n      <td>1.0</td>\n      <td>205.533844</td>\n    </tr>\n    <tr>\n      <th>7</th>\n      <td>27.nii.gz</td>\n      <td>0.692432</td>\n      <td>0.529557</td>\n      <td>1.0</td>\n      <td>0.642750</td>\n      <td>0.529557</td>\n      <td>1.0</td>\n      <td>0.631643</td>\n    </tr>\n    <tr>\n      <th>8</th>\n      <td>1.nii.gz</td>\n      <td>0.137681</td>\n      <td>0.073930</td>\n      <td>1.0</td>\n      <td>0.128668</td>\n      <td>0.073930</td>\n      <td>1.0</td>\n      <td>68.483097</td>\n    </tr>\n    <tr>\n      <th>9</th>\n      <td>0.nii.gz</td>\n      <td>0.614242</td>\n      <td>0.443253</td>\n      <td>1.0</td>\n      <td>0.599829</td>\n      <td>0.443253</td>\n      <td>1.0</td>\n      <td>1.920295</td>\n    </tr>\n    <tr>\n      <th>10</th>\n      <td>3.nii.gz</td>\n      <td>0.582915</td>\n      <td>0.411348</td>\n      <td>1.0</td>\n      <td>0.582915</td>\n      <td>0.411348</td>\n      <td>1.0</td>\n      <td>1.007204</td>\n    </tr>\n    <tr>\n      <th>11</th>\n      <td>7.nii.gz</td>\n      <td>0.783362</td>\n      <td>0.643875</td>\n      <td>1.0</td>\n      <td>0.767142</td>\n      <td>0.643875</td>\n      <td>1.0</td>\n      <td>0.535600</td>\n    </tr>\n    <tr>\n      <th>12</th>\n      <td>25.nii.gz</td>\n      <td>0.670191</td>\n      <td>0.503975</td>\n      <td>1.0</td>\n      <td>0.041671</td>\n      <td>0.503975</td>\n      <td>1.0</td>\n      <td>214.321691</td>\n    </tr>\n  </tbody>\n</table>\n</div>"
     },
     "execution_count": 22,
     "metadata": {},
     "output_type": "execute_result"
    }
   ],
   "source": [
    "results_df"
   ],
   "metadata": {
    "collapsed": false,
    "ExecuteTime": {
     "end_time": "2023-12-21T07:51:45.113364259Z",
     "start_time": "2023-12-21T07:51:45.026808587Z"
    }
   }
  },
  {
   "cell_type": "code",
   "execution_count": 23,
   "outputs": [],
   "source": [
    "results_df.to_csv(os.path.join(data_dir, 'results', 'sd_adam__td_usz__model_trained_on_binary_seg_treated_and_untreated_UIAs.csv'), index=False)"
   ],
   "metadata": {
    "collapsed": false,
    "ExecuteTime": {
     "end_time": "2023-12-21T07:51:45.357595924Z",
     "start_time": "2023-12-21T07:51:45.115705153Z"
    }
   }
  },
  {
   "cell_type": "code",
   "execution_count": 24,
   "outputs": [
    {
     "data": {
      "text/plain": "0.48745218033973986"
     },
     "execution_count": 24,
     "metadata": {},
     "output_type": "execute_result"
    }
   ],
   "source": [
    "results_df.dice_tm.mean()"
   ],
   "metadata": {
    "collapsed": false,
    "ExecuteTime": {
     "end_time": "2023-12-21T07:51:45.359477390Z",
     "start_time": "2023-12-21T07:51:45.163401840Z"
    }
   }
  },
  {
   "cell_type": "code",
   "execution_count": 25,
   "outputs": [
    {
     "data": {
      "text/plain": "47.88768604809257"
     },
     "execution_count": 25,
     "metadata": {},
     "output_type": "execute_result"
    }
   ],
   "source": [
    "results_df.mhd.mean()\n"
   ],
   "metadata": {
    "collapsed": false,
    "ExecuteTime": {
     "end_time": "2023-12-21T07:51:45.387981027Z",
     "start_time": "2023-12-21T07:51:45.163778657Z"
    }
   }
  },
  {
   "cell_type": "code",
   "execution_count": null,
   "outputs": [],
   "source": [],
   "metadata": {
    "collapsed": false
   }
  }
 ],
 "metadata": {
  "kernelspec": {
   "display_name": "pytcu_21_1__py_3_10",
   "language": "python",
   "name": "python3"
  },
  "language_info": {
   "codemirror_mode": {
    "name": "ipython",
    "version": 3
   },
   "file_extension": ".py",
   "mimetype": "text/x-python",
   "name": "python",
   "nbconvert_exporter": "python",
   "pygments_lexer": "ipython3",
   "version": "3.10.13"
  }
 },
 "nbformat": 4,
 "nbformat_minor": 2
}
