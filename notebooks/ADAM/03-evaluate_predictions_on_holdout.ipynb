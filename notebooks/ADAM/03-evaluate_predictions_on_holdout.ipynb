{
 "cells": [
  {
   "cell_type": "code",
   "execution_count": null,
   "metadata": {},
   "outputs": [],
   "source": [
    "#!mamba install -c conda-forge torchmetrics -y"
   ]
  },
  {
   "cell_type": "code",
   "execution_count": 19,
   "metadata": {},
   "outputs": [],
   "source": [
    "import os \n",
    "import glob \n",
    "\n",
    "import torch\n",
    "from torchmetrics import Dice\n",
    "import nibabel as nib "
   ]
  },
  {
   "cell_type": "code",
   "execution_count": 20,
   "metadata": {},
   "outputs": [],
   "source": [
    "def binarize_image(img, threshold = 0.5, one_hot = False):\n",
    "    if img.ndim == 4:\n",
    "       img = img.unsqueeze(0)\n",
    "\n",
    "    elif img.ndim == 3:\n",
    "        img = img[None, None, :, :, :]\n",
    "\n",
    "    assert img.ndim == 5, f'Binarize_image, tensor mismatch {img.shape}'\n",
    "\n",
    "    n_channels = img.shape[1]\n",
    "\n",
    "    # binary problem\n",
    "    if n_channels == 1:\n",
    "        nimg = img > threshold\n",
    "    elif n_channels == 3:\n",
    "        if img.dtype == torch.bool:\n",
    "            nimg = img.float()\n",
    "        else:\n",
    "            nimg           = torch.zeros_like(img)\n",
    "            argmax_indexes = torch.argmax(img, dim = 1)\n",
    "            nimg.scatter_(1, argmax_indexes.unsqueeze(1), 1) \n",
    "    else:\n",
    "        print(f\"In binarize_image, number of channels {n_channels}\")\n",
    "    \n",
    "    if nimg.dtype != torch.float:   nimg = nimg.float()\n",
    "    return nimg\n",
    "\n",
    "def calculate_overlap_metrics(pred, gt, target_label: int == 1):\n",
    "    aneur_mask      = torch.where(gt == target_label, 1, 0)\n",
    "    pred_image_bin  = binarize_image(pred)\n",
    "    pred_aneur_mask = torch.mul(pred_image_bin, aneur_mask)\n",
    "\n",
    "    # compute dice score recall and precision\n",
    "    tp = torch.sum((pred_aneur_mask == 1) & (aneur_mask == 1))\n",
    "    fp = torch.sum((pred_aneur_mask == 1) & (aneur_mask == 0))\n",
    "    fn = torch.sum((pred_aneur_mask == 0) & (aneur_mask == 1))\n",
    "\n",
    "    if 2*tp + fp + fn == 0: dice_aneur = 1e-12\n",
    "    else: dice_aneur = 2*tp/(2*tp + fp + fn)\n",
    "\n",
    "    if tp + fn == 0: recall_aneur = 1e-12\n",
    "    else: recall_aneur = tp/(tp+fn)\n",
    "\n",
    "    if fp + tp == 0: precision_aneur = 1e-12\n",
    "    else: precision_aneur = tp/(tp+fp)\n",
    "    metrics = {'dice_aneur':dice_aneur, \n",
    "               'recall_aneur':recall_aneur, \n",
    "               'precision_aneur':precision_aneur}\n",
    "    \n",
    "    return metrics"
   ]
  },
  {
   "cell_type": "markdown",
   "metadata": {},
   "source": [
    "### Evaluate trained on source domain and predicting in holdout set of the same domain\n",
    "\n"
   ]
  },
  {
   "cell_type": "markdown",
   "metadata": {},
   "source": [
    "#### UZS\n",
    "\n",
    "##### Binary Segmentation All vessels"
   ]
  },
  {
   "cell_type": "code",
   "execution_count": 8,
   "metadata": {},
   "outputs": [],
   "source": [
    "data_dir = '../../../data/'\n",
    "ground_truth_dir = os.path.join(data_dir, 'raw', 'Dataset001_BinaryAllVessels', 'labelsTs')\n",
    "predictions_dir = os.path.join(data_dir, 'nnUNet_predictions', 'Dataset001_BinaryAllVessels', '3d_fullres')"
   ]
  },
  {
   "cell_type": "code",
   "execution_count": 16,
   "metadata": {},
   "outputs": [],
   "source": [
    "gt_vols_fp = glob.glob(os.path.join(ground_truth_dir, '*.nii.gz'))\n",
    "pred_vols_fn = os.listdir(predictions_dir)"
   ]
  },
  {
   "cell_type": "code",
   "execution_count": null,
   "metadata": {},
   "outputs": [],
   "source": []
  },
  {
   "cell_type": "code",
   "execution_count": 22,
   "metadata": {},
   "outputs": [
    {
     "ename": "MemoryError",
     "evalue": "Unable to allocate 547. MiB for an array with shape (560, 640, 200) and data type float64",
     "output_type": "error",
     "traceback": [
      "\u001b[0;31m---------------------------------------------------------------------------\u001b[0m",
      "\u001b[0;31mMemoryError\u001b[0m                               Traceback (most recent call last)",
      "Cell \u001b[0;32mIn[22], line 8\u001b[0m\n\u001b[1;32m      4\u001b[0m \u001b[38;5;28;01massert\u001b[39;00m vol_fn \u001b[38;5;129;01min\u001b[39;00m pred_vols_fn, \\\n\u001b[1;32m      5\u001b[0m     \u001b[38;5;124mf\u001b[39m\u001b[38;5;124m\"\u001b[39m\u001b[38;5;124mNo prediction for vol \u001b[39m\u001b[38;5;132;01m{\u001b[39;00mvol_fn\u001b[38;5;132;01m}\u001b[39;00m\u001b[38;5;124m\"\u001b[39m\n\u001b[1;32m      7\u001b[0m \u001b[38;5;66;03m# load vols     \u001b[39;00m\n\u001b[0;32m----> 8\u001b[0m gt \u001b[38;5;241m=\u001b[39m \u001b[43mnib\u001b[49m\u001b[38;5;241;43m.\u001b[39;49m\u001b[43mload\u001b[49m\u001b[43m(\u001b[49m\u001b[43mgt_vol_fp\u001b[49m\u001b[43m)\u001b[49m\u001b[38;5;241;43m.\u001b[39;49m\u001b[43mget_fdata\u001b[49m\u001b[43m(\u001b[49m\u001b[43m)\u001b[49m\n\u001b[1;32m      9\u001b[0m gt \u001b[38;5;241m=\u001b[39m torch\u001b[38;5;241m.\u001b[39mtensor(gt)\u001b[38;5;241m.\u001b[39mint()\n\u001b[1;32m     11\u001b[0m pred \u001b[38;5;241m=\u001b[39m nib\u001b[38;5;241m.\u001b[39mload(os\u001b[38;5;241m.\u001b[39mpath\u001b[38;5;241m.\u001b[39mjoin(predictions_dir, vol_fn))\n",
      "File \u001b[0;32m~/data/conda/envs/pytcu_21_1__py_3_10/lib/python3.10/site-packages/nibabel/dataobj_images.py:373\u001b[0m, in \u001b[0;36mDataobjImage.get_fdata\u001b[0;34m(self, caching, dtype)\u001b[0m\n\u001b[1;32m    369\u001b[0m         \u001b[38;5;28;01mreturn\u001b[39;00m \u001b[38;5;28mself\u001b[39m\u001b[38;5;241m.\u001b[39m_fdata_cache\n\u001b[1;32m    370\u001b[0m \u001b[38;5;66;03m# Always return requested data type\u001b[39;00m\n\u001b[1;32m    371\u001b[0m \u001b[38;5;66;03m# For array proxies, will attempt to confine data array to dtype\u001b[39;00m\n\u001b[1;32m    372\u001b[0m \u001b[38;5;66;03m# during scaling\u001b[39;00m\n\u001b[0;32m--> 373\u001b[0m data \u001b[38;5;241m=\u001b[39m \u001b[43mnp\u001b[49m\u001b[38;5;241;43m.\u001b[39;49m\u001b[43masanyarray\u001b[49m\u001b[43m(\u001b[49m\u001b[38;5;28;43mself\u001b[39;49m\u001b[38;5;241;43m.\u001b[39;49m\u001b[43m_dataobj\u001b[49m\u001b[43m,\u001b[49m\u001b[43m \u001b[49m\u001b[43mdtype\u001b[49m\u001b[38;5;241;43m=\u001b[39;49m\u001b[43mdtype\u001b[49m\u001b[43m)\u001b[49m\n\u001b[1;32m    374\u001b[0m \u001b[38;5;28;01mif\u001b[39;00m caching \u001b[38;5;241m==\u001b[39m \u001b[38;5;124m'\u001b[39m\u001b[38;5;124mfill\u001b[39m\u001b[38;5;124m'\u001b[39m:\n\u001b[1;32m    375\u001b[0m     \u001b[38;5;28mself\u001b[39m\u001b[38;5;241m.\u001b[39m_fdata_cache \u001b[38;5;241m=\u001b[39m data\n",
      "File \u001b[0;32m~/data/conda/envs/pytcu_21_1__py_3_10/lib/python3.10/site-packages/nibabel/arrayproxy.py:457\u001b[0m, in \u001b[0;36mArrayProxy.__array__\u001b[0;34m(self, dtype)\u001b[0m\n\u001b[1;32m    436\u001b[0m \u001b[38;5;28;01mdef\u001b[39;00m \u001b[38;5;21m__array__\u001b[39m(\u001b[38;5;28mself\u001b[39m, dtype\u001b[38;5;241m=\u001b[39m\u001b[38;5;28;01mNone\u001b[39;00m):\n\u001b[1;32m    437\u001b[0m \u001b[38;5;250m    \u001b[39m\u001b[38;5;124;03m\"\"\"Read data from file and apply scaling, casting to ``dtype``\u001b[39;00m\n\u001b[1;32m    438\u001b[0m \n\u001b[1;32m    439\u001b[0m \u001b[38;5;124;03m    If ``dtype`` is unspecified, the dtype of the returned array is the\u001b[39;00m\n\u001b[0;32m   (...)\u001b[0m\n\u001b[1;32m    455\u001b[0m \u001b[38;5;124;03m        Scaled image data with type `dtype`.\u001b[39;00m\n\u001b[1;32m    456\u001b[0m \u001b[38;5;124;03m    \"\"\"\u001b[39;00m\n\u001b[0;32m--> 457\u001b[0m     arr \u001b[38;5;241m=\u001b[39m \u001b[38;5;28;43mself\u001b[39;49m\u001b[38;5;241;43m.\u001b[39;49m\u001b[43m_get_scaled\u001b[49m\u001b[43m(\u001b[49m\u001b[43mdtype\u001b[49m\u001b[38;5;241;43m=\u001b[39;49m\u001b[43mdtype\u001b[49m\u001b[43m,\u001b[49m\u001b[43m \u001b[49m\u001b[43mslicer\u001b[49m\u001b[38;5;241;43m=\u001b[39;49m\u001b[43m(\u001b[49m\u001b[43m)\u001b[49m\u001b[43m)\u001b[49m\n\u001b[1;32m    458\u001b[0m     \u001b[38;5;28;01mif\u001b[39;00m dtype \u001b[38;5;129;01mis\u001b[39;00m \u001b[38;5;129;01mnot\u001b[39;00m \u001b[38;5;28;01mNone\u001b[39;00m:\n\u001b[1;32m    459\u001b[0m         arr \u001b[38;5;241m=\u001b[39m arr\u001b[38;5;241m.\u001b[39mastype(dtype, copy\u001b[38;5;241m=\u001b[39m\u001b[38;5;28;01mFalse\u001b[39;00m)\n",
      "File \u001b[0;32m~/data/conda/envs/pytcu_21_1__py_3_10/lib/python3.10/site-packages/nibabel/arrayproxy.py:426\u001b[0m, in \u001b[0;36mArrayProxy._get_scaled\u001b[0;34m(self, dtype, slicer)\u001b[0m\n\u001b[1;32m    424\u001b[0m scaled \u001b[38;5;241m=\u001b[39m apply_read_scaling(\u001b[38;5;28mself\u001b[39m\u001b[38;5;241m.\u001b[39m_get_unscaled(slicer\u001b[38;5;241m=\u001b[39mslicer), scl_slope, scl_inter)\n\u001b[1;32m    425\u001b[0m \u001b[38;5;28;01mif\u001b[39;00m dtype \u001b[38;5;129;01mis\u001b[39;00m \u001b[38;5;129;01mnot\u001b[39;00m \u001b[38;5;28;01mNone\u001b[39;00m:\n\u001b[0;32m--> 426\u001b[0m     scaled \u001b[38;5;241m=\u001b[39m \u001b[43mscaled\u001b[49m\u001b[38;5;241;43m.\u001b[39;49m\u001b[43mastype\u001b[49m\u001b[43m(\u001b[49m\u001b[43mnp\u001b[49m\u001b[38;5;241;43m.\u001b[39;49m\u001b[43mpromote_types\u001b[49m\u001b[43m(\u001b[49m\u001b[43mscaled\u001b[49m\u001b[38;5;241;43m.\u001b[39;49m\u001b[43mdtype\u001b[49m\u001b[43m,\u001b[49m\u001b[43m \u001b[49m\u001b[43mdtype\u001b[49m\u001b[43m)\u001b[49m\u001b[43m,\u001b[49m\u001b[43m \u001b[49m\u001b[43mcopy\u001b[49m\u001b[38;5;241;43m=\u001b[39;49m\u001b[38;5;28;43;01mFalse\u001b[39;49;00m\u001b[43m)\u001b[49m\n\u001b[1;32m    427\u001b[0m \u001b[38;5;28;01mreturn\u001b[39;00m scaled\n",
      "\u001b[0;31mMemoryError\u001b[0m: Unable to allocate 547. MiB for an array with shape (560, 640, 200) and data type float64"
     ]
    }
   ],
   "source": [
    "for gt_vol_fp in gt_vols_fp:\n",
    "    vol_fn = os.path.basename(gt_vol_fp)\n",
    "    \n",
    "    assert vol_fn in pred_vols_fn, \\\n",
    "        f\"No prediction for vol {vol_fn}\"\n",
    "    \n",
    "    # load vols     \n",
    "    gt = nib.load(gt_vol_fp).get_fdata()\n",
    "    gt = torch.tensor(gt).float()\n",
    "    \n",
    "    pred = nib.load(os.path.join(predictions_dir, vol_fn))\n",
    "    pred = torch.tensor(pred).float()\n",
    "    \n",
    "    # Calculate metrics\n",
    "    metrics = calculate_overlap_metrics(pred, gt, target_label= 1)\n",
    "    \n",
    "    break"
   ]
  },
  {
   "cell_type": "code",
   "execution_count": null,
   "metadata": {},
   "outputs": [],
   "source": []
  }
 ],
 "metadata": {
  "kernelspec": {
   "display_name": "pytcu_21_1__py_3_10",
   "language": "python",
   "name": "python3"
  },
  "language_info": {
   "codemirror_mode": {
    "name": "ipython",
    "version": 3
   },
   "file_extension": ".py",
   "mimetype": "text/x-python",
   "name": "python",
   "nbconvert_exporter": "python",
   "pygments_lexer": "ipython3",
   "version": "3.10.13"
  }
 },
 "nbformat": 4,
 "nbformat_minor": 2
}
